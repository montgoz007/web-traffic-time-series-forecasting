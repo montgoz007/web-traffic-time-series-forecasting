{
 "cells": [
  {
   "cell_type": "code",
   "execution_count": 1,
   "metadata": {},
   "outputs": [],
   "source": [
    "import pandas as pd\n",
    "from pycaret.datasets import get_data"
   ]
  },
  {
   "cell_type": "code",
   "execution_count": 2,
   "metadata": {},
   "outputs": [
    {
     "data": {
      "text/html": [
       "<div>\n",
       "<style scoped>\n",
       "    .dataframe tbody tr th:only-of-type {\n",
       "        vertical-align: middle;\n",
       "    }\n",
       "\n",
       "    .dataframe tbody tr th {\n",
       "        vertical-align: top;\n",
       "    }\n",
       "\n",
       "    .dataframe thead th {\n",
       "        text-align: right;\n",
       "    }\n",
       "</style>\n",
       "<table border=\"1\" class=\"dataframe\">\n",
       "  <thead>\n",
       "    <tr style=\"text-align: right;\">\n",
       "      <th></th>\n",
       "      <th>Date</th>\n",
       "      <th>Total</th>\n",
       "    </tr>\n",
       "  </thead>\n",
       "  <tbody>\n",
       "    <tr>\n",
       "      <th>0</th>\n",
       "      <td>7/8/2021</td>\n",
       "      <td>3773</td>\n",
       "    </tr>\n",
       "    <tr>\n",
       "      <th>1</th>\n",
       "      <td>7/9/2021</td>\n",
       "      <td>3172</td>\n",
       "    </tr>\n",
       "    <tr>\n",
       "      <th>2</th>\n",
       "      <td>7/10/2021</td>\n",
       "      <td>2079</td>\n",
       "    </tr>\n",
       "    <tr>\n",
       "      <th>3</th>\n",
       "      <td>7/11/2021</td>\n",
       "      <td>2725</td>\n",
       "    </tr>\n",
       "    <tr>\n",
       "      <th>4</th>\n",
       "      <td>7/12/2021</td>\n",
       "      <td>4542</td>\n",
       "    </tr>\n",
       "  </tbody>\n",
       "</table>\n",
       "</div>"
      ],
      "text/plain": [
       "        Date  Total\n",
       "0   7/8/2021   3773\n",
       "1   7/9/2021   3172\n",
       "2  7/10/2021   2079\n",
       "3  7/11/2021   2725\n",
       "4  7/12/2021   4542"
      ]
     },
     "metadata": {},
     "output_type": "display_data"
    }
   ],
   "source": [
    "data = get_data('pycaret_downloads')"
   ]
  },
  {
   "cell_type": "code",
   "execution_count": 4,
   "metadata": {},
   "outputs": [
    {
     "name": "stdout",
     "output_type": "stream",
     "text": [
      "<class 'pandas.core.frame.DataFrame'>\n",
      "RangeIndex: 90 entries, 0 to 89\n",
      "Data columns (total 2 columns):\n",
      " #   Column  Non-Null Count  Dtype \n",
      "---  ------  --------------  ----- \n",
      " 0   Date    90 non-null     object\n",
      " 1   Total   90 non-null     int64 \n",
      "dtypes: int64(1), object(1)\n",
      "memory usage: 1.5+ KB\n"
     ]
    }
   ],
   "source": [
    "data.info()"
   ]
  },
  {
   "cell_type": "code",
   "execution_count": 31,
   "metadata": {},
   "outputs": [
    {
     "data": {
      "text/html": [
       "<div>\n",
       "<style scoped>\n",
       "    .dataframe tbody tr th:only-of-type {\n",
       "        vertical-align: middle;\n",
       "    }\n",
       "\n",
       "    .dataframe tbody tr th {\n",
       "        vertical-align: top;\n",
       "    }\n",
       "\n",
       "    .dataframe thead th {\n",
       "        text-align: right;\n",
       "    }\n",
       "</style>\n",
       "<table border=\"1\" class=\"dataframe\">\n",
       "  <thead>\n",
       "    <tr style=\"text-align: right;\">\n",
       "      <th></th>\n",
       "      <th>Total</th>\n",
       "    </tr>\n",
       "    <tr>\n",
       "      <th>Date</th>\n",
       "      <th></th>\n",
       "    </tr>\n",
       "  </thead>\n",
       "  <tbody>\n",
       "    <tr>\n",
       "      <th>2021-07-08</th>\n",
       "      <td>3773</td>\n",
       "    </tr>\n",
       "    <tr>\n",
       "      <th>2021-07-09</th>\n",
       "      <td>3172</td>\n",
       "    </tr>\n",
       "    <tr>\n",
       "      <th>2021-07-10</th>\n",
       "      <td>2079</td>\n",
       "    </tr>\n",
       "    <tr>\n",
       "      <th>2021-07-11</th>\n",
       "      <td>2725</td>\n",
       "    </tr>\n",
       "    <tr>\n",
       "      <th>2021-07-12</th>\n",
       "      <td>4542</td>\n",
       "    </tr>\n",
       "    <tr>\n",
       "      <th>...</th>\n",
       "      <td>...</td>\n",
       "    </tr>\n",
       "    <tr>\n",
       "      <th>2021-10-01</th>\n",
       "      <td>7115</td>\n",
       "    </tr>\n",
       "    <tr>\n",
       "      <th>2021-10-02</th>\n",
       "      <td>3903</td>\n",
       "    </tr>\n",
       "    <tr>\n",
       "      <th>2021-10-03</th>\n",
       "      <td>5038</td>\n",
       "    </tr>\n",
       "    <tr>\n",
       "      <th>2021-10-04</th>\n",
       "      <td>7843</td>\n",
       "    </tr>\n",
       "    <tr>\n",
       "      <th>2021-10-05</th>\n",
       "      <td>8872</td>\n",
       "    </tr>\n",
       "  </tbody>\n",
       "</table>\n",
       "<p>90 rows × 1 columns</p>\n",
       "</div>"
      ],
      "text/plain": [
       "            Total\n",
       "Date             \n",
       "2021-07-08   3773\n",
       "2021-07-09   3172\n",
       "2021-07-10   2079\n",
       "2021-07-11   2725\n",
       "2021-07-12   4542\n",
       "...           ...\n",
       "2021-10-01   7115\n",
       "2021-10-02   3903\n",
       "2021-10-03   5038\n",
       "2021-10-04   7843\n",
       "2021-10-05   8872\n",
       "\n",
       "[90 rows x 1 columns]"
      ]
     },
     "execution_count": 31,
     "metadata": {},
     "output_type": "execute_result"
    }
   ],
   "source": [
    "data['Date'] = pd.to_datetime(data['Date'])\n",
    "data = data.groupby('Date').sum()\n",
    "data = data.asfreq('D')\n",
    "data"
   ]
  },
  {
   "cell_type": "code",
   "execution_count": 32,
   "metadata": {},
   "outputs": [
    {
     "data": {
      "text/plain": [
       "<AxesSubplot:xlabel='Date'>"
      ]
     },
     "execution_count": 32,
     "metadata": {},
     "output_type": "execute_result"
    },
    {
     "data": {
      "image/png": "[encoded data removed]",
      "text/plain": [
       "<Figure size 576x396 with 1 Axes>"
      ]
     },
     "metadata": {},
     "output_type": "display_data"
    }
   ],
   "source": [
    "# plot the data\n",
    "data.plot()"
   ]
  },
  {
   "cell_type": "code",
   "execution_count": 33,
   "metadata": {},
   "outputs": [
    {
     "data": {
      "text/html": [
       "<style  type=\"text/css\" >\n",
       "#T_60bdc_row9_col1,#T_60bdc_row11_col1,#T_60bdc_row13_col1,#T_60bdc_row14_col1{\n",
       "            background-color:  lightgreen;\n",
       "        }</style><table id=\"T_60bdc_\" ><thead>    <tr>        <th class=\"blank level0\" ></th>        <th class=\"col_heading level0 col0\" >Description</th>        <th class=\"col_heading level0 col1\" >Value</th>    </tr></thead><tbody>\n",
       "                <tr>\n",
       "                        <th id=\"T_60bdc_level0_row0\" class=\"row_heading level0 row0\" >0</th>\n",
       "                        <td id=\"T_60bdc_row0_col0\" class=\"data row0 col0\" >session_id</td>\n",
       "                        <td id=\"T_60bdc_row0_col1\" class=\"data row0 col1\" >123</td>\n",
       "            </tr>\n",
       "            <tr>\n",
       "                        <th id=\"T_60bdc_level0_row1\" class=\"row_heading level0 row1\" >1</th>\n",
       "                        <td id=\"T_60bdc_row1_col0\" class=\"data row1 col0\" >Original Data</td>\n",
       "                        <td id=\"T_60bdc_row1_col1\" class=\"data row1 col1\" >(90, 1)</td>\n",
       "            </tr>\n",
       "            <tr>\n",
       "                        <th id=\"T_60bdc_level0_row2\" class=\"row_heading level0 row2\" >2</th>\n",
       "                        <td id=\"T_60bdc_row2_col0\" class=\"data row2 col0\" >Missing Values</td>\n",
       "                        <td id=\"T_60bdc_row2_col1\" class=\"data row2 col1\" >False</td>\n",
       "            </tr>\n",
       "            <tr>\n",
       "                        <th id=\"T_60bdc_level0_row3\" class=\"row_heading level0 row3\" >3</th>\n",
       "                        <td id=\"T_60bdc_row3_col0\" class=\"data row3 col0\" >Transformed Train Set</td>\n",
       "                        <td id=\"T_60bdc_row3_col1\" class=\"data row3 col1\" >(83,)</td>\n",
       "            </tr>\n",
       "            <tr>\n",
       "                        <th id=\"T_60bdc_level0_row4\" class=\"row_heading level0 row4\" >4</th>\n",
       "                        <td id=\"T_60bdc_row4_col0\" class=\"data row4 col0\" >Transformed Test Set</td>\n",
       "                        <td id=\"T_60bdc_row4_col1\" class=\"data row4 col1\" >(7,)</td>\n",
       "            </tr>\n",
       "            <tr>\n",
       "                        <th id=\"T_60bdc_level0_row5\" class=\"row_heading level0 row5\" >5</th>\n",
       "                        <td id=\"T_60bdc_row5_col0\" class=\"data row5 col0\" >Fold Generator</td>\n",
       "                        <td id=\"T_60bdc_row5_col1\" class=\"data row5 col1\" >ExpandingWindowSplitter</td>\n",
       "            </tr>\n",
       "            <tr>\n",
       "                        <th id=\"T_60bdc_level0_row6\" class=\"row_heading level0 row6\" >6</th>\n",
       "                        <td id=\"T_60bdc_row6_col0\" class=\"data row6 col0\" >Fold Number</td>\n",
       "                        <td id=\"T_60bdc_row6_col1\" class=\"data row6 col1\" >3</td>\n",
       "            </tr>\n",
       "            <tr>\n",
       "                        <th id=\"T_60bdc_level0_row7\" class=\"row_heading level0 row7\" >7</th>\n",
       "                        <td id=\"T_60bdc_row7_col0\" class=\"data row7 col0\" >Enforce Prediction Interval</td>\n",
       "                        <td id=\"T_60bdc_row7_col1\" class=\"data row7 col1\" >False</td>\n",
       "            </tr>\n",
       "            <tr>\n",
       "                        <th id=\"T_60bdc_level0_row8\" class=\"row_heading level0 row8\" >8</th>\n",
       "                        <td id=\"T_60bdc_row8_col0\" class=\"data row8 col0\" >Seasonal Period Tested</td>\n",
       "                        <td id=\"T_60bdc_row8_col1\" class=\"data row8 col1\" >7</td>\n",
       "            </tr>\n",
       "            <tr>\n",
       "                        <th id=\"T_60bdc_level0_row9\" class=\"row_heading level0 row9\" >9</th>\n",
       "                        <td id=\"T_60bdc_row9_col0\" class=\"data row9 col0\" >Seasonality Detected</td>\n",
       "                        <td id=\"T_60bdc_row9_col1\" class=\"data row9 col1\" >True</td>\n",
       "            </tr>\n",
       "            <tr>\n",
       "                        <th id=\"T_60bdc_level0_row10\" class=\"row_heading level0 row10\" >10</th>\n",
       "                        <td id=\"T_60bdc_row10_col0\" class=\"data row10 col0\" >Seasonality Used in Models</td>\n",
       "                        <td id=\"T_60bdc_row10_col1\" class=\"data row10 col1\" >7</td>\n",
       "            </tr>\n",
       "            <tr>\n",
       "                        <th id=\"T_60bdc_level0_row11\" class=\"row_heading level0 row11\" >11</th>\n",
       "                        <td id=\"T_60bdc_row11_col0\" class=\"data row11 col0\" >Target Strictly Positive</td>\n",
       "                        <td id=\"T_60bdc_row11_col1\" class=\"data row11 col1\" >True</td>\n",
       "            </tr>\n",
       "            <tr>\n",
       "                        <th id=\"T_60bdc_level0_row12\" class=\"row_heading level0 row12\" >12</th>\n",
       "                        <td id=\"T_60bdc_row12_col0\" class=\"data row12 col0\" >Target White Noise</td>\n",
       "                        <td id=\"T_60bdc_row12_col1\" class=\"data row12 col1\" >No</td>\n",
       "            </tr>\n",
       "            <tr>\n",
       "                        <th id=\"T_60bdc_level0_row13\" class=\"row_heading level0 row13\" >13</th>\n",
       "                        <td id=\"T_60bdc_row13_col0\" class=\"data row13 col0\" >Recommended d</td>\n",
       "                        <td id=\"T_60bdc_row13_col1\" class=\"data row13 col1\" >1</td>\n",
       "            </tr>\n",
       "            <tr>\n",
       "                        <th id=\"T_60bdc_level0_row14\" class=\"row_heading level0 row14\" >14</th>\n",
       "                        <td id=\"T_60bdc_row14_col0\" class=\"data row14 col0\" >Recommended Seasonal D</td>\n",
       "                        <td id=\"T_60bdc_row14_col1\" class=\"data row14 col1\" >1</td>\n",
       "            </tr>\n",
       "            <tr>\n",
       "                        <th id=\"T_60bdc_level0_row15\" class=\"row_heading level0 row15\" >15</th>\n",
       "                        <td id=\"T_60bdc_row15_col0\" class=\"data row15 col0\" >CPU Jobs</td>\n",
       "                        <td id=\"T_60bdc_row15_col1\" class=\"data row15 col1\" >-1</td>\n",
       "            </tr>\n",
       "            <tr>\n",
       "                        <th id=\"T_60bdc_level0_row16\" class=\"row_heading level0 row16\" >16</th>\n",
       "                        <td id=\"T_60bdc_row16_col0\" class=\"data row16 col0\" >Use GPU</td>\n",
       "                        <td id=\"T_60bdc_row16_col1\" class=\"data row16 col1\" >False</td>\n",
       "            </tr>\n",
       "            <tr>\n",
       "                        <th id=\"T_60bdc_level0_row17\" class=\"row_heading level0 row17\" >17</th>\n",
       "                        <td id=\"T_60bdc_row17_col0\" class=\"data row17 col0\" >Log Experiment</td>\n",
       "                        <td id=\"T_60bdc_row17_col1\" class=\"data row17 col1\" >False</td>\n",
       "            </tr>\n",
       "            <tr>\n",
       "                        <th id=\"T_60bdc_level0_row18\" class=\"row_heading level0 row18\" >18</th>\n",
       "                        <td id=\"T_60bdc_row18_col0\" class=\"data row18 col0\" >Experiment Name</td>\n",
       "                        <td id=\"T_60bdc_row18_col1\" class=\"data row18 col1\" >ts-default-name</td>\n",
       "            </tr>\n",
       "            <tr>\n",
       "                        <th id=\"T_60bdc_level0_row19\" class=\"row_heading level0 row19\" >19</th>\n",
       "                        <td id=\"T_60bdc_row19_col0\" class=\"data row19 col0\" >USI</td>\n",
       "                        <td id=\"T_60bdc_row19_col1\" class=\"data row19 col1\" >76d0</td>\n",
       "            </tr>\n",
       "            <tr>\n",
       "                        <th id=\"T_60bdc_level0_row20\" class=\"row_heading level0 row20\" >20</th>\n",
       "                        <td id=\"T_60bdc_row20_col0\" class=\"data row20 col0\" >Imputation Type</td>\n",
       "                        <td id=\"T_60bdc_row20_col1\" class=\"data row20 col1\" >simple</td>\n",
       "            </tr>\n",
       "    </tbody></table>"
      ],
      "text/plain": [
       "<pandas.io.formats.style.Styler at 0x162eadf0308>"
      ]
     },
     "metadata": {},
     "output_type": "display_data"
    },
    {
     "data": {
      "text/plain": [
       "<pycaret.internal.pycaret_experiment.time_series_experiment.TimeSeriesExperiment at 0x162e9b915c8>"
      ]
     },
     "execution_count": 33,
     "metadata": {},
     "output_type": "execute_result"
    }
   ],
   "source": [
    "# with functional API\n",
    "from pycaret.time_series import *\n",
    "setup(data, fh = 7, fold = 3, session_id = 123)\n",
    "# with new object-oriented API\n",
    "from pycaret.internal.pycaret_experiment import TimeSeriesExperiment\n",
    "exp = TimeSeriesExperiment()\n",
    "exp.setup(data, fh = 7, fold = 3, session_id = 123)"
   ]
  },
  {
   "cell_type": "code",
   "execution_count": 34,
   "metadata": {},
   "outputs": [
    {
     "data": {
      "text/html": [
       "<div>\n",
       "<style scoped>\n",
       "    .dataframe tbody tr th:only-of-type {\n",
       "        vertical-align: middle;\n",
       "    }\n",
       "\n",
       "    .dataframe tbody tr th {\n",
       "        vertical-align: top;\n",
       "    }\n",
       "\n",
       "    .dataframe thead th {\n",
       "        text-align: right;\n",
       "    }\n",
       "</style>\n",
       "<table border=\"1\" class=\"dataframe\">\n",
       "  <thead>\n",
       "    <tr style=\"text-align: right;\">\n",
       "      <th></th>\n",
       "      <th>Test</th>\n",
       "      <th>Test Name</th>\n",
       "      <th>Property</th>\n",
       "      <th>Setting</th>\n",
       "      <th>Value</th>\n",
       "    </tr>\n",
       "  </thead>\n",
       "  <tbody>\n",
       "    <tr>\n",
       "      <th>0</th>\n",
       "      <td>Summary</td>\n",
       "      <td>Statistics</td>\n",
       "      <td>Length</td>\n",
       "      <td></td>\n",
       "      <td>90.0</td>\n",
       "    </tr>\n",
       "    <tr>\n",
       "      <th>1</th>\n",
       "      <td>Summary</td>\n",
       "      <td>Statistics</td>\n",
       "      <td>Mean</td>\n",
       "      <td></td>\n",
       "      <td>4960.366667</td>\n",
       "    </tr>\n",
       "    <tr>\n",
       "      <th>2</th>\n",
       "      <td>Summary</td>\n",
       "      <td>Statistics</td>\n",
       "      <td>Median</td>\n",
       "      <td></td>\n",
       "      <td>4776.5</td>\n",
       "    </tr>\n",
       "    <tr>\n",
       "      <th>3</th>\n",
       "      <td>Summary</td>\n",
       "      <td>Statistics</td>\n",
       "      <td>Standard Deviation</td>\n",
       "      <td></td>\n",
       "      <td>1939.000116</td>\n",
       "    </tr>\n",
       "    <tr>\n",
       "      <th>4</th>\n",
       "      <td>Summary</td>\n",
       "      <td>Statistics</td>\n",
       "      <td>Variance</td>\n",
       "      <td></td>\n",
       "      <td>3759721.448315</td>\n",
       "    </tr>\n",
       "    <tr>\n",
       "      <th>5</th>\n",
       "      <td>Summary</td>\n",
       "      <td>Statistics</td>\n",
       "      <td>Kurtosis</td>\n",
       "      <td></td>\n",
       "      <td>-0.920113</td>\n",
       "    </tr>\n",
       "    <tr>\n",
       "      <th>6</th>\n",
       "      <td>Summary</td>\n",
       "      <td>Statistics</td>\n",
       "      <td>Skewness</td>\n",
       "      <td></td>\n",
       "      <td>0.22622</td>\n",
       "    </tr>\n",
       "    <tr>\n",
       "      <th>7</th>\n",
       "      <td>Summary</td>\n",
       "      <td>Statistics</td>\n",
       "      <td># Distinct Values</td>\n",
       "      <td></td>\n",
       "      <td>89.0</td>\n",
       "    </tr>\n",
       "    <tr>\n",
       "      <th>8</th>\n",
       "      <td>White Noise</td>\n",
       "      <td>Ljung-Box</td>\n",
       "      <td>Test Statictic</td>\n",
       "      <td>{'alpha': 0.05, 'K': 24}</td>\n",
       "      <td>293.08932</td>\n",
       "    </tr>\n",
       "    <tr>\n",
       "      <th>9</th>\n",
       "      <td>White Noise</td>\n",
       "      <td>Ljung-Box</td>\n",
       "      <td>Test Statictic</td>\n",
       "      <td>{'alpha': 0.05, 'K': 48}</td>\n",
       "      <td>460.125833</td>\n",
       "    </tr>\n",
       "    <tr>\n",
       "      <th>10</th>\n",
       "      <td>White Noise</td>\n",
       "      <td>Ljung-Box</td>\n",
       "      <td>p-value</td>\n",
       "      <td>{'alpha': 0.05, 'K': 24}</td>\n",
       "      <td>0.0</td>\n",
       "    </tr>\n",
       "    <tr>\n",
       "      <th>11</th>\n",
       "      <td>White Noise</td>\n",
       "      <td>Ljung-Box</td>\n",
       "      <td>p-value</td>\n",
       "      <td>{'alpha': 0.05, 'K': 48}</td>\n",
       "      <td>0.0</td>\n",
       "    </tr>\n",
       "    <tr>\n",
       "      <th>12</th>\n",
       "      <td>White Noise</td>\n",
       "      <td>Ljung-Box</td>\n",
       "      <td>White Noise</td>\n",
       "      <td>{'alpha': 0.05, 'K': 24}</td>\n",
       "      <td>False</td>\n",
       "    </tr>\n",
       "    <tr>\n",
       "      <th>13</th>\n",
       "      <td>White Noise</td>\n",
       "      <td>Ljung-Box</td>\n",
       "      <td>White Noise</td>\n",
       "      <td>{'alpha': 0.05, 'K': 48}</td>\n",
       "      <td>False</td>\n",
       "    </tr>\n",
       "    <tr>\n",
       "      <th>14</th>\n",
       "      <td>Stationarity</td>\n",
       "      <td>ADF</td>\n",
       "      <td>Stationarity</td>\n",
       "      <td>{'alpha': 0.05}</td>\n",
       "      <td>False</td>\n",
       "    </tr>\n",
       "    <tr>\n",
       "      <th>15</th>\n",
       "      <td>Stationarity</td>\n",
       "      <td>ADF</td>\n",
       "      <td>p-value</td>\n",
       "      <td>{'alpha': 0.05}</td>\n",
       "      <td>0.958371</td>\n",
       "    </tr>\n",
       "    <tr>\n",
       "      <th>16</th>\n",
       "      <td>Stationarity</td>\n",
       "      <td>ADF</td>\n",
       "      <td>Test Statistic</td>\n",
       "      <td>{'alpha': 0.05}</td>\n",
       "      <td>-0.001944</td>\n",
       "    </tr>\n",
       "    <tr>\n",
       "      <th>17</th>\n",
       "      <td>Stationarity</td>\n",
       "      <td>ADF</td>\n",
       "      <td>Critical Value 1%</td>\n",
       "      <td>{'alpha': 0.05}</td>\n",
       "      <td>-3.512738</td>\n",
       "    </tr>\n",
       "    <tr>\n",
       "      <th>18</th>\n",
       "      <td>Stationarity</td>\n",
       "      <td>ADF</td>\n",
       "      <td>Critical Value 5%</td>\n",
       "      <td>{'alpha': 0.05}</td>\n",
       "      <td>-2.89749</td>\n",
       "    </tr>\n",
       "    <tr>\n",
       "      <th>19</th>\n",
       "      <td>Stationarity</td>\n",
       "      <td>ADF</td>\n",
       "      <td>Critical Value 10%</td>\n",
       "      <td>{'alpha': 0.05}</td>\n",
       "      <td>-2.585949</td>\n",
       "    </tr>\n",
       "    <tr>\n",
       "      <th>20</th>\n",
       "      <td>Stationarity</td>\n",
       "      <td>KPSS</td>\n",
       "      <td>Trend Stationarity</td>\n",
       "      <td>{'alpha': 0.05}</td>\n",
       "      <td>True</td>\n",
       "    </tr>\n",
       "    <tr>\n",
       "      <th>21</th>\n",
       "      <td>Stationarity</td>\n",
       "      <td>KPSS</td>\n",
       "      <td>p-value</td>\n",
       "      <td>{'alpha': 0.05}</td>\n",
       "      <td>0.1</td>\n",
       "    </tr>\n",
       "    <tr>\n",
       "      <th>22</th>\n",
       "      <td>Stationarity</td>\n",
       "      <td>KPSS</td>\n",
       "      <td>Test Statistic</td>\n",
       "      <td>{'alpha': 0.05}</td>\n",
       "      <td>0.032908</td>\n",
       "    </tr>\n",
       "    <tr>\n",
       "      <th>23</th>\n",
       "      <td>Stationarity</td>\n",
       "      <td>KPSS</td>\n",
       "      <td>Critical Value 10%</td>\n",
       "      <td>{'alpha': 0.05}</td>\n",
       "      <td>0.119</td>\n",
       "    </tr>\n",
       "    <tr>\n",
       "      <th>24</th>\n",
       "      <td>Stationarity</td>\n",
       "      <td>KPSS</td>\n",
       "      <td>Critical Value 5%</td>\n",
       "      <td>{'alpha': 0.05}</td>\n",
       "      <td>0.146</td>\n",
       "    </tr>\n",
       "    <tr>\n",
       "      <th>25</th>\n",
       "      <td>Stationarity</td>\n",
       "      <td>KPSS</td>\n",
       "      <td>Critical Value 2.5%</td>\n",
       "      <td>{'alpha': 0.05}</td>\n",
       "      <td>0.176</td>\n",
       "    </tr>\n",
       "    <tr>\n",
       "      <th>26</th>\n",
       "      <td>Stationarity</td>\n",
       "      <td>KPSS</td>\n",
       "      <td>Critical Value 1%</td>\n",
       "      <td>{'alpha': 0.05}</td>\n",
       "      <td>0.216</td>\n",
       "    </tr>\n",
       "    <tr>\n",
       "      <th>27</th>\n",
       "      <td>Normality</td>\n",
       "      <td>Shapiro</td>\n",
       "      <td>Normality</td>\n",
       "      <td>{'alpha': 0.05}</td>\n",
       "      <td>False</td>\n",
       "    </tr>\n",
       "    <tr>\n",
       "      <th>28</th>\n",
       "      <td>Normality</td>\n",
       "      <td>Shapiro</td>\n",
       "      <td>p-value</td>\n",
       "      <td>{'alpha': 0.05}</td>\n",
       "      <td>0.017958</td>\n",
       "    </tr>\n",
       "  </tbody>\n",
       "</table>\n",
       "</div>"
      ],
      "text/plain": [
       "            Test   Test Name             Property                   Setting  \\\n",
       "0        Summary  Statistics               Length                             \n",
       "1        Summary  Statistics                 Mean                             \n",
       "2        Summary  Statistics               Median                             \n",
       "3        Summary  Statistics   Standard Deviation                             \n",
       "4        Summary  Statistics             Variance                             \n",
       "5        Summary  Statistics             Kurtosis                             \n",
       "6        Summary  Statistics             Skewness                             \n",
       "7        Summary  Statistics    # Distinct Values                             \n",
       "8    White Noise   Ljung-Box       Test Statictic  {'alpha': 0.05, 'K': 24}   \n",
       "9    White Noise   Ljung-Box       Test Statictic  {'alpha': 0.05, 'K': 48}   \n",
       "10   White Noise   Ljung-Box              p-value  {'alpha': 0.05, 'K': 24}   \n",
       "11   White Noise   Ljung-Box              p-value  {'alpha': 0.05, 'K': 48}   \n",
       "12   White Noise   Ljung-Box          White Noise  {'alpha': 0.05, 'K': 24}   \n",
       "13   White Noise   Ljung-Box          White Noise  {'alpha': 0.05, 'K': 48}   \n",
       "14  Stationarity         ADF         Stationarity           {'alpha': 0.05}   \n",
       "15  Stationarity         ADF              p-value           {'alpha': 0.05}   \n",
       "16  Stationarity         ADF       Test Statistic           {'alpha': 0.05}   \n",
       "17  Stationarity         ADF    Critical Value 1%           {'alpha': 0.05}   \n",
       "18  Stationarity         ADF    Critical Value 5%           {'alpha': 0.05}   \n",
       "19  Stationarity         ADF   Critical Value 10%           {'alpha': 0.05}   \n",
       "20  Stationarity        KPSS   Trend Stationarity           {'alpha': 0.05}   \n",
       "21  Stationarity        KPSS              p-value           {'alpha': 0.05}   \n",
       "22  Stationarity        KPSS       Test Statistic           {'alpha': 0.05}   \n",
       "23  Stationarity        KPSS   Critical Value 10%           {'alpha': 0.05}   \n",
       "24  Stationarity        KPSS    Critical Value 5%           {'alpha': 0.05}   \n",
       "25  Stationarity        KPSS  Critical Value 2.5%           {'alpha': 0.05}   \n",
       "26  Stationarity        KPSS    Critical Value 1%           {'alpha': 0.05}   \n",
       "27     Normality     Shapiro            Normality           {'alpha': 0.05}   \n",
       "28     Normality     Shapiro              p-value           {'alpha': 0.05}   \n",
       "\n",
       "             Value  \n",
       "0             90.0  \n",
       "1      4960.366667  \n",
       "2           4776.5  \n",
       "3      1939.000116  \n",
       "4   3759721.448315  \n",
       "5        -0.920113  \n",
       "6          0.22622  \n",
       "7             89.0  \n",
       "8        293.08932  \n",
       "9       460.125833  \n",
       "10             0.0  \n",
       "11             0.0  \n",
       "12           False  \n",
       "13           False  \n",
       "14           False  \n",
       "15        0.958371  \n",
       "16       -0.001944  \n",
       "17       -3.512738  \n",
       "18        -2.89749  \n",
       "19       -2.585949  \n",
       "20            True  \n",
       "21             0.1  \n",
       "22        0.032908  \n",
       "23           0.119  \n",
       "24           0.146  \n",
       "25           0.176  \n",
       "26           0.216  \n",
       "27           False  \n",
       "28        0.017958  "
      ]
     },
     "execution_count": 34,
     "metadata": {},
     "output_type": "execute_result"
    }
   ],
   "source": [
    "check_stats()"
   ]
  },
  {
   "cell_type": "code",
   "execution_count": 35,
   "metadata": {},
   "outputs": [
    {
     "data": {
      "application/vnd.plotly.v1+json": {
       "config": {
        "plotlyServerURL": "https://plot.ly"
       },
       "data": [
        {
         "marker": {
          "color": "#3f3f3f",
          "size": 5
         },
         "mode": "lines+markers",
         "name": "Time Series",
         "showlegend": true,
         "type": "scatter",
         "x": [
          "2021-07-08T00:00:00",
          "2021-07-09T00:00:00",
          "2021-07-10T00:00:00",
          "2021-07-11T00:00:00",
          "2021-07-12T00:00:00",
          "2021-07-13T00:00:00",
          "2021-07-14T00:00:00",
          "2021-07-15T00:00:00",
          "2021-07-16T00:00:00",
          "2021-07-17T00:00:00",
          "2021-07-18T00:00:00",
          "2021-07-19T00:00:00",
          "2021-07-20T00:00:00",
          "2021-07-21T00:00:00",
          "2021-07-22T00:00:00",
          "2021-07-23T00:00:00",
          "2021-07-24T00:00:00",
          "2021-07-25T00:00:00",
          "2021-07-26T00:00:00",
          "2021-07-27T00:00:00",
          "2021-07-28T00:00:00",
          "2021-07-29T00:00:00",
          "2021-07-30T00:00:00",
          "2021-07-31T00:00:00",
          "2021-08-01T00:00:00",
          "2021-08-02T00:00:00",
          "2021-08-03T00:00:00",
          "2021-08-04T00:00:00",
          "2021-08-05T00:00:00",
          "2021-08-06T00:00:00",
          "2021-08-07T00:00:00",
          "2021-08-08T00:00:00",
          "2021-08-09T00:00:00",
          "2021-08-10T00:00:00",
          "2021-08-11T00:00:00",
          "2021-08-12T00:00:00",
          "2021-08-13T00:00:00",
          "2021-08-14T00:00:00",
          "2021-08-15T00:00:00",
          "2021-08-16T00:00:00",
          "2021-08-17T00:00:00",
          "2021-08-18T00:00:00",
          "2021-08-19T00:00:00",
          "2021-08-20T00:00:00",
          "2021-08-21T00:00:00",
          "2021-08-22T00:00:00",
          "2021-08-23T00:00:00",
          "2021-08-24T00:00:00",
          "2021-08-25T00:00:00",
          "2021-08-26T00:00:00",
          "2021-08-27T00:00:00",
          "2021-08-28T00:00:00",
          "2021-08-29T00:00:00",
          "2021-08-30T00:00:00",
          "2021-08-31T00:00:00",
          "2021-09-01T00:00:00",
          "2021-09-02T00:00:00",
          "2021-09-03T00:00:00",
          "2021-09-04T00:00:00",
          "2021-09-05T00:00:00",
          "2021-09-06T00:00:00",
          "2021-09-07T00:00:00",
          "2021-09-08T00:00:00",
          "2021-09-09T00:00:00",
          "2021-09-10T00:00:00",
          "2021-09-11T00:00:00",
          "2021-09-12T00:00:00",
          "2021-09-13T00:00:00",
          "2021-09-14T00:00:00",
          "2021-09-15T00:00:00",
          "2021-09-16T00:00:00",
          "2021-09-17T00:00:00",
          "2021-09-18T00:00:00",
          "2021-09-19T00:00:00",
          "2021-09-20T00:00:00",
          "2021-09-21T00:00:00",
          "2021-09-22T00:00:00",
          "2021-09-23T00:00:00",
          "2021-09-24T00:00:00",
          "2021-09-25T00:00:00",
          "2021-09-26T00:00:00",
          "2021-09-27T00:00:00",
          "2021-09-28T00:00:00",
          "2021-09-29T00:00:00",
          "2021-09-30T00:00:00",
          "2021-10-01T00:00:00",
          "2021-10-02T00:00:00",
          "2021-10-03T00:00:00",
          "2021-10-04T00:00:00",
          "2021-10-05T00:00:00"
         ],
         "y": [
          3773,
          3172,
          2079,
          2725,
          4542,
          3795,
          3941,
          4064,
          3474,
          2093,
          2426,
          4339,
          4064,
          4224,
          4603,
          4369,
          2532,
          3276,
          4917,
          4430,
          4977,
          5193,
          4001,
          1996,
          2538,
          4764,
          5651,
          5777,
          4789,
          3782,
          1920,
          2526,
          4481,
          6034,
          5006,
          4450,
          3112,
          1914,
          2359,
          3948,
          5727,
          6365,
          6323,
          5151,
          1947,
          3128,
          7999,
          7104,
          6457,
          6643,
          5355,
          2341,
          2367,
          5592,
          6770,
          6877,
          7272,
          6279,
          2741,
          2483,
          5456,
          6082,
          6139,
          5865,
          6362,
          3132,
          2681,
          5788,
          7001,
          6721,
          7556,
          7278,
          4026,
          3514,
          6476,
          7863,
          8418,
          8290,
          7189,
          3567,
          4088,
          7418,
          8765,
          7798,
          9212,
          7115,
          3903,
          5038,
          7843,
          8872
         ]
        }
       ],
       "layout": {
        "showlegend": true,
        "template": {
         "data": {
          "bar": [
           {
            "error_x": {
             "color": "rgb(51,51,51)"
            },
            "error_y": {
             "color": "rgb(51,51,51)"
            },
            "marker": {
             "line": {
              "color": "rgb(237,237,237)",
              "width": 0.5
             },
             "pattern": {
              "fillmode": "overlay",
              "size": 10,
              "solidity": 0.2
             }
            },
            "type": "bar"
           }
          ],
          "barpolar": [
           {
            "marker": {
             "line": {
              "color": "rgb(237,237,237)",
              "width": 0.5
             },
             "pattern": {
              "fillmode": "overlay",
              "size": 10,
              "solidity": 0.2
             }
            },
            "type": "barpolar"
           }
          ],
          "carpet": [
           {
            "aaxis": {
             "endlinecolor": "rgb(51,51,51)",
             "gridcolor": "white",
             "linecolor": "white",
             "minorgridcolor": "white",
             "startlinecolor": "rgb(51,51,51)"
            },
            "baxis": {
             "endlinecolor": "rgb(51,51,51)",
             "gridcolor": "white",
             "linecolor": "white",
             "minorgridcolor": "white",
             "startlinecolor": "rgb(51,51,51)"
            },
            "type": "carpet"
           }
          ],
          "choropleth": [
           {
            "colorbar": {
             "outlinewidth": 0,
             "tickcolor": "rgb(237,237,237)",
             "ticklen": 6,
             "ticks": "inside"
            },
            "type": "choropleth"
           }
          ],
          "contour": [
           {
            "colorbar": {
             "outlinewidth": 0,
             "tickcolor": "rgb(237,237,237)",
             "ticklen": 6,
             "ticks": "inside"
            },
            "colorscale": [
             [
              0,
              "rgb(20,44,66)"
             ],
             [
              1,
              "rgb(90,179,244)"
             ]
            ],
            "type": "contour"
           }
          ],
          "contourcarpet": [
           {
            "colorbar": {
             "outlinewidth": 0,
             "tickcolor": "rgb(237,237,237)",
             "ticklen": 6,
             "ticks": "inside"
            },
            "type": "contourcarpet"
           }
          ],
          "heatmap": [
           {
            "colorbar": {
             "outlinewidth": 0,
             "tickcolor": "rgb(237,237,237)",
             "ticklen": 6,
             "ticks": "inside"
            },
            "colorscale": [
             [
              0,
              "rgb(20,44,66)"
             ],
             [
              1,
              "rgb(90,179,244)"
             ]
            ],
            "type": "heatmap"
           }
          ],
          "heatmapgl": [
           {
            "colorbar": {
             "outlinewidth": 0,
             "tickcolor": "rgb(237,237,237)",
             "ticklen": 6,
             "ticks": "inside"
            },
            "colorscale": [
             [
              0,
              "rgb(20,44,66)"
             ],
             [
              1,
              "rgb(90,179,244)"
             ]
            ],
            "type": "heatmapgl"
           }
          ],
          "histogram": [
           {
            "marker": {
             "pattern": {
              "fillmode": "overlay",
              "size": 10,
              "solidity": 0.2
             }
            },
            "type": "histogram"
           }
          ],
          "histogram2d": [
           {
            "colorbar": {
             "outlinewidth": 0,
             "tickcolor": "rgb(237,237,237)",
             "ticklen": 6,
             "ticks": "inside"
            },
            "colorscale": [
             [
              0,
              "rgb(20,44,66)"
             ],
             [
              1,
              "rgb(90,179,244)"
             ]
            ],
            "type": "histogram2d"
           }
          ],
          "histogram2dcontour": [
           {
            "colorbar": {
             "outlinewidth": 0,
             "tickcolor": "rgb(237,237,237)",
             "ticklen": 6,
             "ticks": "inside"
            },
            "colorscale": [
             [
              0,
              "rgb(20,44,66)"
             ],
             [
              1,
              "rgb(90,179,244)"
             ]
            ],
            "type": "histogram2dcontour"
           }
          ],
          "mesh3d": [
           {
            "colorbar": {
             "outlinewidth": 0,
             "tickcolor": "rgb(237,237,237)",
             "ticklen": 6,
             "ticks": "inside"
            },
            "type": "mesh3d"
           }
          ],
          "parcoords": [
           {
            "line": {
             "colorbar": {
              "outlinewidth": 0,
              "tickcolor": "rgb(237,237,237)",
              "ticklen": 6,
              "ticks": "inside"
             }
            },
            "type": "parcoords"
           }
          ],
          "pie": [
           {
            "automargin": true,
            "type": "pie"
           }
          ],
          "scatter": [
           {
            "marker": {
             "colorbar": {
              "outlinewidth": 0,
              "tickcolor": "rgb(237,237,237)",
              "ticklen": 6,
              "ticks": "inside"
             }
            },
            "type": "scatter"
           }
          ],
          "scatter3d": [
           {
            "line": {
             "colorbar": {
              "outlinewidth": 0,
              "tickcolor": "rgb(237,237,237)",
              "ticklen": 6,
              "ticks": "inside"
             }
            },
            "marker": {
             "colorbar": {
              "outlinewidth": 0,
              "tickcolor": "rgb(237,237,237)",
              "ticklen": 6,
              "ticks": "inside"
             }
            },
            "type": "scatter3d"
           }
          ],
          "scattercarpet": [
           {
            "marker": {
             "colorbar": {
              "outlinewidth": 0,
              "tickcolor": "rgb(237,237,237)",
              "ticklen": 6,
              "ticks": "inside"
             }
            },
            "type": "scattercarpet"
           }
          ],
          "scattergeo": [
           {
            "marker": {
             "colorbar": {
              "outlinewidth": 0,
              "tickcolor": "rgb(237,237,237)",
              "ticklen": 6,
              "ticks": "inside"
             }
            },
            "type": "scattergeo"
           }
          ],
          "scattergl": [
           {
            "marker": {
             "colorbar": {
              "outlinewidth": 0,
              "tickcolor": "rgb(237,237,237)",
              "ticklen": 6,
              "ticks": "inside"
             }
            },
            "type": "scattergl"
           }
          ],
          "scattermapbox": [
           {
            "marker": {
             "colorbar": {
              "outlinewidth": 0,
              "tickcolor": "rgb(237,237,237)",
              "ticklen": 6,
              "ticks": "inside"
             }
            },
            "type": "scattermapbox"
           }
          ],
          "scatterpolar": [
           {
            "marker": {
             "colorbar": {
              "outlinewidth": 0,
              "tickcolor": "rgb(237,237,237)",
              "ticklen": 6,
              "ticks": "inside"
             }
            },
            "type": "scatterpolar"
           }
          ],
          "scatterpolargl": [
           {
            "marker": {
             "colorbar": {
              "outlinewidth": 0,
              "tickcolor": "rgb(237,237,237)",
              "ticklen": 6,
              "ticks": "inside"
             }
            },
            "type": "scatterpolargl"
           }
          ],
          "scatterternary": [
           {
            "marker": {
             "colorbar": {
              "outlinewidth": 0,
              "tickcolor": "rgb(237,237,237)",
              "ticklen": 6,
              "ticks": "inside"
             }
            },
            "type": "scatterternary"
           }
          ],
          "surface": [
           {
            "colorbar": {
             "outlinewidth": 0,
             "tickcolor": "rgb(237,237,237)",
             "ticklen": 6,
             "ticks": "inside"
            },
            "colorscale": [
             [
              0,
              "rgb(20,44,66)"
             ],
             [
              1,
              "rgb(90,179,244)"
             ]
            ],
            "type": "surface"
           }
          ],
          "table": [
           {
            "cells": {
             "fill": {
              "color": "rgb(237,237,237)"
             },
             "line": {
              "color": "white"
             }
            },
            "header": {
             "fill": {
              "color": "rgb(217,217,217)"
             },
             "line": {
              "color": "white"
             }
            },
            "type": "table"
           }
          ]
         },
         "layout": {
          "annotationdefaults": {
           "arrowhead": 0,
           "arrowwidth": 1
          },
          "autotypenumbers": "strict",
          "coloraxis": {
           "colorbar": {
            "outlinewidth": 0,
            "tickcolor": "rgb(237,237,237)",
            "ticklen": 6,
            "ticks": "inside"
           }
          },
          "colorscale": {
           "sequential": [
            [
             0,
             "rgb(20,44,66)"
            ],
            [
             1,
             "rgb(90,179,244)"
            ]
           ],
           "sequentialminus": [
            [
             0,
             "rgb(20,44,66)"
            ],
            [
             1,
             "rgb(90,179,244)"
            ]
           ]
          },
          "colorway": [
           "#F8766D",
           "#A3A500",
           "#00BF7D",
           "#00B0F6",
           "#E76BF3"
          ],
          "font": {
           "color": "rgb(51,51,51)"
          },
          "geo": {
           "bgcolor": "white",
           "lakecolor": "white",
           "landcolor": "rgb(237,237,237)",
           "showlakes": true,
           "showland": true,
           "subunitcolor": "white"
          },
          "hoverlabel": {
           "align": "left"
          },
          "hovermode": "closest",
          "paper_bgcolor": "white",
          "plot_bgcolor": "rgb(237,237,237)",
          "polar": {
           "angularaxis": {
            "gridcolor": "white",
            "linecolor": "white",
            "showgrid": true,
            "tickcolor": "rgb(51,51,51)",
            "ticks": "outside"
           },
           "bgcolor": "rgb(237,237,237)",
           "radialaxis": {
            "gridcolor": "white",
            "linecolor": "white",
            "showgrid": true,
            "tickcolor": "rgb(51,51,51)",
            "ticks": "outside"
           }
          },
          "scene": {
           "xaxis": {
            "backgroundcolor": "rgb(237,237,237)",
            "gridcolor": "white",
            "gridwidth": 2,
            "linecolor": "white",
            "showbackground": true,
            "showgrid": true,
            "tickcolor": "rgb(51,51,51)",
            "ticks": "outside",
            "zerolinecolor": "white"
           },
           "yaxis": {
            "backgroundcolor": "rgb(237,237,237)",
            "gridcolor": "white",
            "gridwidth": 2,
            "linecolor": "white",
            "showbackground": true,
            "showgrid": true,
            "tickcolor": "rgb(51,51,51)",
            "ticks": "outside",
            "zerolinecolor": "white"
           },
           "zaxis": {
            "backgroundcolor": "rgb(237,237,237)",
            "gridcolor": "white",
            "gridwidth": 2,
            "linecolor": "white",
            "showbackground": true,
            "showgrid": true,
            "tickcolor": "rgb(51,51,51)",
            "ticks": "outside",
            "zerolinecolor": "white"
           }
          },
          "shapedefaults": {
           "fillcolor": "black",
           "line": {
            "width": 0
           },
           "opacity": 0.3
          },
          "ternary": {
           "aaxis": {
            "gridcolor": "white",
            "linecolor": "white",
            "showgrid": true,
            "tickcolor": "rgb(51,51,51)",
            "ticks": "outside"
           },
           "baxis": {
            "gridcolor": "white",
            "linecolor": "white",
            "showgrid": true,
            "tickcolor": "rgb(51,51,51)",
            "ticks": "outside"
           },
           "bgcolor": "rgb(237,237,237)",
           "caxis": {
            "gridcolor": "white",
            "linecolor": "white",
            "showgrid": true,
            "tickcolor": "rgb(51,51,51)",
            "ticks": "outside"
           }
          },
          "xaxis": {
           "automargin": true,
           "gridcolor": "white",
           "linecolor": "white",
           "showgrid": true,
           "tickcolor": "rgb(51,51,51)",
           "ticks": "outside",
           "title": {
            "standoff": 15
           },
           "zerolinecolor": "white"
          },
          "yaxis": {
           "automargin": true,
           "gridcolor": "white",
           "linecolor": "white",
           "showgrid": true,
           "tickcolor": "rgb(51,51,51)",
           "ticks": "outside",
           "title": {
            "standoff": 15
           },
           "zerolinecolor": "white"
          }
         }
        },
        "title": {
         "text": "Time Series | Total"
        },
        "xaxis": {
         "title": {
          "text": "Time"
         }
        },
        "yaxis": {
         "title": {
          "text": "Values"
         }
        }
       }
      }
     },
     "metadata": {},
     "output_type": "display_data"
    }
   ],
   "source": [
    "# functional API\n",
    "plot_model(plot = 'ts')\n",
    "# object-oriented API\n",
    "#exp.plot_model(plot = 'ts')"
   ]
  },
  {
   "cell_type": "code",
   "execution_count": 36,
   "metadata": {},
   "outputs": [
    {
     "data": {
      "application/vnd.plotly.v1+json": {
       "config": {
        "plotlyServerURL": "https://plot.ly"
       },
       "data": [
        {
         "hoverinfo": "skip",
         "line": {
          "color": "#C0C0C0"
         },
         "mode": "lines+markers",
         "name": "Unchanged",
         "showlegend": false,
         "type": "scatter",
         "x": [
          "2021-07-08T00:00:00",
          "2021-07-09T00:00:00"
         ],
         "y": [
          "2",
          "2"
         ]
        },
        {
         "hoverinfo": "skip",
         "line": {
          "color": "#C0C0C0"
         },
         "mode": "lines+markers",
         "name": "Unchanged",
         "showlegend": false,
         "type": "scatter",
         "x": [
          "2021-07-09T00:00:00",
          "2021-07-10T00:00:00"
         ],
         "y": [
          "2",
          "2"
         ]
        },
        {
         "hoverinfo": "skip",
         "line": {
          "color": "#C0C0C0"
         },
         "mode": "lines+markers",
         "name": "Unchanged",
         "showlegend": false,
         "type": "scatter",
         "x": [
          "2021-07-10T00:00:00",
          "2021-07-11T00:00:00"
         ],
         "y": [
          "2",
          "2"
         ]
        },
        {
         "hoverinfo": "skip",
         "line": {
          "color": "#C0C0C0"
         },
         "mode": "lines+markers",
         "name": "Unchanged",
         "showlegend": false,
         "type": "scatter",
         "x": [
          "2021-07-11T00:00:00",
          "2021-07-12T00:00:00"
         ],
         "y": [
          "2",
          "2"
         ]
        },
        {
         "hoverinfo": "skip",
         "line": {
          "color": "#C0C0C0"
         },
         "mode": "lines+markers",
         "name": "Unchanged",
         "showlegend": false,
         "type": "scatter",
         "x": [
          "2021-07-12T00:00:00",
          "2021-07-13T00:00:00"
         ],
         "y": [
          "2",
          "2"
         ]
        },
        {
         "hoverinfo": "skip",
         "line": {
          "color": "#C0C0C0"
         },
         "mode": "lines+markers",
         "name": "Unchanged",
         "showlegend": false,
         "type": "scatter",
         "x": [
          "2021-07-13T00:00:00",
          "2021-07-14T00:00:00"
         ],
         "y": [
          "2",
          "2"
         ]
        },
        {
         "hoverinfo": "skip",
         "line": {
          "color": "#C0C0C0"
         },
         "mode": "lines+markers",
         "name": "Unchanged",
         "showlegend": false,
         "type": "scatter",
         "x": [
          "2021-07-14T00:00:00",
          "2021-07-15T00:00:00"
         ],
         "y": [
          "2",
          "2"
         ]
        },
        {
         "hoverinfo": "skip",
         "line": {
          "color": "#C0C0C0"
         },
         "mode": "lines+markers",
         "name": "Unchanged",
         "showlegend": false,
         "type": "scatter",
         "x": [
          "2021-07-15T00:00:00",
          "2021-07-16T00:00:00"
         ],
         "y": [
          "2",
          "2"
         ]
        },
        {
         "hoverinfo": "skip",
         "line": {
          "color": "#C0C0C0"
         },
         "mode": "lines+markers",
         "name": "Unchanged",
         "showlegend": false,
         "type": "scatter",
         "x": [
          "2021-07-16T00:00:00",
          "2021-07-17T00:00:00"
         ],
         "y": [
          "2",
          "2"
         ]
        },
        {
         "hoverinfo": "skip",
         "line": {
          "color": "#C0C0C0"
         },
         "mode": "lines+markers",
         "name": "Unchanged",
         "showlegend": false,
         "type": "scatter",
         "x": [
          "2021-07-17T00:00:00",
          "2021-07-18T00:00:00"
         ],
         "y": [
          "2",
          "2"
         ]
        },
        {
         "hoverinfo": "skip",
         "line": {
          "color": "#C0C0C0"
         },
         "mode": "lines+markers",
         "name": "Unchanged",
         "showlegend": false,
         "type": "scatter",
         "x": [
          "2021-07-18T00:00:00",
          "2021-07-19T00:00:00"
         ],
         "y": [
          "2",
          "2"
         ]
        },
        {
         "hoverinfo": "skip",
         "line": {
          "color": "#C0C0C0"
         },
         "mode": "lines+markers",
         "name": "Unchanged",
         "showlegend": false,
         "type": "scatter",
         "x": [
          "2021-07-19T00:00:00",
          "2021-07-20T00:00:00"
         ],
         "y": [
          "2",
          "2"
         ]
        },
        {
         "hoverinfo": "skip",
         "line": {
          "color": "#C0C0C0"
         },
         "mode": "lines+markers",
         "name": "Unchanged",
         "showlegend": false,
         "type": "scatter",
         "x": [
          "2021-07-20T00:00:00",
          "2021-07-21T00:00:00"
         ],
         "y": [
          "2",
          "2"
         ]
        },
        {
         "hoverinfo": "skip",
         "line": {
          "color": "#C0C0C0"
         },
         "mode": "lines+markers",
         "name": "Unchanged",
         "showlegend": false,
         "type": "scatter",
         "x": [
          "2021-07-21T00:00:00",
          "2021-07-22T00:00:00"
         ],
         "y": [
          "2",
          "2"
         ]
        },
        {
         "hoverinfo": "skip",
         "line": {
          "color": "#C0C0C0"
         },
         "mode": "lines+markers",
         "name": "Unchanged",
         "showlegend": false,
         "type": "scatter",
         "x": [
          "2021-07-22T00:00:00",
          "2021-07-23T00:00:00"
         ],
         "y": [
          "2",
          "2"
         ]
        },
        {
         "hoverinfo": "skip",
         "line": {
          "color": "#C0C0C0"
         },
         "mode": "lines+markers",
         "name": "Unchanged",
         "showlegend": false,
         "type": "scatter",
         "x": [
          "2021-07-23T00:00:00",
          "2021-07-24T00:00:00"
         ],
         "y": [
          "2",
          "2"
         ]
        },
        {
         "hoverinfo": "skip",
         "line": {
          "color": "#C0C0C0"
         },
         "mode": "lines+markers",
         "name": "Unchanged",
         "showlegend": false,
         "type": "scatter",
         "x": [
          "2021-07-24T00:00:00",
          "2021-07-25T00:00:00"
         ],
         "y": [
          "2",
          "2"
         ]
        },
        {
         "hoverinfo": "skip",
         "line": {
          "color": "#C0C0C0"
         },
         "mode": "lines+markers",
         "name": "Unchanged",
         "showlegend": false,
         "type": "scatter",
         "x": [
          "2021-07-25T00:00:00",
          "2021-07-26T00:00:00"
         ],
         "y": [
          "2",
          "2"
         ]
        },
        {
         "hoverinfo": "skip",
         "line": {
          "color": "#C0C0C0"
         },
         "mode": "lines+markers",
         "name": "Unchanged",
         "showlegend": false,
         "type": "scatter",
         "x": [
          "2021-07-26T00:00:00",
          "2021-07-27T00:00:00"
         ],
         "y": [
          "2",
          "2"
         ]
        },
        {
         "hoverinfo": "skip",
         "line": {
          "color": "#C0C0C0"
         },
         "mode": "lines+markers",
         "name": "Unchanged",
         "showlegend": false,
         "type": "scatter",
         "x": [
          "2021-07-27T00:00:00",
          "2021-07-28T00:00:00"
         ],
         "y": [
          "2",
          "2"
         ]
        },
        {
         "hoverinfo": "skip",
         "line": {
          "color": "#C0C0C0"
         },
         "mode": "lines+markers",
         "name": "Unchanged",
         "showlegend": false,
         "type": "scatter",
         "x": [
          "2021-07-28T00:00:00",
          "2021-07-29T00:00:00"
         ],
         "y": [
          "2",
          "2"
         ]
        },
        {
         "hoverinfo": "skip",
         "line": {
          "color": "#C0C0C0"
         },
         "mode": "lines+markers",
         "name": "Unchanged",
         "showlegend": false,
         "type": "scatter",
         "x": [
          "2021-07-29T00:00:00",
          "2021-07-30T00:00:00"
         ],
         "y": [
          "2",
          "2"
         ]
        },
        {
         "hoverinfo": "skip",
         "line": {
          "color": "#C0C0C0"
         },
         "mode": "lines+markers",
         "name": "Unchanged",
         "showlegend": false,
         "type": "scatter",
         "x": [
          "2021-07-30T00:00:00",
          "2021-07-31T00:00:00"
         ],
         "y": [
          "2",
          "2"
         ]
        },
        {
         "hoverinfo": "skip",
         "line": {
          "color": "#C0C0C0"
         },
         "mode": "lines+markers",
         "name": "Unchanged",
         "showlegend": false,
         "type": "scatter",
         "x": [
          "2021-07-31T00:00:00",
          "2021-08-01T00:00:00"
         ],
         "y": [
          "2",
          "2"
         ]
        },
        {
         "hoverinfo": "skip",
         "line": {
          "color": "#C0C0C0"
         },
         "mode": "lines+markers",
         "name": "Unchanged",
         "showlegend": false,
         "type": "scatter",
         "x": [
          "2021-08-01T00:00:00",
          "2021-08-02T00:00:00"
         ],
         "y": [
          "2",
          "2"
         ]
        },
        {
         "hoverinfo": "skip",
         "line": {
          "color": "#C0C0C0"
         },
         "mode": "lines+markers",
         "name": "Unchanged",
         "showlegend": false,
         "type": "scatter",
         "x": [
          "2021-08-02T00:00:00",
          "2021-08-03T00:00:00"
         ],
         "y": [
          "2",
          "2"
         ]
        },
        {
         "hoverinfo": "skip",
         "line": {
          "color": "#C0C0C0"
         },
         "mode": "lines+markers",
         "name": "Unchanged",
         "showlegend": false,
         "type": "scatter",
         "x": [
          "2021-08-03T00:00:00",
          "2021-08-04T00:00:00"
         ],
         "y": [
          "2",
          "2"
         ]
        },
        {
         "hoverinfo": "skip",
         "line": {
          "color": "#C0C0C0"
         },
         "mode": "lines+markers",
         "name": "Unchanged",
         "showlegend": false,
         "type": "scatter",
         "x": [
          "2021-08-04T00:00:00",
          "2021-08-05T00:00:00"
         ],
         "y": [
          "2",
          "2"
         ]
        },
        {
         "hoverinfo": "skip",
         "line": {
          "color": "#C0C0C0"
         },
         "mode": "lines+markers",
         "name": "Unchanged",
         "showlegend": false,
         "type": "scatter",
         "x": [
          "2021-08-05T00:00:00",
          "2021-08-06T00:00:00"
         ],
         "y": [
          "2",
          "2"
         ]
        },
        {
         "hoverinfo": "skip",
         "line": {
          "color": "#C0C0C0"
         },
         "mode": "lines+markers",
         "name": "Unchanged",
         "showlegend": false,
         "type": "scatter",
         "x": [
          "2021-08-06T00:00:00",
          "2021-08-07T00:00:00"
         ],
         "y": [
          "2",
          "2"
         ]
        },
        {
         "hoverinfo": "skip",
         "line": {
          "color": "#C0C0C0"
         },
         "mode": "lines+markers",
         "name": "Unchanged",
         "showlegend": false,
         "type": "scatter",
         "x": [
          "2021-08-07T00:00:00",
          "2021-08-08T00:00:00"
         ],
         "y": [
          "2",
          "2"
         ]
        },
        {
         "hoverinfo": "skip",
         "line": {
          "color": "#C0C0C0"
         },
         "mode": "lines+markers",
         "name": "Unchanged",
         "showlegend": false,
         "type": "scatter",
         "x": [
          "2021-08-08T00:00:00",
          "2021-08-09T00:00:00"
         ],
         "y": [
          "2",
          "2"
         ]
        },
        {
         "hoverinfo": "skip",
         "line": {
          "color": "#C0C0C0"
         },
         "mode": "lines+markers",
         "name": "Unchanged",
         "showlegend": false,
         "type": "scatter",
         "x": [
          "2021-08-09T00:00:00",
          "2021-08-10T00:00:00"
         ],
         "y": [
          "2",
          "2"
         ]
        },
        {
         "hoverinfo": "skip",
         "line": {
          "color": "#C0C0C0"
         },
         "mode": "lines+markers",
         "name": "Unchanged",
         "showlegend": false,
         "type": "scatter",
         "x": [
          "2021-08-10T00:00:00",
          "2021-08-11T00:00:00"
         ],
         "y": [
          "2",
          "2"
         ]
        },
        {
         "hoverinfo": "skip",
         "line": {
          "color": "#C0C0C0"
         },
         "mode": "lines+markers",
         "name": "Unchanged",
         "showlegend": false,
         "type": "scatter",
         "x": [
          "2021-08-11T00:00:00",
          "2021-08-12T00:00:00"
         ],
         "y": [
          "2",
          "2"
         ]
        },
        {
         "hoverinfo": "skip",
         "line": {
          "color": "#C0C0C0"
         },
         "mode": "lines+markers",
         "name": "Unchanged",
         "showlegend": false,
         "type": "scatter",
         "x": [
          "2021-08-12T00:00:00",
          "2021-08-13T00:00:00"
         ],
         "y": [
          "2",
          "2"
         ]
        },
        {
         "hoverinfo": "skip",
         "line": {
          "color": "#C0C0C0"
         },
         "mode": "lines+markers",
         "name": "Unchanged",
         "showlegend": false,
         "type": "scatter",
         "x": [
          "2021-08-13T00:00:00",
          "2021-08-14T00:00:00"
         ],
         "y": [
          "2",
          "2"
         ]
        },
        {
         "hoverinfo": "skip",
         "line": {
          "color": "#C0C0C0"
         },
         "mode": "lines+markers",
         "name": "Unchanged",
         "showlegend": false,
         "type": "scatter",
         "x": [
          "2021-08-14T00:00:00",
          "2021-08-15T00:00:00"
         ],
         "y": [
          "2",
          "2"
         ]
        },
        {
         "hoverinfo": "skip",
         "line": {
          "color": "#C0C0C0"
         },
         "mode": "lines+markers",
         "name": "Unchanged",
         "showlegend": false,
         "type": "scatter",
         "x": [
          "2021-08-15T00:00:00",
          "2021-08-16T00:00:00"
         ],
         "y": [
          "2",
          "2"
         ]
        },
        {
         "hoverinfo": "skip",
         "line": {
          "color": "#C0C0C0"
         },
         "mode": "lines+markers",
         "name": "Unchanged",
         "showlegend": false,
         "type": "scatter",
         "x": [
          "2021-08-16T00:00:00",
          "2021-08-17T00:00:00"
         ],
         "y": [
          "2",
          "2"
         ]
        },
        {
         "hoverinfo": "skip",
         "line": {
          "color": "#C0C0C0"
         },
         "mode": "lines+markers",
         "name": "Unchanged",
         "showlegend": false,
         "type": "scatter",
         "x": [
          "2021-08-17T00:00:00",
          "2021-08-18T00:00:00"
         ],
         "y": [
          "2",
          "2"
         ]
        },
        {
         "hoverinfo": "skip",
         "line": {
          "color": "#C0C0C0"
         },
         "mode": "lines+markers",
         "name": "Unchanged",
         "showlegend": false,
         "type": "scatter",
         "x": [
          "2021-08-18T00:00:00",
          "2021-08-19T00:00:00"
         ],
         "y": [
          "2",
          "2"
         ]
        },
        {
         "hoverinfo": "skip",
         "line": {
          "color": "#C0C0C0"
         },
         "mode": "lines+markers",
         "name": "Unchanged",
         "showlegend": false,
         "type": "scatter",
         "x": [
          "2021-08-19T00:00:00",
          "2021-08-20T00:00:00"
         ],
         "y": [
          "2",
          "2"
         ]
        },
        {
         "hoverinfo": "skip",
         "line": {
          "color": "#C0C0C0"
         },
         "mode": "lines+markers",
         "name": "Unchanged",
         "showlegend": false,
         "type": "scatter",
         "x": [
          "2021-08-20T00:00:00",
          "2021-08-21T00:00:00"
         ],
         "y": [
          "2",
          "2"
         ]
        },
        {
         "hoverinfo": "skip",
         "line": {
          "color": "#C0C0C0"
         },
         "mode": "lines+markers",
         "name": "Unchanged",
         "showlegend": false,
         "type": "scatter",
         "x": [
          "2021-08-21T00:00:00",
          "2021-08-22T00:00:00"
         ],
         "y": [
          "2",
          "2"
         ]
        },
        {
         "hoverinfo": "skip",
         "line": {
          "color": "#C0C0C0"
         },
         "mode": "lines+markers",
         "name": "Unchanged",
         "showlegend": false,
         "type": "scatter",
         "x": [
          "2021-08-22T00:00:00",
          "2021-08-23T00:00:00"
         ],
         "y": [
          "2",
          "2"
         ]
        },
        {
         "hoverinfo": "skip",
         "line": {
          "color": "#C0C0C0"
         },
         "mode": "lines+markers",
         "name": "Unchanged",
         "showlegend": false,
         "type": "scatter",
         "x": [
          "2021-08-23T00:00:00",
          "2021-08-24T00:00:00"
         ],
         "y": [
          "2",
          "2"
         ]
        },
        {
         "hoverinfo": "skip",
         "line": {
          "color": "#C0C0C0"
         },
         "mode": "lines+markers",
         "name": "Unchanged",
         "showlegend": false,
         "type": "scatter",
         "x": [
          "2021-08-24T00:00:00",
          "2021-08-25T00:00:00"
         ],
         "y": [
          "2",
          "2"
         ]
        },
        {
         "hoverinfo": "skip",
         "line": {
          "color": "#C0C0C0"
         },
         "mode": "lines+markers",
         "name": "Unchanged",
         "showlegend": false,
         "type": "scatter",
         "x": [
          "2021-08-25T00:00:00",
          "2021-08-26T00:00:00"
         ],
         "y": [
          "2",
          "2"
         ]
        },
        {
         "hoverinfo": "skip",
         "line": {
          "color": "#C0C0C0"
         },
         "mode": "lines+markers",
         "name": "Unchanged",
         "showlegend": false,
         "type": "scatter",
         "x": [
          "2021-08-26T00:00:00",
          "2021-08-27T00:00:00"
         ],
         "y": [
          "2",
          "2"
         ]
        },
        {
         "hoverinfo": "skip",
         "line": {
          "color": "#C0C0C0"
         },
         "mode": "lines+markers",
         "name": "Unchanged",
         "showlegend": false,
         "type": "scatter",
         "x": [
          "2021-08-27T00:00:00",
          "2021-08-28T00:00:00"
         ],
         "y": [
          "2",
          "2"
         ]
        },
        {
         "hoverinfo": "skip",
         "line": {
          "color": "#C0C0C0"
         },
         "mode": "lines+markers",
         "name": "Unchanged",
         "showlegend": false,
         "type": "scatter",
         "x": [
          "2021-08-28T00:00:00",
          "2021-08-29T00:00:00"
         ],
         "y": [
          "2",
          "2"
         ]
        },
        {
         "hoverinfo": "skip",
         "line": {
          "color": "#C0C0C0"
         },
         "mode": "lines+markers",
         "name": "Unchanged",
         "showlegend": false,
         "type": "scatter",
         "x": [
          "2021-08-29T00:00:00",
          "2021-08-30T00:00:00"
         ],
         "y": [
          "2",
          "2"
         ]
        },
        {
         "hoverinfo": "skip",
         "line": {
          "color": "#C0C0C0"
         },
         "mode": "lines+markers",
         "name": "Unchanged",
         "showlegend": false,
         "type": "scatter",
         "x": [
          "2021-08-30T00:00:00",
          "2021-08-31T00:00:00"
         ],
         "y": [
          "2",
          "2"
         ]
        },
        {
         "hoverinfo": "skip",
         "line": {
          "color": "#C0C0C0"
         },
         "mode": "lines+markers",
         "name": "Unchanged",
         "showlegend": false,
         "type": "scatter",
         "x": [
          "2021-08-31T00:00:00",
          "2021-09-01T00:00:00"
         ],
         "y": [
          "2",
          "2"
         ]
        },
        {
         "hoverinfo": "skip",
         "line": {
          "color": "#C0C0C0"
         },
         "mode": "lines+markers",
         "name": "Unchanged",
         "showlegend": false,
         "type": "scatter",
         "x": [
          "2021-09-01T00:00:00",
          "2021-09-02T00:00:00"
         ],
         "y": [
          "2",
          "2"
         ]
        },
        {
         "hoverinfo": "skip",
         "line": {
          "color": "#C0C0C0"
         },
         "mode": "lines+markers",
         "name": "Unchanged",
         "showlegend": false,
         "type": "scatter",
         "x": [
          "2021-09-02T00:00:00",
          "2021-09-03T00:00:00"
         ],
         "y": [
          "2",
          "2"
         ]
        },
        {
         "hoverinfo": "skip",
         "line": {
          "color": "#C0C0C0"
         },
         "mode": "lines+markers",
         "name": "Unchanged",
         "showlegend": false,
         "type": "scatter",
         "x": [
          "2021-09-03T00:00:00",
          "2021-09-04T00:00:00"
         ],
         "y": [
          "2",
          "2"
         ]
        },
        {
         "hoverinfo": "skip",
         "line": {
          "color": "#C0C0C0"
         },
         "mode": "lines+markers",
         "name": "Unchanged",
         "showlegend": false,
         "type": "scatter",
         "x": [
          "2021-09-04T00:00:00",
          "2021-09-05T00:00:00"
         ],
         "y": [
          "2",
          "2"
         ]
        },
        {
         "hoverinfo": "skip",
         "line": {
          "color": "#C0C0C0"
         },
         "mode": "lines+markers",
         "name": "Unchanged",
         "showlegend": false,
         "type": "scatter",
         "x": [
          "2021-09-05T00:00:00",
          "2021-09-06T00:00:00"
         ],
         "y": [
          "2",
          "2"
         ]
        },
        {
         "hoverinfo": "skip",
         "line": {
          "color": "#C0C0C0"
         },
         "mode": "lines+markers",
         "name": "Unchanged",
         "showlegend": false,
         "type": "scatter",
         "x": [
          "2021-09-06T00:00:00",
          "2021-09-07T00:00:00"
         ],
         "y": [
          "2",
          "2"
         ]
        },
        {
         "hoverinfo": "skip",
         "line": {
          "color": "#C0C0C0"
         },
         "mode": "lines+markers",
         "name": "Unchanged",
         "showlegend": false,
         "type": "scatter",
         "x": [
          "2021-09-07T00:00:00",
          "2021-09-08T00:00:00"
         ],
         "y": [
          "2",
          "2"
         ]
        },
        {
         "hoverinfo": "skip",
         "line": {
          "color": "#C0C0C0"
         },
         "mode": "lines+markers",
         "name": "Unchanged",
         "showlegend": false,
         "type": "scatter",
         "x": [
          "2021-09-08T00:00:00",
          "2021-09-09T00:00:00"
         ],
         "y": [
          "2",
          "2"
         ]
        },
        {
         "hoverinfo": "skip",
         "line": {
          "color": "#C0C0C0"
         },
         "mode": "lines+markers",
         "name": "Unchanged",
         "showlegend": false,
         "type": "scatter",
         "x": [
          "2021-09-09T00:00:00",
          "2021-09-10T00:00:00"
         ],
         "y": [
          "2",
          "2"
         ]
        },
        {
         "hoverinfo": "skip",
         "line": {
          "color": "#C0C0C0"
         },
         "mode": "lines+markers",
         "name": "Unchanged",
         "showlegend": false,
         "type": "scatter",
         "x": [
          "2021-09-10T00:00:00",
          "2021-09-11T00:00:00"
         ],
         "y": [
          "2",
          "2"
         ]
        },
        {
         "hoverinfo": "skip",
         "line": {
          "color": "#C0C0C0"
         },
         "mode": "lines+markers",
         "name": "Unchanged",
         "showlegend": false,
         "type": "scatter",
         "x": [
          "2021-09-11T00:00:00",
          "2021-09-12T00:00:00"
         ],
         "y": [
          "2",
          "2"
         ]
        },
        {
         "hoverinfo": "skip",
         "line": {
          "color": "#C0C0C0"
         },
         "mode": "lines+markers",
         "name": "Unchanged",
         "showlegend": false,
         "type": "scatter",
         "x": [
          "2021-09-12T00:00:00",
          "2021-09-13T00:00:00"
         ],
         "y": [
          "2",
          "2"
         ]
        },
        {
         "hoverinfo": "skip",
         "line": {
          "color": "#C0C0C0"
         },
         "mode": "lines+markers",
         "name": "Unchanged",
         "showlegend": false,
         "type": "scatter",
         "x": [
          "2021-09-13T00:00:00",
          "2021-09-14T00:00:00"
         ],
         "y": [
          "2",
          "2"
         ]
        },
        {
         "hoverinfo": "skip",
         "line": {
          "color": "#C0C0C0"
         },
         "mode": "lines+markers",
         "name": "Unchanged",
         "showlegend": false,
         "type": "scatter",
         "x": [
          "2021-09-14T00:00:00",
          "2021-09-15T00:00:00"
         ],
         "y": [
          "2",
          "2"
         ]
        },
        {
         "hoverinfo": "skip",
         "line": {
          "color": "#C0C0C0"
         },
         "mode": "lines+markers",
         "name": "Unchanged",
         "showlegend": false,
         "type": "scatter",
         "x": [
          "2021-09-15T00:00:00",
          "2021-09-16T00:00:00"
         ],
         "y": [
          "2",
          "2"
         ]
        },
        {
         "hoverinfo": "skip",
         "line": {
          "color": "#C0C0C0"
         },
         "mode": "lines+markers",
         "name": "Unchanged",
         "showlegend": false,
         "type": "scatter",
         "x": [
          "2021-09-16T00:00:00",
          "2021-09-17T00:00:00"
         ],
         "y": [
          "2",
          "2"
         ]
        },
        {
         "hoverinfo": "skip",
         "line": {
          "color": "#C0C0C0"
         },
         "mode": "lines+markers",
         "name": "Unchanged",
         "showlegend": false,
         "type": "scatter",
         "x": [
          "2021-09-17T00:00:00",
          "2021-09-18T00:00:00"
         ],
         "y": [
          "2",
          "2"
         ]
        },
        {
         "hoverinfo": "skip",
         "line": {
          "color": "#C0C0C0"
         },
         "mode": "lines+markers",
         "name": "Unchanged",
         "showlegend": false,
         "type": "scatter",
         "x": [
          "2021-09-18T00:00:00",
          "2021-09-19T00:00:00"
         ],
         "y": [
          "2",
          "2"
         ]
        },
        {
         "hoverinfo": "skip",
         "line": {
          "color": "#C0C0C0"
         },
         "mode": "lines+markers",
         "name": "Unchanged",
         "showlegend": false,
         "type": "scatter",
         "x": [
          "2021-09-19T00:00:00",
          "2021-09-20T00:00:00"
         ],
         "y": [
          "2",
          "2"
         ]
        },
        {
         "hoverinfo": "skip",
         "line": {
          "color": "#C0C0C0"
         },
         "mode": "lines+markers",
         "name": "Unchanged",
         "showlegend": false,
         "type": "scatter",
         "x": [
          "2021-09-20T00:00:00",
          "2021-09-21T00:00:00"
         ],
         "y": [
          "2",
          "2"
         ]
        },
        {
         "hoverinfo": "skip",
         "line": {
          "color": "#C0C0C0"
         },
         "mode": "lines+markers",
         "name": "Unchanged",
         "showlegend": false,
         "type": "scatter",
         "x": [
          "2021-09-21T00:00:00",
          "2021-09-22T00:00:00"
         ],
         "y": [
          "2",
          "2"
         ]
        },
        {
         "hoverinfo": "skip",
         "line": {
          "color": "#C0C0C0"
         },
         "mode": "lines+markers",
         "name": "Unchanged",
         "showlegend": false,
         "type": "scatter",
         "x": [
          "2021-09-22T00:00:00",
          "2021-09-23T00:00:00"
         ],
         "y": [
          "2",
          "2"
         ]
        },
        {
         "hoverinfo": "skip",
         "line": {
          "color": "#C0C0C0"
         },
         "mode": "lines+markers",
         "name": "Unchanged",
         "showlegend": false,
         "type": "scatter",
         "x": [
          "2021-09-23T00:00:00",
          "2021-09-24T00:00:00"
         ],
         "y": [
          "2",
          "2"
         ]
        },
        {
         "hoverinfo": "skip",
         "line": {
          "color": "#C0C0C0"
         },
         "mode": "lines+markers",
         "name": "Unchanged",
         "showlegend": false,
         "type": "scatter",
         "x": [
          "2021-09-24T00:00:00",
          "2021-09-25T00:00:00"
         ],
         "y": [
          "2",
          "2"
         ]
        },
        {
         "hoverinfo": "skip",
         "line": {
          "color": "#C0C0C0"
         },
         "mode": "lines+markers",
         "name": "Unchanged",
         "showlegend": false,
         "type": "scatter",
         "x": [
          "2021-09-25T00:00:00",
          "2021-09-26T00:00:00"
         ],
         "y": [
          "2",
          "2"
         ]
        },
        {
         "hoverinfo": "skip",
         "line": {
          "color": "#C0C0C0"
         },
         "mode": "lines+markers",
         "name": "Unchanged",
         "showlegend": false,
         "type": "scatter",
         "x": [
          "2021-09-26T00:00:00",
          "2021-09-27T00:00:00"
         ],
         "y": [
          "2",
          "2"
         ]
        },
        {
         "hoverinfo": "skip",
         "line": {
          "color": "#C0C0C0"
         },
         "mode": "lines+markers",
         "name": "Unchanged",
         "showlegend": false,
         "type": "scatter",
         "x": [
          "2021-09-27T00:00:00",
          "2021-09-28T00:00:00"
         ],
         "y": [
          "2",
          "2"
         ]
        },
        {
         "hoverinfo": "skip",
         "line": {
          "color": "#1f77b4"
         },
         "mode": "lines+markers",
         "name": "Train",
         "showlegend": false,
         "type": "scatter",
         "x": [
          "2021-07-08T00:00:00",
          "2021-07-09T00:00:00"
         ],
         "y": [
          "2",
          "2"
         ]
        },
        {
         "hoverinfo": "skip",
         "line": {
          "color": "#1f77b4"
         },
         "mode": "lines+markers",
         "name": "Train",
         "showlegend": false,
         "type": "scatter",
         "x": [
          "2021-07-09T00:00:00",
          "2021-07-10T00:00:00"
         ],
         "y": [
          "2",
          "2"
         ]
        },
        {
         "hoverinfo": "skip",
         "line": {
          "color": "#1f77b4"
         },
         "mode": "lines+markers",
         "name": "Train",
         "showlegend": false,
         "type": "scatter",
         "x": [
          "2021-07-10T00:00:00",
          "2021-07-11T00:00:00"
         ],
         "y": [
          "2",
          "2"
         ]
        },
        {
         "hoverinfo": "skip",
         "line": {
          "color": "#1f77b4"
         },
         "mode": "lines+markers",
         "name": "Train",
         "showlegend": false,
         "type": "scatter",
         "x": [
          "2021-07-11T00:00:00",
          "2021-07-12T00:00:00"
         ],
         "y": [
          "2",
          "2"
         ]
        },
        {
         "hoverinfo": "skip",
         "line": {
          "color": "#1f77b4"
         },
         "mode": "lines+markers",
         "name": "Train",
         "showlegend": false,
         "type": "scatter",
         "x": [
          "2021-07-12T00:00:00",
          "2021-07-13T00:00:00"
         ],
         "y": [
          "2",
          "2"
         ]
        },
        {
         "hoverinfo": "skip",
         "line": {
          "color": "#1f77b4"
         },
         "mode": "lines+markers",
         "name": "Train",
         "showlegend": false,
         "type": "scatter",
         "x": [
          "2021-07-13T00:00:00",
          "2021-07-14T00:00:00"
         ],
         "y": [
          "2",
          "2"
         ]
        },
        {
         "hoverinfo": "skip",
         "line": {
          "color": "#1f77b4"
         },
         "mode": "lines+markers",
         "name": "Train",
         "showlegend": false,
         "type": "scatter",
         "x": [
          "2021-07-14T00:00:00",
          "2021-07-15T00:00:00"
         ],
         "y": [
          "2",
          "2"
         ]
        },
        {
         "hoverinfo": "skip",
         "line": {
          "color": "#1f77b4"
         },
         "mode": "lines+markers",
         "name": "Train",
         "showlegend": false,
         "type": "scatter",
         "x": [
          "2021-07-15T00:00:00",
          "2021-07-16T00:00:00"
         ],
         "y": [
          "2",
          "2"
         ]
        },
        {
         "hoverinfo": "skip",
         "line": {
          "color": "#1f77b4"
         },
         "mode": "lines+markers",
         "name": "Train",
         "showlegend": false,
         "type": "scatter",
         "x": [
          "2021-07-16T00:00:00",
          "2021-07-17T00:00:00"
         ],
         "y": [
          "2",
          "2"
         ]
        },
        {
         "hoverinfo": "skip",
         "line": {
          "color": "#1f77b4"
         },
         "mode": "lines+markers",
         "name": "Train",
         "showlegend": false,
         "type": "scatter",
         "x": [
          "2021-07-17T00:00:00",
          "2021-07-18T00:00:00"
         ],
         "y": [
          "2",
          "2"
         ]
        },
        {
         "hoverinfo": "skip",
         "line": {
          "color": "#1f77b4"
         },
         "mode": "lines+markers",
         "name": "Train",
         "showlegend": false,
         "type": "scatter",
         "x": [
          "2021-07-18T00:00:00",
          "2021-07-19T00:00:00"
         ],
         "y": [
          "2",
          "2"
         ]
        },
        {
         "hoverinfo": "skip",
         "line": {
          "color": "#1f77b4"
         },
         "mode": "lines+markers",
         "name": "Train",
         "showlegend": false,
         "type": "scatter",
         "x": [
          "2021-07-19T00:00:00",
          "2021-07-20T00:00:00"
         ],
         "y": [
          "2",
          "2"
         ]
        },
        {
         "hoverinfo": "skip",
         "line": {
          "color": "#1f77b4"
         },
         "mode": "lines+markers",
         "name": "Train",
         "showlegend": false,
         "type": "scatter",
         "x": [
          "2021-07-20T00:00:00",
          "2021-07-21T00:00:00"
         ],
         "y": [
          "2",
          "2"
         ]
        },
        {
         "hoverinfo": "skip",
         "line": {
          "color": "#1f77b4"
         },
         "mode": "lines+markers",
         "name": "Train",
         "showlegend": false,
         "type": "scatter",
         "x": [
          "2021-07-21T00:00:00",
          "2021-07-22T00:00:00"
         ],
         "y": [
          "2",
          "2"
         ]
        },
        {
         "hoverinfo": "skip",
         "line": {
          "color": "#1f77b4"
         },
         "mode": "lines+markers",
         "name": "Train",
         "showlegend": false,
         "type": "scatter",
         "x": [
          "2021-07-22T00:00:00",
          "2021-07-23T00:00:00"
         ],
         "y": [
          "2",
          "2"
         ]
        },
        {
         "hoverinfo": "skip",
         "line": {
          "color": "#1f77b4"
         },
         "mode": "lines+markers",
         "name": "Train",
         "showlegend": false,
         "type": "scatter",
         "x": [
          "2021-07-23T00:00:00",
          "2021-07-24T00:00:00"
         ],
         "y": [
          "2",
          "2"
         ]
        },
        {
         "hoverinfo": "skip",
         "line": {
          "color": "#1f77b4"
         },
         "mode": "lines+markers",
         "name": "Train",
         "showlegend": false,
         "type": "scatter",
         "x": [
          "2021-07-24T00:00:00",
          "2021-07-25T00:00:00"
         ],
         "y": [
          "2",
          "2"
         ]
        },
        {
         "hoverinfo": "skip",
         "line": {
          "color": "#1f77b4"
         },
         "mode": "lines+markers",
         "name": "Train",
         "showlegend": false,
         "type": "scatter",
         "x": [
          "2021-07-25T00:00:00",
          "2021-07-26T00:00:00"
         ],
         "y": [
          "2",
          "2"
         ]
        },
        {
         "hoverinfo": "skip",
         "line": {
          "color": "#1f77b4"
         },
         "mode": "lines+markers",
         "name": "Train",
         "showlegend": false,
         "type": "scatter",
         "x": [
          "2021-07-26T00:00:00",
          "2021-07-27T00:00:00"
         ],
         "y": [
          "2",
          "2"
         ]
        },
        {
         "hoverinfo": "skip",
         "line": {
          "color": "#1f77b4"
         },
         "mode": "lines+markers",
         "name": "Train",
         "showlegend": false,
         "type": "scatter",
         "x": [
          "2021-07-27T00:00:00",
          "2021-07-28T00:00:00"
         ],
         "y": [
          "2",
          "2"
         ]
        },
        {
         "hoverinfo": "skip",
         "line": {
          "color": "#1f77b4"
         },
         "mode": "lines+markers",
         "name": "Train",
         "showlegend": false,
         "type": "scatter",
         "x": [
          "2021-07-28T00:00:00",
          "2021-07-29T00:00:00"
         ],
         "y": [
          "2",
          "2"
         ]
        },
        {
         "hoverinfo": "skip",
         "line": {
          "color": "#1f77b4"
         },
         "mode": "lines+markers",
         "name": "Train",
         "showlegend": false,
         "type": "scatter",
         "x": [
          "2021-07-29T00:00:00",
          "2021-07-30T00:00:00"
         ],
         "y": [
          "2",
          "2"
         ]
        },
        {
         "hoverinfo": "skip",
         "line": {
          "color": "#1f77b4"
         },
         "mode": "lines+markers",
         "name": "Train",
         "showlegend": false,
         "type": "scatter",
         "x": [
          "2021-07-30T00:00:00",
          "2021-07-31T00:00:00"
         ],
         "y": [
          "2",
          "2"
         ]
        },
        {
         "hoverinfo": "skip",
         "line": {
          "color": "#1f77b4"
         },
         "mode": "lines+markers",
         "name": "Train",
         "showlegend": false,
         "type": "scatter",
         "x": [
          "2021-07-31T00:00:00",
          "2021-08-01T00:00:00"
         ],
         "y": [
          "2",
          "2"
         ]
        },
        {
         "hoverinfo": "skip",
         "line": {
          "color": "#1f77b4"
         },
         "mode": "lines+markers",
         "name": "Train",
         "showlegend": false,
         "type": "scatter",
         "x": [
          "2021-08-01T00:00:00",
          "2021-08-02T00:00:00"
         ],
         "y": [
          "2",
          "2"
         ]
        },
        {
         "hoverinfo": "skip",
         "line": {
          "color": "#1f77b4"
         },
         "mode": "lines+markers",
         "name": "Train",
         "showlegend": false,
         "type": "scatter",
         "x": [
          "2021-08-02T00:00:00",
          "2021-08-03T00:00:00"
         ],
         "y": [
          "2",
          "2"
         ]
        },
        {
         "hoverinfo": "skip",
         "line": {
          "color": "#1f77b4"
         },
         "mode": "lines+markers",
         "name": "Train",
         "showlegend": false,
         "type": "scatter",
         "x": [
          "2021-08-03T00:00:00",
          "2021-08-04T00:00:00"
         ],
         "y": [
          "2",
          "2"
         ]
        },
        {
         "hoverinfo": "skip",
         "line": {
          "color": "#1f77b4"
         },
         "mode": "lines+markers",
         "name": "Train",
         "showlegend": false,
         "type": "scatter",
         "x": [
          "2021-08-04T00:00:00",
          "2021-08-05T00:00:00"
         ],
         "y": [
          "2",
          "2"
         ]
        },
        {
         "hoverinfo": "skip",
         "line": {
          "color": "#1f77b4"
         },
         "mode": "lines+markers",
         "name": "Train",
         "showlegend": false,
         "type": "scatter",
         "x": [
          "2021-08-05T00:00:00",
          "2021-08-06T00:00:00"
         ],
         "y": [
          "2",
          "2"
         ]
        },
        {
         "hoverinfo": "skip",
         "line": {
          "color": "#1f77b4"
         },
         "mode": "lines+markers",
         "name": "Train",
         "showlegend": false,
         "type": "scatter",
         "x": [
          "2021-08-06T00:00:00",
          "2021-08-07T00:00:00"
         ],
         "y": [
          "2",
          "2"
         ]
        },
        {
         "hoverinfo": "skip",
         "line": {
          "color": "#1f77b4"
         },
         "mode": "lines+markers",
         "name": "Train",
         "showlegend": false,
         "type": "scatter",
         "x": [
          "2021-08-07T00:00:00",
          "2021-08-08T00:00:00"
         ],
         "y": [
          "2",
          "2"
         ]
        },
        {
         "hoverinfo": "skip",
         "line": {
          "color": "#1f77b4"
         },
         "mode": "lines+markers",
         "name": "Train",
         "showlegend": false,
         "type": "scatter",
         "x": [
          "2021-08-08T00:00:00",
          "2021-08-09T00:00:00"
         ],
         "y": [
          "2",
          "2"
         ]
        },
        {
         "hoverinfo": "skip",
         "line": {
          "color": "#1f77b4"
         },
         "mode": "lines+markers",
         "name": "Train",
         "showlegend": false,
         "type": "scatter",
         "x": [
          "2021-08-09T00:00:00",
          "2021-08-10T00:00:00"
         ],
         "y": [
          "2",
          "2"
         ]
        },
        {
         "hoverinfo": "skip",
         "line": {
          "color": "#1f77b4"
         },
         "mode": "lines+markers",
         "name": "Train",
         "showlegend": false,
         "type": "scatter",
         "x": [
          "2021-08-10T00:00:00",
          "2021-08-11T00:00:00"
         ],
         "y": [
          "2",
          "2"
         ]
        },
        {
         "hoverinfo": "skip",
         "line": {
          "color": "#1f77b4"
         },
         "mode": "lines+markers",
         "name": "Train",
         "showlegend": false,
         "type": "scatter",
         "x": [
          "2021-08-11T00:00:00",
          "2021-08-12T00:00:00"
         ],
         "y": [
          "2",
          "2"
         ]
        },
        {
         "hoverinfo": "skip",
         "line": {
          "color": "#1f77b4"
         },
         "mode": "lines+markers",
         "name": "Train",
         "showlegend": false,
         "type": "scatter",
         "x": [
          "2021-08-12T00:00:00",
          "2021-08-13T00:00:00"
         ],
         "y": [
          "2",
          "2"
         ]
        },
        {
         "hoverinfo": "skip",
         "line": {
          "color": "#1f77b4"
         },
         "mode": "lines+markers",
         "name": "Train",
         "showlegend": false,
         "type": "scatter",
         "x": [
          "2021-08-13T00:00:00",
          "2021-08-14T00:00:00"
         ],
         "y": [
          "2",
          "2"
         ]
        },
        {
         "hoverinfo": "skip",
         "line": {
          "color": "#1f77b4"
         },
         "mode": "lines+markers",
         "name": "Train",
         "showlegend": false,
         "type": "scatter",
         "x": [
          "2021-08-14T00:00:00",
          "2021-08-15T00:00:00"
         ],
         "y": [
          "2",
          "2"
         ]
        },
        {
         "hoverinfo": "skip",
         "line": {
          "color": "#1f77b4"
         },
         "mode": "lines+markers",
         "name": "Train",
         "showlegend": false,
         "type": "scatter",
         "x": [
          "2021-08-15T00:00:00",
          "2021-08-16T00:00:00"
         ],
         "y": [
          "2",
          "2"
         ]
        },
        {
         "hoverinfo": "skip",
         "line": {
          "color": "#1f77b4"
         },
         "mode": "lines+markers",
         "name": "Train",
         "showlegend": false,
         "type": "scatter",
         "x": [
          "2021-08-16T00:00:00",
          "2021-08-17T00:00:00"
         ],
         "y": [
          "2",
          "2"
         ]
        },
        {
         "hoverinfo": "skip",
         "line": {
          "color": "#1f77b4"
         },
         "mode": "lines+markers",
         "name": "Train",
         "showlegend": false,
         "type": "scatter",
         "x": [
          "2021-08-17T00:00:00",
          "2021-08-18T00:00:00"
         ],
         "y": [
          "2",
          "2"
         ]
        },
        {
         "hoverinfo": "skip",
         "line": {
          "color": "#1f77b4"
         },
         "mode": "lines+markers",
         "name": "Train",
         "showlegend": false,
         "type": "scatter",
         "x": [
          "2021-08-18T00:00:00",
          "2021-08-19T00:00:00"
         ],
         "y": [
          "2",
          "2"
         ]
        },
        {
         "hoverinfo": "skip",
         "line": {
          "color": "#1f77b4"
         },
         "mode": "lines+markers",
         "name": "Train",
         "showlegend": false,
         "type": "scatter",
         "x": [
          "2021-08-19T00:00:00",
          "2021-08-20T00:00:00"
         ],
         "y": [
          "2",
          "2"
         ]
        },
        {
         "hoverinfo": "skip",
         "line": {
          "color": "#1f77b4"
         },
         "mode": "lines+markers",
         "name": "Train",
         "showlegend": false,
         "type": "scatter",
         "x": [
          "2021-08-20T00:00:00",
          "2021-08-21T00:00:00"
         ],
         "y": [
          "2",
          "2"
         ]
        },
        {
         "hoverinfo": "skip",
         "line": {
          "color": "#1f77b4"
         },
         "mode": "lines+markers",
         "name": "Train",
         "showlegend": false,
         "type": "scatter",
         "x": [
          "2021-08-21T00:00:00",
          "2021-08-22T00:00:00"
         ],
         "y": [
          "2",
          "2"
         ]
        },
        {
         "hoverinfo": "skip",
         "line": {
          "color": "#1f77b4"
         },
         "mode": "lines+markers",
         "name": "Train",
         "showlegend": false,
         "type": "scatter",
         "x": [
          "2021-08-22T00:00:00",
          "2021-08-23T00:00:00"
         ],
         "y": [
          "2",
          "2"
         ]
        },
        {
         "hoverinfo": "skip",
         "line": {
          "color": "#1f77b4"
         },
         "mode": "lines+markers",
         "name": "Train",
         "showlegend": false,
         "type": "scatter",
         "x": [
          "2021-08-23T00:00:00",
          "2021-08-24T00:00:00"
         ],
         "y": [
          "2",
          "2"
         ]
        },
        {
         "hoverinfo": "skip",
         "line": {
          "color": "#1f77b4"
         },
         "mode": "lines+markers",
         "name": "Train",
         "showlegend": false,
         "type": "scatter",
         "x": [
          "2021-08-24T00:00:00",
          "2021-08-25T00:00:00"
         ],
         "y": [
          "2",
          "2"
         ]
        },
        {
         "hoverinfo": "skip",
         "line": {
          "color": "#1f77b4"
         },
         "mode": "lines+markers",
         "name": "Train",
         "showlegend": false,
         "type": "scatter",
         "x": [
          "2021-08-25T00:00:00",
          "2021-08-26T00:00:00"
         ],
         "y": [
          "2",
          "2"
         ]
        },
        {
         "hoverinfo": "skip",
         "line": {
          "color": "#1f77b4"
         },
         "mode": "lines+markers",
         "name": "Train",
         "showlegend": false,
         "type": "scatter",
         "x": [
          "2021-08-26T00:00:00",
          "2021-08-27T00:00:00"
         ],
         "y": [
          "2",
          "2"
         ]
        },
        {
         "hoverinfo": "skip",
         "line": {
          "color": "#1f77b4"
         },
         "mode": "lines+markers",
         "name": "Train",
         "showlegend": false,
         "type": "scatter",
         "x": [
          "2021-08-27T00:00:00",
          "2021-08-28T00:00:00"
         ],
         "y": [
          "2",
          "2"
         ]
        },
        {
         "hoverinfo": "skip",
         "line": {
          "color": "#1f77b4"
         },
         "mode": "lines+markers",
         "name": "Train",
         "showlegend": false,
         "type": "scatter",
         "x": [
          "2021-08-28T00:00:00",
          "2021-08-29T00:00:00"
         ],
         "y": [
          "2",
          "2"
         ]
        },
        {
         "hoverinfo": "skip",
         "line": {
          "color": "#1f77b4"
         },
         "mode": "lines+markers",
         "name": "Train",
         "showlegend": false,
         "type": "scatter",
         "x": [
          "2021-08-29T00:00:00",
          "2021-08-30T00:00:00"
         ],
         "y": [
          "2",
          "2"
         ]
        },
        {
         "hoverinfo": "skip",
         "line": {
          "color": "#1f77b4"
         },
         "mode": "lines+markers",
         "name": "Train",
         "showlegend": false,
         "type": "scatter",
         "x": [
          "2021-08-30T00:00:00",
          "2021-08-31T00:00:00"
         ],
         "y": [
          "2",
          "2"
         ]
        },
        {
         "hoverinfo": "skip",
         "line": {
          "color": "#1f77b4"
         },
         "mode": "lines+markers",
         "name": "Train",
         "showlegend": false,
         "type": "scatter",
         "x": [
          "2021-08-31T00:00:00",
          "2021-09-01T00:00:00"
         ],
         "y": [
          "2",
          "2"
         ]
        },
        {
         "hoverinfo": "skip",
         "line": {
          "color": "#1f77b4"
         },
         "mode": "lines+markers",
         "name": "Train",
         "showlegend": false,
         "type": "scatter",
         "x": [
          "2021-09-01T00:00:00",
          "2021-09-02T00:00:00"
         ],
         "y": [
          "2",
          "2"
         ]
        },
        {
         "hoverinfo": "skip",
         "line": {
          "color": "#1f77b4"
         },
         "mode": "lines+markers",
         "name": "Train",
         "showlegend": false,
         "type": "scatter",
         "x": [
          "2021-09-02T00:00:00",
          "2021-09-03T00:00:00"
         ],
         "y": [
          "2",
          "2"
         ]
        },
        {
         "hoverinfo": "skip",
         "line": {
          "color": "#1f77b4"
         },
         "mode": "lines+markers",
         "name": "Train",
         "showlegend": false,
         "type": "scatter",
         "x": [
          "2021-09-03T00:00:00",
          "2021-09-04T00:00:00"
         ],
         "y": [
          "2",
          "2"
         ]
        },
        {
         "hoverinfo": "skip",
         "line": {
          "color": "#1f77b4"
         },
         "mode": "lines+markers",
         "name": "Train",
         "showlegend": false,
         "type": "scatter",
         "x": [
          "2021-09-04T00:00:00",
          "2021-09-05T00:00:00"
         ],
         "y": [
          "2",
          "2"
         ]
        },
        {
         "hoverinfo": "skip",
         "line": {
          "color": "#1f77b4"
         },
         "mode": "lines+markers",
         "name": "Train",
         "showlegend": false,
         "type": "scatter",
         "x": [
          "2021-09-05T00:00:00",
          "2021-09-06T00:00:00"
         ],
         "y": [
          "2",
          "2"
         ]
        },
        {
         "hoverinfo": "skip",
         "line": {
          "color": "#1f77b4"
         },
         "mode": "lines+markers",
         "name": "Train",
         "showlegend": false,
         "type": "scatter",
         "x": [
          "2021-09-06T00:00:00",
          "2021-09-07T00:00:00"
         ],
         "y": [
          "2",
          "2"
         ]
        },
        {
         "hoverinfo": "skip",
         "line": {
          "color": "#1f77b4"
         },
         "mode": "lines+markers",
         "name": "Train",
         "showlegend": false,
         "type": "scatter",
         "x": [
          "2021-09-07T00:00:00",
          "2021-09-08T00:00:00"
         ],
         "y": [
          "2",
          "2"
         ]
        },
        {
         "hoverinfo": "skip",
         "line": {
          "color": "#1f77b4"
         },
         "mode": "lines+markers",
         "name": "Train",
         "showlegend": false,
         "type": "scatter",
         "x": [
          "2021-09-08T00:00:00",
          "2021-09-09T00:00:00"
         ],
         "y": [
          "2",
          "2"
         ]
        },
        {
         "hoverinfo": "skip",
         "line": {
          "color": "#1f77b4"
         },
         "mode": "lines+markers",
         "name": "Train",
         "showlegend": false,
         "type": "scatter",
         "x": [
          "2021-09-09T00:00:00",
          "2021-09-10T00:00:00"
         ],
         "y": [
          "2",
          "2"
         ]
        },
        {
         "hoverinfo": "skip",
         "line": {
          "color": "#1f77b4"
         },
         "mode": "lines+markers",
         "name": "Train",
         "showlegend": false,
         "type": "scatter",
         "x": [
          "2021-09-10T00:00:00",
          "2021-09-11T00:00:00"
         ],
         "y": [
          "2",
          "2"
         ]
        },
        {
         "hoverinfo": "skip",
         "line": {
          "color": "#1f77b4"
         },
         "mode": "lines+markers",
         "name": "Train",
         "showlegend": false,
         "type": "scatter",
         "x": [
          "2021-09-11T00:00:00",
          "2021-09-12T00:00:00"
         ],
         "y": [
          "2",
          "2"
         ]
        },
        {
         "hoverinfo": "skip",
         "line": {
          "color": "#1f77b4"
         },
         "mode": "lines+markers",
         "name": "Train",
         "showlegend": false,
         "type": "scatter",
         "x": [
          "2021-09-12T00:00:00",
          "2021-09-13T00:00:00"
         ],
         "y": [
          "2",
          "2"
         ]
        },
        {
         "hoverinfo": "skip",
         "line": {
          "color": "#1f77b4"
         },
         "mode": "lines+markers",
         "name": "Train",
         "showlegend": false,
         "type": "scatter",
         "x": [
          "2021-09-13T00:00:00",
          "2021-09-14T00:00:00"
         ],
         "y": [
          "2",
          "2"
         ]
        },
        {
         "hoverinfo": "skip",
         "line": {
          "color": "#1f77b4"
         },
         "mode": "lines+markers",
         "name": "Train",
         "showlegend": false,
         "type": "scatter",
         "x": [
          "2021-09-14T00:00:00",
          "2021-09-15T00:00:00"
         ],
         "y": [
          "2",
          "2"
         ]
        },
        {
         "hoverinfo": "skip",
         "line": {
          "color": "#1f77b4"
         },
         "mode": "lines+markers",
         "name": "Train",
         "showlegend": false,
         "type": "scatter",
         "x": [
          "2021-09-15T00:00:00",
          "2021-09-16T00:00:00"
         ],
         "y": [
          "2",
          "2"
         ]
        },
        {
         "hoverinfo": "skip",
         "line": {
          "color": "#1f77b4"
         },
         "mode": "lines+markers",
         "name": "Train",
         "showlegend": false,
         "type": "scatter",
         "x": [
          "2021-09-16T00:00:00",
          "2021-09-17T00:00:00"
         ],
         "y": [
          "2",
          "2"
         ]
        },
        {
         "hoverinfo": "skip",
         "line": {
          "color": "#1f77b4"
         },
         "mode": "lines+markers",
         "name": "Train",
         "showlegend": false,
         "type": "scatter",
         "x": [
          "2021-09-17T00:00:00",
          "2021-09-18T00:00:00"
         ],
         "y": [
          "2",
          "2"
         ]
        },
        {
         "hoverinfo": "skip",
         "line": {
          "color": "#1f77b4"
         },
         "mode": "lines+markers",
         "name": "Train",
         "showlegend": false,
         "type": "scatter",
         "x": [
          "2021-09-18T00:00:00",
          "2021-09-19T00:00:00"
         ],
         "y": [
          "2",
          "2"
         ]
        },
        {
         "hoverinfo": "skip",
         "line": {
          "color": "#1f77b4"
         },
         "mode": "lines+markers",
         "name": "Train",
         "showlegend": false,
         "type": "scatter",
         "x": [
          "2021-09-19T00:00:00",
          "2021-09-20T00:00:00"
         ],
         "y": [
          "2",
          "2"
         ]
        },
        {
         "hoverinfo": "skip",
         "line": {
          "color": "#1f77b4"
         },
         "mode": "lines+markers",
         "name": "Train",
         "showlegend": false,
         "type": "scatter",
         "x": [
          "2021-09-20T00:00:00",
          "2021-09-21T00:00:00"
         ],
         "y": [
          "2",
          "2"
         ]
        },
        {
         "hoverinfo": "skip",
         "line": {
          "color": "#DE970B"
         },
         "mode": "lines+markers",
         "name": "ForecastHorizon",
         "showlegend": false,
         "type": "scatter",
         "x": [
          "2021-09-22T00:00:00",
          "2021-09-23T00:00:00"
         ],
         "y": [
          "2",
          "2"
         ]
        },
        {
         "hoverinfo": "skip",
         "line": {
          "color": "#DE970B"
         },
         "mode": "lines+markers",
         "name": "ForecastHorizon",
         "showlegend": false,
         "type": "scatter",
         "x": [
          "2021-09-23T00:00:00",
          "2021-09-24T00:00:00"
         ],
         "y": [
          "2",
          "2"
         ]
        },
        {
         "hoverinfo": "skip",
         "line": {
          "color": "#DE970B"
         },
         "mode": "lines+markers",
         "name": "ForecastHorizon",
         "showlegend": false,
         "type": "scatter",
         "x": [
          "2021-09-24T00:00:00",
          "2021-09-25T00:00:00"
         ],
         "y": [
          "2",
          "2"
         ]
        },
        {
         "hoverinfo": "skip",
         "line": {
          "color": "#DE970B"
         },
         "mode": "lines+markers",
         "name": "ForecastHorizon",
         "showlegend": false,
         "type": "scatter",
         "x": [
          "2021-09-25T00:00:00",
          "2021-09-26T00:00:00"
         ],
         "y": [
          "2",
          "2"
         ]
        },
        {
         "hoverinfo": "skip",
         "line": {
          "color": "#DE970B"
         },
         "mode": "lines+markers",
         "name": "ForecastHorizon",
         "showlegend": false,
         "type": "scatter",
         "x": [
          "2021-09-26T00:00:00",
          "2021-09-27T00:00:00"
         ],
         "y": [
          "2",
          "2"
         ]
        },
        {
         "hoverinfo": "skip",
         "line": {
          "color": "#DE970B"
         },
         "mode": "lines+markers",
         "name": "ForecastHorizon",
         "showlegend": false,
         "type": "scatter",
         "x": [
          "2021-09-27T00:00:00",
          "2021-09-28T00:00:00"
         ],
         "y": [
          "2",
          "2"
         ]
        },
        {
         "hoverinfo": "skip",
         "line": {
          "color": "#C0C0C0"
         },
         "mode": "lines+markers",
         "name": "Unchanged",
         "showlegend": false,
         "type": "scatter",
         "x": [
          "2021-07-08T00:00:00",
          "2021-07-09T00:00:00"
         ],
         "y": [
          "1",
          "1"
         ]
        },
        {
         "hoverinfo": "skip",
         "line": {
          "color": "#C0C0C0"
         },
         "mode": "lines+markers",
         "name": "Unchanged",
         "showlegend": false,
         "type": "scatter",
         "x": [
          "2021-07-09T00:00:00",
          "2021-07-10T00:00:00"
         ],
         "y": [
          "1",
          "1"
         ]
        },
        {
         "hoverinfo": "skip",
         "line": {
          "color": "#C0C0C0"
         },
         "mode": "lines+markers",
         "name": "Unchanged",
         "showlegend": false,
         "type": "scatter",
         "x": [
          "2021-07-10T00:00:00",
          "2021-07-11T00:00:00"
         ],
         "y": [
          "1",
          "1"
         ]
        },
        {
         "hoverinfo": "skip",
         "line": {
          "color": "#C0C0C0"
         },
         "mode": "lines+markers",
         "name": "Unchanged",
         "showlegend": false,
         "type": "scatter",
         "x": [
          "2021-07-11T00:00:00",
          "2021-07-12T00:00:00"
         ],
         "y": [
          "1",
          "1"
         ]
        },
        {
         "hoverinfo": "skip",
         "line": {
          "color": "#C0C0C0"
         },
         "mode": "lines+markers",
         "name": "Unchanged",
         "showlegend": false,
         "type": "scatter",
         "x": [
          "2021-07-12T00:00:00",
          "2021-07-13T00:00:00"
         ],
         "y": [
          "1",
          "1"
         ]
        },
        {
         "hoverinfo": "skip",
         "line": {
          "color": "#C0C0C0"
         },
         "mode": "lines+markers",
         "name": "Unchanged",
         "showlegend": false,
         "type": "scatter",
         "x": [
          "2021-07-13T00:00:00",
          "2021-07-14T00:00:00"
         ],
         "y": [
          "1",
          "1"
         ]
        },
        {
         "hoverinfo": "skip",
         "line": {
          "color": "#C0C0C0"
         },
         "mode": "lines+markers",
         "name": "Unchanged",
         "showlegend": false,
         "type": "scatter",
         "x": [
          "2021-07-14T00:00:00",
          "2021-07-15T00:00:00"
         ],
         "y": [
          "1",
          "1"
         ]
        },
        {
         "hoverinfo": "skip",
         "line": {
          "color": "#C0C0C0"
         },
         "mode": "lines+markers",
         "name": "Unchanged",
         "showlegend": false,
         "type": "scatter",
         "x": [
          "2021-07-15T00:00:00",
          "2021-07-16T00:00:00"
         ],
         "y": [
          "1",
          "1"
         ]
        },
        {
         "hoverinfo": "skip",
         "line": {
          "color": "#C0C0C0"
         },
         "mode": "lines+markers",
         "name": "Unchanged",
         "showlegend": false,
         "type": "scatter",
         "x": [
          "2021-07-16T00:00:00",
          "2021-07-17T00:00:00"
         ],
         "y": [
          "1",
          "1"
         ]
        },
        {
         "hoverinfo": "skip",
         "line": {
          "color": "#C0C0C0"
         },
         "mode": "lines+markers",
         "name": "Unchanged",
         "showlegend": false,
         "type": "scatter",
         "x": [
          "2021-07-17T00:00:00",
          "2021-07-18T00:00:00"
         ],
         "y": [
          "1",
          "1"
         ]
        },
        {
         "hoverinfo": "skip",
         "line": {
          "color": "#C0C0C0"
         },
         "mode": "lines+markers",
         "name": "Unchanged",
         "showlegend": false,
         "type": "scatter",
         "x": [
          "2021-07-18T00:00:00",
          "2021-07-19T00:00:00"
         ],
         "y": [
          "1",
          "1"
         ]
        },
        {
         "hoverinfo": "skip",
         "line": {
          "color": "#C0C0C0"
         },
         "mode": "lines+markers",
         "name": "Unchanged",
         "showlegend": false,
         "type": "scatter",
         "x": [
          "2021-07-19T00:00:00",
          "2021-07-20T00:00:00"
         ],
         "y": [
          "1",
          "1"
         ]
        },
        {
         "hoverinfo": "skip",
         "line": {
          "color": "#C0C0C0"
         },
         "mode": "lines+markers",
         "name": "Unchanged",
         "showlegend": false,
         "type": "scatter",
         "x": [
          "2021-07-20T00:00:00",
          "2021-07-21T00:00:00"
         ],
         "y": [
          "1",
          "1"
         ]
        },
        {
         "hoverinfo": "skip",
         "line": {
          "color": "#C0C0C0"
         },
         "mode": "lines+markers",
         "name": "Unchanged",
         "showlegend": false,
         "type": "scatter",
         "x": [
          "2021-07-21T00:00:00",
          "2021-07-22T00:00:00"
         ],
         "y": [
          "1",
          "1"
         ]
        },
        {
         "hoverinfo": "skip",
         "line": {
          "color": "#C0C0C0"
         },
         "mode": "lines+markers",
         "name": "Unchanged",
         "showlegend": false,
         "type": "scatter",
         "x": [
          "2021-07-22T00:00:00",
          "2021-07-23T00:00:00"
         ],
         "y": [
          "1",
          "1"
         ]
        },
        {
         "hoverinfo": "skip",
         "line": {
          "color": "#C0C0C0"
         },
         "mode": "lines+markers",
         "name": "Unchanged",
         "showlegend": false,
         "type": "scatter",
         "x": [
          "2021-07-23T00:00:00",
          "2021-07-24T00:00:00"
         ],
         "y": [
          "1",
          "1"
         ]
        },
        {
         "hoverinfo": "skip",
         "line": {
          "color": "#C0C0C0"
         },
         "mode": "lines+markers",
         "name": "Unchanged",
         "showlegend": false,
         "type": "scatter",
         "x": [
          "2021-07-24T00:00:00",
          "2021-07-25T00:00:00"
         ],
         "y": [
          "1",
          "1"
         ]
        },
        {
         "hoverinfo": "skip",
         "line": {
          "color": "#C0C0C0"
         },
         "mode": "lines+markers",
         "name": "Unchanged",
         "showlegend": false,
         "type": "scatter",
         "x": [
          "2021-07-25T00:00:00",
          "2021-07-26T00:00:00"
         ],
         "y": [
          "1",
          "1"
         ]
        },
        {
         "hoverinfo": "skip",
         "line": {
          "color": "#C0C0C0"
         },
         "mode": "lines+markers",
         "name": "Unchanged",
         "showlegend": false,
         "type": "scatter",
         "x": [
          "2021-07-26T00:00:00",
          "2021-07-27T00:00:00"
         ],
         "y": [
          "1",
          "1"
         ]
        },
        {
         "hoverinfo": "skip",
         "line": {
          "color": "#C0C0C0"
         },
         "mode": "lines+markers",
         "name": "Unchanged",
         "showlegend": false,
         "type": "scatter",
         "x": [
          "2021-07-27T00:00:00",
          "2021-07-28T00:00:00"
         ],
         "y": [
          "1",
          "1"
         ]
        },
        {
         "hoverinfo": "skip",
         "line": {
          "color": "#C0C0C0"
         },
         "mode": "lines+markers",
         "name": "Unchanged",
         "showlegend": false,
         "type": "scatter",
         "x": [
          "2021-07-28T00:00:00",
          "2021-07-29T00:00:00"
         ],
         "y": [
          "1",
          "1"
         ]
        },
        {
         "hoverinfo": "skip",
         "line": {
          "color": "#C0C0C0"
         },
         "mode": "lines+markers",
         "name": "Unchanged",
         "showlegend": false,
         "type": "scatter",
         "x": [
          "2021-07-29T00:00:00",
          "2021-07-30T00:00:00"
         ],
         "y": [
          "1",
          "1"
         ]
        },
        {
         "hoverinfo": "skip",
         "line": {
          "color": "#C0C0C0"
         },
         "mode": "lines+markers",
         "name": "Unchanged",
         "showlegend": false,
         "type": "scatter",
         "x": [
          "2021-07-30T00:00:00",
          "2021-07-31T00:00:00"
         ],
         "y": [
          "1",
          "1"
         ]
        },
        {
         "hoverinfo": "skip",
         "line": {
          "color": "#C0C0C0"
         },
         "mode": "lines+markers",
         "name": "Unchanged",
         "showlegend": false,
         "type": "scatter",
         "x": [
          "2021-07-31T00:00:00",
          "2021-08-01T00:00:00"
         ],
         "y": [
          "1",
          "1"
         ]
        },
        {
         "hoverinfo": "skip",
         "line": {
          "color": "#C0C0C0"
         },
         "mode": "lines+markers",
         "name": "Unchanged",
         "showlegend": false,
         "type": "scatter",
         "x": [
          "2021-08-01T00:00:00",
          "2021-08-02T00:00:00"
         ],
         "y": [
          "1",
          "1"
         ]
        },
        {
         "hoverinfo": "skip",
         "line": {
          "color": "#C0C0C0"
         },
         "mode": "lines+markers",
         "name": "Unchanged",
         "showlegend": false,
         "type": "scatter",
         "x": [
          "2021-08-02T00:00:00",
          "2021-08-03T00:00:00"
         ],
         "y": [
          "1",
          "1"
         ]
        },
        {
         "hoverinfo": "skip",
         "line": {
          "color": "#C0C0C0"
         },
         "mode": "lines+markers",
         "name": "Unchanged",
         "showlegend": false,
         "type": "scatter",
         "x": [
          "2021-08-03T00:00:00",
          "2021-08-04T00:00:00"
         ],
         "y": [
          "1",
          "1"
         ]
        },
        {
         "hoverinfo": "skip",
         "line": {
          "color": "#C0C0C0"
         },
         "mode": "lines+markers",
         "name": "Unchanged",
         "showlegend": false,
         "type": "scatter",
         "x": [
          "2021-08-04T00:00:00",
          "2021-08-05T00:00:00"
         ],
         "y": [
          "1",
          "1"
         ]
        },
        {
         "hoverinfo": "skip",
         "line": {
          "color": "#C0C0C0"
         },
         "mode": "lines+markers",
         "name": "Unchanged",
         "showlegend": false,
         "type": "scatter",
         "x": [
          "2021-08-05T00:00:00",
          "2021-08-06T00:00:00"
         ],
         "y": [
          "1",
          "1"
         ]
        },
        {
         "hoverinfo": "skip",
         "line": {
          "color": "#C0C0C0"
         },
         "mode": "lines+markers",
         "name": "Unchanged",
         "showlegend": false,
         "type": "scatter",
         "x": [
          "2021-08-06T00:00:00",
          "2021-08-07T00:00:00"
         ],
         "y": [
          "1",
          "1"
         ]
        },
        {
         "hoverinfo": "skip",
         "line": {
          "color": "#C0C0C0"
         },
         "mode": "lines+markers",
         "name": "Unchanged",
         "showlegend": false,
         "type": "scatter",
         "x": [
          "2021-08-07T00:00:00",
          "2021-08-08T00:00:00"
         ],
         "y": [
          "1",
          "1"
         ]
        },
        {
         "hoverinfo": "skip",
         "line": {
          "color": "#C0C0C0"
         },
         "mode": "lines+markers",
         "name": "Unchanged",
         "showlegend": false,
         "type": "scatter",
         "x": [
          "2021-08-08T00:00:00",
          "2021-08-09T00:00:00"
         ],
         "y": [
          "1",
          "1"
         ]
        },
        {
         "hoverinfo": "skip",
         "line": {
          "color": "#C0C0C0"
         },
         "mode": "lines+markers",
         "name": "Unchanged",
         "showlegend": false,
         "type": "scatter",
         "x": [
          "2021-08-09T00:00:00",
          "2021-08-10T00:00:00"
         ],
         "y": [
          "1",
          "1"
         ]
        },
        {
         "hoverinfo": "skip",
         "line": {
          "color": "#C0C0C0"
         },
         "mode": "lines+markers",
         "name": "Unchanged",
         "showlegend": false,
         "type": "scatter",
         "x": [
          "2021-08-10T00:00:00",
          "2021-08-11T00:00:00"
         ],
         "y": [
          "1",
          "1"
         ]
        },
        {
         "hoverinfo": "skip",
         "line": {
          "color": "#C0C0C0"
         },
         "mode": "lines+markers",
         "name": "Unchanged",
         "showlegend": false,
         "type": "scatter",
         "x": [
          "2021-08-11T00:00:00",
          "2021-08-12T00:00:00"
         ],
         "y": [
          "1",
          "1"
         ]
        },
        {
         "hoverinfo": "skip",
         "line": {
          "color": "#C0C0C0"
         },
         "mode": "lines+markers",
         "name": "Unchanged",
         "showlegend": false,
         "type": "scatter",
         "x": [
          "2021-08-12T00:00:00",
          "2021-08-13T00:00:00"
         ],
         "y": [
          "1",
          "1"
         ]
        },
        {
         "hoverinfo": "skip",
         "line": {
          "color": "#C0C0C0"
         },
         "mode": "lines+markers",
         "name": "Unchanged",
         "showlegend": false,
         "type": "scatter",
         "x": [
          "2021-08-13T00:00:00",
          "2021-08-14T00:00:00"
         ],
         "y": [
          "1",
          "1"
         ]
        },
        {
         "hoverinfo": "skip",
         "line": {
          "color": "#C0C0C0"
         },
         "mode": "lines+markers",
         "name": "Unchanged",
         "showlegend": false,
         "type": "scatter",
         "x": [
          "2021-08-14T00:00:00",
          "2021-08-15T00:00:00"
         ],
         "y": [
          "1",
          "1"
         ]
        },
        {
         "hoverinfo": "skip",
         "line": {
          "color": "#C0C0C0"
         },
         "mode": "lines+markers",
         "name": "Unchanged",
         "showlegend": false,
         "type": "scatter",
         "x": [
          "2021-08-15T00:00:00",
          "2021-08-16T00:00:00"
         ],
         "y": [
          "1",
          "1"
         ]
        },
        {
         "hoverinfo": "skip",
         "line": {
          "color": "#C0C0C0"
         },
         "mode": "lines+markers",
         "name": "Unchanged",
         "showlegend": false,
         "type": "scatter",
         "x": [
          "2021-08-16T00:00:00",
          "2021-08-17T00:00:00"
         ],
         "y": [
          "1",
          "1"
         ]
        },
        {
         "hoverinfo": "skip",
         "line": {
          "color": "#C0C0C0"
         },
         "mode": "lines+markers",
         "name": "Unchanged",
         "showlegend": false,
         "type": "scatter",
         "x": [
          "2021-08-17T00:00:00",
          "2021-08-18T00:00:00"
         ],
         "y": [
          "1",
          "1"
         ]
        },
        {
         "hoverinfo": "skip",
         "line": {
          "color": "#C0C0C0"
         },
         "mode": "lines+markers",
         "name": "Unchanged",
         "showlegend": false,
         "type": "scatter",
         "x": [
          "2021-08-18T00:00:00",
          "2021-08-19T00:00:00"
         ],
         "y": [
          "1",
          "1"
         ]
        },
        {
         "hoverinfo": "skip",
         "line": {
          "color": "#C0C0C0"
         },
         "mode": "lines+markers",
         "name": "Unchanged",
         "showlegend": false,
         "type": "scatter",
         "x": [
          "2021-08-19T00:00:00",
          "2021-08-20T00:00:00"
         ],
         "y": [
          "1",
          "1"
         ]
        },
        {
         "hoverinfo": "skip",
         "line": {
          "color": "#C0C0C0"
         },
         "mode": "lines+markers",
         "name": "Unchanged",
         "showlegend": false,
         "type": "scatter",
         "x": [
          "2021-08-20T00:00:00",
          "2021-08-21T00:00:00"
         ],
         "y": [
          "1",
          "1"
         ]
        },
        {
         "hoverinfo": "skip",
         "line": {
          "color": "#C0C0C0"
         },
         "mode": "lines+markers",
         "name": "Unchanged",
         "showlegend": false,
         "type": "scatter",
         "x": [
          "2021-08-21T00:00:00",
          "2021-08-22T00:00:00"
         ],
         "y": [
          "1",
          "1"
         ]
        },
        {
         "hoverinfo": "skip",
         "line": {
          "color": "#C0C0C0"
         },
         "mode": "lines+markers",
         "name": "Unchanged",
         "showlegend": false,
         "type": "scatter",
         "x": [
          "2021-08-22T00:00:00",
          "2021-08-23T00:00:00"
         ],
         "y": [
          "1",
          "1"
         ]
        },
        {
         "hoverinfo": "skip",
         "line": {
          "color": "#C0C0C0"
         },
         "mode": "lines+markers",
         "name": "Unchanged",
         "showlegend": false,
         "type": "scatter",
         "x": [
          "2021-08-23T00:00:00",
          "2021-08-24T00:00:00"
         ],
         "y": [
          "1",
          "1"
         ]
        },
        {
         "hoverinfo": "skip",
         "line": {
          "color": "#C0C0C0"
         },
         "mode": "lines+markers",
         "name": "Unchanged",
         "showlegend": false,
         "type": "scatter",
         "x": [
          "2021-08-24T00:00:00",
          "2021-08-25T00:00:00"
         ],
         "y": [
          "1",
          "1"
         ]
        },
        {
         "hoverinfo": "skip",
         "line": {
          "color": "#C0C0C0"
         },
         "mode": "lines+markers",
         "name": "Unchanged",
         "showlegend": false,
         "type": "scatter",
         "x": [
          "2021-08-25T00:00:00",
          "2021-08-26T00:00:00"
         ],
         "y": [
          "1",
          "1"
         ]
        },
        {
         "hoverinfo": "skip",
         "line": {
          "color": "#C0C0C0"
         },
         "mode": "lines+markers",
         "name": "Unchanged",
         "showlegend": false,
         "type": "scatter",
         "x": [
          "2021-08-26T00:00:00",
          "2021-08-27T00:00:00"
         ],
         "y": [
          "1",
          "1"
         ]
        },
        {
         "hoverinfo": "skip",
         "line": {
          "color": "#C0C0C0"
         },
         "mode": "lines+markers",
         "name": "Unchanged",
         "showlegend": false,
         "type": "scatter",
         "x": [
          "2021-08-27T00:00:00",
          "2021-08-28T00:00:00"
         ],
         "y": [
          "1",
          "1"
         ]
        },
        {
         "hoverinfo": "skip",
         "line": {
          "color": "#C0C0C0"
         },
         "mode": "lines+markers",
         "name": "Unchanged",
         "showlegend": false,
         "type": "scatter",
         "x": [
          "2021-08-28T00:00:00",
          "2021-08-29T00:00:00"
         ],
         "y": [
          "1",
          "1"
         ]
        },
        {
         "hoverinfo": "skip",
         "line": {
          "color": "#C0C0C0"
         },
         "mode": "lines+markers",
         "name": "Unchanged",
         "showlegend": false,
         "type": "scatter",
         "x": [
          "2021-08-29T00:00:00",
          "2021-08-30T00:00:00"
         ],
         "y": [
          "1",
          "1"
         ]
        },
        {
         "hoverinfo": "skip",
         "line": {
          "color": "#C0C0C0"
         },
         "mode": "lines+markers",
         "name": "Unchanged",
         "showlegend": false,
         "type": "scatter",
         "x": [
          "2021-08-30T00:00:00",
          "2021-08-31T00:00:00"
         ],
         "y": [
          "1",
          "1"
         ]
        },
        {
         "hoverinfo": "skip",
         "line": {
          "color": "#C0C0C0"
         },
         "mode": "lines+markers",
         "name": "Unchanged",
         "showlegend": false,
         "type": "scatter",
         "x": [
          "2021-08-31T00:00:00",
          "2021-09-01T00:00:00"
         ],
         "y": [
          "1",
          "1"
         ]
        },
        {
         "hoverinfo": "skip",
         "line": {
          "color": "#C0C0C0"
         },
         "mode": "lines+markers",
         "name": "Unchanged",
         "showlegend": false,
         "type": "scatter",
         "x": [
          "2021-09-01T00:00:00",
          "2021-09-02T00:00:00"
         ],
         "y": [
          "1",
          "1"
         ]
        },
        {
         "hoverinfo": "skip",
         "line": {
          "color": "#C0C0C0"
         },
         "mode": "lines+markers",
         "name": "Unchanged",
         "showlegend": false,
         "type": "scatter",
         "x": [
          "2021-09-02T00:00:00",
          "2021-09-03T00:00:00"
         ],
         "y": [
          "1",
          "1"
         ]
        },
        {
         "hoverinfo": "skip",
         "line": {
          "color": "#C0C0C0"
         },
         "mode": "lines+markers",
         "name": "Unchanged",
         "showlegend": false,
         "type": "scatter",
         "x": [
          "2021-09-03T00:00:00",
          "2021-09-04T00:00:00"
         ],
         "y": [
          "1",
          "1"
         ]
        },
        {
         "hoverinfo": "skip",
         "line": {
          "color": "#C0C0C0"
         },
         "mode": "lines+markers",
         "name": "Unchanged",
         "showlegend": false,
         "type": "scatter",
         "x": [
          "2021-09-04T00:00:00",
          "2021-09-05T00:00:00"
         ],
         "y": [
          "1",
          "1"
         ]
        },
        {
         "hoverinfo": "skip",
         "line": {
          "color": "#C0C0C0"
         },
         "mode": "lines+markers",
         "name": "Unchanged",
         "showlegend": false,
         "type": "scatter",
         "x": [
          "2021-09-05T00:00:00",
          "2021-09-06T00:00:00"
         ],
         "y": [
          "1",
          "1"
         ]
        },
        {
         "hoverinfo": "skip",
         "line": {
          "color": "#C0C0C0"
         },
         "mode": "lines+markers",
         "name": "Unchanged",
         "showlegend": false,
         "type": "scatter",
         "x": [
          "2021-09-06T00:00:00",
          "2021-09-07T00:00:00"
         ],
         "y": [
          "1",
          "1"
         ]
        },
        {
         "hoverinfo": "skip",
         "line": {
          "color": "#C0C0C0"
         },
         "mode": "lines+markers",
         "name": "Unchanged",
         "showlegend": false,
         "type": "scatter",
         "x": [
          "2021-09-07T00:00:00",
          "2021-09-08T00:00:00"
         ],
         "y": [
          "1",
          "1"
         ]
        },
        {
         "hoverinfo": "skip",
         "line": {
          "color": "#C0C0C0"
         },
         "mode": "lines+markers",
         "name": "Unchanged",
         "showlegend": false,
         "type": "scatter",
         "x": [
          "2021-09-08T00:00:00",
          "2021-09-09T00:00:00"
         ],
         "y": [
          "1",
          "1"
         ]
        },
        {
         "hoverinfo": "skip",
         "line": {
          "color": "#C0C0C0"
         },
         "mode": "lines+markers",
         "name": "Unchanged",
         "showlegend": false,
         "type": "scatter",
         "x": [
          "2021-09-09T00:00:00",
          "2021-09-10T00:00:00"
         ],
         "y": [
          "1",
          "1"
         ]
        },
        {
         "hoverinfo": "skip",
         "line": {
          "color": "#C0C0C0"
         },
         "mode": "lines+markers",
         "name": "Unchanged",
         "showlegend": false,
         "type": "scatter",
         "x": [
          "2021-09-10T00:00:00",
          "2021-09-11T00:00:00"
         ],
         "y": [
          "1",
          "1"
         ]
        },
        {
         "hoverinfo": "skip",
         "line": {
          "color": "#C0C0C0"
         },
         "mode": "lines+markers",
         "name": "Unchanged",
         "showlegend": false,
         "type": "scatter",
         "x": [
          "2021-09-11T00:00:00",
          "2021-09-12T00:00:00"
         ],
         "y": [
          "1",
          "1"
         ]
        },
        {
         "hoverinfo": "skip",
         "line": {
          "color": "#C0C0C0"
         },
         "mode": "lines+markers",
         "name": "Unchanged",
         "showlegend": false,
         "type": "scatter",
         "x": [
          "2021-09-12T00:00:00",
          "2021-09-13T00:00:00"
         ],
         "y": [
          "1",
          "1"
         ]
        },
        {
         "hoverinfo": "skip",
         "line": {
          "color": "#C0C0C0"
         },
         "mode": "lines+markers",
         "name": "Unchanged",
         "showlegend": false,
         "type": "scatter",
         "x": [
          "2021-09-13T00:00:00",
          "2021-09-14T00:00:00"
         ],
         "y": [
          "1",
          "1"
         ]
        },
        {
         "hoverinfo": "skip",
         "line": {
          "color": "#C0C0C0"
         },
         "mode": "lines+markers",
         "name": "Unchanged",
         "showlegend": false,
         "type": "scatter",
         "x": [
          "2021-09-14T00:00:00",
          "2021-09-15T00:00:00"
         ],
         "y": [
          "1",
          "1"
         ]
        },
        {
         "hoverinfo": "skip",
         "line": {
          "color": "#C0C0C0"
         },
         "mode": "lines+markers",
         "name": "Unchanged",
         "showlegend": false,
         "type": "scatter",
         "x": [
          "2021-09-15T00:00:00",
          "2021-09-16T00:00:00"
         ],
         "y": [
          "1",
          "1"
         ]
        },
        {
         "hoverinfo": "skip",
         "line": {
          "color": "#C0C0C0"
         },
         "mode": "lines+markers",
         "name": "Unchanged",
         "showlegend": false,
         "type": "scatter",
         "x": [
          "2021-09-16T00:00:00",
          "2021-09-17T00:00:00"
         ],
         "y": [
          "1",
          "1"
         ]
        },
        {
         "hoverinfo": "skip",
         "line": {
          "color": "#C0C0C0"
         },
         "mode": "lines+markers",
         "name": "Unchanged",
         "showlegend": false,
         "type": "scatter",
         "x": [
          "2021-09-17T00:00:00",
          "2021-09-18T00:00:00"
         ],
         "y": [
          "1",
          "1"
         ]
        },
        {
         "hoverinfo": "skip",
         "line": {
          "color": "#C0C0C0"
         },
         "mode": "lines+markers",
         "name": "Unchanged",
         "showlegend": false,
         "type": "scatter",
         "x": [
          "2021-09-18T00:00:00",
          "2021-09-19T00:00:00"
         ],
         "y": [
          "1",
          "1"
         ]
        },
        {
         "hoverinfo": "skip",
         "line": {
          "color": "#C0C0C0"
         },
         "mode": "lines+markers",
         "name": "Unchanged",
         "showlegend": false,
         "type": "scatter",
         "x": [
          "2021-09-19T00:00:00",
          "2021-09-20T00:00:00"
         ],
         "y": [
          "1",
          "1"
         ]
        },
        {
         "hoverinfo": "skip",
         "line": {
          "color": "#C0C0C0"
         },
         "mode": "lines+markers",
         "name": "Unchanged",
         "showlegend": false,
         "type": "scatter",
         "x": [
          "2021-09-20T00:00:00",
          "2021-09-21T00:00:00"
         ],
         "y": [
          "1",
          "1"
         ]
        },
        {
         "hoverinfo": "skip",
         "line": {
          "color": "#C0C0C0"
         },
         "mode": "lines+markers",
         "name": "Unchanged",
         "showlegend": false,
         "type": "scatter",
         "x": [
          "2021-09-21T00:00:00",
          "2021-09-22T00:00:00"
         ],
         "y": [
          "1",
          "1"
         ]
        },
        {
         "hoverinfo": "skip",
         "line": {
          "color": "#C0C0C0"
         },
         "mode": "lines+markers",
         "name": "Unchanged",
         "showlegend": false,
         "type": "scatter",
         "x": [
          "2021-09-22T00:00:00",
          "2021-09-23T00:00:00"
         ],
         "y": [
          "1",
          "1"
         ]
        },
        {
         "hoverinfo": "skip",
         "line": {
          "color": "#C0C0C0"
         },
         "mode": "lines+markers",
         "name": "Unchanged",
         "showlegend": false,
         "type": "scatter",
         "x": [
          "2021-09-23T00:00:00",
          "2021-09-24T00:00:00"
         ],
         "y": [
          "1",
          "1"
         ]
        },
        {
         "hoverinfo": "skip",
         "line": {
          "color": "#C0C0C0"
         },
         "mode": "lines+markers",
         "name": "Unchanged",
         "showlegend": false,
         "type": "scatter",
         "x": [
          "2021-09-24T00:00:00",
          "2021-09-25T00:00:00"
         ],
         "y": [
          "1",
          "1"
         ]
        },
        {
         "hoverinfo": "skip",
         "line": {
          "color": "#C0C0C0"
         },
         "mode": "lines+markers",
         "name": "Unchanged",
         "showlegend": false,
         "type": "scatter",
         "x": [
          "2021-09-25T00:00:00",
          "2021-09-26T00:00:00"
         ],
         "y": [
          "1",
          "1"
         ]
        },
        {
         "hoverinfo": "skip",
         "line": {
          "color": "#C0C0C0"
         },
         "mode": "lines+markers",
         "name": "Unchanged",
         "showlegend": false,
         "type": "scatter",
         "x": [
          "2021-09-26T00:00:00",
          "2021-09-27T00:00:00"
         ],
         "y": [
          "1",
          "1"
         ]
        },
        {
         "hoverinfo": "skip",
         "line": {
          "color": "#C0C0C0"
         },
         "mode": "lines+markers",
         "name": "Unchanged",
         "showlegend": false,
         "type": "scatter",
         "x": [
          "2021-09-27T00:00:00",
          "2021-09-28T00:00:00"
         ],
         "y": [
          "1",
          "1"
         ]
        },
        {
         "hoverinfo": "skip",
         "line": {
          "color": "#1f77b4"
         },
         "mode": "lines+markers",
         "name": "Train",
         "showlegend": false,
         "type": "scatter",
         "x": [
          "2021-07-08T00:00:00",
          "2021-07-09T00:00:00"
         ],
         "y": [
          "1",
          "1"
         ]
        },
        {
         "hoverinfo": "skip",
         "line": {
          "color": "#1f77b4"
         },
         "mode": "lines+markers",
         "name": "Train",
         "showlegend": false,
         "type": "scatter",
         "x": [
          "2021-07-09T00:00:00",
          "2021-07-10T00:00:00"
         ],
         "y": [
          "1",
          "1"
         ]
        },
        {
         "hoverinfo": "skip",
         "line": {
          "color": "#1f77b4"
         },
         "mode": "lines+markers",
         "name": "Train",
         "showlegend": false,
         "type": "scatter",
         "x": [
          "2021-07-10T00:00:00",
          "2021-07-11T00:00:00"
         ],
         "y": [
          "1",
          "1"
         ]
        },
        {
         "hoverinfo": "skip",
         "line": {
          "color": "#1f77b4"
         },
         "mode": "lines+markers",
         "name": "Train",
         "showlegend": false,
         "type": "scatter",
         "x": [
          "2021-07-11T00:00:00",
          "2021-07-12T00:00:00"
         ],
         "y": [
          "1",
          "1"
         ]
        },
        {
         "hoverinfo": "skip",
         "line": {
          "color": "#1f77b4"
         },
         "mode": "lines+markers",
         "name": "Train",
         "showlegend": false,
         "type": "scatter",
         "x": [
          "2021-07-12T00:00:00",
          "2021-07-13T00:00:00"
         ],
         "y": [
          "1",
          "1"
         ]
        },
        {
         "hoverinfo": "skip",
         "line": {
          "color": "#1f77b4"
         },
         "mode": "lines+markers",
         "name": "Train",
         "showlegend": false,
         "type": "scatter",
         "x": [
          "2021-07-13T00:00:00",
          "2021-07-14T00:00:00"
         ],
         "y": [
          "1",
          "1"
         ]
        },
        {
         "hoverinfo": "skip",
         "line": {
          "color": "#1f77b4"
         },
         "mode": "lines+markers",
         "name": "Train",
         "showlegend": false,
         "type": "scatter",
         "x": [
          "2021-07-14T00:00:00",
          "2021-07-15T00:00:00"
         ],
         "y": [
          "1",
          "1"
         ]
        },
        {
         "hoverinfo": "skip",
         "line": {
          "color": "#1f77b4"
         },
         "mode": "lines+markers",
         "name": "Train",
         "showlegend": false,
         "type": "scatter",
         "x": [
          "2021-07-15T00:00:00",
          "2021-07-16T00:00:00"
         ],
         "y": [
          "1",
          "1"
         ]
        },
        {
         "hoverinfo": "skip",
         "line": {
          "color": "#1f77b4"
         },
         "mode": "lines+markers",
         "name": "Train",
         "showlegend": false,
         "type": "scatter",
         "x": [
          "2021-07-16T00:00:00",
          "2021-07-17T00:00:00"
         ],
         "y": [
          "1",
          "1"
         ]
        },
        {
         "hoverinfo": "skip",
         "line": {
          "color": "#1f77b4"
         },
         "mode": "lines+markers",
         "name": "Train",
         "showlegend": false,
         "type": "scatter",
         "x": [
          "2021-07-17T00:00:00",
          "2021-07-18T00:00:00"
         ],
         "y": [
          "1",
          "1"
         ]
        },
        {
         "hoverinfo": "skip",
         "line": {
          "color": "#1f77b4"
         },
         "mode": "lines+markers",
         "name": "Train",
         "showlegend": false,
         "type": "scatter",
         "x": [
          "2021-07-18T00:00:00",
          "2021-07-19T00:00:00"
         ],
         "y": [
          "1",
          "1"
         ]
        },
        {
         "hoverinfo": "skip",
         "line": {
          "color": "#1f77b4"
         },
         "mode": "lines+markers",
         "name": "Train",
         "showlegend": false,
         "type": "scatter",
         "x": [
          "2021-07-19T00:00:00",
          "2021-07-20T00:00:00"
         ],
         "y": [
          "1",
          "1"
         ]
        },
        {
         "hoverinfo": "skip",
         "line": {
          "color": "#1f77b4"
         },
         "mode": "lines+markers",
         "name": "Train",
         "showlegend": false,
         "type": "scatter",
         "x": [
          "2021-07-20T00:00:00",
          "2021-07-21T00:00:00"
         ],
         "y": [
          "1",
          "1"
         ]
        },
        {
         "hoverinfo": "skip",
         "line": {
          "color": "#1f77b4"
         },
         "mode": "lines+markers",
         "name": "Train",
         "showlegend": false,
         "type": "scatter",
         "x": [
          "2021-07-21T00:00:00",
          "2021-07-22T00:00:00"
         ],
         "y": [
          "1",
          "1"
         ]
        },
        {
         "hoverinfo": "skip",
         "line": {
          "color": "#1f77b4"
         },
         "mode": "lines+markers",
         "name": "Train",
         "showlegend": false,
         "type": "scatter",
         "x": [
          "2021-07-22T00:00:00",
          "2021-07-23T00:00:00"
         ],
         "y": [
          "1",
          "1"
         ]
        },
        {
         "hoverinfo": "skip",
         "line": {
          "color": "#1f77b4"
         },
         "mode": "lines+markers",
         "name": "Train",
         "showlegend": false,
         "type": "scatter",
         "x": [
          "2021-07-23T00:00:00",
          "2021-07-24T00:00:00"
         ],
         "y": [
          "1",
          "1"
         ]
        },
        {
         "hoverinfo": "skip",
         "line": {
          "color": "#1f77b4"
         },
         "mode": "lines+markers",
         "name": "Train",
         "showlegend": false,
         "type": "scatter",
         "x": [
          "2021-07-24T00:00:00",
          "2021-07-25T00:00:00"
         ],
         "y": [
          "1",
          "1"
         ]
        },
        {
         "hoverinfo": "skip",
         "line": {
          "color": "#1f77b4"
         },
         "mode": "lines+markers",
         "name": "Train",
         "showlegend": false,
         "type": "scatter",
         "x": [
          "2021-07-25T00:00:00",
          "2021-07-26T00:00:00"
         ],
         "y": [
          "1",
          "1"
         ]
        },
        {
         "hoverinfo": "skip",
         "line": {
          "color": "#1f77b4"
         },
         "mode": "lines+markers",
         "name": "Train",
         "showlegend": false,
         "type": "scatter",
         "x": [
          "2021-07-26T00:00:00",
          "2021-07-27T00:00:00"
         ],
         "y": [
          "1",
          "1"
         ]
        },
        {
         "hoverinfo": "skip",
         "line": {
          "color": "#1f77b4"
         },
         "mode": "lines+markers",
         "name": "Train",
         "showlegend": false,
         "type": "scatter",
         "x": [
          "2021-07-27T00:00:00",
          "2021-07-28T00:00:00"
         ],
         "y": [
          "1",
          "1"
         ]
        },
        {
         "hoverinfo": "skip",
         "line": {
          "color": "#1f77b4"
         },
         "mode": "lines+markers",
         "name": "Train",
         "showlegend": false,
         "type": "scatter",
         "x": [
          "2021-07-28T00:00:00",
          "2021-07-29T00:00:00"
         ],
         "y": [
          "1",
          "1"
         ]
        },
        {
         "hoverinfo": "skip",
         "line": {
          "color": "#1f77b4"
         },
         "mode": "lines+markers",
         "name": "Train",
         "showlegend": false,
         "type": "scatter",
         "x": [
          "2021-07-29T00:00:00",
          "2021-07-30T00:00:00"
         ],
         "y": [
          "1",
          "1"
         ]
        },
        {
         "hoverinfo": "skip",
         "line": {
          "color": "#1f77b4"
         },
         "mode": "lines+markers",
         "name": "Train",
         "showlegend": false,
         "type": "scatter",
         "x": [
          "2021-07-30T00:00:00",
          "2021-07-31T00:00:00"
         ],
         "y": [
          "1",
          "1"
         ]
        },
        {
         "hoverinfo": "skip",
         "line": {
          "color": "#1f77b4"
         },
         "mode": "lines+markers",
         "name": "Train",
         "showlegend": false,
         "type": "scatter",
         "x": [
          "2021-07-31T00:00:00",
          "2021-08-01T00:00:00"
         ],
         "y": [
          "1",
          "1"
         ]
        },
        {
         "hoverinfo": "skip",
         "line": {
          "color": "#1f77b4"
         },
         "mode": "lines+markers",
         "name": "Train",
         "showlegend": false,
         "type": "scatter",
         "x": [
          "2021-08-01T00:00:00",
          "2021-08-02T00:00:00"
         ],
         "y": [
          "1",
          "1"
         ]
        },
        {
         "hoverinfo": "skip",
         "line": {
          "color": "#1f77b4"
         },
         "mode": "lines+markers",
         "name": "Train",
         "showlegend": false,
         "type": "scatter",
         "x": [
          "2021-08-02T00:00:00",
          "2021-08-03T00:00:00"
         ],
         "y": [
          "1",
          "1"
         ]
        },
        {
         "hoverinfo": "skip",
         "line": {
          "color": "#1f77b4"
         },
         "mode": "lines+markers",
         "name": "Train",
         "showlegend": false,
         "type": "scatter",
         "x": [
          "2021-08-03T00:00:00",
          "2021-08-04T00:00:00"
         ],
         "y": [
          "1",
          "1"
         ]
        },
        {
         "hoverinfo": "skip",
         "line": {
          "color": "#1f77b4"
         },
         "mode": "lines+markers",
         "name": "Train",
         "showlegend": false,
         "type": "scatter",
         "x": [
          "2021-08-04T00:00:00",
          "2021-08-05T00:00:00"
         ],
         "y": [
          "1",
          "1"
         ]
        },
        {
         "hoverinfo": "skip",
         "line": {
          "color": "#1f77b4"
         },
         "mode": "lines+markers",
         "name": "Train",
         "showlegend": false,
         "type": "scatter",
         "x": [
          "2021-08-05T00:00:00",
          "2021-08-06T00:00:00"
         ],
         "y": [
          "1",
          "1"
         ]
        },
        {
         "hoverinfo": "skip",
         "line": {
          "color": "#1f77b4"
         },
         "mode": "lines+markers",
         "name": "Train",
         "showlegend": false,
         "type": "scatter",
         "x": [
          "2021-08-06T00:00:00",
          "2021-08-07T00:00:00"
         ],
         "y": [
          "1",
          "1"
         ]
        },
        {
         "hoverinfo": "skip",
         "line": {
          "color": "#1f77b4"
         },
         "mode": "lines+markers",
         "name": "Train",
         "showlegend": false,
         "type": "scatter",
         "x": [
          "2021-08-07T00:00:00",
          "2021-08-08T00:00:00"
         ],
         "y": [
          "1",
          "1"
         ]
        },
        {
         "hoverinfo": "skip",
         "line": {
          "color": "#1f77b4"
         },
         "mode": "lines+markers",
         "name": "Train",
         "showlegend": false,
         "type": "scatter",
         "x": [
          "2021-08-08T00:00:00",
          "2021-08-09T00:00:00"
         ],
         "y": [
          "1",
          "1"
         ]
        },
        {
         "hoverinfo": "skip",
         "line": {
          "color": "#1f77b4"
         },
         "mode": "lines+markers",
         "name": "Train",
         "showlegend": false,
         "type": "scatter",
         "x": [
          "2021-08-09T00:00:00",
          "2021-08-10T00:00:00"
         ],
         "y": [
          "1",
          "1"
         ]
        },
        {
         "hoverinfo": "skip",
         "line": {
          "color": "#1f77b4"
         },
         "mode": "lines+markers",
         "name": "Train",
         "showlegend": false,
         "type": "scatter",
         "x": [
          "2021-08-10T00:00:00",
          "2021-08-11T00:00:00"
         ],
         "y": [
          "1",
          "1"
         ]
        },
        {
         "hoverinfo": "skip",
         "line": {
          "color": "#1f77b4"
         },
         "mode": "lines+markers",
         "name": "Train",
         "showlegend": false,
         "type": "scatter",
         "x": [
          "2021-08-11T00:00:00",
          "2021-08-12T00:00:00"
         ],
         "y": [
          "1",
          "1"
         ]
        },
        {
         "hoverinfo": "skip",
         "line": {
          "color": "#1f77b4"
         },
         "mode": "lines+markers",
         "name": "Train",
         "showlegend": false,
         "type": "scatter",
         "x": [
          "2021-08-12T00:00:00",
          "2021-08-13T00:00:00"
         ],
         "y": [
          "1",
          "1"
         ]
        },
        {
         "hoverinfo": "skip",
         "line": {
          "color": "#1f77b4"
         },
         "mode": "lines+markers",
         "name": "Train",
         "showlegend": false,
         "type": "scatter",
         "x": [
          "2021-08-13T00:00:00",
          "2021-08-14T00:00:00"
         ],
         "y": [
          "1",
          "1"
         ]
        },
        {
         "hoverinfo": "skip",
         "line": {
          "color": "#1f77b4"
         },
         "mode": "lines+markers",
         "name": "Train",
         "showlegend": false,
         "type": "scatter",
         "x": [
          "2021-08-14T00:00:00",
          "2021-08-15T00:00:00"
         ],
         "y": [
          "1",
          "1"
         ]
        },
        {
         "hoverinfo": "skip",
         "line": {
          "color": "#1f77b4"
         },
         "mode": "lines+markers",
         "name": "Train",
         "showlegend": false,
         "type": "scatter",
         "x": [
          "2021-08-15T00:00:00",
          "2021-08-16T00:00:00"
         ],
         "y": [
          "1",
          "1"
         ]
        },
        {
         "hoverinfo": "skip",
         "line": {
          "color": "#1f77b4"
         },
         "mode": "lines+markers",
         "name": "Train",
         "showlegend": false,
         "type": "scatter",
         "x": [
          "2021-08-16T00:00:00",
          "2021-08-17T00:00:00"
         ],
         "y": [
          "1",
          "1"
         ]
        },
        {
         "hoverinfo": "skip",
         "line": {
          "color": "#1f77b4"
         },
         "mode": "lines+markers",
         "name": "Train",
         "showlegend": false,
         "type": "scatter",
         "x": [
          "2021-08-17T00:00:00",
          "2021-08-18T00:00:00"
         ],
         "y": [
          "1",
          "1"
         ]
        },
        {
         "hoverinfo": "skip",
         "line": {
          "color": "#1f77b4"
         },
         "mode": "lines+markers",
         "name": "Train",
         "showlegend": false,
         "type": "scatter",
         "x": [
          "2021-08-18T00:00:00",
          "2021-08-19T00:00:00"
         ],
         "y": [
          "1",
          "1"
         ]
        },
        {
         "hoverinfo": "skip",
         "line": {
          "color": "#1f77b4"
         },
         "mode": "lines+markers",
         "name": "Train",
         "showlegend": false,
         "type": "scatter",
         "x": [
          "2021-08-19T00:00:00",
          "2021-08-20T00:00:00"
         ],
         "y": [
          "1",
          "1"
         ]
        },
        {
         "hoverinfo": "skip",
         "line": {
          "color": "#1f77b4"
         },
         "mode": "lines+markers",
         "name": "Train",
         "showlegend": false,
         "type": "scatter",
         "x": [
          "2021-08-20T00:00:00",
          "2021-08-21T00:00:00"
         ],
         "y": [
          "1",
          "1"
         ]
        },
        {
         "hoverinfo": "skip",
         "line": {
          "color": "#1f77b4"
         },
         "mode": "lines+markers",
         "name": "Train",
         "showlegend": false,
         "type": "scatter",
         "x": [
          "2021-08-21T00:00:00",
          "2021-08-22T00:00:00"
         ],
         "y": [
          "1",
          "1"
         ]
        },
        {
         "hoverinfo": "skip",
         "line": {
          "color": "#1f77b4"
         },
         "mode": "lines+markers",
         "name": "Train",
         "showlegend": false,
         "type": "scatter",
         "x": [
          "2021-08-22T00:00:00",
          "2021-08-23T00:00:00"
         ],
         "y": [
          "1",
          "1"
         ]
        },
        {
         "hoverinfo": "skip",
         "line": {
          "color": "#1f77b4"
         },
         "mode": "lines+markers",
         "name": "Train",
         "showlegend": false,
         "type": "scatter",
         "x": [
          "2021-08-23T00:00:00",
          "2021-08-24T00:00:00"
         ],
         "y": [
          "1",
          "1"
         ]
        },
        {
         "hoverinfo": "skip",
         "line": {
          "color": "#1f77b4"
         },
         "mode": "lines+markers",
         "name": "Train",
         "showlegend": false,
         "type": "scatter",
         "x": [
          "2021-08-24T00:00:00",
          "2021-08-25T00:00:00"
         ],
         "y": [
          "1",
          "1"
         ]
        },
        {
         "hoverinfo": "skip",
         "line": {
          "color": "#1f77b4"
         },
         "mode": "lines+markers",
         "name": "Train",
         "showlegend": false,
         "type": "scatter",
         "x": [
          "2021-08-25T00:00:00",
          "2021-08-26T00:00:00"
         ],
         "y": [
          "1",
          "1"
         ]
        },
        {
         "hoverinfo": "skip",
         "line": {
          "color": "#1f77b4"
         },
         "mode": "lines+markers",
         "name": "Train",
         "showlegend": false,
         "type": "scatter",
         "x": [
          "2021-08-26T00:00:00",
          "2021-08-27T00:00:00"
         ],
         "y": [
          "1",
          "1"
         ]
        },
        {
         "hoverinfo": "skip",
         "line": {
          "color": "#1f77b4"
         },
         "mode": "lines+markers",
         "name": "Train",
         "showlegend": false,
         "type": "scatter",
         "x": [
          "2021-08-27T00:00:00",
          "2021-08-28T00:00:00"
         ],
         "y": [
          "1",
          "1"
         ]
        },
        {
         "hoverinfo": "skip",
         "line": {
          "color": "#1f77b4"
         },
         "mode": "lines+markers",
         "name": "Train",
         "showlegend": false,
         "type": "scatter",
         "x": [
          "2021-08-28T00:00:00",
          "2021-08-29T00:00:00"
         ],
         "y": [
          "1",
          "1"
         ]
        },
        {
         "hoverinfo": "skip",
         "line": {
          "color": "#1f77b4"
         },
         "mode": "lines+markers",
         "name": "Train",
         "showlegend": false,
         "type": "scatter",
         "x": [
          "2021-08-29T00:00:00",
          "2021-08-30T00:00:00"
         ],
         "y": [
          "1",
          "1"
         ]
        },
        {
         "hoverinfo": "skip",
         "line": {
          "color": "#1f77b4"
         },
         "mode": "lines+markers",
         "name": "Train",
         "showlegend": false,
         "type": "scatter",
         "x": [
          "2021-08-30T00:00:00",
          "2021-08-31T00:00:00"
         ],
         "y": [
          "1",
          "1"
         ]
        },
        {
         "hoverinfo": "skip",
         "line": {
          "color": "#1f77b4"
         },
         "mode": "lines+markers",
         "name": "Train",
         "showlegend": false,
         "type": "scatter",
         "x": [
          "2021-08-31T00:00:00",
          "2021-09-01T00:00:00"
         ],
         "y": [
          "1",
          "1"
         ]
        },
        {
         "hoverinfo": "skip",
         "line": {
          "color": "#1f77b4"
         },
         "mode": "lines+markers",
         "name": "Train",
         "showlegend": false,
         "type": "scatter",
         "x": [
          "2021-09-01T00:00:00",
          "2021-09-02T00:00:00"
         ],
         "y": [
          "1",
          "1"
         ]
        },
        {
         "hoverinfo": "skip",
         "line": {
          "color": "#1f77b4"
         },
         "mode": "lines+markers",
         "name": "Train",
         "showlegend": false,
         "type": "scatter",
         "x": [
          "2021-09-02T00:00:00",
          "2021-09-03T00:00:00"
         ],
         "y": [
          "1",
          "1"
         ]
        },
        {
         "hoverinfo": "skip",
         "line": {
          "color": "#1f77b4"
         },
         "mode": "lines+markers",
         "name": "Train",
         "showlegend": false,
         "type": "scatter",
         "x": [
          "2021-09-03T00:00:00",
          "2021-09-04T00:00:00"
         ],
         "y": [
          "1",
          "1"
         ]
        },
        {
         "hoverinfo": "skip",
         "line": {
          "color": "#1f77b4"
         },
         "mode": "lines+markers",
         "name": "Train",
         "showlegend": false,
         "type": "scatter",
         "x": [
          "2021-09-04T00:00:00",
          "2021-09-05T00:00:00"
         ],
         "y": [
          "1",
          "1"
         ]
        },
        {
         "hoverinfo": "skip",
         "line": {
          "color": "#1f77b4"
         },
         "mode": "lines+markers",
         "name": "Train",
         "showlegend": false,
         "type": "scatter",
         "x": [
          "2021-09-05T00:00:00",
          "2021-09-06T00:00:00"
         ],
         "y": [
          "1",
          "1"
         ]
        },
        {
         "hoverinfo": "skip",
         "line": {
          "color": "#1f77b4"
         },
         "mode": "lines+markers",
         "name": "Train",
         "showlegend": false,
         "type": "scatter",
         "x": [
          "2021-09-06T00:00:00",
          "2021-09-07T00:00:00"
         ],
         "y": [
          "1",
          "1"
         ]
        },
        {
         "hoverinfo": "skip",
         "line": {
          "color": "#1f77b4"
         },
         "mode": "lines+markers",
         "name": "Train",
         "showlegend": false,
         "type": "scatter",
         "x": [
          "2021-09-07T00:00:00",
          "2021-09-08T00:00:00"
         ],
         "y": [
          "1",
          "1"
         ]
        },
        {
         "hoverinfo": "skip",
         "line": {
          "color": "#1f77b4"
         },
         "mode": "lines+markers",
         "name": "Train",
         "showlegend": false,
         "type": "scatter",
         "x": [
          "2021-09-08T00:00:00",
          "2021-09-09T00:00:00"
         ],
         "y": [
          "1",
          "1"
         ]
        },
        {
         "hoverinfo": "skip",
         "line": {
          "color": "#1f77b4"
         },
         "mode": "lines+markers",
         "name": "Train",
         "showlegend": false,
         "type": "scatter",
         "x": [
          "2021-09-09T00:00:00",
          "2021-09-10T00:00:00"
         ],
         "y": [
          "1",
          "1"
         ]
        },
        {
         "hoverinfo": "skip",
         "line": {
          "color": "#1f77b4"
         },
         "mode": "lines+markers",
         "name": "Train",
         "showlegend": false,
         "type": "scatter",
         "x": [
          "2021-09-10T00:00:00",
          "2021-09-11T00:00:00"
         ],
         "y": [
          "1",
          "1"
         ]
        },
        {
         "hoverinfo": "skip",
         "line": {
          "color": "#1f77b4"
         },
         "mode": "lines+markers",
         "name": "Train",
         "showlegend": false,
         "type": "scatter",
         "x": [
          "2021-09-11T00:00:00",
          "2021-09-12T00:00:00"
         ],
         "y": [
          "1",
          "1"
         ]
        },
        {
         "hoverinfo": "skip",
         "line": {
          "color": "#1f77b4"
         },
         "mode": "lines+markers",
         "name": "Train",
         "showlegend": false,
         "type": "scatter",
         "x": [
          "2021-09-12T00:00:00",
          "2021-09-13T00:00:00"
         ],
         "y": [
          "1",
          "1"
         ]
        },
        {
         "hoverinfo": "skip",
         "line": {
          "color": "#1f77b4"
         },
         "mode": "lines+markers",
         "name": "Train",
         "showlegend": false,
         "type": "scatter",
         "x": [
          "2021-09-13T00:00:00",
          "2021-09-14T00:00:00"
         ],
         "y": [
          "1",
          "1"
         ]
        },
        {
         "hoverinfo": "skip",
         "line": {
          "color": "#DE970B"
         },
         "mode": "lines+markers",
         "name": "ForecastHorizon",
         "showlegend": false,
         "type": "scatter",
         "x": [
          "2021-09-15T00:00:00",
          "2021-09-16T00:00:00"
         ],
         "y": [
          "1",
          "1"
         ]
        },
        {
         "hoverinfo": "skip",
         "line": {
          "color": "#DE970B"
         },
         "mode": "lines+markers",
         "name": "ForecastHorizon",
         "showlegend": false,
         "type": "scatter",
         "x": [
          "2021-09-16T00:00:00",
          "2021-09-17T00:00:00"
         ],
         "y": [
          "1",
          "1"
         ]
        },
        {
         "hoverinfo": "skip",
         "line": {
          "color": "#DE970B"
         },
         "mode": "lines+markers",
         "name": "ForecastHorizon",
         "showlegend": false,
         "type": "scatter",
         "x": [
          "2021-09-17T00:00:00",
          "2021-09-18T00:00:00"
         ],
         "y": [
          "1",
          "1"
         ]
        },
        {
         "hoverinfo": "skip",
         "line": {
          "color": "#DE970B"
         },
         "mode": "lines+markers",
         "name": "ForecastHorizon",
         "showlegend": false,
         "type": "scatter",
         "x": [
          "2021-09-18T00:00:00",
          "2021-09-19T00:00:00"
         ],
         "y": [
          "1",
          "1"
         ]
        },
        {
         "hoverinfo": "skip",
         "line": {
          "color": "#DE970B"
         },
         "mode": "lines+markers",
         "name": "ForecastHorizon",
         "showlegend": false,
         "type": "scatter",
         "x": [
          "2021-09-19T00:00:00",
          "2021-09-20T00:00:00"
         ],
         "y": [
          "1",
          "1"
         ]
        },
        {
         "hoverinfo": "skip",
         "line": {
          "color": "#DE970B"
         },
         "mode": "lines+markers",
         "name": "ForecastHorizon",
         "showlegend": false,
         "type": "scatter",
         "x": [
          "2021-09-20T00:00:00",
          "2021-09-21T00:00:00"
         ],
         "y": [
          "1",
          "1"
         ]
        },
        {
         "hoverinfo": "skip",
         "line": {
          "color": "#C0C0C0"
         },
         "mode": "lines+markers",
         "name": "Unchanged",
         "showlegend": false,
         "type": "scatter",
         "x": [
          "2021-07-08T00:00:00",
          "2021-07-09T00:00:00"
         ],
         "y": [
          "0",
          "0"
         ]
        },
        {
         "hoverinfo": "skip",
         "line": {
          "color": "#C0C0C0"
         },
         "mode": "lines+markers",
         "name": "Unchanged",
         "showlegend": false,
         "type": "scatter",
         "x": [
          "2021-07-09T00:00:00",
          "2021-07-10T00:00:00"
         ],
         "y": [
          "0",
          "0"
         ]
        },
        {
         "hoverinfo": "skip",
         "line": {
          "color": "#C0C0C0"
         },
         "mode": "lines+markers",
         "name": "Unchanged",
         "showlegend": false,
         "type": "scatter",
         "x": [
          "2021-07-10T00:00:00",
          "2021-07-11T00:00:00"
         ],
         "y": [
          "0",
          "0"
         ]
        },
        {
         "hoverinfo": "skip",
         "line": {
          "color": "#C0C0C0"
         },
         "mode": "lines+markers",
         "name": "Unchanged",
         "showlegend": false,
         "type": "scatter",
         "x": [
          "2021-07-11T00:00:00",
          "2021-07-12T00:00:00"
         ],
         "y": [
          "0",
          "0"
         ]
        },
        {
         "hoverinfo": "skip",
         "line": {
          "color": "#C0C0C0"
         },
         "mode": "lines+markers",
         "name": "Unchanged",
         "showlegend": false,
         "type": "scatter",
         "x": [
          "2021-07-12T00:00:00",
          "2021-07-13T00:00:00"
         ],
         "y": [
          "0",
          "0"
         ]
        },
        {
         "hoverinfo": "skip",
         "line": {
          "color": "#C0C0C0"
         },
         "mode": "lines+markers",
         "name": "Unchanged",
         "showlegend": false,
         "type": "scatter",
         "x": [
          "2021-07-13T00:00:00",
          "2021-07-14T00:00:00"
         ],
         "y": [
          "0",
          "0"
         ]
        },
        {
         "hoverinfo": "skip",
         "line": {
          "color": "#C0C0C0"
         },
         "mode": "lines+markers",
         "name": "Unchanged",
         "showlegend": false,
         "type": "scatter",
         "x": [
          "2021-07-14T00:00:00",
          "2021-07-15T00:00:00"
         ],
         "y": [
          "0",
          "0"
         ]
        },
        {
         "hoverinfo": "skip",
         "line": {
          "color": "#C0C0C0"
         },
         "mode": "lines+markers",
         "name": "Unchanged",
         "showlegend": false,
         "type": "scatter",
         "x": [
          "2021-07-15T00:00:00",
          "2021-07-16T00:00:00"
         ],
         "y": [
          "0",
          "0"
         ]
        },
        {
         "hoverinfo": "skip",
         "line": {
          "color": "#C0C0C0"
         },
         "mode": "lines+markers",
         "name": "Unchanged",
         "showlegend": false,
         "type": "scatter",
         "x": [
          "2021-07-16T00:00:00",
          "2021-07-17T00:00:00"
         ],
         "y": [
          "0",
          "0"
         ]
        },
        {
         "hoverinfo": "skip",
         "line": {
          "color": "#C0C0C0"
         },
         "mode": "lines+markers",
         "name": "Unchanged",
         "showlegend": false,
         "type": "scatter",
         "x": [
          "2021-07-17T00:00:00",
          "2021-07-18T00:00:00"
         ],
         "y": [
          "0",
          "0"
         ]
        },
        {
         "hoverinfo": "skip",
         "line": {
          "color": "#C0C0C0"
         },
         "mode": "lines+markers",
         "name": "Unchanged",
         "showlegend": false,
         "type": "scatter",
         "x": [
          "2021-07-18T00:00:00",
          "2021-07-19T00:00:00"
         ],
         "y": [
          "0",
          "0"
         ]
        },
        {
         "hoverinfo": "skip",
         "line": {
          "color": "#C0C0C0"
         },
         "mode": "lines+markers",
         "name": "Unchanged",
         "showlegend": false,
         "type": "scatter",
         "x": [
          "2021-07-19T00:00:00",
          "2021-07-20T00:00:00"
         ],
         "y": [
          "0",
          "0"
         ]
        },
        {
         "hoverinfo": "skip",
         "line": {
          "color": "#C0C0C0"
         },
         "mode": "lines+markers",
         "name": "Unchanged",
         "showlegend": false,
         "type": "scatter",
         "x": [
          "2021-07-20T00:00:00",
          "2021-07-21T00:00:00"
         ],
         "y": [
          "0",
          "0"
         ]
        },
        {
         "hoverinfo": "skip",
         "line": {
          "color": "#C0C0C0"
         },
         "mode": "lines+markers",
         "name": "Unchanged",
         "showlegend": false,
         "type": "scatter",
         "x": [
          "2021-07-21T00:00:00",
          "2021-07-22T00:00:00"
         ],
         "y": [
          "0",
          "0"
         ]
        },
        {
         "hoverinfo": "skip",
         "line": {
          "color": "#C0C0C0"
         },
         "mode": "lines+markers",
         "name": "Unchanged",
         "showlegend": false,
         "type": "scatter",
         "x": [
          "2021-07-22T00:00:00",
          "2021-07-23T00:00:00"
         ],
         "y": [
          "0",
          "0"
         ]
        },
        {
         "hoverinfo": "skip",
         "line": {
          "color": "#C0C0C0"
         },
         "mode": "lines+markers",
         "name": "Unchanged",
         "showlegend": false,
         "type": "scatter",
         "x": [
          "2021-07-23T00:00:00",
          "2021-07-24T00:00:00"
         ],
         "y": [
          "0",
          "0"
         ]
        },
        {
         "hoverinfo": "skip",
         "line": {
          "color": "#C0C0C0"
         },
         "mode": "lines+markers",
         "name": "Unchanged",
         "showlegend": false,
         "type": "scatter",
         "x": [
          "2021-07-24T00:00:00",
          "2021-07-25T00:00:00"
         ],
         "y": [
          "0",
          "0"
         ]
        },
        {
         "hoverinfo": "skip",
         "line": {
          "color": "#C0C0C0"
         },
         "mode": "lines+markers",
         "name": "Unchanged",
         "showlegend": false,
         "type": "scatter",
         "x": [
          "2021-07-25T00:00:00",
          "2021-07-26T00:00:00"
         ],
         "y": [
          "0",
          "0"
         ]
        },
        {
         "hoverinfo": "skip",
         "line": {
          "color": "#C0C0C0"
         },
         "mode": "lines+markers",
         "name": "Unchanged",
         "showlegend": false,
         "type": "scatter",
         "x": [
          "2021-07-26T00:00:00",
          "2021-07-27T00:00:00"
         ],
         "y": [
          "0",
          "0"
         ]
        },
        {
         "hoverinfo": "skip",
         "line": {
          "color": "#C0C0C0"
         },
         "mode": "lines+markers",
         "name": "Unchanged",
         "showlegend": false,
         "type": "scatter",
         "x": [
          "2021-07-27T00:00:00",
          "2021-07-28T00:00:00"
         ],
         "y": [
          "0",
          "0"
         ]
        },
        {
         "hoverinfo": "skip",
         "line": {
          "color": "#C0C0C0"
         },
         "mode": "lines+markers",
         "name": "Unchanged",
         "showlegend": false,
         "type": "scatter",
         "x": [
          "2021-07-28T00:00:00",
          "2021-07-29T00:00:00"
         ],
         "y": [
          "0",
          "0"
         ]
        },
        {
         "hoverinfo": "skip",
         "line": {
          "color": "#C0C0C0"
         },
         "mode": "lines+markers",
         "name": "Unchanged",
         "showlegend": false,
         "type": "scatter",
         "x": [
          "2021-07-29T00:00:00",
          "2021-07-30T00:00:00"
         ],
         "y": [
          "0",
          "0"
         ]
        },
        {
         "hoverinfo": "skip",
         "line": {
          "color": "#C0C0C0"
         },
         "mode": "lines+markers",
         "name": "Unchanged",
         "showlegend": false,
         "type": "scatter",
         "x": [
          "2021-07-30T00:00:00",
          "2021-07-31T00:00:00"
         ],
         "y": [
          "0",
          "0"
         ]
        },
        {
         "hoverinfo": "skip",
         "line": {
          "color": "#C0C0C0"
         },
         "mode": "lines+markers",
         "name": "Unchanged",
         "showlegend": false,
         "type": "scatter",
         "x": [
          "2021-07-31T00:00:00",
          "2021-08-01T00:00:00"
         ],
         "y": [
          "0",
          "0"
         ]
        },
        {
         "hoverinfo": "skip",
         "line": {
          "color": "#C0C0C0"
         },
         "mode": "lines+markers",
         "name": "Unchanged",
         "showlegend": false,
         "type": "scatter",
         "x": [
          "2021-08-01T00:00:00",
          "2021-08-02T00:00:00"
         ],
         "y": [
          "0",
          "0"
         ]
        },
        {
         "hoverinfo": "skip",
         "line": {
          "color": "#C0C0C0"
         },
         "mode": "lines+markers",
         "name": "Unchanged",
         "showlegend": false,
         "type": "scatter",
         "x": [
          "2021-08-02T00:00:00",
          "2021-08-03T00:00:00"
         ],
         "y": [
          "0",
          "0"
         ]
        },
        {
         "hoverinfo": "skip",
         "line": {
          "color": "#C0C0C0"
         },
         "mode": "lines+markers",
         "name": "Unchanged",
         "showlegend": false,
         "type": "scatter",
         "x": [
          "2021-08-03T00:00:00",
          "2021-08-04T00:00:00"
         ],
         "y": [
          "0",
          "0"
         ]
        },
        {
         "hoverinfo": "skip",
         "line": {
          "color": "#C0C0C0"
         },
         "mode": "lines+markers",
         "name": "Unchanged",
         "showlegend": false,
         "type": "scatter",
         "x": [
          "2021-08-04T00:00:00",
          "2021-08-05T00:00:00"
         ],
         "y": [
          "0",
          "0"
         ]
        },
        {
         "hoverinfo": "skip",
         "line": {
          "color": "#C0C0C0"
         },
         "mode": "lines+markers",
         "name": "Unchanged",
         "showlegend": false,
         "type": "scatter",
         "x": [
          "2021-08-05T00:00:00",
          "2021-08-06T00:00:00"
         ],
         "y": [
          "0",
          "0"
         ]
        },
        {
         "hoverinfo": "skip",
         "line": {
          "color": "#C0C0C0"
         },
         "mode": "lines+markers",
         "name": "Unchanged",
         "showlegend": false,
         "type": "scatter",
         "x": [
          "2021-08-06T00:00:00",
          "2021-08-07T00:00:00"
         ],
         "y": [
          "0",
          "0"
         ]
        },
        {
         "hoverinfo": "skip",
         "line": {
          "color": "#C0C0C0"
         },
         "mode": "lines+markers",
         "name": "Unchanged",
         "showlegend": false,
         "type": "scatter",
         "x": [
          "2021-08-07T00:00:00",
          "2021-08-08T00:00:00"
         ],
         "y": [
          "0",
          "0"
         ]
        },
        {
         "hoverinfo": "skip",
         "line": {
          "color": "#C0C0C0"
         },
         "mode": "lines+markers",
         "name": "Unchanged",
         "showlegend": false,
         "type": "scatter",
         "x": [
          "2021-08-08T00:00:00",
          "2021-08-09T00:00:00"
         ],
         "y": [
          "0",
          "0"
         ]
        },
        {
         "hoverinfo": "skip",
         "line": {
          "color": "#C0C0C0"
         },
         "mode": "lines+markers",
         "name": "Unchanged",
         "showlegend": false,
         "type": "scatter",
         "x": [
          "2021-08-09T00:00:00",
          "2021-08-10T00:00:00"
         ],
         "y": [
          "0",
          "0"
         ]
        },
        {
         "hoverinfo": "skip",
         "line": {
          "color": "#C0C0C0"
         },
         "mode": "lines+markers",
         "name": "Unchanged",
         "showlegend": false,
         "type": "scatter",
         "x": [
          "2021-08-10T00:00:00",
          "2021-08-11T00:00:00"
         ],
         "y": [
          "0",
          "0"
         ]
        },
        {
         "hoverinfo": "skip",
         "line": {
          "color": "#C0C0C0"
         },
         "mode": "lines+markers",
         "name": "Unchanged",
         "showlegend": false,
         "type": "scatter",
         "x": [
          "2021-08-11T00:00:00",
          "2021-08-12T00:00:00"
         ],
         "y": [
          "0",
          "0"
         ]
        },
        {
         "hoverinfo": "skip",
         "line": {
          "color": "#C0C0C0"
         },
         "mode": "lines+markers",
         "name": "Unchanged",
         "showlegend": false,
         "type": "scatter",
         "x": [
          "2021-08-12T00:00:00",
          "2021-08-13T00:00:00"
         ],
         "y": [
          "0",
          "0"
         ]
        },
        {
         "hoverinfo": "skip",
         "line": {
          "color": "#C0C0C0"
         },
         "mode": "lines+markers",
         "name": "Unchanged",
         "showlegend": false,
         "type": "scatter",
         "x": [
          "2021-08-13T00:00:00",
          "2021-08-14T00:00:00"
         ],
         "y": [
          "0",
          "0"
         ]
        },
        {
         "hoverinfo": "skip",
         "line": {
          "color": "#C0C0C0"
         },
         "mode": "lines+markers",
         "name": "Unchanged",
         "showlegend": false,
         "type": "scatter",
         "x": [
          "2021-08-14T00:00:00",
          "2021-08-15T00:00:00"
         ],
         "y": [
          "0",
          "0"
         ]
        },
        {
         "hoverinfo": "skip",
         "line": {
          "color": "#C0C0C0"
         },
         "mode": "lines+markers",
         "name": "Unchanged",
         "showlegend": false,
         "type": "scatter",
         "x": [
          "2021-08-15T00:00:00",
          "2021-08-16T00:00:00"
         ],
         "y": [
          "0",
          "0"
         ]
        },
        {
         "hoverinfo": "skip",
         "line": {
          "color": "#C0C0C0"
         },
         "mode": "lines+markers",
         "name": "Unchanged",
         "showlegend": false,
         "type": "scatter",
         "x": [
          "2021-08-16T00:00:00",
          "2021-08-17T00:00:00"
         ],
         "y": [
          "0",
          "0"
         ]
        },
        {
         "hoverinfo": "skip",
         "line": {
          "color": "#C0C0C0"
         },
         "mode": "lines+markers",
         "name": "Unchanged",
         "showlegend": false,
         "type": "scatter",
         "x": [
          "2021-08-17T00:00:00",
          "2021-08-18T00:00:00"
         ],
         "y": [
          "0",
          "0"
         ]
        },
        {
         "hoverinfo": "skip",
         "line": {
          "color": "#C0C0C0"
         },
         "mode": "lines+markers",
         "name": "Unchanged",
         "showlegend": false,
         "type": "scatter",
         "x": [
          "2021-08-18T00:00:00",
          "2021-08-19T00:00:00"
         ],
         "y": [
          "0",
          "0"
         ]
        },
        {
         "hoverinfo": "skip",
         "line": {
          "color": "#C0C0C0"
         },
         "mode": "lines+markers",
         "name": "Unchanged",
         "showlegend": false,
         "type": "scatter",
         "x": [
          "2021-08-19T00:00:00",
          "2021-08-20T00:00:00"
         ],
         "y": [
          "0",
          "0"
         ]
        },
        {
         "hoverinfo": "skip",
         "line": {
          "color": "#C0C0C0"
         },
         "mode": "lines+markers",
         "name": "Unchanged",
         "showlegend": false,
         "type": "scatter",
         "x": [
          "2021-08-20T00:00:00",
          "2021-08-21T00:00:00"
         ],
         "y": [
          "0",
          "0"
         ]
        },
        {
         "hoverinfo": "skip",
         "line": {
          "color": "#C0C0C0"
         },
         "mode": "lines+markers",
         "name": "Unchanged",
         "showlegend": false,
         "type": "scatter",
         "x": [
          "2021-08-21T00:00:00",
          "2021-08-22T00:00:00"
         ],
         "y": [
          "0",
          "0"
         ]
        },
        {
         "hoverinfo": "skip",
         "line": {
          "color": "#C0C0C0"
         },
         "mode": "lines+markers",
         "name": "Unchanged",
         "showlegend": false,
         "type": "scatter",
         "x": [
          "2021-08-22T00:00:00",
          "2021-08-23T00:00:00"
         ],
         "y": [
          "0",
          "0"
         ]
        },
        {
         "hoverinfo": "skip",
         "line": {
          "color": "#C0C0C0"
         },
         "mode": "lines+markers",
         "name": "Unchanged",
         "showlegend": false,
         "type": "scatter",
         "x": [
          "2021-08-23T00:00:00",
          "2021-08-24T00:00:00"
         ],
         "y": [
          "0",
          "0"
         ]
        },
        {
         "hoverinfo": "skip",
         "line": {
          "color": "#C0C0C0"
         },
         "mode": "lines+markers",
         "name": "Unchanged",
         "showlegend": false,
         "type": "scatter",
         "x": [
          "2021-08-24T00:00:00",
          "2021-08-25T00:00:00"
         ],
         "y": [
          "0",
          "0"
         ]
        },
        {
         "hoverinfo": "skip",
         "line": {
          "color": "#C0C0C0"
         },
         "mode": "lines+markers",
         "name": "Unchanged",
         "showlegend": false,
         "type": "scatter",
         "x": [
          "2021-08-25T00:00:00",
          "2021-08-26T00:00:00"
         ],
         "y": [
          "0",
          "0"
         ]
        },
        {
         "hoverinfo": "skip",
         "line": {
          "color": "#C0C0C0"
         },
         "mode": "lines+markers",
         "name": "Unchanged",
         "showlegend": false,
         "type": "scatter",
         "x": [
          "2021-08-26T00:00:00",
          "2021-08-27T00:00:00"
         ],
         "y": [
          "0",
          "0"
         ]
        },
        {
         "hoverinfo": "skip",
         "line": {
          "color": "#C0C0C0"
         },
         "mode": "lines+markers",
         "name": "Unchanged",
         "showlegend": false,
         "type": "scatter",
         "x": [
          "2021-08-27T00:00:00",
          "2021-08-28T00:00:00"
         ],
         "y": [
          "0",
          "0"
         ]
        },
        {
         "hoverinfo": "skip",
         "line": {
          "color": "#C0C0C0"
         },
         "mode": "lines+markers",
         "name": "Unchanged",
         "showlegend": false,
         "type": "scatter",
         "x": [
          "2021-08-28T00:00:00",
          "2021-08-29T00:00:00"
         ],
         "y": [
          "0",
          "0"
         ]
        },
        {
         "hoverinfo": "skip",
         "line": {
          "color": "#C0C0C0"
         },
         "mode": "lines+markers",
         "name": "Unchanged",
         "showlegend": false,
         "type": "scatter",
         "x": [
          "2021-08-29T00:00:00",
          "2021-08-30T00:00:00"
         ],
         "y": [
          "0",
          "0"
         ]
        },
        {
         "hoverinfo": "skip",
         "line": {
          "color": "#C0C0C0"
         },
         "mode": "lines+markers",
         "name": "Unchanged",
         "showlegend": false,
         "type": "scatter",
         "x": [
          "2021-08-30T00:00:00",
          "2021-08-31T00:00:00"
         ],
         "y": [
          "0",
          "0"
         ]
        },
        {
         "hoverinfo": "skip",
         "line": {
          "color": "#C0C0C0"
         },
         "mode": "lines+markers",
         "name": "Unchanged",
         "showlegend": false,
         "type": "scatter",
         "x": [
          "2021-08-31T00:00:00",
          "2021-09-01T00:00:00"
         ],
         "y": [
          "0",
          "0"
         ]
        },
        {
         "hoverinfo": "skip",
         "line": {
          "color": "#C0C0C0"
         },
         "mode": "lines+markers",
         "name": "Unchanged",
         "showlegend": false,
         "type": "scatter",
         "x": [
          "2021-09-01T00:00:00",
          "2021-09-02T00:00:00"
         ],
         "y": [
          "0",
          "0"
         ]
        },
        {
         "hoverinfo": "skip",
         "line": {
          "color": "#C0C0C0"
         },
         "mode": "lines+markers",
         "name": "Unchanged",
         "showlegend": false,
         "type": "scatter",
         "x": [
          "2021-09-02T00:00:00",
          "2021-09-03T00:00:00"
         ],
         "y": [
          "0",
          "0"
         ]
        },
        {
         "hoverinfo": "skip",
         "line": {
          "color": "#C0C0C0"
         },
         "mode": "lines+markers",
         "name": "Unchanged",
         "showlegend": false,
         "type": "scatter",
         "x": [
          "2021-09-03T00:00:00",
          "2021-09-04T00:00:00"
         ],
         "y": [
          "0",
          "0"
         ]
        },
        {
         "hoverinfo": "skip",
         "line": {
          "color": "#C0C0C0"
         },
         "mode": "lines+markers",
         "name": "Unchanged",
         "showlegend": false,
         "type": "scatter",
         "x": [
          "2021-09-04T00:00:00",
          "2021-09-05T00:00:00"
         ],
         "y": [
          "0",
          "0"
         ]
        },
        {
         "hoverinfo": "skip",
         "line": {
          "color": "#C0C0C0"
         },
         "mode": "lines+markers",
         "name": "Unchanged",
         "showlegend": false,
         "type": "scatter",
         "x": [
          "2021-09-05T00:00:00",
          "2021-09-06T00:00:00"
         ],
         "y": [
          "0",
          "0"
         ]
        },
        {
         "hoverinfo": "skip",
         "line": {
          "color": "#C0C0C0"
         },
         "mode": "lines+markers",
         "name": "Unchanged",
         "showlegend": false,
         "type": "scatter",
         "x": [
          "2021-09-06T00:00:00",
          "2021-09-07T00:00:00"
         ],
         "y": [
          "0",
          "0"
         ]
        },
        {
         "hoverinfo": "skip",
         "line": {
          "color": "#C0C0C0"
         },
         "mode": "lines+markers",
         "name": "Unchanged",
         "showlegend": false,
         "type": "scatter",
         "x": [
          "2021-09-07T00:00:00",
          "2021-09-08T00:00:00"
         ],
         "y": [
          "0",
          "0"
         ]
        },
        {
         "hoverinfo": "skip",
         "line": {
          "color": "#C0C0C0"
         },
         "mode": "lines+markers",
         "name": "Unchanged",
         "showlegend": false,
         "type": "scatter",
         "x": [
          "2021-09-08T00:00:00",
          "2021-09-09T00:00:00"
         ],
         "y": [
          "0",
          "0"
         ]
        },
        {
         "hoverinfo": "skip",
         "line": {
          "color": "#C0C0C0"
         },
         "mode": "lines+markers",
         "name": "Unchanged",
         "showlegend": false,
         "type": "scatter",
         "x": [
          "2021-09-09T00:00:00",
          "2021-09-10T00:00:00"
         ],
         "y": [
          "0",
          "0"
         ]
        },
        {
         "hoverinfo": "skip",
         "line": {
          "color": "#C0C0C0"
         },
         "mode": "lines+markers",
         "name": "Unchanged",
         "showlegend": false,
         "type": "scatter",
         "x": [
          "2021-09-10T00:00:00",
          "2021-09-11T00:00:00"
         ],
         "y": [
          "0",
          "0"
         ]
        },
        {
         "hoverinfo": "skip",
         "line": {
          "color": "#C0C0C0"
         },
         "mode": "lines+markers",
         "name": "Unchanged",
         "showlegend": false,
         "type": "scatter",
         "x": [
          "2021-09-11T00:00:00",
          "2021-09-12T00:00:00"
         ],
         "y": [
          "0",
          "0"
         ]
        },
        {
         "hoverinfo": "skip",
         "line": {
          "color": "#C0C0C0"
         },
         "mode": "lines+markers",
         "name": "Unchanged",
         "showlegend": false,
         "type": "scatter",
         "x": [
          "2021-09-12T00:00:00",
          "2021-09-13T00:00:00"
         ],
         "y": [
          "0",
          "0"
         ]
        },
        {
         "hoverinfo": "skip",
         "line": {
          "color": "#C0C0C0"
         },
         "mode": "lines+markers",
         "name": "Unchanged",
         "showlegend": false,
         "type": "scatter",
         "x": [
          "2021-09-13T00:00:00",
          "2021-09-14T00:00:00"
         ],
         "y": [
          "0",
          "0"
         ]
        },
        {
         "hoverinfo": "skip",
         "line": {
          "color": "#C0C0C0"
         },
         "mode": "lines+markers",
         "name": "Unchanged",
         "showlegend": false,
         "type": "scatter",
         "x": [
          "2021-09-14T00:00:00",
          "2021-09-15T00:00:00"
         ],
         "y": [
          "0",
          "0"
         ]
        },
        {
         "hoverinfo": "skip",
         "line": {
          "color": "#C0C0C0"
         },
         "mode": "lines+markers",
         "name": "Unchanged",
         "showlegend": false,
         "type": "scatter",
         "x": [
          "2021-09-15T00:00:00",
          "2021-09-16T00:00:00"
         ],
         "y": [
          "0",
          "0"
         ]
        },
        {
         "hoverinfo": "skip",
         "line": {
          "color": "#C0C0C0"
         },
         "mode": "lines+markers",
         "name": "Unchanged",
         "showlegend": false,
         "type": "scatter",
         "x": [
          "2021-09-16T00:00:00",
          "2021-09-17T00:00:00"
         ],
         "y": [
          "0",
          "0"
         ]
        },
        {
         "hoverinfo": "skip",
         "line": {
          "color": "#C0C0C0"
         },
         "mode": "lines+markers",
         "name": "Unchanged",
         "showlegend": false,
         "type": "scatter",
         "x": [
          "2021-09-17T00:00:00",
          "2021-09-18T00:00:00"
         ],
         "y": [
          "0",
          "0"
         ]
        },
        {
         "hoverinfo": "skip",
         "line": {
          "color": "#C0C0C0"
         },
         "mode": "lines+markers",
         "name": "Unchanged",
         "showlegend": false,
         "type": "scatter",
         "x": [
          "2021-09-18T00:00:00",
          "2021-09-19T00:00:00"
         ],
         "y": [
          "0",
          "0"
         ]
        },
        {
         "hoverinfo": "skip",
         "line": {
          "color": "#C0C0C0"
         },
         "mode": "lines+markers",
         "name": "Unchanged",
         "showlegend": false,
         "type": "scatter",
         "x": [
          "2021-09-19T00:00:00",
          "2021-09-20T00:00:00"
         ],
         "y": [
          "0",
          "0"
         ]
        },
        {
         "hoverinfo": "skip",
         "line": {
          "color": "#C0C0C0"
         },
         "mode": "lines+markers",
         "name": "Unchanged",
         "showlegend": false,
         "type": "scatter",
         "x": [
          "2021-09-20T00:00:00",
          "2021-09-21T00:00:00"
         ],
         "y": [
          "0",
          "0"
         ]
        },
        {
         "hoverinfo": "skip",
         "line": {
          "color": "#C0C0C0"
         },
         "mode": "lines+markers",
         "name": "Unchanged",
         "showlegend": false,
         "type": "scatter",
         "x": [
          "2021-09-21T00:00:00",
          "2021-09-22T00:00:00"
         ],
         "y": [
          "0",
          "0"
         ]
        },
        {
         "hoverinfo": "skip",
         "line": {
          "color": "#C0C0C0"
         },
         "mode": "lines+markers",
         "name": "Unchanged",
         "showlegend": false,
         "type": "scatter",
         "x": [
          "2021-09-22T00:00:00",
          "2021-09-23T00:00:00"
         ],
         "y": [
          "0",
          "0"
         ]
        },
        {
         "hoverinfo": "skip",
         "line": {
          "color": "#C0C0C0"
         },
         "mode": "lines+markers",
         "name": "Unchanged",
         "showlegend": false,
         "type": "scatter",
         "x": [
          "2021-09-23T00:00:00",
          "2021-09-24T00:00:00"
         ],
         "y": [
          "0",
          "0"
         ]
        },
        {
         "hoverinfo": "skip",
         "line": {
          "color": "#C0C0C0"
         },
         "mode": "lines+markers",
         "name": "Unchanged",
         "showlegend": false,
         "type": "scatter",
         "x": [
          "2021-09-24T00:00:00",
          "2021-09-25T00:00:00"
         ],
         "y": [
          "0",
          "0"
         ]
        },
        {
         "hoverinfo": "skip",
         "line": {
          "color": "#C0C0C0"
         },
         "mode": "lines+markers",
         "name": "Unchanged",
         "showlegend": false,
         "type": "scatter",
         "x": [
          "2021-09-25T00:00:00",
          "2021-09-26T00:00:00"
         ],
         "y": [
          "0",
          "0"
         ]
        },
        {
         "hoverinfo": "skip",
         "line": {
          "color": "#C0C0C0"
         },
         "mode": "lines+markers",
         "name": "Unchanged",
         "showlegend": false,
         "type": "scatter",
         "x": [
          "2021-09-26T00:00:00",
          "2021-09-27T00:00:00"
         ],
         "y": [
          "0",
          "0"
         ]
        },
        {
         "hoverinfo": "skip",
         "line": {
          "color": "#C0C0C0"
         },
         "mode": "lines+markers",
         "name": "Unchanged",
         "showlegend": false,
         "type": "scatter",
         "x": [
          "2021-09-27T00:00:00",
          "2021-09-28T00:00:00"
         ],
         "y": [
          "0",
          "0"
         ]
        },
        {
         "hoverinfo": "skip",
         "line": {
          "color": "#1f77b4"
         },
         "mode": "lines+markers",
         "name": "Train",
         "showlegend": false,
         "type": "scatter",
         "x": [
          "2021-07-08T00:00:00",
          "2021-07-09T00:00:00"
         ],
         "y": [
          "0",
          "0"
         ]
        },
        {
         "hoverinfo": "skip",
         "line": {
          "color": "#1f77b4"
         },
         "mode": "lines+markers",
         "name": "Train",
         "showlegend": false,
         "type": "scatter",
         "x": [
          "2021-07-09T00:00:00",
          "2021-07-10T00:00:00"
         ],
         "y": [
          "0",
          "0"
         ]
        },
        {
         "hoverinfo": "skip",
         "line": {
          "color": "#1f77b4"
         },
         "mode": "lines+markers",
         "name": "Train",
         "showlegend": false,
         "type": "scatter",
         "x": [
          "2021-07-10T00:00:00",
          "2021-07-11T00:00:00"
         ],
         "y": [
          "0",
          "0"
         ]
        },
        {
         "hoverinfo": "skip",
         "line": {
          "color": "#1f77b4"
         },
         "mode": "lines+markers",
         "name": "Train",
         "showlegend": false,
         "type": "scatter",
         "x": [
          "2021-07-11T00:00:00",
          "2021-07-12T00:00:00"
         ],
         "y": [
          "0",
          "0"
         ]
        },
        {
         "hoverinfo": "skip",
         "line": {
          "color": "#1f77b4"
         },
         "mode": "lines+markers",
         "name": "Train",
         "showlegend": false,
         "type": "scatter",
         "x": [
          "2021-07-12T00:00:00",
          "2021-07-13T00:00:00"
         ],
         "y": [
          "0",
          "0"
         ]
        },
        {
         "hoverinfo": "skip",
         "line": {
          "color": "#1f77b4"
         },
         "mode": "lines+markers",
         "name": "Train",
         "showlegend": false,
         "type": "scatter",
         "x": [
          "2021-07-13T00:00:00",
          "2021-07-14T00:00:00"
         ],
         "y": [
          "0",
          "0"
         ]
        },
        {
         "hoverinfo": "skip",
         "line": {
          "color": "#1f77b4"
         },
         "mode": "lines+markers",
         "name": "Train",
         "showlegend": false,
         "type": "scatter",
         "x": [
          "2021-07-14T00:00:00",
          "2021-07-15T00:00:00"
         ],
         "y": [
          "0",
          "0"
         ]
        },
        {
         "hoverinfo": "skip",
         "line": {
          "color": "#1f77b4"
         },
         "mode": "lines+markers",
         "name": "Train",
         "showlegend": false,
         "type": "scatter",
         "x": [
          "2021-07-15T00:00:00",
          "2021-07-16T00:00:00"
         ],
         "y": [
          "0",
          "0"
         ]
        },
        {
         "hoverinfo": "skip",
         "line": {
          "color": "#1f77b4"
         },
         "mode": "lines+markers",
         "name": "Train",
         "showlegend": false,
         "type": "scatter",
         "x": [
          "2021-07-16T00:00:00",
          "2021-07-17T00:00:00"
         ],
         "y": [
          "0",
          "0"
         ]
        },
        {
         "hoverinfo": "skip",
         "line": {
          "color": "#1f77b4"
         },
         "mode": "lines+markers",
         "name": "Train",
         "showlegend": false,
         "type": "scatter",
         "x": [
          "2021-07-17T00:00:00",
          "2021-07-18T00:00:00"
         ],
         "y": [
          "0",
          "0"
         ]
        },
        {
         "hoverinfo": "skip",
         "line": {
          "color": "#1f77b4"
         },
         "mode": "lines+markers",
         "name": "Train",
         "showlegend": false,
         "type": "scatter",
         "x": [
          "2021-07-18T00:00:00",
          "2021-07-19T00:00:00"
         ],
         "y": [
          "0",
          "0"
         ]
        },
        {
         "hoverinfo": "skip",
         "line": {
          "color": "#1f77b4"
         },
         "mode": "lines+markers",
         "name": "Train",
         "showlegend": false,
         "type": "scatter",
         "x": [
          "2021-07-19T00:00:00",
          "2021-07-20T00:00:00"
         ],
         "y": [
          "0",
          "0"
         ]
        },
        {
         "hoverinfo": "skip",
         "line": {
          "color": "#1f77b4"
         },
         "mode": "lines+markers",
         "name": "Train",
         "showlegend": false,
         "type": "scatter",
         "x": [
          "2021-07-20T00:00:00",
          "2021-07-21T00:00:00"
         ],
         "y": [
          "0",
          "0"
         ]
        },
        {
         "hoverinfo": "skip",
         "line": {
          "color": "#1f77b4"
         },
         "mode": "lines+markers",
         "name": "Train",
         "showlegend": false,
         "type": "scatter",
         "x": [
          "2021-07-21T00:00:00",
          "2021-07-22T00:00:00"
         ],
         "y": [
          "0",
          "0"
         ]
        },
        {
         "hoverinfo": "skip",
         "line": {
          "color": "#1f77b4"
         },
         "mode": "lines+markers",
         "name": "Train",
         "showlegend": false,
         "type": "scatter",
         "x": [
          "2021-07-22T00:00:00",
          "2021-07-23T00:00:00"
         ],
         "y": [
          "0",
          "0"
         ]
        },
        {
         "hoverinfo": "skip",
         "line": {
          "color": "#1f77b4"
         },
         "mode": "lines+markers",
         "name": "Train",
         "showlegend": false,
         "type": "scatter",
         "x": [
          "2021-07-23T00:00:00",
          "2021-07-24T00:00:00"
         ],
         "y": [
          "0",
          "0"
         ]
        },
        {
         "hoverinfo": "skip",
         "line": {
          "color": "#1f77b4"
         },
         "mode": "lines+markers",
         "name": "Train",
         "showlegend": false,
         "type": "scatter",
         "x": [
          "2021-07-24T00:00:00",
          "2021-07-25T00:00:00"
         ],
         "y": [
          "0",
          "0"
         ]
        },
        {
         "hoverinfo": "skip",
         "line": {
          "color": "#1f77b4"
         },
         "mode": "lines+markers",
         "name": "Train",
         "showlegend": false,
         "type": "scatter",
         "x": [
          "2021-07-25T00:00:00",
          "2021-07-26T00:00:00"
         ],
         "y": [
          "0",
          "0"
         ]
        },
        {
         "hoverinfo": "skip",
         "line": {
          "color": "#1f77b4"
         },
         "mode": "lines+markers",
         "name": "Train",
         "showlegend": false,
         "type": "scatter",
         "x": [
          "2021-07-26T00:00:00",
          "2021-07-27T00:00:00"
         ],
         "y": [
          "0",
          "0"
         ]
        },
        {
         "hoverinfo": "skip",
         "line": {
          "color": "#1f77b4"
         },
         "mode": "lines+markers",
         "name": "Train",
         "showlegend": false,
         "type": "scatter",
         "x": [
          "2021-07-27T00:00:00",
          "2021-07-28T00:00:00"
         ],
         "y": [
          "0",
          "0"
         ]
        },
        {
         "hoverinfo": "skip",
         "line": {
          "color": "#1f77b4"
         },
         "mode": "lines+markers",
         "name": "Train",
         "showlegend": false,
         "type": "scatter",
         "x": [
          "2021-07-28T00:00:00",
          "2021-07-29T00:00:00"
         ],
         "y": [
          "0",
          "0"
         ]
        },
        {
         "hoverinfo": "skip",
         "line": {
          "color": "#1f77b4"
         },
         "mode": "lines+markers",
         "name": "Train",
         "showlegend": false,
         "type": "scatter",
         "x": [
          "2021-07-29T00:00:00",
          "2021-07-30T00:00:00"
         ],
         "y": [
          "0",
          "0"
         ]
        },
        {
         "hoverinfo": "skip",
         "line": {
          "color": "#1f77b4"
         },
         "mode": "lines+markers",
         "name": "Train",
         "showlegend": false,
         "type": "scatter",
         "x": [
          "2021-07-30T00:00:00",
          "2021-07-31T00:00:00"
         ],
         "y": [
          "0",
          "0"
         ]
        },
        {
         "hoverinfo": "skip",
         "line": {
          "color": "#1f77b4"
         },
         "mode": "lines+markers",
         "name": "Train",
         "showlegend": false,
         "type": "scatter",
         "x": [
          "2021-07-31T00:00:00",
          "2021-08-01T00:00:00"
         ],
         "y": [
          "0",
          "0"
         ]
        },
        {
         "hoverinfo": "skip",
         "line": {
          "color": "#1f77b4"
         },
         "mode": "lines+markers",
         "name": "Train",
         "showlegend": false,
         "type": "scatter",
         "x": [
          "2021-08-01T00:00:00",
          "2021-08-02T00:00:00"
         ],
         "y": [
          "0",
          "0"
         ]
        },
        {
         "hoverinfo": "skip",
         "line": {
          "color": "#1f77b4"
         },
         "mode": "lines+markers",
         "name": "Train",
         "showlegend": false,
         "type": "scatter",
         "x": [
          "2021-08-02T00:00:00",
          "2021-08-03T00:00:00"
         ],
         "y": [
          "0",
          "0"
         ]
        },
        {
         "hoverinfo": "skip",
         "line": {
          "color": "#1f77b4"
         },
         "mode": "lines+markers",
         "name": "Train",
         "showlegend": false,
         "type": "scatter",
         "x": [
          "2021-08-03T00:00:00",
          "2021-08-04T00:00:00"
         ],
         "y": [
          "0",
          "0"
         ]
        },
        {
         "hoverinfo": "skip",
         "line": {
          "color": "#1f77b4"
         },
         "mode": "lines+markers",
         "name": "Train",
         "showlegend": false,
         "type": "scatter",
         "x": [
          "2021-08-04T00:00:00",
          "2021-08-05T00:00:00"
         ],
         "y": [
          "0",
          "0"
         ]
        },
        {
         "hoverinfo": "skip",
         "line": {
          "color": "#1f77b4"
         },
         "mode": "lines+markers",
         "name": "Train",
         "showlegend": false,
         "type": "scatter",
         "x": [
          "2021-08-05T00:00:00",
          "2021-08-06T00:00:00"
         ],
         "y": [
          "0",
          "0"
         ]
        },
        {
         "hoverinfo": "skip",
         "line": {
          "color": "#1f77b4"
         },
         "mode": "lines+markers",
         "name": "Train",
         "showlegend": false,
         "type": "scatter",
         "x": [
          "2021-08-06T00:00:00",
          "2021-08-07T00:00:00"
         ],
         "y": [
          "0",
          "0"
         ]
        },
        {
         "hoverinfo": "skip",
         "line": {
          "color": "#1f77b4"
         },
         "mode": "lines+markers",
         "name": "Train",
         "showlegend": false,
         "type": "scatter",
         "x": [
          "2021-08-07T00:00:00",
          "2021-08-08T00:00:00"
         ],
         "y": [
          "0",
          "0"
         ]
        },
        {
         "hoverinfo": "skip",
         "line": {
          "color": "#1f77b4"
         },
         "mode": "lines+markers",
         "name": "Train",
         "showlegend": false,
         "type": "scatter",
         "x": [
          "2021-08-08T00:00:00",
          "2021-08-09T00:00:00"
         ],
         "y": [
          "0",
          "0"
         ]
        },
        {
         "hoverinfo": "skip",
         "line": {
          "color": "#1f77b4"
         },
         "mode": "lines+markers",
         "name": "Train",
         "showlegend": false,
         "type": "scatter",
         "x": [
          "2021-08-09T00:00:00",
          "2021-08-10T00:00:00"
         ],
         "y": [
          "0",
          "0"
         ]
        },
        {
         "hoverinfo": "skip",
         "line": {
          "color": "#1f77b4"
         },
         "mode": "lines+markers",
         "name": "Train",
         "showlegend": false,
         "type": "scatter",
         "x": [
          "2021-08-10T00:00:00",
          "2021-08-11T00:00:00"
         ],
         "y": [
          "0",
          "0"
         ]
        },
        {
         "hoverinfo": "skip",
         "line": {
          "color": "#1f77b4"
         },
         "mode": "lines+markers",
         "name": "Train",
         "showlegend": false,
         "type": "scatter",
         "x": [
          "2021-08-11T00:00:00",
          "2021-08-12T00:00:00"
         ],
         "y": [
          "0",
          "0"
         ]
        },
        {
         "hoverinfo": "skip",
         "line": {
          "color": "#1f77b4"
         },
         "mode": "lines+markers",
         "name": "Train",
         "showlegend": false,
         "type": "scatter",
         "x": [
          "2021-08-12T00:00:00",
          "2021-08-13T00:00:00"
         ],
         "y": [
          "0",
          "0"
         ]
        },
        {
         "hoverinfo": "skip",
         "line": {
          "color": "#1f77b4"
         },
         "mode": "lines+markers",
         "name": "Train",
         "showlegend": false,
         "type": "scatter",
         "x": [
          "2021-08-13T00:00:00",
          "2021-08-14T00:00:00"
         ],
         "y": [
          "0",
          "0"
         ]
        },
        {
         "hoverinfo": "skip",
         "line": {
          "color": "#1f77b4"
         },
         "mode": "lines+markers",
         "name": "Train",
         "showlegend": false,
         "type": "scatter",
         "x": [
          "2021-08-14T00:00:00",
          "2021-08-15T00:00:00"
         ],
         "y": [
          "0",
          "0"
         ]
        },
        {
         "hoverinfo": "skip",
         "line": {
          "color": "#1f77b4"
         },
         "mode": "lines+markers",
         "name": "Train",
         "showlegend": false,
         "type": "scatter",
         "x": [
          "2021-08-15T00:00:00",
          "2021-08-16T00:00:00"
         ],
         "y": [
          "0",
          "0"
         ]
        },
        {
         "hoverinfo": "skip",
         "line": {
          "color": "#1f77b4"
         },
         "mode": "lines+markers",
         "name": "Train",
         "showlegend": false,
         "type": "scatter",
         "x": [
          "2021-08-16T00:00:00",
          "2021-08-17T00:00:00"
         ],
         "y": [
          "0",
          "0"
         ]
        },
        {
         "hoverinfo": "skip",
         "line": {
          "color": "#1f77b4"
         },
         "mode": "lines+markers",
         "name": "Train",
         "showlegend": false,
         "type": "scatter",
         "x": [
          "2021-08-17T00:00:00",
          "2021-08-18T00:00:00"
         ],
         "y": [
          "0",
          "0"
         ]
        },
        {
         "hoverinfo": "skip",
         "line": {
          "color": "#1f77b4"
         },
         "mode": "lines+markers",
         "name": "Train",
         "showlegend": false,
         "type": "scatter",
         "x": [
          "2021-08-18T00:00:00",
          "2021-08-19T00:00:00"
         ],
         "y": [
          "0",
          "0"
         ]
        },
        {
         "hoverinfo": "skip",
         "line": {
          "color": "#1f77b4"
         },
         "mode": "lines+markers",
         "name": "Train",
         "showlegend": false,
         "type": "scatter",
         "x": [
          "2021-08-19T00:00:00",
          "2021-08-20T00:00:00"
         ],
         "y": [
          "0",
          "0"
         ]
        },
        {
         "hoverinfo": "skip",
         "line": {
          "color": "#1f77b4"
         },
         "mode": "lines+markers",
         "name": "Train",
         "showlegend": false,
         "type": "scatter",
         "x": [
          "2021-08-20T00:00:00",
          "2021-08-21T00:00:00"
         ],
         "y": [
          "0",
          "0"
         ]
        },
        {
         "hoverinfo": "skip",
         "line": {
          "color": "#1f77b4"
         },
         "mode": "lines+markers",
         "name": "Train",
         "showlegend": false,
         "type": "scatter",
         "x": [
          "2021-08-21T00:00:00",
          "2021-08-22T00:00:00"
         ],
         "y": [
          "0",
          "0"
         ]
        },
        {
         "hoverinfo": "skip",
         "line": {
          "color": "#1f77b4"
         },
         "mode": "lines+markers",
         "name": "Train",
         "showlegend": false,
         "type": "scatter",
         "x": [
          "2021-08-22T00:00:00",
          "2021-08-23T00:00:00"
         ],
         "y": [
          "0",
          "0"
         ]
        },
        {
         "hoverinfo": "skip",
         "line": {
          "color": "#1f77b4"
         },
         "mode": "lines+markers",
         "name": "Train",
         "showlegend": false,
         "type": "scatter",
         "x": [
          "2021-08-23T00:00:00",
          "2021-08-24T00:00:00"
         ],
         "y": [
          "0",
          "0"
         ]
        },
        {
         "hoverinfo": "skip",
         "line": {
          "color": "#1f77b4"
         },
         "mode": "lines+markers",
         "name": "Train",
         "showlegend": false,
         "type": "scatter",
         "x": [
          "2021-08-24T00:00:00",
          "2021-08-25T00:00:00"
         ],
         "y": [
          "0",
          "0"
         ]
        },
        {
         "hoverinfo": "skip",
         "line": {
          "color": "#1f77b4"
         },
         "mode": "lines+markers",
         "name": "Train",
         "showlegend": false,
         "type": "scatter",
         "x": [
          "2021-08-25T00:00:00",
          "2021-08-26T00:00:00"
         ],
         "y": [
          "0",
          "0"
         ]
        },
        {
         "hoverinfo": "skip",
         "line": {
          "color": "#1f77b4"
         },
         "mode": "lines+markers",
         "name": "Train",
         "showlegend": false,
         "type": "scatter",
         "x": [
          "2021-08-26T00:00:00",
          "2021-08-27T00:00:00"
         ],
         "y": [
          "0",
          "0"
         ]
        },
        {
         "hoverinfo": "skip",
         "line": {
          "color": "#1f77b4"
         },
         "mode": "lines+markers",
         "name": "Train",
         "showlegend": false,
         "type": "scatter",
         "x": [
          "2021-08-27T00:00:00",
          "2021-08-28T00:00:00"
         ],
         "y": [
          "0",
          "0"
         ]
        },
        {
         "hoverinfo": "skip",
         "line": {
          "color": "#1f77b4"
         },
         "mode": "lines+markers",
         "name": "Train",
         "showlegend": false,
         "type": "scatter",
         "x": [
          "2021-08-28T00:00:00",
          "2021-08-29T00:00:00"
         ],
         "y": [
          "0",
          "0"
         ]
        },
        {
         "hoverinfo": "skip",
         "line": {
          "color": "#1f77b4"
         },
         "mode": "lines+markers",
         "name": "Train",
         "showlegend": false,
         "type": "scatter",
         "x": [
          "2021-08-29T00:00:00",
          "2021-08-30T00:00:00"
         ],
         "y": [
          "0",
          "0"
         ]
        },
        {
         "hoverinfo": "skip",
         "line": {
          "color": "#1f77b4"
         },
         "mode": "lines+markers",
         "name": "Train",
         "showlegend": false,
         "type": "scatter",
         "x": [
          "2021-08-30T00:00:00",
          "2021-08-31T00:00:00"
         ],
         "y": [
          "0",
          "0"
         ]
        },
        {
         "hoverinfo": "skip",
         "line": {
          "color": "#1f77b4"
         },
         "mode": "lines+markers",
         "name": "Train",
         "showlegend": false,
         "type": "scatter",
         "x": [
          "2021-08-31T00:00:00",
          "2021-09-01T00:00:00"
         ],
         "y": [
          "0",
          "0"
         ]
        },
        {
         "hoverinfo": "skip",
         "line": {
          "color": "#1f77b4"
         },
         "mode": "lines+markers",
         "name": "Train",
         "showlegend": false,
         "type": "scatter",
         "x": [
          "2021-09-01T00:00:00",
          "2021-09-02T00:00:00"
         ],
         "y": [
          "0",
          "0"
         ]
        },
        {
         "hoverinfo": "skip",
         "line": {
          "color": "#1f77b4"
         },
         "mode": "lines+markers",
         "name": "Train",
         "showlegend": false,
         "type": "scatter",
         "x": [
          "2021-09-02T00:00:00",
          "2021-09-03T00:00:00"
         ],
         "y": [
          "0",
          "0"
         ]
        },
        {
         "hoverinfo": "skip",
         "line": {
          "color": "#1f77b4"
         },
         "mode": "lines+markers",
         "name": "Train",
         "showlegend": false,
         "type": "scatter",
         "x": [
          "2021-09-03T00:00:00",
          "2021-09-04T00:00:00"
         ],
         "y": [
          "0",
          "0"
         ]
        },
        {
         "hoverinfo": "skip",
         "line": {
          "color": "#1f77b4"
         },
         "mode": "lines+markers",
         "name": "Train",
         "showlegend": false,
         "type": "scatter",
         "x": [
          "2021-09-04T00:00:00",
          "2021-09-05T00:00:00"
         ],
         "y": [
          "0",
          "0"
         ]
        },
        {
         "hoverinfo": "skip",
         "line": {
          "color": "#1f77b4"
         },
         "mode": "lines+markers",
         "name": "Train",
         "showlegend": false,
         "type": "scatter",
         "x": [
          "2021-09-05T00:00:00",
          "2021-09-06T00:00:00"
         ],
         "y": [
          "0",
          "0"
         ]
        },
        {
         "hoverinfo": "skip",
         "line": {
          "color": "#1f77b4"
         },
         "mode": "lines+markers",
         "name": "Train",
         "showlegend": false,
         "type": "scatter",
         "x": [
          "2021-09-06T00:00:00",
          "2021-09-07T00:00:00"
         ],
         "y": [
          "0",
          "0"
         ]
        },
        {
         "hoverinfo": "skip",
         "line": {
          "color": "#DE970B"
         },
         "mode": "lines+markers",
         "name": "ForecastHorizon",
         "showlegend": false,
         "type": "scatter",
         "x": [
          "2021-09-08T00:00:00",
          "2021-09-09T00:00:00"
         ],
         "y": [
          "0",
          "0"
         ]
        },
        {
         "hoverinfo": "skip",
         "line": {
          "color": "#DE970B"
         },
         "mode": "lines+markers",
         "name": "ForecastHorizon",
         "showlegend": false,
         "type": "scatter",
         "x": [
          "2021-09-09T00:00:00",
          "2021-09-10T00:00:00"
         ],
         "y": [
          "0",
          "0"
         ]
        },
        {
         "hoverinfo": "skip",
         "line": {
          "color": "#DE970B"
         },
         "mode": "lines+markers",
         "name": "ForecastHorizon",
         "showlegend": false,
         "type": "scatter",
         "x": [
          "2021-09-10T00:00:00",
          "2021-09-11T00:00:00"
         ],
         "y": [
          "0",
          "0"
         ]
        },
        {
         "hoverinfo": "skip",
         "line": {
          "color": "#DE970B"
         },
         "mode": "lines+markers",
         "name": "ForecastHorizon",
         "showlegend": false,
         "type": "scatter",
         "x": [
          "2021-09-11T00:00:00",
          "2021-09-12T00:00:00"
         ],
         "y": [
          "0",
          "0"
         ]
        },
        {
         "hoverinfo": "skip",
         "line": {
          "color": "#DE970B"
         },
         "mode": "lines+markers",
         "name": "ForecastHorizon",
         "showlegend": false,
         "type": "scatter",
         "x": [
          "2021-09-12T00:00:00",
          "2021-09-13T00:00:00"
         ],
         "y": [
          "0",
          "0"
         ]
        },
        {
         "hoverinfo": "skip",
         "line": {
          "color": "#DE970B"
         },
         "mode": "lines+markers",
         "name": "ForecastHorizon",
         "showlegend": false,
         "type": "scatter",
         "x": [
          "2021-09-13T00:00:00",
          "2021-09-14T00:00:00"
         ],
         "y": [
          "0",
          "0"
         ]
        }
       ],
       "layout": {
        "showlegend": true,
        "template": {
         "data": {
          "bar": [
           {
            "error_x": {
             "color": "rgb(51,51,51)"
            },
            "error_y": {
             "color": "rgb(51,51,51)"
            },
            "marker": {
             "line": {
              "color": "rgb(237,237,237)",
              "width": 0.5
             },
             "pattern": {
              "fillmode": "overlay",
              "size": 10,
              "solidity": 0.2
             }
            },
            "type": "bar"
           }
          ],
          "barpolar": [
           {
            "marker": {
             "line": {
              "color": "rgb(237,237,237)",
              "width": 0.5
             },
             "pattern": {
              "fillmode": "overlay",
              "size": 10,
              "solidity": 0.2
             }
            },
            "type": "barpolar"
           }
          ],
          "carpet": [
           {
            "aaxis": {
             "endlinecolor": "rgb(51,51,51)",
             "gridcolor": "white",
             "linecolor": "white",
             "minorgridcolor": "white",
             "startlinecolor": "rgb(51,51,51)"
            },
            "baxis": {
             "endlinecolor": "rgb(51,51,51)",
             "gridcolor": "white",
             "linecolor": "white",
             "minorgridcolor": "white",
             "startlinecolor": "rgb(51,51,51)"
            },
            "type": "carpet"
           }
          ],
          "choropleth": [
           {
            "colorbar": {
             "outlinewidth": 0,
             "tickcolor": "rgb(237,237,237)",
             "ticklen": 6,
             "ticks": "inside"
            },
            "type": "choropleth"
           }
          ],
          "contour": [
           {
            "colorbar": {
             "outlinewidth": 0,
             "tickcolor": "rgb(237,237,237)",
             "ticklen": 6,
             "ticks": "inside"
            },
            "colorscale": [
             [
              0,
              "rgb(20,44,66)"
             ],
             [
              1,
              "rgb(90,179,244)"
             ]
            ],
            "type": "contour"
           }
          ],
          "contourcarpet": [
           {
            "colorbar": {
             "outlinewidth": 0,
             "tickcolor": "rgb(237,237,237)",
             "ticklen": 6,
             "ticks": "inside"
            },
            "type": "contourcarpet"
           }
          ],
          "heatmap": [
           {
            "colorbar": {
             "outlinewidth": 0,
             "tickcolor": "rgb(237,237,237)",
             "ticklen": 6,
             "ticks": "inside"
            },
            "colorscale": [
             [
              0,
              "rgb(20,44,66)"
             ],
             [
              1,
              "rgb(90,179,244)"
             ]
            ],
            "type": "heatmap"
           }
          ],
          "heatmapgl": [
           {
            "colorbar": {
             "outlinewidth": 0,
             "tickcolor": "rgb(237,237,237)",
             "ticklen": 6,
             "ticks": "inside"
            },
            "colorscale": [
             [
              0,
              "rgb(20,44,66)"
             ],
             [
              1,
              "rgb(90,179,244)"
             ]
            ],
            "type": "heatmapgl"
           }
          ],
          "histogram": [
           {
            "marker": {
             "pattern": {
              "fillmode": "overlay",
              "size": 10,
              "solidity": 0.2
             }
            },
            "type": "histogram"
           }
          ],
          "histogram2d": [
           {
            "colorbar": {
             "outlinewidth": 0,
             "tickcolor": "rgb(237,237,237)",
             "ticklen": 6,
             "ticks": "inside"
            },
            "colorscale": [
             [
              0,
              "rgb(20,44,66)"
             ],
             [
              1,
              "rgb(90,179,244)"
             ]
            ],
            "type": "histogram2d"
           }
          ],
          "histogram2dcontour": [
           {
            "colorbar": {
             "outlinewidth": 0,
             "tickcolor": "rgb(237,237,237)",
             "ticklen": 6,
             "ticks": "inside"
            },
            "colorscale": [
             [
              0,
              "rgb(20,44,66)"
             ],
             [
              1,
              "rgb(90,179,244)"
             ]
            ],
            "type": "histogram2dcontour"
           }
          ],
          "mesh3d": [
           {
            "colorbar": {
             "outlinewidth": 0,
             "tickcolor": "rgb(237,237,237)",
             "ticklen": 6,
             "ticks": "inside"
            },
            "type": "mesh3d"
           }
          ],
          "parcoords": [
           {
            "line": {
             "colorbar": {
              "outlinewidth": 0,
              "tickcolor": "rgb(237,237,237)",
              "ticklen": 6,
              "ticks": "inside"
             }
            },
            "type": "parcoords"
           }
          ],
          "pie": [
           {
            "automargin": true,
            "type": "pie"
           }
          ],
          "scatter": [
           {
            "marker": {
             "colorbar": {
              "outlinewidth": 0,
              "tickcolor": "rgb(237,237,237)",
              "ticklen": 6,
              "ticks": "inside"
             }
            },
            "type": "scatter"
           }
          ],
          "scatter3d": [
           {
            "line": {
             "colorbar": {
              "outlinewidth": 0,
              "tickcolor": "rgb(237,237,237)",
              "ticklen": 6,
              "ticks": "inside"
             }
            },
            "marker": {
             "colorbar": {
              "outlinewidth": 0,
              "tickcolor": "rgb(237,237,237)",
              "ticklen": 6,
              "ticks": "inside"
             }
            },
            "type": "scatter3d"
           }
          ],
          "scattercarpet": [
           {
            "marker": {
             "colorbar": {
              "outlinewidth": 0,
              "tickcolor": "rgb(237,237,237)",
              "ticklen": 6,
              "ticks": "inside"
             }
            },
            "type": "scattercarpet"
           }
          ],
          "scattergeo": [
           {
            "marker": {
             "colorbar": {
              "outlinewidth": 0,
              "tickcolor": "rgb(237,237,237)",
              "ticklen": 6,
              "ticks": "inside"
             }
            },
            "type": "scattergeo"
           }
          ],
          "scattergl": [
           {
            "marker": {
             "colorbar": {
              "outlinewidth": 0,
              "tickcolor": "rgb(237,237,237)",
              "ticklen": 6,
              "ticks": "inside"
             }
            },
            "type": "scattergl"
           }
          ],
          "scattermapbox": [
           {
            "marker": {
             "colorbar": {
              "outlinewidth": 0,
              "tickcolor": "rgb(237,237,237)",
              "ticklen": 6,
              "ticks": "inside"
             }
            },
            "type": "scattermapbox"
           }
          ],
          "scatterpolar": [
           {
            "marker": {
             "colorbar": {
              "outlinewidth": 0,
              "tickcolor": "rgb(237,237,237)",
              "ticklen": 6,
              "ticks": "inside"
             }
            },
            "type": "scatterpolar"
           }
          ],
          "scatterpolargl": [
           {
            "marker": {
             "colorbar": {
              "outlinewidth": 0,
              "tickcolor": "rgb(237,237,237)",
              "ticklen": 6,
              "ticks": "inside"
             }
            },
            "type": "scatterpolargl"
           }
          ],
          "scatterternary": [
           {
            "marker": {
             "colorbar": {
              "outlinewidth": 0,
              "tickcolor": "rgb(237,237,237)",
              "ticklen": 6,
              "ticks": "inside"
             }
            },
            "type": "scatterternary"
           }
          ],
          "surface": [
           {
            "colorbar": {
             "outlinewidth": 0,
             "tickcolor": "rgb(237,237,237)",
             "ticklen": 6,
             "ticks": "inside"
            },
            "colorscale": [
             [
              0,
              "rgb(20,44,66)"
             ],
             [
              1,
              "rgb(90,179,244)"
             ]
            ],
            "type": "surface"
           }
          ],
          "table": [
           {
            "cells": {
             "fill": {
              "color": "rgb(237,237,237)"
             },
             "line": {
              "color": "white"
             }
            },
            "header": {
             "fill": {
              "color": "rgb(217,217,217)"
             },
             "line": {
              "color": "white"
             }
            },
            "type": "table"
           }
          ]
         },
         "layout": {
          "annotationdefaults": {
           "arrowhead": 0,
           "arrowwidth": 1
          },
          "autotypenumbers": "strict",
          "coloraxis": {
           "colorbar": {
            "outlinewidth": 0,
            "tickcolor": "rgb(237,237,237)",
            "ticklen": 6,
            "ticks": "inside"
           }
          },
          "colorscale": {
           "sequential": [
            [
             0,
             "rgb(20,44,66)"
            ],
            [
             1,
             "rgb(90,179,244)"
            ]
           ],
           "sequentialminus": [
            [
             0,
             "rgb(20,44,66)"
            ],
            [
             1,
             "rgb(90,179,244)"
            ]
           ]
          },
          "colorway": [
           "#F8766D",
           "#A3A500",
           "#00BF7D",
           "#00B0F6",
           "#E76BF3"
          ],
          "font": {
           "color": "rgb(51,51,51)"
          },
          "geo": {
           "bgcolor": "white",
           "lakecolor": "white",
           "landcolor": "rgb(237,237,237)",
           "showlakes": true,
           "showland": true,
           "subunitcolor": "white"
          },
          "hoverlabel": {
           "align": "left"
          },
          "hovermode": "closest",
          "paper_bgcolor": "white",
          "plot_bgcolor": "rgb(237,237,237)",
          "polar": {
           "angularaxis": {
            "gridcolor": "white",
            "linecolor": "white",
            "showgrid": true,
            "tickcolor": "rgb(51,51,51)",
            "ticks": "outside"
           },
           "bgcolor": "rgb(237,237,237)",
           "radialaxis": {
            "gridcolor": "white",
            "linecolor": "white",
            "showgrid": true,
            "tickcolor": "rgb(51,51,51)",
            "ticks": "outside"
           }
          },
          "scene": {
           "xaxis": {
            "backgroundcolor": "rgb(237,237,237)",
            "gridcolor": "white",
            "gridwidth": 2,
            "linecolor": "white",
            "showbackground": true,
            "showgrid": true,
            "tickcolor": "rgb(51,51,51)",
            "ticks": "outside",
            "zerolinecolor": "white"
           },
           "yaxis": {
            "backgroundcolor": "rgb(237,237,237)",
            "gridcolor": "white",
            "gridwidth": 2,
            "linecolor": "white",
            "showbackground": true,
            "showgrid": true,
            "tickcolor": "rgb(51,51,51)",
            "ticks": "outside",
            "zerolinecolor": "white"
           },
           "zaxis": {
            "backgroundcolor": "rgb(237,237,237)",
            "gridcolor": "white",
            "gridwidth": 2,
            "linecolor": "white",
            "showbackground": true,
            "showgrid": true,
            "tickcolor": "rgb(51,51,51)",
            "ticks": "outside",
            "zerolinecolor": "white"
           }
          },
          "shapedefaults": {
           "fillcolor": "black",
           "line": {
            "width": 0
           },
           "opacity": 0.3
          },
          "ternary": {
           "aaxis": {
            "gridcolor": "white",
            "linecolor": "white",
            "showgrid": true,
            "tickcolor": "rgb(51,51,51)",
            "ticks": "outside"
           },
           "baxis": {
            "gridcolor": "white",
            "linecolor": "white",
            "showgrid": true,
            "tickcolor": "rgb(51,51,51)",
            "ticks": "outside"
           },
           "bgcolor": "rgb(237,237,237)",
           "caxis": {
            "gridcolor": "white",
            "linecolor": "white",
            "showgrid": true,
            "tickcolor": "rgb(51,51,51)",
            "ticks": "outside"
           }
          },
          "xaxis": {
           "automargin": true,
           "gridcolor": "white",
           "linecolor": "white",
           "showgrid": true,
           "tickcolor": "rgb(51,51,51)",
           "ticks": "outside",
           "title": {
            "standoff": 15
           },
           "zerolinecolor": "white"
          },
          "yaxis": {
           "automargin": true,
           "gridcolor": "white",
           "linecolor": "white",
           "showgrid": true,
           "tickcolor": "rgb(51,51,51)",
           "ticks": "outside",
           "title": {
            "standoff": 15
           },
           "zerolinecolor": "white"
          }
         }
        },
        "title": {
         "text": "Train Cross-Validation Splits"
        },
        "xaxis": {
         "title": {
          "text": "Time"
         },
         "zeroline": false
        },
        "yaxis": {
         "title": {
          "text": "Windows"
         }
        }
       }
      }
     },
     "metadata": {},
     "output_type": "display_data"
    }
   ],
   "source": [
    "# cross-validation plot\n",
    "plot_model(plot = 'cv')"
   ]
  },
  {
   "cell_type": "code",
   "execution_count": 37,
   "metadata": {},
   "outputs": [
    {
     "data": {
      "application/vnd.plotly.v1+json": {
       "config": {
        "plotlyServerURL": "https://plot.ly"
       },
       "data": [
        {
         "marker": {
          "color": "#1f77b4",
          "size": 10
         },
         "mode": "markers",
         "name": "ACF",
         "showlegend": false,
         "type": "scatter",
         "x": [
          0,
          1,
          2,
          3,
          4,
          5,
          6,
          7,
          8,
          9,
          10,
          11,
          12,
          13,
          14,
          15,
          16,
          17,
          18,
          19,
          20,
          21,
          22,
          23,
          24,
          25,
          26,
          27,
          28,
          29,
          30,
          31,
          32,
          33,
          34,
          35,
          36,
          37,
          38,
          39,
          40
         ],
         "y": [
          1,
          0.6201139231368101,
          0.1045815921303086,
          -0.05788192553172774,
          -0.0342592252220979,
          0.11473433944416002,
          0.5195082444044482,
          0.7896109517181272,
          0.48126128990718986,
          0.027911015623095708,
          -0.13087498599283717,
          -0.11547859686129827,
          0.014495499679403065,
          0.3913760178925196,
          0.6287519853308668,
          0.36302831755913845,
          -0.026999130376680003,
          -0.17420366947409915,
          -0.1743459973376004,
          -0.06729245022005863,
          0.27422401215042663,
          0.5195606573936575,
          0.3144170580931283,
          -0.042347240099468844,
          -0.17685768185655237,
          -0.18051750793500096,
          -0.09658903929821415,
          0.21751843182084762,
          0.46028889643681564,
          0.2954774444536944,
          -0.033123686865388025,
          -0.17082119077117794,
          -0.19571004821977434,
          -0.1379950569345843,
          0.12395282250290908,
          0.33987440858303974,
          0.1902491729807324,
          -0.09781434128086076,
          -0.2094794861217347,
          -0.2360451857612301,
          -0.20752282222731666
         ]
        },
        {
         "line": {
          "color": "#3f3f3f"
         },
         "mode": "lines",
         "name": "Lag1",
         "showlegend": false,
         "type": "scatter",
         "x": [
          0,
          0
         ],
         "y": [
          0,
          1
         ]
        },
        {
         "line": {
          "color": "#3f3f3f"
         },
         "mode": "lines",
         "name": "Lag2",
         "showlegend": false,
         "type": "scatter",
         "x": [
          1,
          1
         ],
         "y": [
          0,
          0.6201139231368101
         ]
        },
        {
         "line": {
          "color": "#3f3f3f"
         },
         "mode": "lines",
         "name": "Lag3",
         "showlegend": false,
         "type": "scatter",
         "x": [
          2,
          2
         ],
         "y": [
          0,
          0.1045815921303086
         ]
        },
        {
         "line": {
          "color": "#3f3f3f"
         },
         "mode": "lines",
         "name": "Lag4",
         "showlegend": false,
         "type": "scatter",
         "x": [
          3,
          3
         ],
         "y": [
          0,
          -0.05788192553172774
         ]
        },
        {
         "line": {
          "color": "#3f3f3f"
         },
         "mode": "lines",
         "name": "Lag5",
         "showlegend": false,
         "type": "scatter",
         "x": [
          4,
          4
         ],
         "y": [
          0,
          -0.0342592252220979
         ]
        },
        {
         "line": {
          "color": "#3f3f3f"
         },
         "mode": "lines",
         "name": "Lag6",
         "showlegend": false,
         "type": "scatter",
         "x": [
          5,
          5
         ],
         "y": [
          0,
          0.11473433944416002
         ]
        },
        {
         "line": {
          "color": "#3f3f3f"
         },
         "mode": "lines",
         "name": "Lag7",
         "showlegend": false,
         "type": "scatter",
         "x": [
          6,
          6
         ],
         "y": [
          0,
          0.5195082444044482
         ]
        },
        {
         "line": {
          "color": "#3f3f3f"
         },
         "mode": "lines",
         "name": "Lag8",
         "showlegend": false,
         "type": "scatter",
         "x": [
          7,
          7
         ],
         "y": [
          0,
          0.7896109517181272
         ]
        },
        {
         "line": {
          "color": "#3f3f3f"
         },
         "mode": "lines",
         "name": "Lag9",
         "showlegend": false,
         "type": "scatter",
         "x": [
          8,
          8
         ],
         "y": [
          0,
          0.48126128990718986
         ]
        },
        {
         "line": {
          "color": "#3f3f3f"
         },
         "mode": "lines",
         "name": "Lag10",
         "showlegend": false,
         "type": "scatter",
         "x": [
          9,
          9
         ],
         "y": [
          0,
          0.027911015623095708
         ]
        },
        {
         "line": {
          "color": "#3f3f3f"
         },
         "mode": "lines",
         "name": "Lag11",
         "showlegend": false,
         "type": "scatter",
         "x": [
          10,
          10
         ],
         "y": [
          0,
          -0.13087498599283717
         ]
        },
        {
         "line": {
          "color": "#3f3f3f"
         },
         "mode": "lines",
         "name": "Lag12",
         "showlegend": false,
         "type": "scatter",
         "x": [
          11,
          11
         ],
         "y": [
          0,
          -0.11547859686129827
         ]
        },
        {
         "line": {
          "color": "#3f3f3f"
         },
         "mode": "lines",
         "name": "Lag13",
         "showlegend": false,
         "type": "scatter",
         "x": [
          12,
          12
         ],
         "y": [
          0,
          0.014495499679403065
         ]
        },
        {
         "line": {
          "color": "#3f3f3f"
         },
         "mode": "lines",
         "name": "Lag14",
         "showlegend": false,
         "type": "scatter",
         "x": [
          13,
          13
         ],
         "y": [
          0,
          0.3913760178925196
         ]
        },
        {
         "line": {
          "color": "#3f3f3f"
         },
         "mode": "lines",
         "name": "Lag15",
         "showlegend": false,
         "type": "scatter",
         "x": [
          14,
          14
         ],
         "y": [
          0,
          0.6287519853308668
         ]
        },
        {
         "line": {
          "color": "#3f3f3f"
         },
         "mode": "lines",
         "name": "Lag16",
         "showlegend": false,
         "type": "scatter",
         "x": [
          15,
          15
         ],
         "y": [
          0,
          0.36302831755913845
         ]
        },
        {
         "line": {
          "color": "#3f3f3f"
         },
         "mode": "lines",
         "name": "Lag17",
         "showlegend": false,
         "type": "scatter",
         "x": [
          16,
          16
         ],
         "y": [
          0,
          -0.026999130376680003
         ]
        },
        {
         "line": {
          "color": "#3f3f3f"
         },
         "mode": "lines",
         "name": "Lag18",
         "showlegend": false,
         "type": "scatter",
         "x": [
          17,
          17
         ],
         "y": [
          0,
          -0.17420366947409915
         ]
        },
        {
         "line": {
          "color": "#3f3f3f"
         },
         "mode": "lines",
         "name": "Lag19",
         "showlegend": false,
         "type": "scatter",
         "x": [
          18,
          18
         ],
         "y": [
          0,
          -0.1743459973376004
         ]
        },
        {
         "line": {
          "color": "#3f3f3f"
         },
         "mode": "lines",
         "name": "Lag20",
         "showlegend": false,
         "type": "scatter",
         "x": [
          19,
          19
         ],
         "y": [
          0,
          -0.06729245022005863
         ]
        },
        {
         "line": {
          "color": "#3f3f3f"
         },
         "mode": "lines",
         "name": "Lag21",
         "showlegend": false,
         "type": "scatter",
         "x": [
          20,
          20
         ],
         "y": [
          0,
          0.27422401215042663
         ]
        },
        {
         "line": {
          "color": "#3f3f3f"
         },
         "mode": "lines",
         "name": "Lag22",
         "showlegend": false,
         "type": "scatter",
         "x": [
          21,
          21
         ],
         "y": [
          0,
          0.5195606573936575
         ]
        },
        {
         "line": {
          "color": "#3f3f3f"
         },
         "mode": "lines",
         "name": "Lag23",
         "showlegend": false,
         "type": "scatter",
         "x": [
          22,
          22
         ],
         "y": [
          0,
          0.3144170580931283
         ]
        },
        {
         "line": {
          "color": "#3f3f3f"
         },
         "mode": "lines",
         "name": "Lag24",
         "showlegend": false,
         "type": "scatter",
         "x": [
          23,
          23
         ],
         "y": [
          0,
          -0.042347240099468844
         ]
        },
        {
         "line": {
          "color": "#3f3f3f"
         },
         "mode": "lines",
         "name": "Lag25",
         "showlegend": false,
         "type": "scatter",
         "x": [
          24,
          24
         ],
         "y": [
          0,
          -0.17685768185655237
         ]
        },
        {
         "line": {
          "color": "#3f3f3f"
         },
         "mode": "lines",
         "name": "Lag26",
         "showlegend": false,
         "type": "scatter",
         "x": [
          25,
          25
         ],
         "y": [
          0,
          -0.18051750793500096
         ]
        },
        {
         "line": {
          "color": "#3f3f3f"
         },
         "mode": "lines",
         "name": "Lag27",
         "showlegend": false,
         "type": "scatter",
         "x": [
          26,
          26
         ],
         "y": [
          0,
          -0.09658903929821415
         ]
        },
        {
         "line": {
          "color": "#3f3f3f"
         },
         "mode": "lines",
         "name": "Lag28",
         "showlegend": false,
         "type": "scatter",
         "x": [
          27,
          27
         ],
         "y": [
          0,
          0.21751843182084762
         ]
        },
        {
         "line": {
          "color": "#3f3f3f"
         },
         "mode": "lines",
         "name": "Lag29",
         "showlegend": false,
         "type": "scatter",
         "x": [
          28,
          28
         ],
         "y": [
          0,
          0.46028889643681564
         ]
        },
        {
         "line": {
          "color": "#3f3f3f"
         },
         "mode": "lines",
         "name": "Lag30",
         "showlegend": false,
         "type": "scatter",
         "x": [
          29,
          29
         ],
         "y": [
          0,
          0.2954774444536944
         ]
        },
        {
         "line": {
          "color": "#3f3f3f"
         },
         "mode": "lines",
         "name": "Lag31",
         "showlegend": false,
         "type": "scatter",
         "x": [
          30,
          30
         ],
         "y": [
          0,
          -0.033123686865388025
         ]
        },
        {
         "line": {
          "color": "#3f3f3f"
         },
         "mode": "lines",
         "name": "Lag32",
         "showlegend": false,
         "type": "scatter",
         "x": [
          31,
          31
         ],
         "y": [
          0,
          -0.17082119077117794
         ]
        },
        {
         "line": {
          "color": "#3f3f3f"
         },
         "mode": "lines",
         "name": "Lag33",
         "showlegend": false,
         "type": "scatter",
         "x": [
          32,
          32
         ],
         "y": [
          0,
          -0.19571004821977434
         ]
        },
        {
         "line": {
          "color": "#3f3f3f"
         },
         "mode": "lines",
         "name": "Lag34",
         "showlegend": false,
         "type": "scatter",
         "x": [
          33,
          33
         ],
         "y": [
          0,
          -0.1379950569345843
         ]
        },
        {
         "line": {
          "color": "#3f3f3f"
         },
         "mode": "lines",
         "name": "Lag35",
         "showlegend": false,
         "type": "scatter",
         "x": [
          34,
          34
         ],
         "y": [
          0,
          0.12395282250290908
         ]
        },
        {
         "line": {
          "color": "#3f3f3f"
         },
         "mode": "lines",
         "name": "Lag36",
         "showlegend": false,
         "type": "scatter",
         "x": [
          35,
          35
         ],
         "y": [
          0,
          0.33987440858303974
         ]
        },
        {
         "line": {
          "color": "#3f3f3f"
         },
         "mode": "lines",
         "name": "Lag37",
         "showlegend": false,
         "type": "scatter",
         "x": [
          36,
          36
         ],
         "y": [
          0,
          0.1902491729807324
         ]
        },
        {
         "line": {
          "color": "#3f3f3f"
         },
         "mode": "lines",
         "name": "Lag38",
         "showlegend": false,
         "type": "scatter",
         "x": [
          37,
          37
         ],
         "y": [
          0,
          -0.09781434128086076
         ]
        },
        {
         "line": {
          "color": "#3f3f3f"
         },
         "mode": "lines",
         "name": "Lag39",
         "showlegend": false,
         "type": "scatter",
         "x": [
          38,
          38
         ],
         "y": [
          0,
          -0.2094794861217347
         ]
        },
        {
         "line": {
          "color": "#3f3f3f"
         },
         "mode": "lines",
         "name": "Lag40",
         "showlegend": false,
         "type": "scatter",
         "x": [
          39,
          39
         ],
         "y": [
          0,
          -0.2360451857612301
         ]
        },
        {
         "line": {
          "color": "#3f3f3f"
         },
         "mode": "lines",
         "name": "Lag41",
         "showlegend": false,
         "type": "scatter",
         "x": [
          40,
          40
         ],
         "y": [
          0,
          -0.20752282222731666
         ]
        },
        {
         "line": {
          "color": "rgba(255,255,255,0)"
         },
         "mode": "lines",
         "name": "UC",
         "showlegend": false,
         "type": "scatter",
         "x": [
          0,
          1,
          2,
          3,
          4,
          5,
          6,
          7,
          8,
          9,
          10,
          11,
          12,
          13,
          14,
          15,
          16,
          17,
          18,
          19,
          20,
          21,
          22,
          23,
          24,
          25,
          26,
          27,
          28,
          29,
          30,
          31,
          32,
          33,
          34,
          35,
          36,
          37,
          38,
          39,
          40
         ],
         "y": [
          0,
          0.20659834410152056,
          0.2747899760975552,
          0.2764836389406401,
          0.27700036995724814,
          0.27718116507196844,
          0.2792009139453532,
          0.31779303322558927,
          0.3927043626350738,
          0.41711927013902245,
          0.4171989783763467,
          0.41894767514985687,
          0.42030409581756456,
          0.4203254334096295,
          0.4356023243324493,
          0.4727546374263556,
          0.4845072362630208,
          0.4845714494431588,
          0.48723718774072944,
          0.48989274282425266,
          0.49028711891396753,
          0.49679056131011334,
          0.5194658530691054,
          0.5275261769343017,
          0.5276712544684797,
          0.530195320021419,
          0.5328122131380539,
          0.5335590589062219,
          0.5373307058081305,
          0.5539046637048163,
          0.5605920061261439,
          0.5606755379103184,
          0.562892548477141,
          0.5657894805095545,
          0.5672242282968619,
          0.5683791959354133,
          0.5769886499580453,
          0.5796599813951034,
          0.5803640609719993,
          0.583582413833897,
          0.58764341693187
         ]
        },
        {
         "fill": "tonexty",
         "fillcolor": "rgba(32, 146, 230,0.3)",
         "line": {
          "color": "rgba(255,255,255,0)"
         },
         "mode": "lines",
         "name": "LC",
         "showlegend": false,
         "type": "scatter",
         "x": [
          0,
          1,
          2,
          3,
          4,
          5,
          6,
          7,
          8,
          9,
          10,
          11,
          12,
          13,
          14,
          15,
          16,
          17,
          18,
          19,
          20,
          21,
          22,
          23,
          24,
          25,
          26,
          27,
          28,
          29,
          30,
          31,
          32,
          33,
          34,
          35,
          36,
          37,
          38,
          39,
          40
         ],
         "y": [
          0,
          -0.20659834410152056,
          -0.2747899760975552,
          -0.2764836389406401,
          -0.27700036995724814,
          -0.27718116507196844,
          -0.2792009139453532,
          -0.31779303322558916,
          -0.3927043626350738,
          -0.41711927013902245,
          -0.4171989783763467,
          -0.418947675149857,
          -0.42030409581756456,
          -0.4203254334096295,
          -0.43560232433244933,
          -0.47275463742635565,
          -0.48450723626302084,
          -0.4845714494431588,
          -0.48723718774072955,
          -0.4898927428242526,
          -0.4902871189139675,
          -0.4967905613101133,
          -0.5194658530691054,
          -0.5275261769343017,
          -0.5276712544684797,
          -0.530195320021419,
          -0.5328122131380539,
          -0.5335590589062219,
          -0.5373307058081305,
          -0.5539046637048163,
          -0.5605920061261439,
          -0.5606755379103184,
          -0.562892548477141,
          -0.5657894805095545,
          -0.5672242282968619,
          -0.5683791959354133,
          -0.5769886499580453,
          -0.5796599813951034,
          -0.5803640609719993,
          -0.583582413833897,
          -0.58764341693187
         ]
        },
        {
         "line": {
          "color": "#3f3f3f"
         },
         "mode": "lines",
         "name": "",
         "showlegend": false,
         "type": "scatter",
         "x": [
          0,
          41
         ],
         "y": [
          0,
          0
         ]
        }
       ],
       "layout": {
        "template": {
         "data": {
          "bar": [
           {
            "error_x": {
             "color": "rgb(51,51,51)"
            },
            "error_y": {
             "color": "rgb(51,51,51)"
            },
            "marker": {
             "line": {
              "color": "rgb(237,237,237)",
              "width": 0.5
             },
             "pattern": {
              "fillmode": "overlay",
              "size": 10,
              "solidity": 0.2
             }
            },
            "type": "bar"
           }
          ],
          "barpolar": [
           {
            "marker": {
             "line": {
              "color": "rgb(237,237,237)",
              "width": 0.5
             },
             "pattern": {
              "fillmode": "overlay",
              "size": 10,
              "solidity": 0.2
             }
            },
            "type": "barpolar"
           }
          ],
          "carpet": [
           {
            "aaxis": {
             "endlinecolor": "rgb(51,51,51)",
             "gridcolor": "white",
             "linecolor": "white",
             "minorgridcolor": "white",
             "startlinecolor": "rgb(51,51,51)"
            },
            "baxis": {
             "endlinecolor": "rgb(51,51,51)",
             "gridcolor": "white",
             "linecolor": "white",
             "minorgridcolor": "white",
             "startlinecolor": "rgb(51,51,51)"
            },
            "type": "carpet"
           }
          ],
          "choropleth": [
           {
            "colorbar": {
             "outlinewidth": 0,
             "tickcolor": "rgb(237,237,237)",
             "ticklen": 6,
             "ticks": "inside"
            },
            "type": "choropleth"
           }
          ],
          "contour": [
           {
            "colorbar": {
             "outlinewidth": 0,
             "tickcolor": "rgb(237,237,237)",
             "ticklen": 6,
             "ticks": "inside"
            },
            "colorscale": [
             [
              0,
              "rgb(20,44,66)"
             ],
             [
              1,
              "rgb(90,179,244)"
             ]
            ],
            "type": "contour"
           }
          ],
          "contourcarpet": [
           {
            "colorbar": {
             "outlinewidth": 0,
             "tickcolor": "rgb(237,237,237)",
             "ticklen": 6,
             "ticks": "inside"
            },
            "type": "contourcarpet"
           }
          ],
          "heatmap": [
           {
            "colorbar": {
             "outlinewidth": 0,
             "tickcolor": "rgb(237,237,237)",
             "ticklen": 6,
             "ticks": "inside"
            },
            "colorscale": [
             [
              0,
              "rgb(20,44,66)"
             ],
             [
              1,
              "rgb(90,179,244)"
             ]
            ],
            "type": "heatmap"
           }
          ],
          "heatmapgl": [
           {
            "colorbar": {
             "outlinewidth": 0,
             "tickcolor": "rgb(237,237,237)",
             "ticklen": 6,
             "ticks": "inside"
            },
            "colorscale": [
             [
              0,
              "rgb(20,44,66)"
             ],
             [
              1,
              "rgb(90,179,244)"
             ]
            ],
            "type": "heatmapgl"
           }
          ],
          "histogram": [
           {
            "marker": {
             "pattern": {
              "fillmode": "overlay",
              "size": 10,
              "solidity": 0.2
             }
            },
            "type": "histogram"
           }
          ],
          "histogram2d": [
           {
            "colorbar": {
             "outlinewidth": 0,
             "tickcolor": "rgb(237,237,237)",
             "ticklen": 6,
             "ticks": "inside"
            },
            "colorscale": [
             [
              0,
              "rgb(20,44,66)"
             ],
             [
              1,
              "rgb(90,179,244)"
             ]
            ],
            "type": "histogram2d"
           }
          ],
          "histogram2dcontour": [
           {
            "colorbar": {
             "outlinewidth": 0,
             "tickcolor": "rgb(237,237,237)",
             "ticklen": 6,
             "ticks": "inside"
            },
            "colorscale": [
             [
              0,
              "rgb(20,44,66)"
             ],
             [
              1,
              "rgb(90,179,244)"
             ]
            ],
            "type": "histogram2dcontour"
           }
          ],
          "mesh3d": [
           {
            "colorbar": {
             "outlinewidth": 0,
             "tickcolor": "rgb(237,237,237)",
             "ticklen": 6,
             "ticks": "inside"
            },
            "type": "mesh3d"
           }
          ],
          "parcoords": [
           {
            "line": {
             "colorbar": {
              "outlinewidth": 0,
              "tickcolor": "rgb(237,237,237)",
              "ticklen": 6,
              "ticks": "inside"
             }
            },
            "type": "parcoords"
           }
          ],
          "pie": [
           {
            "automargin": true,
            "type": "pie"
           }
          ],
          "scatter": [
           {
            "marker": {
             "colorbar": {
              "outlinewidth": 0,
              "tickcolor": "rgb(237,237,237)",
              "ticklen": 6,
              "ticks": "inside"
             }
            },
            "type": "scatter"
           }
          ],
          "scatter3d": [
           {
            "line": {
             "colorbar": {
              "outlinewidth": 0,
              "tickcolor": "rgb(237,237,237)",
              "ticklen": 6,
              "ticks": "inside"
             }
            },
            "marker": {
             "colorbar": {
              "outlinewidth": 0,
              "tickcolor": "rgb(237,237,237)",
              "ticklen": 6,
              "ticks": "inside"
             }
            },
            "type": "scatter3d"
           }
          ],
          "scattercarpet": [
           {
            "marker": {
             "colorbar": {
              "outlinewidth": 0,
              "tickcolor": "rgb(237,237,237)",
              "ticklen": 6,
              "ticks": "inside"
             }
            },
            "type": "scattercarpet"
           }
          ],
          "scattergeo": [
           {
            "marker": {
             "colorbar": {
              "outlinewidth": 0,
              "tickcolor": "rgb(237,237,237)",
              "ticklen": 6,
              "ticks": "inside"
             }
            },
            "type": "scattergeo"
           }
          ],
          "scattergl": [
           {
            "marker": {
             "colorbar": {
              "outlinewidth": 0,
              "tickcolor": "rgb(237,237,237)",
              "ticklen": 6,
              "ticks": "inside"
             }
            },
            "type": "scattergl"
           }
          ],
          "scattermapbox": [
           {
            "marker": {
             "colorbar": {
              "outlinewidth": 0,
              "tickcolor": "rgb(237,237,237)",
              "ticklen": 6,
              "ticks": "inside"
             }
            },
            "type": "scattermapbox"
           }
          ],
          "scatterpolar": [
           {
            "marker": {
             "colorbar": {
              "outlinewidth": 0,
              "tickcolor": "rgb(237,237,237)",
              "ticklen": 6,
              "ticks": "inside"
             }
            },
            "type": "scatterpolar"
           }
          ],
          "scatterpolargl": [
           {
            "marker": {
             "colorbar": {
              "outlinewidth": 0,
              "tickcolor": "rgb(237,237,237)",
              "ticklen": 6,
              "ticks": "inside"
             }
            },
            "type": "scatterpolargl"
           }
          ],
          "scatterternary": [
           {
            "marker": {
             "colorbar": {
              "outlinewidth": 0,
              "tickcolor": "rgb(237,237,237)",
              "ticklen": 6,
              "ticks": "inside"
             }
            },
            "type": "scatterternary"
           }
          ],
          "surface": [
           {
            "colorbar": {
             "outlinewidth": 0,
             "tickcolor": "rgb(237,237,237)",
             "ticklen": 6,
             "ticks": "inside"
            },
            "colorscale": [
             [
              0,
              "rgb(20,44,66)"
             ],
             [
              1,
              "rgb(90,179,244)"
             ]
            ],
            "type": "surface"
           }
          ],
          "table": [
           {
            "cells": {
             "fill": {
              "color": "rgb(237,237,237)"
             },
             "line": {
              "color": "white"
             }
            },
            "header": {
             "fill": {
              "color": "rgb(217,217,217)"
             },
             "line": {
              "color": "white"
             }
            },
            "type": "table"
           }
          ]
         },
         "layout": {
          "annotationdefaults": {
           "arrowhead": 0,
           "arrowwidth": 1
          },
          "autotypenumbers": "strict",
          "coloraxis": {
           "colorbar": {
            "outlinewidth": 0,
            "tickcolor": "rgb(237,237,237)",
            "ticklen": 6,
            "ticks": "inside"
           }
          },
          "colorscale": {
           "sequential": [
            [
             0,
             "rgb(20,44,66)"
            ],
            [
             1,
             "rgb(90,179,244)"
            ]
           ],
           "sequentialminus": [
            [
             0,
             "rgb(20,44,66)"
            ],
            [
             1,
             "rgb(90,179,244)"
            ]
           ]
          },
          "colorway": [
           "#F8766D",
           "#A3A500",
           "#00BF7D",
           "#00B0F6",
           "#E76BF3"
          ],
          "font": {
           "color": "rgb(51,51,51)"
          },
          "geo": {
           "bgcolor": "white",
           "lakecolor": "white",
           "landcolor": "rgb(237,237,237)",
           "showlakes": true,
           "showland": true,
           "subunitcolor": "white"
          },
          "hoverlabel": {
           "align": "left"
          },
          "hovermode": "closest",
          "paper_bgcolor": "white",
          "plot_bgcolor": "rgb(237,237,237)",
          "polar": {
           "angularaxis": {
            "gridcolor": "white",
            "linecolor": "white",
            "showgrid": true,
            "tickcolor": "rgb(51,51,51)",
            "ticks": "outside"
           },
           "bgcolor": "rgb(237,237,237)",
           "radialaxis": {
            "gridcolor": "white",
            "linecolor": "white",
            "showgrid": true,
            "tickcolor": "rgb(51,51,51)",
            "ticks": "outside"
           }
          },
          "scene": {
           "xaxis": {
            "backgroundcolor": "rgb(237,237,237)",
            "gridcolor": "white",
            "gridwidth": 2,
            "linecolor": "white",
            "showbackground": true,
            "showgrid": true,
            "tickcolor": "rgb(51,51,51)",
            "ticks": "outside",
            "zerolinecolor": "white"
           },
           "yaxis": {
            "backgroundcolor": "rgb(237,237,237)",
            "gridcolor": "white",
            "gridwidth": 2,
            "linecolor": "white",
            "showbackground": true,
            "showgrid": true,
            "tickcolor": "rgb(51,51,51)",
            "ticks": "outside",
            "zerolinecolor": "white"
           },
           "zaxis": {
            "backgroundcolor": "rgb(237,237,237)",
            "gridcolor": "white",
            "gridwidth": 2,
            "linecolor": "white",
            "showbackground": true,
            "showgrid": true,
            "tickcolor": "rgb(51,51,51)",
            "ticks": "outside",
            "zerolinecolor": "white"
           }
          },
          "shapedefaults": {
           "fillcolor": "black",
           "line": {
            "width": 0
           },
           "opacity": 0.3
          },
          "ternary": {
           "aaxis": {
            "gridcolor": "white",
            "linecolor": "white",
            "showgrid": true,
            "tickcolor": "rgb(51,51,51)",
            "ticks": "outside"
           },
           "baxis": {
            "gridcolor": "white",
            "linecolor": "white",
            "showgrid": true,
            "tickcolor": "rgb(51,51,51)",
            "ticks": "outside"
           },
           "bgcolor": "rgb(237,237,237)",
           "caxis": {
            "gridcolor": "white",
            "linecolor": "white",
            "showgrid": true,
            "tickcolor": "rgb(51,51,51)",
            "ticks": "outside"
           }
          },
          "xaxis": {
           "automargin": true,
           "gridcolor": "white",
           "linecolor": "white",
           "showgrid": true,
           "tickcolor": "rgb(51,51,51)",
           "ticks": "outside",
           "title": {
            "standoff": 15
           },
           "zerolinecolor": "white"
          },
          "yaxis": {
           "automargin": true,
           "gridcolor": "white",
           "linecolor": "white",
           "showgrid": true,
           "tickcolor": "rgb(51,51,51)",
           "ticks": "outside",
           "title": {
            "standoff": 15
           },
           "zerolinecolor": "white"
          }
         }
        },
        "title": {
         "text": "Autocorrelation (ACF) | Total"
        },
        "xaxis": {
         "range": [
          -1,
          42
         ]
        },
        "yaxis": {
         "zerolinecolor": "#000000"
        }
       }
      }
     },
     "metadata": {},
     "output_type": "display_data"
    }
   ],
   "source": [
    "# ACF plot\n",
    "plot_model(plot = 'acf')"
   ]
  },
  {
   "cell_type": "code",
   "execution_count": 38,
   "metadata": {},
   "outputs": [
    {
     "data": {
      "application/vnd.plotly.v1+json": {
       "config": {
        "plotlyServerURL": "https://plot.ly"
       },
       "data": [
        {
         "marker": {
          "color": "#1f77b4"
         },
         "mode": "markers",
         "name": "Total",
         "showlegend": false,
         "type": "scatter",
         "x": [
          -2.2907474943568853,
          -2.014509733814348,
          -1.8388716539953431,
          -1.7065157957528905,
          -1.5986872595945827,
          -1.5067758106106854,
          -1.4260768722728474,
          -1.353724853678262,
          -1.2878384698340328,
          -1.2271127409207154,
          -1.1706033708794157,
          -1.1176037564176386,
          -1.0675705238781414,
          -1.0200762327862014,
          -0.9747781260151197,
          -0.9313967882247426,
          -0.8897011550847603,
          -0.8494977249382524,
          -0.8106226289783306,
          -0.7729356931282201,
          -0.7363159173761294,
          -0.7006579830264444,
          -0.6658695180010484,
          -0.6318689296678398,
          -0.598583668378363,
          -0.5659488219328631,
          -0.5339059671688102,
          -0.5024022233733555,
          -0.47138946558848843,
          -0.44082366566118486,
          -0.41066433613643266,
          -0.380874057516038,
          -0.35141807350901116,
          -0.32226394203104647,
          -0.29338123212119327,
          -0.26474125881342875,
          -0.23631684946065165,
          -0.20808213615499319,
          -0.1800123697927051,
          -0.15208375204759333,
          -0.1242732820840687,
          -0.09655861528963908,
          -0.06891793165996678,
          -0.04132981174473867,
          -0.013773118272557037,
          0.013773118272557037,
          0.041329811744738806,
          0.06891793165996678,
          0.09655861528963908,
          0.12427328208406883,
          0.15208375204759333,
          0.18001236979270496,
          0.20808213615499335,
          0.23631684946065165,
          0.2647412588134286,
          0.29338123212119344,
          0.32226394203104647,
          0.35141807350901105,
          0.38087405751603814,
          0.41066433613643266,
          0.4408236656611847,
          0.47138946558848843,
          0.5024022233733555,
          0.5339059671688103,
          0.5659488219328631,
          0.598583668378363,
          0.63186892966784,
          0.6658695180010484,
          0.7006579830264444,
          0.7363159173761297,
          0.7729356931282201,
          0.8106226289783306,
          0.8494977249382524,
          0.8897011550847603,
          0.9313967882247426,
          0.9747781260151197,
          1.0200762327862014,
          1.0675705238781412,
          1.1176037564176386,
          1.1706033708794157,
          1.2271127409207154,
          1.2878384698340328,
          1.353724853678262,
          1.4260768722728474,
          1.5067758106106854,
          1.5986872595945827,
          1.7065157957528911,
          1.8388716539953431,
          2.014509733814347,
          2.2907474943568866
         ],
         "xaxis": "x4",
         "y": [
          1914,
          1920,
          1947,
          1996,
          2079,
          2093,
          2341,
          2359,
          2367,
          2426,
          2483,
          2526,
          2532,
          2538,
          2681,
          2725,
          2741,
          3112,
          3128,
          3132,
          3172,
          3276,
          3474,
          3514,
          3567,
          3773,
          3782,
          3795,
          3903,
          3941,
          3948,
          4001,
          4026,
          4064,
          4064,
          4088,
          4224,
          4339,
          4369,
          4430,
          4450,
          4481,
          4542,
          4603,
          4764,
          4789,
          4917,
          4977,
          5006,
          5038,
          5151,
          5193,
          5355,
          5456,
          5592,
          5651,
          5727,
          5777,
          5788,
          5865,
          6034,
          6082,
          6139,
          6279,
          6323,
          6362,
          6365,
          6457,
          6476,
          6643,
          6721,
          6770,
          6877,
          7001,
          7104,
          7115,
          7189,
          7272,
          7278,
          7418,
          7556,
          7798,
          7843,
          7863,
          7999,
          8290,
          8418,
          8765,
          8872,
          9212
         ],
         "yaxis": "y4"
        },
        {
         "line": {
          "color": "#3f3f3f"
         },
         "mode": "lines",
         "name": "Total",
         "showlegend": false,
         "type": "scatter",
         "x": [
          -2.2907474943568853,
          -2.014509733814348,
          -1.8388716539953431,
          -1.7065157957528905,
          -1.5986872595945827,
          -1.5067758106106854,
          -1.4260768722728474,
          -1.353724853678262,
          -1.2878384698340328,
          -1.2271127409207154,
          -1.1706033708794157,
          -1.1176037564176386,
          -1.0675705238781414,
          -1.0200762327862014,
          -0.9747781260151197,
          -0.9313967882247426,
          -0.8897011550847603,
          -0.8494977249382524,
          -0.8106226289783306,
          -0.7729356931282201,
          -0.7363159173761294,
          -0.7006579830264444,
          -0.6658695180010484,
          -0.6318689296678398,
          -0.598583668378363,
          -0.5659488219328631,
          -0.5339059671688102,
          -0.5024022233733555,
          -0.47138946558848843,
          -0.44082366566118486,
          -0.41066433613643266,
          -0.380874057516038,
          -0.35141807350901116,
          -0.32226394203104647,
          -0.29338123212119327,
          -0.26474125881342875,
          -0.23631684946065165,
          -0.20808213615499319,
          -0.1800123697927051,
          -0.15208375204759333,
          -0.1242732820840687,
          -0.09655861528963908,
          -0.06891793165996678,
          -0.04132981174473867,
          -0.013773118272557037,
          0.013773118272557037,
          0.041329811744738806,
          0.06891793165996678,
          0.09655861528963908,
          0.12427328208406883,
          0.15208375204759333,
          0.18001236979270496,
          0.20808213615499335,
          0.23631684946065165,
          0.2647412588134286,
          0.29338123212119344,
          0.32226394203104647,
          0.35141807350901105,
          0.38087405751603814,
          0.41066433613643266,
          0.4408236656611847,
          0.47138946558848843,
          0.5024022233733555,
          0.5339059671688103,
          0.5659488219328631,
          0.598583668378363,
          0.63186892966784,
          0.6658695180010484,
          0.7006579830264444,
          0.7363159173761297,
          0.7729356931282201,
          0.8106226289783306,
          0.8494977249382524,
          0.8897011550847603,
          0.9313967882247426,
          0.9747781260151197,
          1.0200762327862014,
          1.0675705238781412,
          1.1176037564176386,
          1.1706033708794157,
          1.2271127409207154,
          1.2878384698340328,
          1.353724853678262,
          1.4260768722728474,
          1.5067758106106854,
          1.5986872595945827,
          1.7065157957528911,
          1.8388716539953431,
          2.014509733814347,
          2.2907474943568866
         ],
         "xaxis": "x4",
         "y": [
          543.3523819714419,
          1075.9934248163481,
          1414.6583843582048,
          1669.8666593689509,
          1877.7814058359045,
          2055.004859791001,
          2210.6083753578882,
          2350.1173786182144,
          2477.159359161153,
          2594.2505762068604,
          2703.2118193410033,
          2805.405559479408,
          2901.879528513905,
          2993.457916228552,
          3080.801626161842,
          3164.4494263586416,
          3244.8468545528904,
          3322.367020214242,
          3397.3258948160365,
          3469.9937617050773,
          3540.603932838204,
          3609.359483492861,
          3676.438525307085,
          3741.9983850147946,
          3806.1789526887133,
          3869.105391889764,
          3930.8903540315523,
          3991.635803588387,
          4051.4345349985497,
          4110.37144324995,
          4168.52459616437,
          4225.966145935999,
          4282.763109568744,
          4338.9780418182745,
          4394.6696195966215,
          4449.893153192235,
          4504.701036843545,
          4559.143148993658,
          4613.267210810035,
          4667.119110172947,
          4720.743197243034,
          4774.182556852999,
          4827.479262287257,
          4880.674614482833,
          4933.809370279986,
          4986.9239630533475,
          5040.058718850501,
          5093.254071046076,
          5146.550776480334,
          5199.9901360902995,
          5253.614223160386,
          5307.4661225232985,
          5361.590184339677,
          5416.032296489789,
          5470.840180141098,
          5526.063713736713,
          5581.755291515059,
          5637.970223764589,
          5694.767187397336,
          5752.208737168963,
          5810.3618900833835,
          5869.298798334784,
          5929.097529744947,
          5989.842979301782,
          6051.627941443569,
          6114.55438064462,
          6178.73494831854,
          6244.294808026249,
          6311.373849840473,
          6380.1294004951305,
          6450.739571628256,
          6523.407438517297,
          6598.3663131190915,
          6675.886478780443,
          6756.2839069746915,
          6839.931707171492,
          6927.275417104782,
          7018.853804819428,
          7115.3277738539255,
          7217.52151399233,
          7326.482757126473,
          7443.573974172181,
          7570.615954715119,
          7710.124957975446,
          7865.728473542333,
          8042.951927497429,
          8250.866673964385,
          8506.074948975129,
          8844.739908516984,
          9377.380951361894
         ],
         "yaxis": "y4"
        },
        {
         "alignmentgroup": "True",
         "bingroup": "x",
         "hovertemplate": "variable=Total<br>value=%{x}<br>count=%{y}<extra></extra>",
         "legendgroup": "Total",
         "marker": {
          "color": "#1f77b4",
          "pattern": {
           "shape": ""
          }
         },
         "name": "Total",
         "offsetgroup": "Total",
         "orientation": "v",
         "showlegend": false,
         "type": "histogram",
         "x": [
          3773,
          3172,
          2079,
          2725,
          4542,
          3795,
          3941,
          4064,
          3474,
          2093,
          2426,
          4339,
          4064,
          4224,
          4603,
          4369,
          2532,
          3276,
          4917,
          4430,
          4977,
          5193,
          4001,
          1996,
          2538,
          4764,
          5651,
          5777,
          4789,
          3782,
          1920,
          2526,
          4481,
          6034,
          5006,
          4450,
          3112,
          1914,
          2359,
          3948,
          5727,
          6365,
          6323,
          5151,
          1947,
          3128,
          7999,
          7104,
          6457,
          6643,
          5355,
          2341,
          2367,
          5592,
          6770,
          6877,
          7272,
          6279,
          2741,
          2483,
          5456,
          6082,
          6139,
          5865,
          6362,
          3132,
          2681,
          5788,
          7001,
          6721,
          7556,
          7278,
          4026,
          3514,
          6476,
          7863,
          8418,
          8290,
          7189,
          3567,
          4088,
          7418,
          8765,
          7798,
          9212,
          7115,
          3903,
          5038,
          7843,
          8872
         ],
         "xaxis": "x2",
         "yaxis": "y2"
        },
        {
         "line": {
          "color": "#3f3f3f"
         },
         "mode": "lines",
         "name": "ACF",
         "showlegend": false,
         "type": "scatter",
         "x": [
          0,
          0
         ],
         "xaxis": "x3",
         "y": [
          0,
          1
         ],
         "yaxis": "y3"
        },
        {
         "line": {
          "color": "#3f3f3f"
         },
         "mode": "lines",
         "name": "ACF",
         "showlegend": false,
         "type": "scatter",
         "x": [
          1,
          1
         ],
         "xaxis": "x3",
         "y": [
          0,
          0.6201139231368101
         ],
         "yaxis": "y3"
        },
        {
         "line": {
          "color": "#3f3f3f"
         },
         "mode": "lines",
         "name": "ACF",
         "showlegend": false,
         "type": "scatter",
         "x": [
          2,
          2
         ],
         "xaxis": "x3",
         "y": [
          0,
          0.1045815921303086
         ],
         "yaxis": "y3"
        },
        {
         "line": {
          "color": "#3f3f3f"
         },
         "mode": "lines",
         "name": "ACF",
         "showlegend": false,
         "type": "scatter",
         "x": [
          3,
          3
         ],
         "xaxis": "x3",
         "y": [
          0,
          -0.05788192553172774
         ],
         "yaxis": "y3"
        },
        {
         "line": {
          "color": "#3f3f3f"
         },
         "mode": "lines",
         "name": "ACF",
         "showlegend": false,
         "type": "scatter",
         "x": [
          4,
          4
         ],
         "xaxis": "x3",
         "y": [
          0,
          -0.0342592252220979
         ],
         "yaxis": "y3"
        },
        {
         "line": {
          "color": "#3f3f3f"
         },
         "mode": "lines",
         "name": "ACF",
         "showlegend": false,
         "type": "scatter",
         "x": [
          5,
          5
         ],
         "xaxis": "x3",
         "y": [
          0,
          0.11473433944416002
         ],
         "yaxis": "y3"
        },
        {
         "line": {
          "color": "#3f3f3f"
         },
         "mode": "lines",
         "name": "ACF",
         "showlegend": false,
         "type": "scatter",
         "x": [
          6,
          6
         ],
         "xaxis": "x3",
         "y": [
          0,
          0.5195082444044482
         ],
         "yaxis": "y3"
        },
        {
         "line": {
          "color": "#3f3f3f"
         },
         "mode": "lines",
         "name": "ACF",
         "showlegend": false,
         "type": "scatter",
         "x": [
          7,
          7
         ],
         "xaxis": "x3",
         "y": [
          0,
          0.7896109517181272
         ],
         "yaxis": "y3"
        },
        {
         "line": {
          "color": "#3f3f3f"
         },
         "mode": "lines",
         "name": "ACF",
         "showlegend": false,
         "type": "scatter",
         "x": [
          8,
          8
         ],
         "xaxis": "x3",
         "y": [
          0,
          0.48126128990718986
         ],
         "yaxis": "y3"
        },
        {
         "line": {
          "color": "#3f3f3f"
         },
         "mode": "lines",
         "name": "ACF",
         "showlegend": false,
         "type": "scatter",
         "x": [
          9,
          9
         ],
         "xaxis": "x3",
         "y": [
          0,
          0.027911015623095708
         ],
         "yaxis": "y3"
        },
        {
         "line": {
          "color": "#3f3f3f"
         },
         "mode": "lines",
         "name": "ACF",
         "showlegend": false,
         "type": "scatter",
         "x": [
          10,
          10
         ],
         "xaxis": "x3",
         "y": [
          0,
          -0.13087498599283717
         ],
         "yaxis": "y3"
        },
        {
         "line": {
          "color": "#3f3f3f"
         },
         "mode": "lines",
         "name": "ACF",
         "showlegend": false,
         "type": "scatter",
         "x": [
          11,
          11
         ],
         "xaxis": "x3",
         "y": [
          0,
          -0.11547859686129827
         ],
         "yaxis": "y3"
        },
        {
         "line": {
          "color": "#3f3f3f"
         },
         "mode": "lines",
         "name": "ACF",
         "showlegend": false,
         "type": "scatter",
         "x": [
          12,
          12
         ],
         "xaxis": "x3",
         "y": [
          0,
          0.014495499679403065
         ],
         "yaxis": "y3"
        },
        {
         "line": {
          "color": "#3f3f3f"
         },
         "mode": "lines",
         "name": "ACF",
         "showlegend": false,
         "type": "scatter",
         "x": [
          13,
          13
         ],
         "xaxis": "x3",
         "y": [
          0,
          0.3913760178925196
         ],
         "yaxis": "y3"
        },
        {
         "line": {
          "color": "#3f3f3f"
         },
         "mode": "lines",
         "name": "ACF",
         "showlegend": false,
         "type": "scatter",
         "x": [
          14,
          14
         ],
         "xaxis": "x3",
         "y": [
          0,
          0.6287519853308668
         ],
         "yaxis": "y3"
        },
        {
         "line": {
          "color": "#3f3f3f"
         },
         "mode": "lines",
         "name": "ACF",
         "showlegend": false,
         "type": "scatter",
         "x": [
          15,
          15
         ],
         "xaxis": "x3",
         "y": [
          0,
          0.36302831755913845
         ],
         "yaxis": "y3"
        },
        {
         "line": {
          "color": "#3f3f3f"
         },
         "mode": "lines",
         "name": "ACF",
         "showlegend": false,
         "type": "scatter",
         "x": [
          16,
          16
         ],
         "xaxis": "x3",
         "y": [
          0,
          -0.026999130376680003
         ],
         "yaxis": "y3"
        },
        {
         "line": {
          "color": "#3f3f3f"
         },
         "mode": "lines",
         "name": "ACF",
         "showlegend": false,
         "type": "scatter",
         "x": [
          17,
          17
         ],
         "xaxis": "x3",
         "y": [
          0,
          -0.17420366947409915
         ],
         "yaxis": "y3"
        },
        {
         "line": {
          "color": "#3f3f3f"
         },
         "mode": "lines",
         "name": "ACF",
         "showlegend": false,
         "type": "scatter",
         "x": [
          18,
          18
         ],
         "xaxis": "x3",
         "y": [
          0,
          -0.1743459973376004
         ],
         "yaxis": "y3"
        },
        {
         "line": {
          "color": "#3f3f3f"
         },
         "mode": "lines",
         "name": "ACF",
         "showlegend": false,
         "type": "scatter",
         "x": [
          19,
          19
         ],
         "xaxis": "x3",
         "y": [
          0,
          -0.06729245022005863
         ],
         "yaxis": "y3"
        },
        {
         "line": {
          "color": "#3f3f3f"
         },
         "mode": "lines",
         "name": "ACF",
         "showlegend": false,
         "type": "scatter",
         "x": [
          20,
          20
         ],
         "xaxis": "x3",
         "y": [
          0,
          0.27422401215042663
         ],
         "yaxis": "y3"
        },
        {
         "line": {
          "color": "#3f3f3f"
         },
         "mode": "lines",
         "name": "ACF",
         "showlegend": false,
         "type": "scatter",
         "x": [
          21,
          21
         ],
         "xaxis": "x3",
         "y": [
          0,
          0.5195606573936575
         ],
         "yaxis": "y3"
        },
        {
         "line": {
          "color": "#3f3f3f"
         },
         "mode": "lines",
         "name": "ACF",
         "showlegend": false,
         "type": "scatter",
         "x": [
          22,
          22
         ],
         "xaxis": "x3",
         "y": [
          0,
          0.3144170580931283
         ],
         "yaxis": "y3"
        },
        {
         "line": {
          "color": "#3f3f3f"
         },
         "mode": "lines",
         "name": "ACF",
         "showlegend": false,
         "type": "scatter",
         "x": [
          23,
          23
         ],
         "xaxis": "x3",
         "y": [
          0,
          -0.042347240099468844
         ],
         "yaxis": "y3"
        },
        {
         "line": {
          "color": "#3f3f3f"
         },
         "mode": "lines",
         "name": "ACF",
         "showlegend": false,
         "type": "scatter",
         "x": [
          24,
          24
         ],
         "xaxis": "x3",
         "y": [
          0,
          -0.17685768185655237
         ],
         "yaxis": "y3"
        },
        {
         "line": {
          "color": "#3f3f3f"
         },
         "mode": "lines",
         "name": "ACF",
         "showlegend": false,
         "type": "scatter",
         "x": [
          25,
          25
         ],
         "xaxis": "x3",
         "y": [
          0,
          -0.18051750793500096
         ],
         "yaxis": "y3"
        },
        {
         "line": {
          "color": "#3f3f3f"
         },
         "mode": "lines",
         "name": "ACF",
         "showlegend": false,
         "type": "scatter",
         "x": [
          26,
          26
         ],
         "xaxis": "x3",
         "y": [
          0,
          -0.09658903929821415
         ],
         "yaxis": "y3"
        },
        {
         "line": {
          "color": "#3f3f3f"
         },
         "mode": "lines",
         "name": "ACF",
         "showlegend": false,
         "type": "scatter",
         "x": [
          27,
          27
         ],
         "xaxis": "x3",
         "y": [
          0,
          0.21751843182084762
         ],
         "yaxis": "y3"
        },
        {
         "line": {
          "color": "#3f3f3f"
         },
         "mode": "lines",
         "name": "ACF",
         "showlegend": false,
         "type": "scatter",
         "x": [
          28,
          28
         ],
         "xaxis": "x3",
         "y": [
          0,
          0.46028889643681564
         ],
         "yaxis": "y3"
        },
        {
         "line": {
          "color": "#3f3f3f"
         },
         "mode": "lines",
         "name": "ACF",
         "showlegend": false,
         "type": "scatter",
         "x": [
          29,
          29
         ],
         "xaxis": "x3",
         "y": [
          0,
          0.2954774444536944
         ],
         "yaxis": "y3"
        },
        {
         "line": {
          "color": "#3f3f3f"
         },
         "mode": "lines",
         "name": "ACF",
         "showlegend": false,
         "type": "scatter",
         "x": [
          30,
          30
         ],
         "xaxis": "x3",
         "y": [
          0,
          -0.033123686865388025
         ],
         "yaxis": "y3"
        },
        {
         "line": {
          "color": "#3f3f3f"
         },
         "mode": "lines",
         "name": "ACF",
         "showlegend": false,
         "type": "scatter",
         "x": [
          31,
          31
         ],
         "xaxis": "x3",
         "y": [
          0,
          -0.17082119077117794
         ],
         "yaxis": "y3"
        },
        {
         "line": {
          "color": "#3f3f3f"
         },
         "mode": "lines",
         "name": "ACF",
         "showlegend": false,
         "type": "scatter",
         "x": [
          32,
          32
         ],
         "xaxis": "x3",
         "y": [
          0,
          -0.19571004821977434
         ],
         "yaxis": "y3"
        },
        {
         "line": {
          "color": "#3f3f3f"
         },
         "mode": "lines",
         "name": "ACF",
         "showlegend": false,
         "type": "scatter",
         "x": [
          33,
          33
         ],
         "xaxis": "x3",
         "y": [
          0,
          -0.1379950569345843
         ],
         "yaxis": "y3"
        },
        {
         "line": {
          "color": "#3f3f3f"
         },
         "mode": "lines",
         "name": "ACF",
         "showlegend": false,
         "type": "scatter",
         "x": [
          34,
          34
         ],
         "xaxis": "x3",
         "y": [
          0,
          0.12395282250290908
         ],
         "yaxis": "y3"
        },
        {
         "line": {
          "color": "#3f3f3f"
         },
         "mode": "lines",
         "name": "ACF",
         "showlegend": false,
         "type": "scatter",
         "x": [
          35,
          35
         ],
         "xaxis": "x3",
         "y": [
          0,
          0.33987440858303974
         ],
         "yaxis": "y3"
        },
        {
         "line": {
          "color": "#3f3f3f"
         },
         "mode": "lines",
         "name": "ACF",
         "showlegend": false,
         "type": "scatter",
         "x": [
          36,
          36
         ],
         "xaxis": "x3",
         "y": [
          0,
          0.1902491729807324
         ],
         "yaxis": "y3"
        },
        {
         "line": {
          "color": "#3f3f3f"
         },
         "mode": "lines",
         "name": "ACF",
         "showlegend": false,
         "type": "scatter",
         "x": [
          37,
          37
         ],
         "xaxis": "x3",
         "y": [
          0,
          -0.09781434128086076
         ],
         "yaxis": "y3"
        },
        {
         "line": {
          "color": "#3f3f3f"
         },
         "mode": "lines",
         "name": "ACF",
         "showlegend": false,
         "type": "scatter",
         "x": [
          38,
          38
         ],
         "xaxis": "x3",
         "y": [
          0,
          -0.2094794861217347
         ],
         "yaxis": "y3"
        },
        {
         "line": {
          "color": "#3f3f3f"
         },
         "mode": "lines",
         "name": "ACF",
         "showlegend": false,
         "type": "scatter",
         "x": [
          39,
          39
         ],
         "xaxis": "x3",
         "y": [
          0,
          -0.2360451857612301
         ],
         "yaxis": "y3"
        },
        {
         "line": {
          "color": "#3f3f3f"
         },
         "mode": "lines",
         "name": "ACF",
         "showlegend": false,
         "type": "scatter",
         "x": [
          40,
          40
         ],
         "xaxis": "x3",
         "y": [
          0,
          -0.20752282222731666
         ],
         "yaxis": "y3"
        },
        {
         "marker": {
          "color": "#1f77b4",
          "size": 6
         },
         "mode": "markers",
         "showlegend": false,
         "type": "scatter",
         "x": [
          0,
          1,
          2,
          3,
          4,
          5,
          6,
          7,
          8,
          9,
          10,
          11,
          12,
          13,
          14,
          15,
          16,
          17,
          18,
          19,
          20,
          21,
          22,
          23,
          24,
          25,
          26,
          27,
          28,
          29,
          30,
          31,
          32,
          33,
          34,
          35,
          36,
          37,
          38,
          39,
          40
         ],
         "xaxis": "x3",
         "y": [
          1,
          0.6201139231368101,
          0.1045815921303086,
          -0.05788192553172774,
          -0.0342592252220979,
          0.11473433944416002,
          0.5195082444044482,
          0.7896109517181272,
          0.48126128990718986,
          0.027911015623095708,
          -0.13087498599283717,
          -0.11547859686129827,
          0.014495499679403065,
          0.3913760178925196,
          0.6287519853308668,
          0.36302831755913845,
          -0.026999130376680003,
          -0.17420366947409915,
          -0.1743459973376004,
          -0.06729245022005863,
          0.27422401215042663,
          0.5195606573936575,
          0.3144170580931283,
          -0.042347240099468844,
          -0.17685768185655237,
          -0.18051750793500096,
          -0.09658903929821415,
          0.21751843182084762,
          0.46028889643681564,
          0.2954774444536944,
          -0.033123686865388025,
          -0.17082119077117794,
          -0.19571004821977434,
          -0.1379950569345843,
          0.12395282250290908,
          0.33987440858303974,
          0.1902491729807324,
          -0.09781434128086076,
          -0.2094794861217347,
          -0.2360451857612301,
          -0.20752282222731666
         ],
         "yaxis": "y3"
        },
        {
         "line": {
          "color": "rgba(255,255,255,0)"
         },
         "mode": "lines",
         "name": "UC",
         "showlegend": false,
         "type": "scatter",
         "x": [
          0,
          1,
          2,
          3,
          4,
          5,
          6,
          7,
          8,
          9,
          10,
          11,
          12,
          13,
          14,
          15,
          16,
          17,
          18,
          19,
          20,
          21,
          22,
          23,
          24,
          25,
          26,
          27,
          28,
          29,
          30,
          31,
          32,
          33,
          34,
          35,
          36,
          37,
          38,
          39,
          40
         ],
         "xaxis": "x3",
         "y": [
          0,
          0.20659834410152056,
          0.2747899760975552,
          0.2764836389406401,
          0.27700036995724814,
          0.27718116507196844,
          0.2792009139453532,
          0.31779303322558927,
          0.3927043626350738,
          0.41711927013902245,
          0.4171989783763467,
          0.41894767514985687,
          0.42030409581756456,
          0.4203254334096295,
          0.4356023243324493,
          0.4727546374263556,
          0.4845072362630208,
          0.4845714494431588,
          0.48723718774072944,
          0.48989274282425266,
          0.49028711891396753,
          0.49679056131011334,
          0.5194658530691054,
          0.5275261769343017,
          0.5276712544684797,
          0.530195320021419,
          0.5328122131380539,
          0.5335590589062219,
          0.5373307058081305,
          0.5539046637048163,
          0.5605920061261439,
          0.5606755379103184,
          0.562892548477141,
          0.5657894805095545,
          0.5672242282968619,
          0.5683791959354133,
          0.5769886499580453,
          0.5796599813951034,
          0.5803640609719993,
          0.583582413833897,
          0.58764341693187
         ],
         "yaxis": "y3"
        },
        {
         "fill": "tonexty",
         "fillcolor": "rgba(32, 146, 230,0.3)",
         "line": {
          "color": "rgba(255,255,255,0)"
         },
         "mode": "lines",
         "name": "LC",
         "showlegend": false,
         "type": "scatter",
         "x": [
          0,
          1,
          2,
          3,
          4,
          5,
          6,
          7,
          8,
          9,
          10,
          11,
          12,
          13,
          14,
          15,
          16,
          17,
          18,
          19,
          20,
          21,
          22,
          23,
          24,
          25,
          26,
          27,
          28,
          29,
          30,
          31,
          32,
          33,
          34,
          35,
          36,
          37,
          38,
          39,
          40
         ],
         "xaxis": "x3",
         "y": [
          0,
          -0.20659834410152056,
          -0.2747899760975552,
          -0.2764836389406401,
          -0.27700036995724814,
          -0.27718116507196844,
          -0.2792009139453532,
          -0.31779303322558916,
          -0.3927043626350738,
          -0.41711927013902245,
          -0.4171989783763467,
          -0.418947675149857,
          -0.42030409581756456,
          -0.4203254334096295,
          -0.43560232433244933,
          -0.47275463742635565,
          -0.48450723626302084,
          -0.4845714494431588,
          -0.48723718774072955,
          -0.4898927428242526,
          -0.4902871189139675,
          -0.4967905613101133,
          -0.5194658530691054,
          -0.5275261769343017,
          -0.5276712544684797,
          -0.530195320021419,
          -0.5328122131380539,
          -0.5335590589062219,
          -0.5373307058081305,
          -0.5539046637048163,
          -0.5605920061261439,
          -0.5606755379103184,
          -0.562892548477141,
          -0.5657894805095545,
          -0.5672242282968619,
          -0.5683791959354133,
          -0.5769886499580453,
          -0.5796599813951034,
          -0.5803640609719993,
          -0.583582413833897,
          -0.58764341693187
         ],
         "yaxis": "y3"
        },
        {
         "marker": {
          "color": "#1f77b4",
          "size": 2
         },
         "mode": "lines+markers",
         "name": "Time Plot",
         "type": "scatter",
         "x": [
          "2021-07-08T00:00:00",
          "2021-07-09T00:00:00",
          "2021-07-10T00:00:00",
          "2021-07-11T00:00:00",
          "2021-07-12T00:00:00",
          "2021-07-13T00:00:00",
          "2021-07-14T00:00:00",
          "2021-07-15T00:00:00",
          "2021-07-16T00:00:00",
          "2021-07-17T00:00:00",
          "2021-07-18T00:00:00",
          "2021-07-19T00:00:00",
          "2021-07-20T00:00:00",
          "2021-07-21T00:00:00",
          "2021-07-22T00:00:00",
          "2021-07-23T00:00:00",
          "2021-07-24T00:00:00",
          "2021-07-25T00:00:00",
          "2021-07-26T00:00:00",
          "2021-07-27T00:00:00",
          "2021-07-28T00:00:00",
          "2021-07-29T00:00:00",
          "2021-07-30T00:00:00",
          "2021-07-31T00:00:00",
          "2021-08-01T00:00:00",
          "2021-08-02T00:00:00",
          "2021-08-03T00:00:00",
          "2021-08-04T00:00:00",
          "2021-08-05T00:00:00",
          "2021-08-06T00:00:00",
          "2021-08-07T00:00:00",
          "2021-08-08T00:00:00",
          "2021-08-09T00:00:00",
          "2021-08-10T00:00:00",
          "2021-08-11T00:00:00",
          "2021-08-12T00:00:00",
          "2021-08-13T00:00:00",
          "2021-08-14T00:00:00",
          "2021-08-15T00:00:00",
          "2021-08-16T00:00:00",
          "2021-08-17T00:00:00",
          "2021-08-18T00:00:00",
          "2021-08-19T00:00:00",
          "2021-08-20T00:00:00",
          "2021-08-21T00:00:00",
          "2021-08-22T00:00:00",
          "2021-08-23T00:00:00",
          "2021-08-24T00:00:00",
          "2021-08-25T00:00:00",
          "2021-08-26T00:00:00",
          "2021-08-27T00:00:00",
          "2021-08-28T00:00:00",
          "2021-08-29T00:00:00",
          "2021-08-30T00:00:00",
          "2021-08-31T00:00:00",
          "2021-09-01T00:00:00",
          "2021-09-02T00:00:00",
          "2021-09-03T00:00:00",
          "2021-09-04T00:00:00",
          "2021-09-05T00:00:00",
          "2021-09-06T00:00:00",
          "2021-09-07T00:00:00",
          "2021-09-08T00:00:00",
          "2021-09-09T00:00:00",
          "2021-09-10T00:00:00",
          "2021-09-11T00:00:00",
          "2021-09-12T00:00:00",
          "2021-09-13T00:00:00",
          "2021-09-14T00:00:00",
          "2021-09-15T00:00:00",
          "2021-09-16T00:00:00",
          "2021-09-17T00:00:00",
          "2021-09-18T00:00:00",
          "2021-09-19T00:00:00",
          "2021-09-20T00:00:00",
          "2021-09-21T00:00:00",
          "2021-09-22T00:00:00",
          "2021-09-23T00:00:00",
          "2021-09-24T00:00:00",
          "2021-09-25T00:00:00",
          "2021-09-26T00:00:00",
          "2021-09-27T00:00:00",
          "2021-09-28T00:00:00",
          "2021-09-29T00:00:00",
          "2021-09-30T00:00:00",
          "2021-10-01T00:00:00",
          "2021-10-02T00:00:00",
          "2021-10-03T00:00:00",
          "2021-10-04T00:00:00",
          "2021-10-05T00:00:00"
         ],
         "xaxis": "x",
         "y": [
          3773,
          3172,
          2079,
          2725,
          4542,
          3795,
          3941,
          4064,
          3474,
          2093,
          2426,
          4339,
          4064,
          4224,
          4603,
          4369,
          2532,
          3276,
          4917,
          4430,
          4977,
          5193,
          4001,
          1996,
          2538,
          4764,
          5651,
          5777,
          4789,
          3782,
          1920,
          2526,
          4481,
          6034,
          5006,
          4450,
          3112,
          1914,
          2359,
          3948,
          5727,
          6365,
          6323,
          5151,
          1947,
          3128,
          7999,
          7104,
          6457,
          6643,
          5355,
          2341,
          2367,
          5592,
          6770,
          6877,
          7272,
          6279,
          2741,
          2483,
          5456,
          6082,
          6139,
          5865,
          6362,
          3132,
          2681,
          5788,
          7001,
          6721,
          7556,
          7278,
          4026,
          3514,
          6476,
          7863,
          8418,
          8290,
          7189,
          3567,
          4088,
          7418,
          8765,
          7798,
          9212,
          7115,
          3903,
          5038,
          7843,
          8872
         ],
         "yaxis": "y"
        }
       ],
       "layout": {
        "annotations": [
         {
          "font": {
           "size": 16
          },
          "showarrow": false,
          "text": "Time Plot",
          "x": 0.225,
          "xanchor": "center",
          "xref": "paper",
          "y": 1,
          "yanchor": "bottom",
          "yref": "paper"
         },
         {
          "font": {
           "size": 16
          },
          "showarrow": false,
          "text": "Histogram Plot",
          "x": 0.775,
          "xanchor": "center",
          "xref": "paper",
          "y": 1,
          "yanchor": "bottom",
          "yref": "paper"
         },
         {
          "font": {
           "size": 16
          },
          "showarrow": false,
          "text": "ACF Plot",
          "x": 0.225,
          "xanchor": "center",
          "xref": "paper",
          "y": 0.375,
          "yanchor": "bottom",
          "yref": "paper"
         },
         {
          "font": {
           "size": 16
          },
          "showarrow": false,
          "text": "Quantile-Quantile Plot",
          "x": 0.775,
          "xanchor": "center",
          "xref": "paper",
          "y": 0.375,
          "yanchor": "bottom",
          "yref": "paper"
         },
         {
          "font": {
           "size": 16
          },
          "showarrow": false,
          "text": "Diagnostics | Total",
          "x": 0.5,
          "xanchor": "center",
          "xref": "paper",
          "y": 0,
          "yanchor": "top",
          "yref": "paper",
          "yshift": -30
         }
        ],
        "showlegend": false,
        "template": {
         "data": {
          "bar": [
           {
            "error_x": {
             "color": "rgb(51,51,51)"
            },
            "error_y": {
             "color": "rgb(51,51,51)"
            },
            "marker": {
             "line": {
              "color": "rgb(237,237,237)",
              "width": 0.5
             },
             "pattern": {
              "fillmode": "overlay",
              "size": 10,
              "solidity": 0.2
             }
            },
            "type": "bar"
           }
          ],
          "barpolar": [
           {
            "marker": {
             "line": {
              "color": "rgb(237,237,237)",
              "width": 0.5
             },
             "pattern": {
              "fillmode": "overlay",
              "size": 10,
              "solidity": 0.2
             }
            },
            "type": "barpolar"
           }
          ],
          "carpet": [
           {
            "aaxis": {
             "endlinecolor": "rgb(51,51,51)",
             "gridcolor": "white",
             "linecolor": "white",
             "minorgridcolor": "white",
             "startlinecolor": "rgb(51,51,51)"
            },
            "baxis": {
             "endlinecolor": "rgb(51,51,51)",
             "gridcolor": "white",
             "linecolor": "white",
             "minorgridcolor": "white",
             "startlinecolor": "rgb(51,51,51)"
            },
            "type": "carpet"
           }
          ],
          "choropleth": [
           {
            "colorbar": {
             "outlinewidth": 0,
             "tickcolor": "rgb(237,237,237)",
             "ticklen": 6,
             "ticks": "inside"
            },
            "type": "choropleth"
           }
          ],
          "contour": [
           {
            "colorbar": {
             "outlinewidth": 0,
             "tickcolor": "rgb(237,237,237)",
             "ticklen": 6,
             "ticks": "inside"
            },
            "colorscale": [
             [
              0,
              "rgb(20,44,66)"
             ],
             [
              1,
              "rgb(90,179,244)"
             ]
            ],
            "type": "contour"
           }
          ],
          "contourcarpet": [
           {
            "colorbar": {
             "outlinewidth": 0,
             "tickcolor": "rgb(237,237,237)",
             "ticklen": 6,
             "ticks": "inside"
            },
            "type": "contourcarpet"
           }
          ],
          "heatmap": [
           {
            "colorbar": {
             "outlinewidth": 0,
             "tickcolor": "rgb(237,237,237)",
             "ticklen": 6,
             "ticks": "inside"
            },
            "colorscale": [
             [
              0,
              "rgb(20,44,66)"
             ],
             [
              1,
              "rgb(90,179,244)"
             ]
            ],
            "type": "heatmap"
           }
          ],
          "heatmapgl": [
           {
            "colorbar": {
             "outlinewidth": 0,
             "tickcolor": "rgb(237,237,237)",
             "ticklen": 6,
             "ticks": "inside"
            },
            "colorscale": [
             [
              0,
              "rgb(20,44,66)"
             ],
             [
              1,
              "rgb(90,179,244)"
             ]
            ],
            "type": "heatmapgl"
           }
          ],
          "histogram": [
           {
            "marker": {
             "pattern": {
              "fillmode": "overlay",
              "size": 10,
              "solidity": 0.2
             }
            },
            "type": "histogram"
           }
          ],
          "histogram2d": [
           {
            "colorbar": {
             "outlinewidth": 0,
             "tickcolor": "rgb(237,237,237)",
             "ticklen": 6,
             "ticks": "inside"
            },
            "colorscale": [
             [
              0,
              "rgb(20,44,66)"
             ],
             [
              1,
              "rgb(90,179,244)"
             ]
            ],
            "type": "histogram2d"
           }
          ],
          "histogram2dcontour": [
           {
            "colorbar": {
             "outlinewidth": 0,
             "tickcolor": "rgb(237,237,237)",
             "ticklen": 6,
             "ticks": "inside"
            },
            "colorscale": [
             [
              0,
              "rgb(20,44,66)"
             ],
             [
              1,
              "rgb(90,179,244)"
             ]
            ],
            "type": "histogram2dcontour"
           }
          ],
          "mesh3d": [
           {
            "colorbar": {
             "outlinewidth": 0,
             "tickcolor": "rgb(237,237,237)",
             "ticklen": 6,
             "ticks": "inside"
            },
            "type": "mesh3d"
           }
          ],
          "parcoords": [
           {
            "line": {
             "colorbar": {
              "outlinewidth": 0,
              "tickcolor": "rgb(237,237,237)",
              "ticklen": 6,
              "ticks": "inside"
             }
            },
            "type": "parcoords"
           }
          ],
          "pie": [
           {
            "automargin": true,
            "type": "pie"
           }
          ],
          "scatter": [
           {
            "marker": {
             "colorbar": {
              "outlinewidth": 0,
              "tickcolor": "rgb(237,237,237)",
              "ticklen": 6,
              "ticks": "inside"
             }
            },
            "type": "scatter"
           }
          ],
          "scatter3d": [
           {
            "line": {
             "colorbar": {
              "outlinewidth": 0,
              "tickcolor": "rgb(237,237,237)",
              "ticklen": 6,
              "ticks": "inside"
             }
            },
            "marker": {
             "colorbar": {
              "outlinewidth": 0,
              "tickcolor": "rgb(237,237,237)",
              "ticklen": 6,
              "ticks": "inside"
             }
            },
            "type": "scatter3d"
           }
          ],
          "scattercarpet": [
           {
            "marker": {
             "colorbar": {
              "outlinewidth": 0,
              "tickcolor": "rgb(237,237,237)",
              "ticklen": 6,
              "ticks": "inside"
             }
            },
            "type": "scattercarpet"
           }
          ],
          "scattergeo": [
           {
            "marker": {
             "colorbar": {
              "outlinewidth": 0,
              "tickcolor": "rgb(237,237,237)",
              "ticklen": 6,
              "ticks": "inside"
             }
            },
            "type": "scattergeo"
           }
          ],
          "scattergl": [
           {
            "marker": {
             "colorbar": {
              "outlinewidth": 0,
              "tickcolor": "rgb(237,237,237)",
              "ticklen": 6,
              "ticks": "inside"
             }
            },
            "type": "scattergl"
           }
          ],
          "scattermapbox": [
           {
            "marker": {
             "colorbar": {
              "outlinewidth": 0,
              "tickcolor": "rgb(237,237,237)",
              "ticklen": 6,
              "ticks": "inside"
             }
            },
            "type": "scattermapbox"
           }
          ],
          "scatterpolar": [
           {
            "marker": {
             "colorbar": {
              "outlinewidth": 0,
              "tickcolor": "rgb(237,237,237)",
              "ticklen": 6,
              "ticks": "inside"
             }
            },
            "type": "scatterpolar"
           }
          ],
          "scatterpolargl": [
           {
            "marker": {
             "colorbar": {
              "outlinewidth": 0,
              "tickcolor": "rgb(237,237,237)",
              "ticklen": 6,
              "ticks": "inside"
             }
            },
            "type": "scatterpolargl"
           }
          ],
          "scatterternary": [
           {
            "marker": {
             "colorbar": {
              "outlinewidth": 0,
              "tickcolor": "rgb(237,237,237)",
              "ticklen": 6,
              "ticks": "inside"
             }
            },
            "type": "scatterternary"
           }
          ],
          "surface": [
           {
            "colorbar": {
             "outlinewidth": 0,
             "tickcolor": "rgb(237,237,237)",
             "ticklen": 6,
             "ticks": "inside"
            },
            "colorscale": [
             [
              0,
              "rgb(20,44,66)"
             ],
             [
              1,
              "rgb(90,179,244)"
             ]
            ],
            "type": "surface"
           }
          ],
          "table": [
           {
            "cells": {
             "fill": {
              "color": "rgb(237,237,237)"
             },
             "line": {
              "color": "white"
             }
            },
            "header": {
             "fill": {
              "color": "rgb(217,217,217)"
             },
             "line": {
              "color": "white"
             }
            },
            "type": "table"
           }
          ]
         },
         "layout": {
          "annotationdefaults": {
           "arrowhead": 0,
           "arrowwidth": 1
          },
          "autotypenumbers": "strict",
          "coloraxis": {
           "colorbar": {
            "outlinewidth": 0,
            "tickcolor": "rgb(237,237,237)",
            "ticklen": 6,
            "ticks": "inside"
           }
          },
          "colorscale": {
           "sequential": [
            [
             0,
             "rgb(20,44,66)"
            ],
            [
             1,
             "rgb(90,179,244)"
            ]
           ],
           "sequentialminus": [
            [
             0,
             "rgb(20,44,66)"
            ],
            [
             1,
             "rgb(90,179,244)"
            ]
           ]
          },
          "colorway": [
           "#F8766D",
           "#A3A500",
           "#00BF7D",
           "#00B0F6",
           "#E76BF3"
          ],
          "font": {
           "color": "rgb(51,51,51)"
          },
          "geo": {
           "bgcolor": "white",
           "lakecolor": "white",
           "landcolor": "rgb(237,237,237)",
           "showlakes": true,
           "showland": true,
           "subunitcolor": "white"
          },
          "hoverlabel": {
           "align": "left"
          },
          "hovermode": "closest",
          "paper_bgcolor": "white",
          "plot_bgcolor": "rgb(237,237,237)",
          "polar": {
           "angularaxis": {
            "gridcolor": "white",
            "linecolor": "white",
            "showgrid": true,
            "tickcolor": "rgb(51,51,51)",
            "ticks": "outside"
           },
           "bgcolor": "rgb(237,237,237)",
           "radialaxis": {
            "gridcolor": "white",
            "linecolor": "white",
            "showgrid": true,
            "tickcolor": "rgb(51,51,51)",
            "ticks": "outside"
           }
          },
          "scene": {
           "xaxis": {
            "backgroundcolor": "rgb(237,237,237)",
            "gridcolor": "white",
            "gridwidth": 2,
            "linecolor": "white",
            "showbackground": true,
            "showgrid": true,
            "tickcolor": "rgb(51,51,51)",
            "ticks": "outside",
            "zerolinecolor": "white"
           },
           "yaxis": {
            "backgroundcolor": "rgb(237,237,237)",
            "gridcolor": "white",
            "gridwidth": 2,
            "linecolor": "white",
            "showbackground": true,
            "showgrid": true,
            "tickcolor": "rgb(51,51,51)",
            "ticks": "outside",
            "zerolinecolor": "white"
           },
           "zaxis": {
            "backgroundcolor": "rgb(237,237,237)",
            "gridcolor": "white",
            "gridwidth": 2,
            "linecolor": "white",
            "showbackground": true,
            "showgrid": true,
            "tickcolor": "rgb(51,51,51)",
            "ticks": "outside",
            "zerolinecolor": "white"
           }
          },
          "shapedefaults": {
           "fillcolor": "black",
           "line": {
            "width": 0
           },
           "opacity": 0.3
          },
          "ternary": {
           "aaxis": {
            "gridcolor": "white",
            "linecolor": "white",
            "showgrid": true,
            "tickcolor": "rgb(51,51,51)",
            "ticks": "outside"
           },
           "baxis": {
            "gridcolor": "white",
            "linecolor": "white",
            "showgrid": true,
            "tickcolor": "rgb(51,51,51)",
            "ticks": "outside"
           },
           "bgcolor": "rgb(237,237,237)",
           "caxis": {
            "gridcolor": "white",
            "linecolor": "white",
            "showgrid": true,
            "tickcolor": "rgb(51,51,51)",
            "ticks": "outside"
           }
          },
          "xaxis": {
           "automargin": true,
           "gridcolor": "white",
           "linecolor": "white",
           "showgrid": true,
           "tickcolor": "rgb(51,51,51)",
           "ticks": "outside",
           "title": {
            "standoff": 15
           },
           "zerolinecolor": "white"
          },
          "yaxis": {
           "automargin": true,
           "gridcolor": "white",
           "linecolor": "white",
           "showgrid": true,
           "tickcolor": "rgb(51,51,51)",
           "ticks": "outside",
           "title": {
            "standoff": 15
           },
           "zerolinecolor": "white"
          }
         }
        },
        "xaxis": {
         "anchor": "y",
         "domain": [
          0,
          0.45
         ],
         "title": {
          "text": "Time"
         }
        },
        "xaxis2": {
         "anchor": "y2",
         "domain": [
          0.55,
          1
         ],
         "title": {
          "text": "Range of Values"
         }
        },
        "xaxis3": {
         "anchor": "y3",
         "domain": [
          0,
          0.45
         ],
         "range": [
          -1,
          42
         ],
         "title": {
          "text": "Lags"
         }
        },
        "xaxis4": {
         "anchor": "y4",
         "domain": [
          0.55,
          1
         ],
         "title": {
          "text": "Theoretical Quantities"
         }
        },
        "yaxis": {
         "anchor": "x",
         "domain": [
          0.625,
          1
         ],
         "title": {
          "text": "Value"
         }
        },
        "yaxis2": {
         "anchor": "x2",
         "domain": [
          0.625,
          1
         ],
         "title": {
          "text": "PDF"
         }
        },
        "yaxis3": {
         "anchor": "x3",
         "domain": [
          0,
          0.375
         ],
         "title": {
          "text": "ACF"
         },
         "zerolinecolor": "#000000"
        },
        "yaxis4": {
         "anchor": "x4",
         "domain": [
          0,
          0.375
         ],
         "title": {
          "text": "Sample Quantities"
         }
        }
       }
      }
     },
     "metadata": {},
     "output_type": "display_data"
    }
   ],
   "source": [
    "# Diagnostics plot\n",
    "plot_model(plot = 'diagnostics')"
   ]
  },
  {
   "cell_type": "code",
   "execution_count": 39,
   "metadata": {},
   "outputs": [
    {
     "data": {
      "application/vnd.plotly.v1+json": {
       "config": {
        "plotlyServerURL": "https://plot.ly"
       },
       "data": [
        {
         "line": {
          "color": "#1f77b4",
          "width": 2
         },
         "marker": {
          "size": 2
         },
         "mode": "lines+markers",
         "name": "Actual",
         "type": "scatter",
         "x": [
          "2021-07-08T00:00:00",
          "2021-07-09T00:00:00",
          "2021-07-10T00:00:00",
          "2021-07-11T00:00:00",
          "2021-07-12T00:00:00",
          "2021-07-13T00:00:00",
          "2021-07-14T00:00:00",
          "2021-07-15T00:00:00",
          "2021-07-16T00:00:00",
          "2021-07-17T00:00:00",
          "2021-07-18T00:00:00",
          "2021-07-19T00:00:00",
          "2021-07-20T00:00:00",
          "2021-07-21T00:00:00",
          "2021-07-22T00:00:00",
          "2021-07-23T00:00:00",
          "2021-07-24T00:00:00",
          "2021-07-25T00:00:00",
          "2021-07-26T00:00:00",
          "2021-07-27T00:00:00",
          "2021-07-28T00:00:00",
          "2021-07-29T00:00:00",
          "2021-07-30T00:00:00",
          "2021-07-31T00:00:00",
          "2021-08-01T00:00:00",
          "2021-08-02T00:00:00",
          "2021-08-03T00:00:00",
          "2021-08-04T00:00:00",
          "2021-08-05T00:00:00",
          "2021-08-06T00:00:00",
          "2021-08-07T00:00:00",
          "2021-08-08T00:00:00",
          "2021-08-09T00:00:00",
          "2021-08-10T00:00:00",
          "2021-08-11T00:00:00",
          "2021-08-12T00:00:00",
          "2021-08-13T00:00:00",
          "2021-08-14T00:00:00",
          "2021-08-15T00:00:00",
          "2021-08-16T00:00:00",
          "2021-08-17T00:00:00",
          "2021-08-18T00:00:00",
          "2021-08-19T00:00:00",
          "2021-08-20T00:00:00",
          "2021-08-21T00:00:00",
          "2021-08-22T00:00:00",
          "2021-08-23T00:00:00",
          "2021-08-24T00:00:00",
          "2021-08-25T00:00:00",
          "2021-08-26T00:00:00",
          "2021-08-27T00:00:00",
          "2021-08-28T00:00:00",
          "2021-08-29T00:00:00",
          "2021-08-30T00:00:00",
          "2021-08-31T00:00:00",
          "2021-09-01T00:00:00",
          "2021-09-02T00:00:00",
          "2021-09-03T00:00:00",
          "2021-09-04T00:00:00",
          "2021-09-05T00:00:00",
          "2021-09-06T00:00:00",
          "2021-09-07T00:00:00",
          "2021-09-08T00:00:00",
          "2021-09-09T00:00:00",
          "2021-09-10T00:00:00",
          "2021-09-11T00:00:00",
          "2021-09-12T00:00:00",
          "2021-09-13T00:00:00",
          "2021-09-14T00:00:00",
          "2021-09-15T00:00:00",
          "2021-09-16T00:00:00",
          "2021-09-17T00:00:00",
          "2021-09-18T00:00:00",
          "2021-09-19T00:00:00",
          "2021-09-20T00:00:00",
          "2021-09-21T00:00:00",
          "2021-09-22T00:00:00",
          "2021-09-23T00:00:00",
          "2021-09-24T00:00:00",
          "2021-09-25T00:00:00",
          "2021-09-26T00:00:00",
          "2021-09-27T00:00:00",
          "2021-09-28T00:00:00",
          "2021-09-29T00:00:00",
          "2021-09-30T00:00:00",
          "2021-10-01T00:00:00",
          "2021-10-02T00:00:00",
          "2021-10-03T00:00:00",
          "2021-10-04T00:00:00",
          "2021-10-05T00:00:00"
         ],
         "xaxis": "x",
         "y": [
          3773,
          3172,
          2079,
          2725,
          4542,
          3795,
          3941,
          4064,
          3474,
          2093,
          2426,
          4339,
          4064,
          4224,
          4603,
          4369,
          2532,
          3276,
          4917,
          4430,
          4977,
          5193,
          4001,
          1996,
          2538,
          4764,
          5651,
          5777,
          4789,
          3782,
          1920,
          2526,
          4481,
          6034,
          5006,
          4450,
          3112,
          1914,
          2359,
          3948,
          5727,
          6365,
          6323,
          5151,
          1947,
          3128,
          7999,
          7104,
          6457,
          6643,
          5355,
          2341,
          2367,
          5592,
          6770,
          6877,
          7272,
          6279,
          2741,
          2483,
          5456,
          6082,
          6139,
          5865,
          6362,
          3132,
          2681,
          5788,
          7001,
          6721,
          7556,
          7278,
          4026,
          3514,
          6476,
          7863,
          8418,
          8290,
          7189,
          3567,
          4088,
          7418,
          8765,
          7798,
          9212,
          7115,
          3903,
          5038,
          7843,
          8872
         ],
         "yaxis": "y"
        },
        {
         "line": {
          "color": "#1f77b4",
          "width": 2
         },
         "marker": {
          "size": 2
         },
         "mode": "lines+markers",
         "name": "Seasonal",
         "type": "scatter",
         "x": [
          "2021-07-08T00:00:00",
          "2021-07-09T00:00:00",
          "2021-07-10T00:00:00",
          "2021-07-11T00:00:00",
          "2021-07-12T00:00:00",
          "2021-07-13T00:00:00",
          "2021-07-14T00:00:00",
          "2021-07-15T00:00:00",
          "2021-07-16T00:00:00",
          "2021-07-17T00:00:00",
          "2021-07-18T00:00:00",
          "2021-07-19T00:00:00",
          "2021-07-20T00:00:00",
          "2021-07-21T00:00:00",
          "2021-07-22T00:00:00",
          "2021-07-23T00:00:00",
          "2021-07-24T00:00:00",
          "2021-07-25T00:00:00",
          "2021-07-26T00:00:00",
          "2021-07-27T00:00:00",
          "2021-07-28T00:00:00",
          "2021-07-29T00:00:00",
          "2021-07-30T00:00:00",
          "2021-07-31T00:00:00",
          "2021-08-01T00:00:00",
          "2021-08-02T00:00:00",
          "2021-08-03T00:00:00",
          "2021-08-04T00:00:00",
          "2021-08-05T00:00:00",
          "2021-08-06T00:00:00",
          "2021-08-07T00:00:00",
          "2021-08-08T00:00:00",
          "2021-08-09T00:00:00",
          "2021-08-10T00:00:00",
          "2021-08-11T00:00:00",
          "2021-08-12T00:00:00",
          "2021-08-13T00:00:00",
          "2021-08-14T00:00:00",
          "2021-08-15T00:00:00",
          "2021-08-16T00:00:00",
          "2021-08-17T00:00:00",
          "2021-08-18T00:00:00",
          "2021-08-19T00:00:00",
          "2021-08-20T00:00:00",
          "2021-08-21T00:00:00",
          "2021-08-22T00:00:00",
          "2021-08-23T00:00:00",
          "2021-08-24T00:00:00",
          "2021-08-25T00:00:00",
          "2021-08-26T00:00:00",
          "2021-08-27T00:00:00",
          "2021-08-28T00:00:00",
          "2021-08-29T00:00:00",
          "2021-08-30T00:00:00",
          "2021-08-31T00:00:00",
          "2021-09-01T00:00:00",
          "2021-09-02T00:00:00",
          "2021-09-03T00:00:00",
          "2021-09-04T00:00:00",
          "2021-09-05T00:00:00",
          "2021-09-06T00:00:00",
          "2021-09-07T00:00:00",
          "2021-09-08T00:00:00",
          "2021-09-09T00:00:00",
          "2021-09-10T00:00:00",
          "2021-09-11T00:00:00",
          "2021-09-12T00:00:00",
          "2021-09-13T00:00:00",
          "2021-09-14T00:00:00",
          "2021-09-15T00:00:00",
          "2021-09-16T00:00:00",
          "2021-09-17T00:00:00",
          "2021-09-18T00:00:00",
          "2021-09-19T00:00:00",
          "2021-09-20T00:00:00",
          "2021-09-21T00:00:00",
          "2021-09-22T00:00:00",
          "2021-09-23T00:00:00",
          "2021-09-24T00:00:00",
          "2021-09-25T00:00:00",
          "2021-09-26T00:00:00",
          "2021-09-27T00:00:00",
          "2021-09-28T00:00:00",
          "2021-09-29T00:00:00",
          "2021-09-30T00:00:00",
          "2021-10-01T00:00:00",
          "2021-10-02T00:00:00",
          "2021-10-03T00:00:00",
          "2021-10-04T00:00:00",
          "2021-10-05T00:00:00"
         ],
         "xaxis": "x2",
         "y": [
          537.0563421964089,
          45.55776027960491,
          -1203.1034627900247,
          -698.2255180464307,
          1057.2251814087283,
          96.77308416884956,
          356.72203330168105,
          622.9769455455244,
          11.132827750682868,
          -1452.7794007252862,
          -929.2781808763083,
          883.8657132374141,
          452.8678920427264,
          631.1975979469476,
          694.2271272454914,
          -47.97250622480242,
          -1694.0057611010532,
          -1158.7829062690892,
          705.7537755144119,
          824.0984836445336,
          894.3893059571374,
          754.7894790307734,
          -119.16849092840252,
          -1920.8385501906648,
          -1357.9395961790087,
          538.2411884099864,
          1201.0454440164053,
          1175.9899846630497,
          815.2104167915551,
          -293.92025798695596,
          -2187.9369052359825,
          -1600.9836892927203,
          558.442393171597,
          1514.0273975865944,
          1361.4923802848948,
          928.0884467847087,
          -315.5878141063818,
          -2512.7832031514695,
          -1918.0726634684588,
          789.5000927518939,
          1629.5522513911103,
          1356.8377865224945,
          1141.1711657108392,
          -115.66183053870839,
          -2702.215821372012,
          -2254.9748218498676,
          822.7852285834273,
          1492.3204609168033,
          1348.8766690150185,
          1360.4501715002696,
          308.8492808135714,
          -2764.262675037284,
          -2554.714739630843,
          818.3023046992296,
          1354.1697514028936,
          1237.9831319322138,
          1377.816037930665,
          716.5439493975247,
          -2573.6102171986777,
          -2723.8677654585968,
          493.53361673017247,
          1290.8068965373807,
          1212.4857395555996,
          1414.5030362270134,
          948.0716286728323,
          -2432.2432530517353,
          -2758.084702418553,
          252.93000453170293,
          1311.0693078462139,
          1237.733690021844,
          1588.6474836879438,
          772.7441951622817,
          -2650.5091065760025,
          -2645.540819723786,
          346.4310706112435,
          1452.5196560500833,
          1185.6930807662636,
          1778.7241420664784,
          535.8767727969561,
          -2896.9665033966353,
          -2521.281725012354,
          432.72739237271554,
          1576.952316414717,
          1155.33812603264,
          2004.592583661871,
          256.2295638648103,
          -3185.25184728852,
          -2383.171293476344,
          540.9594209775703,
          1712.3113587304015
         ],
         "yaxis": "y2"
        },
        {
         "line": {
          "color": "#1f77b4",
          "width": 2
         },
         "marker": {
          "size": 2
         },
         "mode": "lines+markers",
         "name": "Trend",
         "type": "scatter",
         "x": [
          "2021-07-08T00:00:00",
          "2021-07-09T00:00:00",
          "2021-07-10T00:00:00",
          "2021-07-11T00:00:00",
          "2021-07-12T00:00:00",
          "2021-07-13T00:00:00",
          "2021-07-14T00:00:00",
          "2021-07-15T00:00:00",
          "2021-07-16T00:00:00",
          "2021-07-17T00:00:00",
          "2021-07-18T00:00:00",
          "2021-07-19T00:00:00",
          "2021-07-20T00:00:00",
          "2021-07-21T00:00:00",
          "2021-07-22T00:00:00",
          "2021-07-23T00:00:00",
          "2021-07-24T00:00:00",
          "2021-07-25T00:00:00",
          "2021-07-26T00:00:00",
          "2021-07-27T00:00:00",
          "2021-07-28T00:00:00",
          "2021-07-29T00:00:00",
          "2021-07-30T00:00:00",
          "2021-07-31T00:00:00",
          "2021-08-01T00:00:00",
          "2021-08-02T00:00:00",
          "2021-08-03T00:00:00",
          "2021-08-04T00:00:00",
          "2021-08-05T00:00:00",
          "2021-08-06T00:00:00",
          "2021-08-07T00:00:00",
          "2021-08-08T00:00:00",
          "2021-08-09T00:00:00",
          "2021-08-10T00:00:00",
          "2021-08-11T00:00:00",
          "2021-08-12T00:00:00",
          "2021-08-13T00:00:00",
          "2021-08-14T00:00:00",
          "2021-08-15T00:00:00",
          "2021-08-16T00:00:00",
          "2021-08-17T00:00:00",
          "2021-08-18T00:00:00",
          "2021-08-19T00:00:00",
          "2021-08-20T00:00:00",
          "2021-08-21T00:00:00",
          "2021-08-22T00:00:00",
          "2021-08-23T00:00:00",
          "2021-08-24T00:00:00",
          "2021-08-25T00:00:00",
          "2021-08-26T00:00:00",
          "2021-08-27T00:00:00",
          "2021-08-28T00:00:00",
          "2021-08-29T00:00:00",
          "2021-08-30T00:00:00",
          "2021-08-31T00:00:00",
          "2021-09-01T00:00:00",
          "2021-09-02T00:00:00",
          "2021-09-03T00:00:00",
          "2021-09-04T00:00:00",
          "2021-09-05T00:00:00",
          "2021-09-06T00:00:00",
          "2021-09-07T00:00:00",
          "2021-09-08T00:00:00",
          "2021-09-09T00:00:00",
          "2021-09-10T00:00:00",
          "2021-09-11T00:00:00",
          "2021-09-12T00:00:00",
          "2021-09-13T00:00:00",
          "2021-09-14T00:00:00",
          "2021-09-15T00:00:00",
          "2021-09-16T00:00:00",
          "2021-09-17T00:00:00",
          "2021-09-18T00:00:00",
          "2021-09-19T00:00:00",
          "2021-09-20T00:00:00",
          "2021-09-21T00:00:00",
          "2021-09-22T00:00:00",
          "2021-09-23T00:00:00",
          "2021-09-24T00:00:00",
          "2021-09-25T00:00:00",
          "2021-09-26T00:00:00",
          "2021-09-27T00:00:00",
          "2021-09-28T00:00:00",
          "2021-09-29T00:00:00",
          "2021-09-30T00:00:00",
          "2021-10-01T00:00:00",
          "2021-10-02T00:00:00",
          "2021-10-03T00:00:00",
          "2021-10-04T00:00:00",
          "2021-10-05T00:00:00"
         ],
         "xaxis": "x3",
         "y": [
          3258.262049367406,
          3298.4971557816766,
          3335.7313817859244,
          3370.1358644246666,
          3402.4514707862663,
          3433.954489226854,
          3466.6468652581457,
          3497.887725718313,
          3509.7286067390705,
          3527.3889364888796,
          3566.5733821123354,
          3631.938806286266,
          3721.3830537767453,
          3818.2745257962865,
          3902.0502257022863,
          3973.6977554846803,
          4041.567590014578,
          4098.5816312283805,
          4132.385407804292,
          4135.970630499826,
          4118.366542933992,
          4106.047918161659,
          4117.566404280808,
          4142.278789156479,
          4166.141781804008,
          4177.33580988273,
          4174.126026972333,
          4171.376485692164,
          4178.113777728222,
          4170.509962484282,
          4128.472804658878,
          4059.4660193594236,
          3999.6752774946513,
          3965.8387057272803,
          3941.721380437952,
          3921.425802386788,
          3928.395197390469,
          3985.1309422935883,
          4095.0982169436215,
          4239.418111196749,
          4415.111046880015,
          4629.136665596021,
          4859.744623606251,
          5077.156835537664,
          5260.7787430839835,
          5380.931943607417,
          5428.040206184838,
          5428.780096443166,
          5401.991082006718,
          5356.850041339826,
          5301.7715945434,
          5252.42129340026,
          5237.011558691372,
          5264.389470933499,
          5300.031371423332,
          5322.118223890315,
          5328.373661596535,
          5314.63579331024,
          5273.274554198656,
          5213.687561901323,
          5154.501798225906,
          5116.017813370796,
          5110.634995971044,
          5141.139509634311,
          5199.6806804996595,
          5290.297834223054,
          5420.007724274228,
          5578.244658354605,
          5736.096248128508,
          5870.119493272053,
          5981.822185502528,
          6100.786368779984,
          6229.0588456895075,
          6349.938833815713,
          6444.8044161571825,
          6508.398641211522,
          6554.995523743091,
          6608.036333391439,
          6671.22676170096,
          6736.187406670505,
          6785.598158809514,
          6824.434810346407,
          6875.258282815558,
          6945.2835857700775,
          7009.004852787533,
          7070.329344528535,
          7130.3944510216,
          7190.052838646505,
          7249.7534817198675,
          7309.1910711396395
         ],
         "yaxis": "y3"
        },
        {
         "line": {
          "color": "#1f77b4",
          "width": 2
         },
         "marker": {
          "size": 4
         },
         "mode": "markers",
         "name": "Residuals",
         "type": "scatter",
         "x": [
          "2021-07-08T00:00:00",
          "2021-07-09T00:00:00",
          "2021-07-10T00:00:00",
          "2021-07-11T00:00:00",
          "2021-07-12T00:00:00",
          "2021-07-13T00:00:00",
          "2021-07-14T00:00:00",
          "2021-07-15T00:00:00",
          "2021-07-16T00:00:00",
          "2021-07-17T00:00:00",
          "2021-07-18T00:00:00",
          "2021-07-19T00:00:00",
          "2021-07-20T00:00:00",
          "2021-07-21T00:00:00",
          "2021-07-22T00:00:00",
          "2021-07-23T00:00:00",
          "2021-07-24T00:00:00",
          "2021-07-25T00:00:00",
          "2021-07-26T00:00:00",
          "2021-07-27T00:00:00",
          "2021-07-28T00:00:00",
          "2021-07-29T00:00:00",
          "2021-07-30T00:00:00",
          "2021-07-31T00:00:00",
          "2021-08-01T00:00:00",
          "2021-08-02T00:00:00",
          "2021-08-03T00:00:00",
          "2021-08-04T00:00:00",
          "2021-08-05T00:00:00",
          "2021-08-06T00:00:00",
          "2021-08-07T00:00:00",
          "2021-08-08T00:00:00",
          "2021-08-09T00:00:00",
          "2021-08-10T00:00:00",
          "2021-08-11T00:00:00",
          "2021-08-12T00:00:00",
          "2021-08-13T00:00:00",
          "2021-08-14T00:00:00",
          "2021-08-15T00:00:00",
          "2021-08-16T00:00:00",
          "2021-08-17T00:00:00",
          "2021-08-18T00:00:00",
          "2021-08-19T00:00:00",
          "2021-08-20T00:00:00",
          "2021-08-21T00:00:00",
          "2021-08-22T00:00:00",
          "2021-08-23T00:00:00",
          "2021-08-24T00:00:00",
          "2021-08-25T00:00:00",
          "2021-08-26T00:00:00",
          "2021-08-27T00:00:00",
          "2021-08-28T00:00:00",
          "2021-08-29T00:00:00",
          "2021-08-30T00:00:00",
          "2021-08-31T00:00:00",
          "2021-09-01T00:00:00",
          "2021-09-02T00:00:00",
          "2021-09-03T00:00:00",
          "2021-09-04T00:00:00",
          "2021-09-05T00:00:00",
          "2021-09-06T00:00:00",
          "2021-09-07T00:00:00",
          "2021-09-08T00:00:00",
          "2021-09-09T00:00:00",
          "2021-09-10T00:00:00",
          "2021-09-11T00:00:00",
          "2021-09-12T00:00:00",
          "2021-09-13T00:00:00",
          "2021-09-14T00:00:00",
          "2021-09-15T00:00:00",
          "2021-09-16T00:00:00",
          "2021-09-17T00:00:00",
          "2021-09-18T00:00:00",
          "2021-09-19T00:00:00",
          "2021-09-20T00:00:00",
          "2021-09-21T00:00:00",
          "2021-09-22T00:00:00",
          "2021-09-23T00:00:00",
          "2021-09-24T00:00:00",
          "2021-09-25T00:00:00",
          "2021-09-26T00:00:00",
          "2021-09-27T00:00:00",
          "2021-09-28T00:00:00",
          "2021-09-29T00:00:00",
          "2021-09-30T00:00:00",
          "2021-10-01T00:00:00",
          "2021-10-02T00:00:00",
          "2021-10-03T00:00:00",
          "2021-10-04T00:00:00",
          "2021-10-05T00:00:00"
         ],
         "xaxis": "x4",
         "y": [
          -22.318391563814657,
          -172.05491606128135,
          -53.62791899590002,
          53.08965362176423,
          82.32334780500514,
          264.27242660429647,
          117.6311014401731,
          -56.86467126383741,
          -46.861434489753265,
          18.390464236406387,
          -211.29520123602697,
          -176.80451952368003,
          -110.25094581947178,
          -225.47212374323408,
          6.722647052222328,
          443.2747507401223,
          184.43817108647545,
          336.2012750407084,
          78.86081668129555,
          -530.0691141443599,
          -35.75584889112906,
          332.16260280756705,
          2.6020866475946605,
          -225.4402389658144,
          -270.2021856249994,
          48.42300170728322,
          275.8285290112617,
          429.633529644786,
          -204.32419451977694,
          -94.58970449732624,
          -20.535899422895454,
          67.51766993329693,
          -77.11767066624816,
          554.1338966861249,
          -297.2137607228469,
          -399.51424917149643,
          -500.80738328408734,
          441.65226085788163,
          181.97444652483728,
          -1080.9182039486432,
          -317.6632982711253,
          379.0255478814843,
          322.08421068291045,
          189.50499500104434,
          -611.5629217119713,
          2.04287824245057,
          1748.174565231735,
          182.89944264003043,
          -293.8677510217367,
          -74.30021284009581,
          -255.62087535697174,
          -147.15861836297609,
          -315.29681906052883,
          -490.6917756327284,
          115.7988771737746,
          316.8986441774714,
          565.8103004728,
          247.8202572922355,
          41.33566300002167,
          -6.819796442725419,
          -192.03541495607806,
          -324.8247099081764,
          -184.12073552664333,
          -690.6425458613248,
          214.24769082750845,
          273.9454188286809,
          19.07697814432504,
          -43.1746628863084,
          -46.16555597472143,
          -386.853183293897,
          -14.469669190471905,
          404.46943605773504,
          447.450260886495,
          -190.3980140919266,
          -315.2354867684262,
          -97.9182972616054,
          677.3113954906448,
          -96.76047545791789,
          -18.10353449791637,
          -272.2209032738692,
          -176.31643379716024,
          160.83779728087757,
          312.78940076972503,
          -302.621711802718,
          198.40256355059591,
          -211.55890839334552,
          -42.14260373307934,
          231.1184548298388,
          52.28709730256196,
          -149.50242987004094
         ],
         "yaxis": "y4"
        }
       ],
       "layout": {
        "annotations": [
         {
          "font": {
           "size": 16
          },
          "showarrow": false,
          "text": "Actual",
          "textangle": 90,
          "x": 0.98,
          "xanchor": "left",
          "xref": "paper",
          "y": 0.903125,
          "yanchor": "middle",
          "yref": "paper"
         },
         {
          "font": {
           "size": 16
          },
          "showarrow": false,
          "text": "Seasonal",
          "textangle": 90,
          "x": 0.98,
          "xanchor": "left",
          "xref": "paper",
          "y": 0.6343749999999999,
          "yanchor": "middle",
          "yref": "paper"
         },
         {
          "font": {
           "size": 16
          },
          "showarrow": false,
          "text": "Trend",
          "textangle": 90,
          "x": 0.98,
          "xanchor": "left",
          "xref": "paper",
          "y": 0.365625,
          "yanchor": "middle",
          "yref": "paper"
         },
         {
          "font": {
           "size": 16
          },
          "showarrow": false,
          "text": "Residual",
          "textangle": 90,
          "x": 0.98,
          "xanchor": "left",
          "xref": "paper",
          "y": 0.096875,
          "yanchor": "middle",
          "yref": "paper"
         }
        ],
        "showlegend": false,
        "template": {
         "data": {
          "bar": [
           {
            "error_x": {
             "color": "rgb(51,51,51)"
            },
            "error_y": {
             "color": "rgb(51,51,51)"
            },
            "marker": {
             "line": {
              "color": "rgb(237,237,237)",
              "width": 0.5
             },
             "pattern": {
              "fillmode": "overlay",
              "size": 10,
              "solidity": 0.2
             }
            },
            "type": "bar"
           }
          ],
          "barpolar": [
           {
            "marker": {
             "line": {
              "color": "rgb(237,237,237)",
              "width": 0.5
             },
             "pattern": {
              "fillmode": "overlay",
              "size": 10,
              "solidity": 0.2
             }
            },
            "type": "barpolar"
           }
          ],
          "carpet": [
           {
            "aaxis": {
             "endlinecolor": "rgb(51,51,51)",
             "gridcolor": "white",
             "linecolor": "white",
             "minorgridcolor": "white",
             "startlinecolor": "rgb(51,51,51)"
            },
            "baxis": {
             "endlinecolor": "rgb(51,51,51)",
             "gridcolor": "white",
             "linecolor": "white",
             "minorgridcolor": "white",
             "startlinecolor": "rgb(51,51,51)"
            },
            "type": "carpet"
           }
          ],
          "choropleth": [
           {
            "colorbar": {
             "outlinewidth": 0,
             "tickcolor": "rgb(237,237,237)",
             "ticklen": 6,
             "ticks": "inside"
            },
            "type": "choropleth"
           }
          ],
          "contour": [
           {
            "colorbar": {
             "outlinewidth": 0,
             "tickcolor": "rgb(237,237,237)",
             "ticklen": 6,
             "ticks": "inside"
            },
            "colorscale": [
             [
              0,
              "rgb(20,44,66)"
             ],
             [
              1,
              "rgb(90,179,244)"
             ]
            ],
            "type": "contour"
           }
          ],
          "contourcarpet": [
           {
            "colorbar": {
             "outlinewidth": 0,
             "tickcolor": "rgb(237,237,237)",
             "ticklen": 6,
             "ticks": "inside"
            },
            "type": "contourcarpet"
           }
          ],
          "heatmap": [
           {
            "colorbar": {
             "outlinewidth": 0,
             "tickcolor": "rgb(237,237,237)",
             "ticklen": 6,
             "ticks": "inside"
            },
            "colorscale": [
             [
              0,
              "rgb(20,44,66)"
             ],
             [
              1,
              "rgb(90,179,244)"
             ]
            ],
            "type": "heatmap"
           }
          ],
          "heatmapgl": [
           {
            "colorbar": {
             "outlinewidth": 0,
             "tickcolor": "rgb(237,237,237)",
             "ticklen": 6,
             "ticks": "inside"
            },
            "colorscale": [
             [
              0,
              "rgb(20,44,66)"
             ],
             [
              1,
              "rgb(90,179,244)"
             ]
            ],
            "type": "heatmapgl"
           }
          ],
          "histogram": [
           {
            "marker": {
             "pattern": {
              "fillmode": "overlay",
              "size": 10,
              "solidity": 0.2
             }
            },
            "type": "histogram"
           }
          ],
          "histogram2d": [
           {
            "colorbar": {
             "outlinewidth": 0,
             "tickcolor": "rgb(237,237,237)",
             "ticklen": 6,
             "ticks": "inside"
            },
            "colorscale": [
             [
              0,
              "rgb(20,44,66)"
             ],
             [
              1,
              "rgb(90,179,244)"
             ]
            ],
            "type": "histogram2d"
           }
          ],
          "histogram2dcontour": [
           {
            "colorbar": {
             "outlinewidth": 0,
             "tickcolor": "rgb(237,237,237)",
             "ticklen": 6,
             "ticks": "inside"
            },
            "colorscale": [
             [
              0,
              "rgb(20,44,66)"
             ],
             [
              1,
              "rgb(90,179,244)"
             ]
            ],
            "type": "histogram2dcontour"
           }
          ],
          "mesh3d": [
           {
            "colorbar": {
             "outlinewidth": 0,
             "tickcolor": "rgb(237,237,237)",
             "ticklen": 6,
             "ticks": "inside"
            },
            "type": "mesh3d"
           }
          ],
          "parcoords": [
           {
            "line": {
             "colorbar": {
              "outlinewidth": 0,
              "tickcolor": "rgb(237,237,237)",
              "ticklen": 6,
              "ticks": "inside"
             }
            },
            "type": "parcoords"
           }
          ],
          "pie": [
           {
            "automargin": true,
            "type": "pie"
           }
          ],
          "scatter": [
           {
            "marker": {
             "colorbar": {
              "outlinewidth": 0,
              "tickcolor": "rgb(237,237,237)",
              "ticklen": 6,
              "ticks": "inside"
             }
            },
            "type": "scatter"
           }
          ],
          "scatter3d": [
           {
            "line": {
             "colorbar": {
              "outlinewidth": 0,
              "tickcolor": "rgb(237,237,237)",
              "ticklen": 6,
              "ticks": "inside"
             }
            },
            "marker": {
             "colorbar": {
              "outlinewidth": 0,
              "tickcolor": "rgb(237,237,237)",
              "ticklen": 6,
              "ticks": "inside"
             }
            },
            "type": "scatter3d"
           }
          ],
          "scattercarpet": [
           {
            "marker": {
             "colorbar": {
              "outlinewidth": 0,
              "tickcolor": "rgb(237,237,237)",
              "ticklen": 6,
              "ticks": "inside"
             }
            },
            "type": "scattercarpet"
           }
          ],
          "scattergeo": [
           {
            "marker": {
             "colorbar": {
              "outlinewidth": 0,
              "tickcolor": "rgb(237,237,237)",
              "ticklen": 6,
              "ticks": "inside"
             }
            },
            "type": "scattergeo"
           }
          ],
          "scattergl": [
           {
            "marker": {
             "colorbar": {
              "outlinewidth": 0,
              "tickcolor": "rgb(237,237,237)",
              "ticklen": 6,
              "ticks": "inside"
             }
            },
            "type": "scattergl"
           }
          ],
          "scattermapbox": [
           {
            "marker": {
             "colorbar": {
              "outlinewidth": 0,
              "tickcolor": "rgb(237,237,237)",
              "ticklen": 6,
              "ticks": "inside"
             }
            },
            "type": "scattermapbox"
           }
          ],
          "scatterpolar": [
           {
            "marker": {
             "colorbar": {
              "outlinewidth": 0,
              "tickcolor": "rgb(237,237,237)",
              "ticklen": 6,
              "ticks": "inside"
             }
            },
            "type": "scatterpolar"
           }
          ],
          "scatterpolargl": [
           {
            "marker": {
             "colorbar": {
              "outlinewidth": 0,
              "tickcolor": "rgb(237,237,237)",
              "ticklen": 6,
              "ticks": "inside"
             }
            },
            "type": "scatterpolargl"
           }
          ],
          "scatterternary": [
           {
            "marker": {
             "colorbar": {
              "outlinewidth": 0,
              "tickcolor": "rgb(237,237,237)",
              "ticklen": 6,
              "ticks": "inside"
             }
            },
            "type": "scatterternary"
           }
          ],
          "surface": [
           {
            "colorbar": {
             "outlinewidth": 0,
             "tickcolor": "rgb(237,237,237)",
             "ticklen": 6,
             "ticks": "inside"
            },
            "colorscale": [
             [
              0,
              "rgb(20,44,66)"
             ],
             [
              1,
              "rgb(90,179,244)"
             ]
            ],
            "type": "surface"
           }
          ],
          "table": [
           {
            "cells": {
             "fill": {
              "color": "rgb(237,237,237)"
             },
             "line": {
              "color": "white"
             }
            },
            "header": {
             "fill": {
              "color": "rgb(217,217,217)"
             },
             "line": {
              "color": "white"
             }
            },
            "type": "table"
           }
          ]
         },
         "layout": {
          "annotationdefaults": {
           "arrowhead": 0,
           "arrowwidth": 1
          },
          "autotypenumbers": "strict",
          "coloraxis": {
           "colorbar": {
            "outlinewidth": 0,
            "tickcolor": "rgb(237,237,237)",
            "ticklen": 6,
            "ticks": "inside"
           }
          },
          "colorscale": {
           "sequential": [
            [
             0,
             "rgb(20,44,66)"
            ],
            [
             1,
             "rgb(90,179,244)"
            ]
           ],
           "sequentialminus": [
            [
             0,
             "rgb(20,44,66)"
            ],
            [
             1,
             "rgb(90,179,244)"
            ]
           ]
          },
          "colorway": [
           "#F8766D",
           "#A3A500",
           "#00BF7D",
           "#00B0F6",
           "#E76BF3"
          ],
          "font": {
           "color": "rgb(51,51,51)"
          },
          "geo": {
           "bgcolor": "white",
           "lakecolor": "white",
           "landcolor": "rgb(237,237,237)",
           "showlakes": true,
           "showland": true,
           "subunitcolor": "white"
          },
          "hoverlabel": {
           "align": "left"
          },
          "hovermode": "closest",
          "paper_bgcolor": "white",
          "plot_bgcolor": "rgb(237,237,237)",
          "polar": {
           "angularaxis": {
            "gridcolor": "white",
            "linecolor": "white",
            "showgrid": true,
            "tickcolor": "rgb(51,51,51)",
            "ticks": "outside"
           },
           "bgcolor": "rgb(237,237,237)",
           "radialaxis": {
            "gridcolor": "white",
            "linecolor": "white",
            "showgrid": true,
            "tickcolor": "rgb(51,51,51)",
            "ticks": "outside"
           }
          },
          "scene": {
           "xaxis": {
            "backgroundcolor": "rgb(237,237,237)",
            "gridcolor": "white",
            "gridwidth": 2,
            "linecolor": "white",
            "showbackground": true,
            "showgrid": true,
            "tickcolor": "rgb(51,51,51)",
            "ticks": "outside",
            "zerolinecolor": "white"
           },
           "yaxis": {
            "backgroundcolor": "rgb(237,237,237)",
            "gridcolor": "white",
            "gridwidth": 2,
            "linecolor": "white",
            "showbackground": true,
            "showgrid": true,
            "tickcolor": "rgb(51,51,51)",
            "ticks": "outside",
            "zerolinecolor": "white"
           },
           "zaxis": {
            "backgroundcolor": "rgb(237,237,237)",
            "gridcolor": "white",
            "gridwidth": 2,
            "linecolor": "white",
            "showbackground": true,
            "showgrid": true,
            "tickcolor": "rgb(51,51,51)",
            "ticks": "outside",
            "zerolinecolor": "white"
           }
          },
          "shapedefaults": {
           "fillcolor": "black",
           "line": {
            "width": 0
           },
           "opacity": 0.3
          },
          "ternary": {
           "aaxis": {
            "gridcolor": "white",
            "linecolor": "white",
            "showgrid": true,
            "tickcolor": "rgb(51,51,51)",
            "ticks": "outside"
           },
           "baxis": {
            "gridcolor": "white",
            "linecolor": "white",
            "showgrid": true,
            "tickcolor": "rgb(51,51,51)",
            "ticks": "outside"
           },
           "bgcolor": "rgb(237,237,237)",
           "caxis": {
            "gridcolor": "white",
            "linecolor": "white",
            "showgrid": true,
            "tickcolor": "rgb(51,51,51)",
            "ticks": "outside"
           }
          },
          "xaxis": {
           "automargin": true,
           "gridcolor": "white",
           "linecolor": "white",
           "showgrid": true,
           "tickcolor": "rgb(51,51,51)",
           "ticks": "outside",
           "title": {
            "standoff": 15
           },
           "zerolinecolor": "white"
          },
          "yaxis": {
           "automargin": true,
           "gridcolor": "white",
           "linecolor": "white",
           "showgrid": true,
           "tickcolor": "rgb(51,51,51)",
           "ticks": "outside",
           "title": {
            "standoff": 15
           },
           "zerolinecolor": "white"
          }
         }
        },
        "title": {
         "text": "STL Decomposition | Total"
        },
        "xaxis": {
         "anchor": "y",
         "domain": [
          0,
          0.98
         ],
         "matches": "x4",
         "showticklabels": false
        },
        "xaxis2": {
         "anchor": "y2",
         "domain": [
          0,
          0.98
         ],
         "matches": "x4",
         "showticklabels": false
        },
        "xaxis3": {
         "anchor": "y3",
         "domain": [
          0,
          0.98
         ],
         "matches": "x4",
         "showticklabels": false
        },
        "xaxis4": {
         "anchor": "y4",
         "domain": [
          0,
          0.98
         ]
        },
        "yaxis": {
         "anchor": "x",
         "domain": [
          0.80625,
          1
         ]
        },
        "yaxis2": {
         "anchor": "x2",
         "domain": [
          0.5375,
          0.73125
         ]
        },
        "yaxis3": {
         "anchor": "x3",
         "domain": [
          0.26875,
          0.4625
         ]
        },
        "yaxis4": {
         "anchor": "x4",
         "domain": [
          0,
          0.19375
         ]
        }
       }
      }
     },
     "metadata": {},
     "output_type": "display_data"
    }
   ],
   "source": [
    "# Decomposition plot\n",
    "plot_model(plot = 'decomp_stl')"
   ]
  },
  {
   "cell_type": "code",
   "execution_count": 40,
   "metadata": {},
   "outputs": [
    {
     "data": {
      "text/html": [
       "<style  type=\"text/css\" >\n",
       "    #T_c77dc_ th {\n",
       "          text-align: left;\n",
       "    }#T_c77dc_row0_col0,#T_c77dc_row1_col0,#T_c77dc_row1_col1,#T_c77dc_row1_col2,#T_c77dc_row1_col3,#T_c77dc_row1_col4,#T_c77dc_row1_col5,#T_c77dc_row1_col6,#T_c77dc_row2_col0,#T_c77dc_row2_col1,#T_c77dc_row2_col2,#T_c77dc_row2_col3,#T_c77dc_row2_col4,#T_c77dc_row2_col5,#T_c77dc_row2_col6,#T_c77dc_row3_col0,#T_c77dc_row3_col1,#T_c77dc_row3_col2,#T_c77dc_row3_col3,#T_c77dc_row3_col4,#T_c77dc_row3_col5,#T_c77dc_row3_col6,#T_c77dc_row4_col0,#T_c77dc_row4_col1,#T_c77dc_row4_col2,#T_c77dc_row4_col3,#T_c77dc_row4_col4,#T_c77dc_row4_col5,#T_c77dc_row4_col6,#T_c77dc_row5_col0,#T_c77dc_row5_col1,#T_c77dc_row5_col2,#T_c77dc_row5_col3,#T_c77dc_row5_col4,#T_c77dc_row5_col5,#T_c77dc_row5_col6,#T_c77dc_row6_col0,#T_c77dc_row6_col1,#T_c77dc_row6_col2,#T_c77dc_row6_col3,#T_c77dc_row6_col4,#T_c77dc_row6_col5,#T_c77dc_row6_col6,#T_c77dc_row7_col0,#T_c77dc_row7_col1,#T_c77dc_row7_col2,#T_c77dc_row7_col3,#T_c77dc_row7_col4,#T_c77dc_row7_col5,#T_c77dc_row7_col6,#T_c77dc_row8_col0,#T_c77dc_row8_col1,#T_c77dc_row8_col2,#T_c77dc_row8_col3,#T_c77dc_row8_col4,#T_c77dc_row8_col5,#T_c77dc_row8_col6,#T_c77dc_row9_col0,#T_c77dc_row9_col1,#T_c77dc_row9_col2,#T_c77dc_row9_col3,#T_c77dc_row9_col4,#T_c77dc_row9_col5,#T_c77dc_row9_col6,#T_c77dc_row10_col0,#T_c77dc_row10_col1,#T_c77dc_row10_col2,#T_c77dc_row10_col3,#T_c77dc_row10_col4,#T_c77dc_row10_col5,#T_c77dc_row10_col6,#T_c77dc_row11_col0,#T_c77dc_row11_col1,#T_c77dc_row11_col2,#T_c77dc_row11_col3,#T_c77dc_row11_col4,#T_c77dc_row11_col5,#T_c77dc_row11_col6,#T_c77dc_row12_col0,#T_c77dc_row12_col1,#T_c77dc_row12_col2,#T_c77dc_row12_col3,#T_c77dc_row12_col4,#T_c77dc_row12_col5,#T_c77dc_row12_col6,#T_c77dc_row13_col0,#T_c77dc_row13_col1,#T_c77dc_row13_col2,#T_c77dc_row13_col3,#T_c77dc_row13_col4,#T_c77dc_row13_col5,#T_c77dc_row13_col6,#T_c77dc_row14_col0,#T_c77dc_row14_col1,#T_c77dc_row14_col2,#T_c77dc_row14_col3,#T_c77dc_row14_col4,#T_c77dc_row14_col5,#T_c77dc_row14_col6,#T_c77dc_row15_col0,#T_c77dc_row15_col1,#T_c77dc_row15_col2,#T_c77dc_row15_col3,#T_c77dc_row15_col4,#T_c77dc_row15_col5,#T_c77dc_row15_col6,#T_c77dc_row16_col0,#T_c77dc_row16_col1,#T_c77dc_row16_col2,#T_c77dc_row16_col3,#T_c77dc_row16_col4,#T_c77dc_row16_col5,#T_c77dc_row16_col6,#T_c77dc_row17_col0,#T_c77dc_row17_col1,#T_c77dc_row17_col2,#T_c77dc_row17_col3,#T_c77dc_row17_col4,#T_c77dc_row17_col5,#T_c77dc_row17_col6,#T_c77dc_row18_col0,#T_c77dc_row18_col1,#T_c77dc_row18_col2,#T_c77dc_row18_col3,#T_c77dc_row18_col4,#T_c77dc_row18_col5,#T_c77dc_row18_col6,#T_c77dc_row19_col0,#T_c77dc_row19_col1,#T_c77dc_row19_col2,#T_c77dc_row19_col3,#T_c77dc_row19_col4,#T_c77dc_row19_col5,#T_c77dc_row19_col6,#T_c77dc_row20_col0,#T_c77dc_row20_col1,#T_c77dc_row20_col2,#T_c77dc_row20_col3,#T_c77dc_row20_col4,#T_c77dc_row20_col5,#T_c77dc_row20_col6,#T_c77dc_row21_col0,#T_c77dc_row21_col1,#T_c77dc_row21_col2,#T_c77dc_row21_col3,#T_c77dc_row21_col4,#T_c77dc_row21_col5,#T_c77dc_row21_col6,#T_c77dc_row22_col0,#T_c77dc_row22_col1,#T_c77dc_row22_col2,#T_c77dc_row22_col3,#T_c77dc_row22_col4,#T_c77dc_row22_col5,#T_c77dc_row22_col6,#T_c77dc_row23_col0,#T_c77dc_row23_col1,#T_c77dc_row23_col2,#T_c77dc_row23_col3,#T_c77dc_row23_col4,#T_c77dc_row23_col5,#T_c77dc_row23_col6,#T_c77dc_row24_col0,#T_c77dc_row24_col1,#T_c77dc_row24_col2,#T_c77dc_row24_col3,#T_c77dc_row24_col4,#T_c77dc_row24_col5,#T_c77dc_row24_col6,#T_c77dc_row25_col0,#T_c77dc_row25_col1,#T_c77dc_row25_col2,#T_c77dc_row25_col3,#T_c77dc_row25_col4,#T_c77dc_row25_col5,#T_c77dc_row25_col6{\n",
       "            text-align:  left;\n",
       "            text-align:  left;\n",
       "        }#T_c77dc_row0_col1,#T_c77dc_row0_col2,#T_c77dc_row0_col3,#T_c77dc_row0_col4,#T_c77dc_row0_col5,#T_c77dc_row0_col6{\n",
       "            text-align:  left;\n",
       "            text-align:  left;\n",
       "            background-color:  yellow;\n",
       "        }#T_c77dc_row0_col7,#T_c77dc_row1_col7,#T_c77dc_row2_col7,#T_c77dc_row3_col7,#T_c77dc_row4_col7,#T_c77dc_row5_col7,#T_c77dc_row6_col7,#T_c77dc_row7_col7,#T_c77dc_row8_col7,#T_c77dc_row9_col7,#T_c77dc_row10_col7,#T_c77dc_row11_col7,#T_c77dc_row12_col7,#T_c77dc_row13_col7,#T_c77dc_row14_col7,#T_c77dc_row15_col7,#T_c77dc_row16_col7,#T_c77dc_row17_col7,#T_c77dc_row18_col7,#T_c77dc_row19_col7,#T_c77dc_row20_col7,#T_c77dc_row21_col7,#T_c77dc_row22_col7,#T_c77dc_row23_col7,#T_c77dc_row25_col7{\n",
       "            text-align:  left;\n",
       "            text-align:  left;\n",
       "            background-color:  lightgrey;\n",
       "        }#T_c77dc_row24_col7{\n",
       "            text-align:  left;\n",
       "            text-align:  left;\n",
       "            background-color:  yellow;\n",
       "            background-color:  lightgrey;\n",
       "        }</style><table id=\"T_c77dc_\" ><thead>    <tr>        <th class=\"blank level0\" ></th>        <th class=\"col_heading level0 col0\" >Model</th>        <th class=\"col_heading level0 col1\" >MAE</th>        <th class=\"col_heading level0 col2\" >RMSE</th>        <th class=\"col_heading level0 col3\" >MAPE</th>        <th class=\"col_heading level0 col4\" >SMAPE</th>        <th class=\"col_heading level0 col5\" >MASE</th>        <th class=\"col_heading level0 col6\" >R2</th>        <th class=\"col_heading level0 col7\" >TT (Sec)</th>    </tr></thead><tbody>\n",
       "                <tr>\n",
       "                        <th id=\"T_c77dc_level0_row0\" class=\"row_heading level0 row0\" >auto_arima</th>\n",
       "                        <td id=\"T_c77dc_row0_col0\" class=\"data row0 col0\" >Auto ARIMA</td>\n",
       "                        <td id=\"T_c77dc_row0_col1\" class=\"data row0 col1\" >531.9161</td>\n",
       "                        <td id=\"T_c77dc_row0_col2\" class=\"data row0 col2\" >626.2090</td>\n",
       "                        <td id=\"T_c77dc_row0_col3\" class=\"data row0 col3\" >0.0911</td>\n",
       "                        <td id=\"T_c77dc_row0_col4\" class=\"data row0 col4\" >0.0916</td>\n",
       "                        <td id=\"T_c77dc_row0_col5\" class=\"data row0 col5\" >0.8490</td>\n",
       "                        <td id=\"T_c77dc_row0_col6\" class=\"data row0 col6\" >0.8632</td>\n",
       "                        <td id=\"T_c77dc_row0_col7\" class=\"data row0 col7\" >1.0567</td>\n",
       "            </tr>\n",
       "            <tr>\n",
       "                        <th id=\"T_c77dc_level0_row1\" class=\"row_heading level0 row1\" >arima</th>\n",
       "                        <td id=\"T_c77dc_row1_col0\" class=\"data row1 col0\" >ARIMA</td>\n",
       "                        <td id=\"T_c77dc_row1_col1\" class=\"data row1 col1\" >568.4974</td>\n",
       "                        <td id=\"T_c77dc_row1_col2\" class=\"data row1 col2\" >687.2509</td>\n",
       "                        <td id=\"T_c77dc_row1_col3\" class=\"data row1 col3\" >0.0957</td>\n",
       "                        <td id=\"T_c77dc_row1_col4\" class=\"data row1 col4\" >0.0975</td>\n",
       "                        <td id=\"T_c77dc_row1_col5\" class=\"data row1 col5\" >0.9085</td>\n",
       "                        <td id=\"T_c77dc_row1_col6\" class=\"data row1 col6\" >0.8316</td>\n",
       "                        <td id=\"T_c77dc_row1_col7\" class=\"data row1 col7\" >0.0133</td>\n",
       "            </tr>\n",
       "            <tr>\n",
       "                        <th id=\"T_c77dc_level0_row2\" class=\"row_heading level0 row2\" >lightgbm_cds_dt</th>\n",
       "                        <td id=\"T_c77dc_row2_col0\" class=\"data row2 col0\" >Light Gradient Boosting w/ Cond. Deseasonalize & Detrending</td>\n",
       "                        <td id=\"T_c77dc_row2_col1\" class=\"data row2 col1\" >571.1749</td>\n",
       "                        <td id=\"T_c77dc_row2_col2\" class=\"data row2 col2\" >672.9608</td>\n",
       "                        <td id=\"T_c77dc_row2_col3\" class=\"data row2 col3\" >0.1022</td>\n",
       "                        <td id=\"T_c77dc_row2_col4\" class=\"data row2 col4\" >0.0990</td>\n",
       "                        <td id=\"T_c77dc_row2_col5\" class=\"data row2 col5\" >0.9132</td>\n",
       "                        <td id=\"T_c77dc_row2_col6\" class=\"data row2 col6\" >0.8368</td>\n",
       "                        <td id=\"T_c77dc_row2_col7\" class=\"data row2 col7\" >0.0167</td>\n",
       "            </tr>\n",
       "            <tr>\n",
       "                        <th id=\"T_c77dc_level0_row3\" class=\"row_heading level0 row3\" >et_cds_dt</th>\n",
       "                        <td id=\"T_c77dc_row3_col0\" class=\"data row3 col0\" >Extra Trees w/ Cond. Deseasonalize & Detrending</td>\n",
       "                        <td id=\"T_c77dc_row3_col1\" class=\"data row3 col1\" >583.1120</td>\n",
       "                        <td id=\"T_c77dc_row3_col2\" class=\"data row3 col2\" >715.5584</td>\n",
       "                        <td id=\"T_c77dc_row3_col3\" class=\"data row3 col3\" >0.1014</td>\n",
       "                        <td id=\"T_c77dc_row3_col4\" class=\"data row3 col4\" >0.0996</td>\n",
       "                        <td id=\"T_c77dc_row3_col5\" class=\"data row3 col5\" >0.9318</td>\n",
       "                        <td id=\"T_c77dc_row3_col6\" class=\"data row3 col6\" >0.8204</td>\n",
       "                        <td id=\"T_c77dc_row3_col7\" class=\"data row3 col7\" >0.3200</td>\n",
       "            </tr>\n",
       "            <tr>\n",
       "                        <th id=\"T_c77dc_level0_row4\" class=\"row_heading level0 row4\" >theta</th>\n",
       "                        <td id=\"T_c77dc_row4_col0\" class=\"data row4 col0\" >Theta Forecaster</td>\n",
       "                        <td id=\"T_c77dc_row4_col1\" class=\"data row4 col1\" >542.3628</td>\n",
       "                        <td id=\"T_c77dc_row4_col2\" class=\"data row4 col2\" >687.9873</td>\n",
       "                        <td id=\"T_c77dc_row4_col3\" class=\"data row4 col3\" >0.0944</td>\n",
       "                        <td id=\"T_c77dc_row4_col4\" class=\"data row4 col4\" >0.1013</td>\n",
       "                        <td id=\"T_c77dc_row4_col5\" class=\"data row4 col5\" >0.8699</td>\n",
       "                        <td id=\"T_c77dc_row4_col6\" class=\"data row4 col6\" >0.8162</td>\n",
       "                        <td id=\"T_c77dc_row4_col7\" class=\"data row4 col7\" >0.0133</td>\n",
       "            </tr>\n",
       "            <tr>\n",
       "                        <th id=\"T_c77dc_level0_row5\" class=\"row_heading level0 row5\" >gbr_cds_dt</th>\n",
       "                        <td id=\"T_c77dc_row5_col0\" class=\"data row5 col0\" >Gradient Boosting w/ Cond. Deseasonalize & Detrending</td>\n",
       "                        <td id=\"T_c77dc_row5_col1\" class=\"data row5 col1\" >604.1178</td>\n",
       "                        <td id=\"T_c77dc_row5_col2\" class=\"data row5 col2\" >706.2955</td>\n",
       "                        <td id=\"T_c77dc_row5_col3\" class=\"data row5 col3\" >0.1052</td>\n",
       "                        <td id=\"T_c77dc_row5_col4\" class=\"data row5 col4\" >0.1041</td>\n",
       "                        <td id=\"T_c77dc_row5_col5\" class=\"data row5 col5\" >0.9669</td>\n",
       "                        <td id=\"T_c77dc_row5_col6\" class=\"data row5 col6\" >0.8196</td>\n",
       "                        <td id=\"T_c77dc_row5_col7\" class=\"data row5 col7\" >0.0233</td>\n",
       "            </tr>\n",
       "            <tr>\n",
       "                        <th id=\"T_c77dc_level0_row6\" class=\"row_heading level0 row6\" >rf_cds_dt</th>\n",
       "                        <td id=\"T_c77dc_row6_col0\" class=\"data row6 col0\" >Random Forest w/ Cond. Deseasonalize & Detrending</td>\n",
       "                        <td id=\"T_c77dc_row6_col1\" class=\"data row6 col1\" >614.7098</td>\n",
       "                        <td id=\"T_c77dc_row6_col2\" class=\"data row6 col2\" >728.1451</td>\n",
       "                        <td id=\"T_c77dc_row6_col3\" class=\"data row6 col3\" >0.1055</td>\n",
       "                        <td id=\"T_c77dc_row6_col4\" class=\"data row6 col4\" >0.1044</td>\n",
       "                        <td id=\"T_c77dc_row6_col5\" class=\"data row6 col5\" >0.9818</td>\n",
       "                        <td id=\"T_c77dc_row6_col6\" class=\"data row6 col6\" >0.8137</td>\n",
       "                        <td id=\"T_c77dc_row6_col7\" class=\"data row6 col7\" >0.3133</td>\n",
       "            </tr>\n",
       "            <tr>\n",
       "                        <th id=\"T_c77dc_level0_row7\" class=\"row_heading level0 row7\" >huber_cds_dt</th>\n",
       "                        <td id=\"T_c77dc_row7_col0\" class=\"data row7 col0\" >Huber w/ Cond. Deseasonalize & Detrending</td>\n",
       "                        <td id=\"T_c77dc_row7_col1\" class=\"data row7 col1\" >624.8851</td>\n",
       "                        <td id=\"T_c77dc_row7_col2\" class=\"data row7 col2\" >752.5383</td>\n",
       "                        <td id=\"T_c77dc_row7_col3\" class=\"data row7 col3\" >0.1086</td>\n",
       "                        <td id=\"T_c77dc_row7_col4\" class=\"data row7 col4\" >0.1073</td>\n",
       "                        <td id=\"T_c77dc_row7_col5\" class=\"data row7 col5\" >0.9963</td>\n",
       "                        <td id=\"T_c77dc_row7_col6\" class=\"data row7 col6\" >0.8052</td>\n",
       "                        <td id=\"T_c77dc_row7_col7\" class=\"data row7 col7\" >0.0200</td>\n",
       "            </tr>\n",
       "            <tr>\n",
       "                        <th id=\"T_c77dc_level0_row8\" class=\"row_heading level0 row8\" >lasso_cds_dt</th>\n",
       "                        <td id=\"T_c77dc_row8_col0\" class=\"data row8 col0\" >Lasso w/ Cond. Deseasonalize & Detrending</td>\n",
       "                        <td id=\"T_c77dc_row8_col1\" class=\"data row8 col1\" >632.7151</td>\n",
       "                        <td id=\"T_c77dc_row8_col2\" class=\"data row8 col2\" >746.7218</td>\n",
       "                        <td id=\"T_c77dc_row8_col3\" class=\"data row8 col3\" >0.1081</td>\n",
       "                        <td id=\"T_c77dc_row8_col4\" class=\"data row8 col4\" >0.1075</td>\n",
       "                        <td id=\"T_c77dc_row8_col5\" class=\"data row8 col5\" >1.0093</td>\n",
       "                        <td id=\"T_c77dc_row8_col6\" class=\"data row8 col6\" >0.8079</td>\n",
       "                        <td id=\"T_c77dc_row8_col7\" class=\"data row8 col7\" >0.0200</td>\n",
       "            </tr>\n",
       "            <tr>\n",
       "                        <th id=\"T_c77dc_level0_row9\" class=\"row_heading level0 row9\" >en_cds_dt</th>\n",
       "                        <td id=\"T_c77dc_row9_col0\" class=\"data row9 col0\" >Elastic Net w/ Cond. Deseasonalize & Detrending</td>\n",
       "                        <td id=\"T_c77dc_row9_col1\" class=\"data row9 col1\" >632.7142</td>\n",
       "                        <td id=\"T_c77dc_row9_col2\" class=\"data row9 col2\" >746.7212</td>\n",
       "                        <td id=\"T_c77dc_row9_col3\" class=\"data row9 col3\" >0.1081</td>\n",
       "                        <td id=\"T_c77dc_row9_col4\" class=\"data row9 col4\" >0.1075</td>\n",
       "                        <td id=\"T_c77dc_row9_col5\" class=\"data row9 col5\" >1.0093</td>\n",
       "                        <td id=\"T_c77dc_row9_col6\" class=\"data row9 col6\" >0.8079</td>\n",
       "                        <td id=\"T_c77dc_row9_col7\" class=\"data row9 col7\" >0.0133</td>\n",
       "            </tr>\n",
       "            <tr>\n",
       "                        <th id=\"T_c77dc_level0_row10\" class=\"row_heading level0 row10\" >ridge_cds_dt</th>\n",
       "                        <td id=\"T_c77dc_row10_col0\" class=\"data row10 col0\" >Ridge w/ Cond. Deseasonalize & Detrending</td>\n",
       "                        <td id=\"T_c77dc_row10_col1\" class=\"data row10 col1\" >632.7132</td>\n",
       "                        <td id=\"T_c77dc_row10_col2\" class=\"data row10 col2\" >746.7205</td>\n",
       "                        <td id=\"T_c77dc_row10_col3\" class=\"data row10 col3\" >0.1081</td>\n",
       "                        <td id=\"T_c77dc_row10_col4\" class=\"data row10 col4\" >0.1075</td>\n",
       "                        <td id=\"T_c77dc_row10_col5\" class=\"data row10 col5\" >1.0093</td>\n",
       "                        <td id=\"T_c77dc_row10_col6\" class=\"data row10 col6\" >0.8079</td>\n",
       "                        <td id=\"T_c77dc_row10_col7\" class=\"data row10 col7\" >0.0167</td>\n",
       "            </tr>\n",
       "            <tr>\n",
       "                        <th id=\"T_c77dc_level0_row11\" class=\"row_heading level0 row11\" >lr_cds_dt</th>\n",
       "                        <td id=\"T_c77dc_row11_col0\" class=\"data row11 col0\" >Linear w/ Cond. Deseasonalize & Detrending</td>\n",
       "                        <td id=\"T_c77dc_row11_col1\" class=\"data row11 col1\" >632.7132</td>\n",
       "                        <td id=\"T_c77dc_row11_col2\" class=\"data row11 col2\" >746.7205</td>\n",
       "                        <td id=\"T_c77dc_row11_col3\" class=\"data row11 col3\" >0.1081</td>\n",
       "                        <td id=\"T_c77dc_row11_col4\" class=\"data row11 col4\" >0.1075</td>\n",
       "                        <td id=\"T_c77dc_row11_col5\" class=\"data row11 col5\" >1.0093</td>\n",
       "                        <td id=\"T_c77dc_row11_col6\" class=\"data row11 col6\" >0.8079</td>\n",
       "                        <td id=\"T_c77dc_row11_col7\" class=\"data row11 col7\" >0.0133</td>\n",
       "            </tr>\n",
       "            <tr>\n",
       "                        <th id=\"T_c77dc_level0_row12\" class=\"row_heading level0 row12\" >lar_cds_dt</th>\n",
       "                        <td id=\"T_c77dc_row12_col0\" class=\"data row12 col0\" >Least Angular Regressor w/ Cond. Deseasonalize & Detrending</td>\n",
       "                        <td id=\"T_c77dc_row12_col1\" class=\"data row12 col1\" >632.7132</td>\n",
       "                        <td id=\"T_c77dc_row12_col2\" class=\"data row12 col2\" >746.7205</td>\n",
       "                        <td id=\"T_c77dc_row12_col3\" class=\"data row12 col3\" >0.1081</td>\n",
       "                        <td id=\"T_c77dc_row12_col4\" class=\"data row12 col4\" >0.1075</td>\n",
       "                        <td id=\"T_c77dc_row12_col5\" class=\"data row12 col5\" >1.0093</td>\n",
       "                        <td id=\"T_c77dc_row12_col6\" class=\"data row12 col6\" >0.8079</td>\n",
       "                        <td id=\"T_c77dc_row12_col7\" class=\"data row12 col7\" >0.0167</td>\n",
       "            </tr>\n",
       "            <tr>\n",
       "                        <th id=\"T_c77dc_level0_row13\" class=\"row_heading level0 row13\" >br_cds_dt</th>\n",
       "                        <td id=\"T_c77dc_row13_col0\" class=\"data row13 col0\" >Bayesian Ridge w/ Cond. Deseasonalize & Detrending</td>\n",
       "                        <td id=\"T_c77dc_row13_col1\" class=\"data row13 col1\" >643.3474</td>\n",
       "                        <td id=\"T_c77dc_row13_col2\" class=\"data row13 col2\" >757.0428</td>\n",
       "                        <td id=\"T_c77dc_row13_col3\" class=\"data row13 col3\" >0.1098</td>\n",
       "                        <td id=\"T_c77dc_row13_col4\" class=\"data row13 col4\" >0.1094</td>\n",
       "                        <td id=\"T_c77dc_row13_col5\" class=\"data row13 col5\" >1.0260</td>\n",
       "                        <td id=\"T_c77dc_row13_col6\" class=\"data row13 col6\" >0.8030</td>\n",
       "                        <td id=\"T_c77dc_row13_col7\" class=\"data row13 col7\" >0.0133</td>\n",
       "            </tr>\n",
       "            <tr>\n",
       "                        <th id=\"T_c77dc_level0_row14\" class=\"row_heading level0 row14\" >llar_cds_dt</th>\n",
       "                        <td id=\"T_c77dc_row14_col0\" class=\"data row14 col0\" >Lasso Least Angular Regressor w/ Cond. Deseasonalize & Detrending</td>\n",
       "                        <td id=\"T_c77dc_row14_col1\" class=\"data row14 col1\" >643.3241</td>\n",
       "                        <td id=\"T_c77dc_row14_col2\" class=\"data row14 col2\" >753.9132</td>\n",
       "                        <td id=\"T_c77dc_row14_col3\" class=\"data row14 col3\" >0.1100</td>\n",
       "                        <td id=\"T_c77dc_row14_col4\" class=\"data row14 col4\" >0.1095</td>\n",
       "                        <td id=\"T_c77dc_row14_col5\" class=\"data row14 col5\" >1.0262</td>\n",
       "                        <td id=\"T_c77dc_row14_col6\" class=\"data row14 col6\" >0.8040</td>\n",
       "                        <td id=\"T_c77dc_row14_col7\" class=\"data row14 col7\" >0.0133</td>\n",
       "            </tr>\n",
       "            <tr>\n",
       "                        <th id=\"T_c77dc_level0_row15\" class=\"row_heading level0 row15\" >exp_smooth</th>\n",
       "                        <td id=\"T_c77dc_row15_col0\" class=\"data row15 col0\" >Exponential Smoothing</td>\n",
       "                        <td id=\"T_c77dc_row15_col1\" class=\"data row15 col1\" >570.7972</td>\n",
       "                        <td id=\"T_c77dc_row15_col2\" class=\"data row15 col2\" >661.2973</td>\n",
       "                        <td id=\"T_c77dc_row15_col3\" class=\"data row15 col3\" >0.1041</td>\n",
       "                        <td id=\"T_c77dc_row15_col4\" class=\"data row15 col4\" >0.1117</td>\n",
       "                        <td id=\"T_c77dc_row15_col5\" class=\"data row15 col5\" >0.9156</td>\n",
       "                        <td id=\"T_c77dc_row15_col6\" class=\"data row15 col6\" >0.8316</td>\n",
       "                        <td id=\"T_c77dc_row15_col7\" class=\"data row15 col7\" >0.0800</td>\n",
       "            </tr>\n",
       "            <tr>\n",
       "                        <th id=\"T_c77dc_level0_row16\" class=\"row_heading level0 row16\" >omp_cds_dt</th>\n",
       "                        <td id=\"T_c77dc_row16_col0\" class=\"data row16 col0\" >Orthogonal Matching Pursuit w/ Cond. Deseasonalize & Detrending</td>\n",
       "                        <td id=\"T_c77dc_row16_col1\" class=\"data row16 col1\" >651.9323</td>\n",
       "                        <td id=\"T_c77dc_row16_col2\" class=\"data row16 col2\" >774.8189</td>\n",
       "                        <td id=\"T_c77dc_row16_col3\" class=\"data row16 col3\" >0.1137</td>\n",
       "                        <td id=\"T_c77dc_row16_col4\" class=\"data row16 col4\" >0.1129</td>\n",
       "                        <td id=\"T_c77dc_row16_col5\" class=\"data row16 col5\" >1.0398</td>\n",
       "                        <td id=\"T_c77dc_row16_col6\" class=\"data row16 col6\" >0.7928</td>\n",
       "                        <td id=\"T_c77dc_row16_col7\" class=\"data row16 col7\" >0.0167</td>\n",
       "            </tr>\n",
       "            <tr>\n",
       "                        <th id=\"T_c77dc_level0_row17\" class=\"row_heading level0 row17\" >knn_cds_dt</th>\n",
       "                        <td id=\"T_c77dc_row17_col0\" class=\"data row17 col0\" >K Neighbors w/ Cond. Deseasonalize & Detrending</td>\n",
       "                        <td id=\"T_c77dc_row17_col1\" class=\"data row17 col1\" >673.6021</td>\n",
       "                        <td id=\"T_c77dc_row17_col2\" class=\"data row17 col2\" >808.2099</td>\n",
       "                        <td id=\"T_c77dc_row17_col3\" class=\"data row17 col3\" >0.1122</td>\n",
       "                        <td id=\"T_c77dc_row17_col4\" class=\"data row17 col4\" >0.1133</td>\n",
       "                        <td id=\"T_c77dc_row17_col5\" class=\"data row17 col5\" >1.0758</td>\n",
       "                        <td id=\"T_c77dc_row17_col6\" class=\"data row17 col6\" >0.7740</td>\n",
       "                        <td id=\"T_c77dc_row17_col7\" class=\"data row17 col7\" >0.2700</td>\n",
       "            </tr>\n",
       "            <tr>\n",
       "                        <th id=\"T_c77dc_level0_row18\" class=\"row_heading level0 row18\" >dt_cds_dt</th>\n",
       "                        <td id=\"T_c77dc_row18_col0\" class=\"data row18 col0\" >Decision Tree w/ Cond. Deseasonalize & Detrending</td>\n",
       "                        <td id=\"T_c77dc_row18_col1\" class=\"data row18 col1\" >613.1794</td>\n",
       "                        <td id=\"T_c77dc_row18_col2\" class=\"data row18 col2\" >797.4670</td>\n",
       "                        <td id=\"T_c77dc_row18_col3\" class=\"data row18 col3\" >0.1147</td>\n",
       "                        <td id=\"T_c77dc_row18_col4\" class=\"data row18 col4\" >0.1134</td>\n",
       "                        <td id=\"T_c77dc_row18_col5\" class=\"data row18 col5\" >0.9835</td>\n",
       "                        <td id=\"T_c77dc_row18_col6\" class=\"data row18 col6\" >0.7701</td>\n",
       "                        <td id=\"T_c77dc_row18_col7\" class=\"data row18 col7\" >0.0100</td>\n",
       "            </tr>\n",
       "            <tr>\n",
       "                        <th id=\"T_c77dc_level0_row19\" class=\"row_heading level0 row19\" >ada_cds_dt</th>\n",
       "                        <td id=\"T_c77dc_row19_col0\" class=\"data row19 col0\" >AdaBoost w/ Cond. Deseasonalize & Detrending</td>\n",
       "                        <td id=\"T_c77dc_row19_col1\" class=\"data row19 col1\" >657.4745</td>\n",
       "                        <td id=\"T_c77dc_row19_col2\" class=\"data row19 col2\" >754.4896</td>\n",
       "                        <td id=\"T_c77dc_row19_col3\" class=\"data row19 col3\" >0.1137</td>\n",
       "                        <td id=\"T_c77dc_row19_col4\" class=\"data row19 col4\" >0.1135</td>\n",
       "                        <td id=\"T_c77dc_row19_col5\" class=\"data row19 col5\" >1.0496</td>\n",
       "                        <td id=\"T_c77dc_row19_col6\" class=\"data row19 col6\" >0.8027</td>\n",
       "                        <td id=\"T_c77dc_row19_col7\" class=\"data row19 col7\" >0.0467</td>\n",
       "            </tr>\n",
       "            <tr>\n",
       "                        <th id=\"T_c77dc_level0_row20\" class=\"row_heading level0 row20\" >xgboost_cds_dt</th>\n",
       "                        <td id=\"T_c77dc_row20_col0\" class=\"data row20 col0\" >Extreme Gradient Boosting w/ Cond. Deseasonalize & Detrending</td>\n",
       "                        <td id=\"T_c77dc_row20_col1\" class=\"data row20 col1\" >671.6714</td>\n",
       "                        <td id=\"T_c77dc_row20_col2\" class=\"data row20 col2\" >742.8409</td>\n",
       "                        <td id=\"T_c77dc_row20_col3\" class=\"data row20 col3\" >0.1241</td>\n",
       "                        <td id=\"T_c77dc_row20_col4\" class=\"data row20 col4\" >0.1214</td>\n",
       "                        <td id=\"T_c77dc_row20_col5\" class=\"data row20 col5\" >1.0764</td>\n",
       "                        <td id=\"T_c77dc_row20_col6\" class=\"data row20 col6\" >0.7977</td>\n",
       "                        <td id=\"T_c77dc_row20_col7\" class=\"data row20 col7\" >0.0533</td>\n",
       "            </tr>\n",
       "            <tr>\n",
       "                        <th id=\"T_c77dc_level0_row21\" class=\"row_heading level0 row21\" >snaive</th>\n",
       "                        <td id=\"T_c77dc_row21_col0\" class=\"data row21 col0\" >Seasonal Naive Forecaster</td>\n",
       "                        <td id=\"T_c77dc_row21_col1\" class=\"data row21 col1\" >758.6190</td>\n",
       "                        <td id=\"T_c77dc_row21_col2\" class=\"data row21 col2\" >868.8086</td>\n",
       "                        <td id=\"T_c77dc_row21_col3\" class=\"data row21 col3\" >0.1273</td>\n",
       "                        <td id=\"T_c77dc_row21_col4\" class=\"data row21 col4\" >0.1342</td>\n",
       "                        <td id=\"T_c77dc_row21_col5\" class=\"data row21 col5\" >1.2136</td>\n",
       "                        <td id=\"T_c77dc_row21_col6\" class=\"data row21 col6\" >0.7328</td>\n",
       "                        <td id=\"T_c77dc_row21_col7\" class=\"data row21 col7\" >1.1733</td>\n",
       "            </tr>\n",
       "            <tr>\n",
       "                        <th id=\"T_c77dc_level0_row22\" class=\"row_heading level0 row22\" >par_cds_dt</th>\n",
       "                        <td id=\"T_c77dc_row22_col0\" class=\"data row22 col0\" >Passive Aggressive w/ Cond. Deseasonalize & Detrending</td>\n",
       "                        <td id=\"T_c77dc_row22_col1\" class=\"data row22 col1\" >1112.9499</td>\n",
       "                        <td id=\"T_c77dc_row22_col2\" class=\"data row22 col2\" >1277.1558</td>\n",
       "                        <td id=\"T_c77dc_row22_col3\" class=\"data row22 col3\" >0.1995</td>\n",
       "                        <td id=\"T_c77dc_row22_col4\" class=\"data row22 col4\" >0.2208</td>\n",
       "                        <td id=\"T_c77dc_row22_col5\" class=\"data row22 col5\" >1.7956</td>\n",
       "                        <td id=\"T_c77dc_row22_col6\" class=\"data row22 col6\" >0.1633</td>\n",
       "                        <td id=\"T_c77dc_row22_col7\" class=\"data row22 col7\" >0.0167</td>\n",
       "            </tr>\n",
       "            <tr>\n",
       "                        <th id=\"T_c77dc_level0_row23\" class=\"row_heading level0 row23\" >naive</th>\n",
       "                        <td id=\"T_c77dc_row23_col0\" class=\"data row23 col0\" >Naive Forecaster</td>\n",
       "                        <td id=\"T_c77dc_row23_col1\" class=\"data row23 col1\" >1340.6190</td>\n",
       "                        <td id=\"T_c77dc_row23_col2\" class=\"data row23 col2\" >1921.1123</td>\n",
       "                        <td id=\"T_c77dc_row23_col3\" class=\"data row23 col3\" >0.3362</td>\n",
       "                        <td id=\"T_c77dc_row23_col4\" class=\"data row23 col4\" >0.2386</td>\n",
       "                        <td id=\"T_c77dc_row23_col5\" class=\"data row23 col5\" >2.1383</td>\n",
       "                        <td id=\"T_c77dc_row23_col6\" class=\"data row23 col6\" >-0.2648</td>\n",
       "                        <td id=\"T_c77dc_row23_col7\" class=\"data row23 col7\" >1.5700</td>\n",
       "            </tr>\n",
       "            <tr>\n",
       "                        <th id=\"T_c77dc_level0_row24\" class=\"row_heading level0 row24\" >polytrend</th>\n",
       "                        <td id=\"T_c77dc_row24_col0\" class=\"data row24 col0\" >Polynomial Trend Forecaster</td>\n",
       "                        <td id=\"T_c77dc_row24_col1\" class=\"data row24 col1\" >1636.9624</td>\n",
       "                        <td id=\"T_c77dc_row24_col2\" class=\"data row24 col2\" >1793.4953</td>\n",
       "                        <td id=\"T_c77dc_row24_col3\" class=\"data row24 col3\" >0.3259</td>\n",
       "                        <td id=\"T_c77dc_row24_col4\" class=\"data row24 col4\" >0.2898</td>\n",
       "                        <td id=\"T_c77dc_row24_col5\" class=\"data row24 col5\" >2.6090</td>\n",
       "                        <td id=\"T_c77dc_row24_col6\" class=\"data row24 col6\" >-0.0999</td>\n",
       "                        <td id=\"T_c77dc_row24_col7\" class=\"data row24 col7\" >0.0067</td>\n",
       "            </tr>\n",
       "            <tr>\n",
       "                        <th id=\"T_c77dc_level0_row25\" class=\"row_heading level0 row25\" >grand_means</th>\n",
       "                        <td id=\"T_c77dc_row25_col0\" class=\"data row25 col0\" >Grand Means Forecaster</td>\n",
       "                        <td id=\"T_c77dc_row25_col1\" class=\"data row25 col1\" >2193.9728</td>\n",
       "                        <td id=\"T_c77dc_row25_col2\" class=\"data row25 col2\" >2395.2384</td>\n",
       "                        <td id=\"T_c77dc_row25_col3\" class=\"data row25 col3\" >0.3474</td>\n",
       "                        <td id=\"T_c77dc_row25_col4\" class=\"data row25 col4\" >0.3964</td>\n",
       "                        <td id=\"T_c77dc_row25_col5\" class=\"data row25 col5\" >3.4979</td>\n",
       "                        <td id=\"T_c77dc_row25_col6\" class=\"data row25 col6\" >-0.9620</td>\n",
       "                        <td id=\"T_c77dc_row25_col7\" class=\"data row25 col7\" >1.2000</td>\n",
       "            </tr>\n",
       "    </tbody></table>"
      ],
      "text/plain": [
       "<pandas.io.formats.style.Styler at 0x162e1851748>"
      ]
     },
     "metadata": {},
     "output_type": "display_data"
    }
   ],
   "source": [
    "# functional API\n",
    "best = compare_models()"
   ]
  },
  {
   "cell_type": "code",
   "execution_count": 41,
   "metadata": {},
   "outputs": [
    {
     "data": {
      "text/html": [
       "<style  type=\"text/css\" >\n",
       "#T_d3ea5_row3_col0,#T_d3ea5_row3_col1,#T_d3ea5_row3_col2,#T_d3ea5_row3_col3,#T_d3ea5_row3_col4,#T_d3ea5_row3_col5,#T_d3ea5_row3_col6{\n",
       "            background:  yellow;\n",
       "        }</style><table id=\"T_d3ea5_\" ><thead>    <tr>        <th class=\"blank level0\" ></th>        <th class=\"col_heading level0 col0\" >cutoff</th>        <th class=\"col_heading level0 col1\" >MAE</th>        <th class=\"col_heading level0 col2\" >RMSE</th>        <th class=\"col_heading level0 col3\" >MAPE</th>        <th class=\"col_heading level0 col4\" >SMAPE</th>        <th class=\"col_heading level0 col5\" >MASE</th>        <th class=\"col_heading level0 col6\" >R2</th>    </tr></thead><tbody>\n",
       "                <tr>\n",
       "                        <th id=\"T_d3ea5_level0_row0\" class=\"row_heading level0 row0\" >0</th>\n",
       "                        <td id=\"T_d3ea5_row0_col0\" class=\"data row0 col0\" >2021-09-07 00:00:00</td>\n",
       "                        <td id=\"T_d3ea5_row0_col1\" class=\"data row0 col1\" >579.0242</td>\n",
       "                        <td id=\"T_d3ea5_row0_col2\" class=\"data row0 col2\" >655.8335</td>\n",
       "                        <td id=\"T_d3ea5_row0_col3\" class=\"data row0 col3\" >0.1347</td>\n",
       "                        <td id=\"T_d3ea5_row0_col4\" class=\"data row0 col4\" >0.1232</td>\n",
       "                        <td id=\"T_d3ea5_row0_col5\" class=\"data row0 col5\" >0.9371</td>\n",
       "                        <td id=\"T_d3ea5_row0_col6\" class=\"data row0 col6\" >0.8212</td>\n",
       "            </tr>\n",
       "            <tr>\n",
       "                        <th id=\"T_d3ea5_level0_row1\" class=\"row_heading level0 row1\" >1</th>\n",
       "                        <td id=\"T_d3ea5_row1_col0\" class=\"data row1 col0\" >2021-09-14 00:00:00</td>\n",
       "                        <td id=\"T_d3ea5_row1_col1\" class=\"data row1 col1\" >641.3026</td>\n",
       "                        <td id=\"T_d3ea5_row1_col2\" class=\"data row1 col2\" >816.9084</td>\n",
       "                        <td id=\"T_d3ea5_row1_col3\" class=\"data row1 col3\" >0.1024</td>\n",
       "                        <td id=\"T_d3ea5_row1_col4\" class=\"data row1 col4\" >0.1088</td>\n",
       "                        <td id=\"T_d3ea5_row1_col5\" class=\"data row1 col5\" >1.0449</td>\n",
       "                        <td id=\"T_d3ea5_row1_col6\" class=\"data row1 col6\" >0.7413</td>\n",
       "            </tr>\n",
       "            <tr>\n",
       "                        <th id=\"T_d3ea5_level0_row2\" class=\"row_heading level0 row2\" >2</th>\n",
       "                        <td id=\"T_d3ea5_row2_col0\" class=\"data row2 col0\" >2021-09-21 00:00:00</td>\n",
       "                        <td id=\"T_d3ea5_row2_col1\" class=\"data row2 col1\" >870.3595</td>\n",
       "                        <td id=\"T_d3ea5_row2_col2\" class=\"data row2 col2\" >987.0935</td>\n",
       "                        <td id=\"T_d3ea5_row2_col3\" class=\"data row2 col3\" >0.1183</td>\n",
       "                        <td id=\"T_d3ea5_row2_col4\" class=\"data row2 col4\" >0.1250</td>\n",
       "                        <td id=\"T_d3ea5_row2_col5\" class=\"data row2 col5\" >1.3490</td>\n",
       "                        <td id=\"T_d3ea5_row2_col6\" class=\"data row2 col6\" >0.7477</td>\n",
       "            </tr>\n",
       "            <tr>\n",
       "                        <th id=\"T_d3ea5_level0_row3\" class=\"row_heading level0 row3\" >Mean</th>\n",
       "                        <td id=\"T_d3ea5_row3_col0\" class=\"data row3 col0\" >NaT</td>\n",
       "                        <td id=\"T_d3ea5_row3_col1\" class=\"data row3 col1\" >696.8954</td>\n",
       "                        <td id=\"T_d3ea5_row3_col2\" class=\"data row3 col2\" >819.9451</td>\n",
       "                        <td id=\"T_d3ea5_row3_col3\" class=\"data row3 col3\" >0.1185</td>\n",
       "                        <td id=\"T_d3ea5_row3_col4\" class=\"data row3 col4\" >0.1190</td>\n",
       "                        <td id=\"T_d3ea5_row3_col5\" class=\"data row3 col5\" >1.1104</td>\n",
       "                        <td id=\"T_d3ea5_row3_col6\" class=\"data row3 col6\" >0.7701</td>\n",
       "            </tr>\n",
       "            <tr>\n",
       "                        <th id=\"T_d3ea5_level0_row4\" class=\"row_heading level0 row4\" >SD</th>\n",
       "                        <td id=\"T_d3ea5_row4_col0\" class=\"data row4 col0\" >NaT</td>\n",
       "                        <td id=\"T_d3ea5_row4_col1\" class=\"data row4 col1\" >125.2650</td>\n",
       "                        <td id=\"T_d3ea5_row4_col2\" class=\"data row4 col2\" >135.2534</td>\n",
       "                        <td id=\"T_d3ea5_row4_col3\" class=\"data row4 col3\" >0.0132</td>\n",
       "                        <td id=\"T_d3ea5_row4_col4\" class=\"data row4 col4\" >0.0073</td>\n",
       "                        <td id=\"T_d3ea5_row4_col5\" class=\"data row4 col5\" >0.1744</td>\n",
       "                        <td id=\"T_d3ea5_row4_col6\" class=\"data row4 col6\" >0.0363</td>\n",
       "            </tr>\n",
       "    </tbody></table>"
      ],
      "text/plain": [
       "<pandas.io.formats.style.Styler at 0x162e161eec8>"
      ]
     },
     "metadata": {},
     "output_type": "display_data"
    },
    {
     "name": "stdout",
     "output_type": "stream",
     "text": [
      "ProphetPeriodPatched(add_country_holidays=None, add_seasonality=None,\n",
      "                     alpha=0.05, changepoint_prior_scale=0.05,\n",
      "                     changepoint_range=0.8, changepoints=None,\n",
      "                     daily_seasonality='auto', freq=None, growth='linear',\n",
      "                     holidays=None, holidays_prior_scale=10.0, mcmc_samples=0,\n",
      "                     n_changepoints=25, seasonality_mode='additive',\n",
      "                     seasonality_prior_scale=10.0, stan_backend=None,\n",
      "                     uncertainty_samples=1000, verbose=0,\n",
      "                     weekly_seasonality='auto', yearly_seasonality='auto')\n"
     ]
    }
   ],
   "source": [
    "# create fbprophet model\n",
    "prophet = create_model('prophet')\n",
    "print(prophet)"
   ]
  },
  {
   "cell_type": "code",
   "execution_count": 42,
   "metadata": {},
   "outputs": [
    {
     "data": {
      "text/html": [
       "<style  type=\"text/css\" >\n",
       "#T_fd648_row3_col0,#T_fd648_row3_col1,#T_fd648_row3_col2,#T_fd648_row3_col3,#T_fd648_row3_col4,#T_fd648_row3_col5,#T_fd648_row3_col6{\n",
       "            background:  yellow;\n",
       "        }</style><table id=\"T_fd648_\" ><thead>    <tr>        <th class=\"blank level0\" ></th>        <th class=\"col_heading level0 col0\" >cutoff</th>        <th class=\"col_heading level0 col1\" >MAE</th>        <th class=\"col_heading level0 col2\" >RMSE</th>        <th class=\"col_heading level0 col3\" >MAPE</th>        <th class=\"col_heading level0 col4\" >SMAPE</th>        <th class=\"col_heading level0 col5\" >MASE</th>        <th class=\"col_heading level0 col6\" >R2</th>    </tr></thead><tbody>\n",
       "                <tr>\n",
       "                        <th id=\"T_fd648_level0_row0\" class=\"row_heading level0 row0\" >0</th>\n",
       "                        <td id=\"T_fd648_row0_col0\" class=\"data row0 col0\" >2021-09-07 00:00:00</td>\n",
       "                        <td id=\"T_fd648_row0_col1\" class=\"data row0 col1\" >649.0172</td>\n",
       "                        <td id=\"T_fd648_row0_col2\" class=\"data row0 col2\" >711.2958</td>\n",
       "                        <td id=\"T_fd648_row0_col3\" class=\"data row0 col3\" >0.1351</td>\n",
       "                        <td id=\"T_fd648_row0_col4\" class=\"data row0 col4\" >0.1270</td>\n",
       "                        <td id=\"T_fd648_row0_col5\" class=\"data row0 col5\" >1.0504</td>\n",
       "                        <td id=\"T_fd648_row0_col6\" class=\"data row0 col6\" >0.7897</td>\n",
       "            </tr>\n",
       "            <tr>\n",
       "                        <th id=\"T_fd648_level0_row1\" class=\"row_heading level0 row1\" >1</th>\n",
       "                        <td id=\"T_fd648_row1_col0\" class=\"data row1 col0\" >2021-09-14 00:00:00</td>\n",
       "                        <td id=\"T_fd648_row1_col1\" class=\"data row1 col1\" >585.7204</td>\n",
       "                        <td id=\"T_fd648_row1_col2\" class=\"data row1 col2\" >718.3293</td>\n",
       "                        <td id=\"T_fd648_row1_col3\" class=\"data row1 col3\" >0.0986</td>\n",
       "                        <td id=\"T_fd648_row1_col4\" class=\"data row1 col4\" >0.1071</td>\n",
       "                        <td id=\"T_fd648_row1_col5\" class=\"data row1 col5\" >0.9544</td>\n",
       "                        <td id=\"T_fd648_row1_col6\" class=\"data row1 col6\" >0.7999</td>\n",
       "            </tr>\n",
       "            <tr>\n",
       "                        <th id=\"T_fd648_level0_row2\" class=\"row_heading level0 row2\" >2</th>\n",
       "                        <td id=\"T_fd648_row2_col0\" class=\"data row2 col0\" >2021-09-21 00:00:00</td>\n",
       "                        <td id=\"T_fd648_row2_col1\" class=\"data row2 col1\" >654.0680</td>\n",
       "                        <td id=\"T_fd648_row2_col2\" class=\"data row2 col2\" >707.8493</td>\n",
       "                        <td id=\"T_fd648_row2_col3\" class=\"data row2 col3\" >0.0942</td>\n",
       "                        <td id=\"T_fd648_row2_col4\" class=\"data row2 col4\" >0.0991</td>\n",
       "                        <td id=\"T_fd648_row2_col5\" class=\"data row2 col5\" >1.0138</td>\n",
       "                        <td id=\"T_fd648_row2_col6\" class=\"data row2 col6\" >0.8703</td>\n",
       "            </tr>\n",
       "            <tr>\n",
       "                        <th id=\"T_fd648_level0_row3\" class=\"row_heading level0 row3\" >Mean</th>\n",
       "                        <td id=\"T_fd648_row3_col0\" class=\"data row3 col0\" >NaT</td>\n",
       "                        <td id=\"T_fd648_row3_col1\" class=\"data row3 col1\" >629.6019</td>\n",
       "                        <td id=\"T_fd648_row3_col2\" class=\"data row3 col2\" >712.4915</td>\n",
       "                        <td id=\"T_fd648_row3_col3\" class=\"data row3 col3\" >0.1093</td>\n",
       "                        <td id=\"T_fd648_row3_col4\" class=\"data row3 col4\" >0.1111</td>\n",
       "                        <td id=\"T_fd648_row3_col5\" class=\"data row3 col5\" >1.0062</td>\n",
       "                        <td id=\"T_fd648_row3_col6\" class=\"data row3 col6\" >0.8200</td>\n",
       "            </tr>\n",
       "            <tr>\n",
       "                        <th id=\"T_fd648_level0_row4\" class=\"row_heading level0 row4\" >SD</th>\n",
       "                        <td id=\"T_fd648_row4_col0\" class=\"data row4 col0\" >NaT</td>\n",
       "                        <td id=\"T_fd648_row4_col1\" class=\"data row4 col1\" >31.0973</td>\n",
       "                        <td id=\"T_fd648_row4_col2\" class=\"data row4 col2\" >4.3612</td>\n",
       "                        <td id=\"T_fd648_row4_col3\" class=\"data row4 col3\" >0.0183</td>\n",
       "                        <td id=\"T_fd648_row4_col4\" class=\"data row4 col4\" >0.0117</td>\n",
       "                        <td id=\"T_fd648_row4_col5\" class=\"data row4 col5\" >0.0396</td>\n",
       "                        <td id=\"T_fd648_row4_col6\" class=\"data row4 col6\" >0.0358</td>\n",
       "            </tr>\n",
       "    </tbody></table>"
      ],
      "text/plain": [
       "<pandas.io.formats.style.Styler at 0x162de9c4cc8>"
      ]
     },
     "metadata": {},
     "output_type": "display_data"
    },
    {
     "name": "stdout",
     "output_type": "stream",
     "text": [
      "ProphetPeriodPatched(add_country_holidays=None, add_seasonality=None,\n",
      "                     alpha=0.05, changepoint_prior_scale=0.07052367291265604,\n",
      "                     changepoint_range=0.8, changepoints=None,\n",
      "                     daily_seasonality='auto', freq=None, growth='linear',\n",
      "                     holidays=None, holidays_prior_scale=0.2772015819815348,\n",
      "                     mcmc_samples=0, n_changepoints=25,\n",
      "                     seasonality_mode='multiplicative',\n",
      "                     seasonality_prior_scale=0.15960727025988383,\n",
      "                     stan_backend=None, uncertainty_samples=1000, verbose=0,\n",
      "                     weekly_seasonality='auto', yearly_seasonality='auto')\n"
     ]
    }
   ],
   "source": [
    "tuned_prophet = tune_model(prophet)\n",
    "print(tuned_prophet)"
   ]
  },
  {
   "cell_type": "code",
   "execution_count": 43,
   "metadata": {},
   "outputs": [
    {
     "data": {
      "application/vnd.plotly.v1+json": {
       "config": {
        "plotlyServerURL": "https://plot.ly"
       },
       "data": [
        {
         "line": {
          "color": "#1f77b4"
         },
         "marker": {
          "size": 5
         },
         "mode": "lines+markers",
         "name": "Forecast | Auto ARIMA",
         "showlegend": true,
         "type": "scatter",
         "x": [
          "2021-09-29T00:00:00",
          "2021-09-30T00:00:00",
          "2021-10-01T00:00:00",
          "2021-10-02T00:00:00",
          "2021-10-03T00:00:00",
          "2021-10-04T00:00:00",
          "2021-10-05T00:00:00"
         ],
         "y": [
          8492.9934,
          8240.3273,
          7557.4271,
          4171.1318,
          4243.099,
          7415.8713,
          8645.9509
         ]
        },
        {
         "line": {
          "width": 0
         },
         "marker": {
          "color": "#68BBE3"
         },
         "mode": "lines",
         "name": "Lower Interval",
         "showlegend": false,
         "type": "scatter",
         "x": [
          "2021-09-29T00:00:00",
          "2021-09-30T00:00:00",
          "2021-10-01T00:00:00",
          "2021-10-02T00:00:00",
          "2021-10-03T00:00:00",
          "2021-10-04T00:00:00",
          "2021-10-05T00:00:00"
         ],
         "y": [
          7268.5072,
          6824.4986,
          6141.5984,
          2755.303,
          2827.2702,
          6000.0425,
          7230.1221
         ]
        },
        {
         "fill": "tonexty",
         "fillcolor": "rgba(104,187,227,0.5)",
         "line": {
          "width": 0
         },
         "marker": {
          "color": "#68BBE3"
         },
         "mode": "lines",
         "name": "Prediction Interval | Auto ARIMA",
         "showlegend": true,
         "type": "scatter",
         "x": [
          "2021-09-29T00:00:00",
          "2021-09-30T00:00:00",
          "2021-10-01T00:00:00",
          "2021-10-02T00:00:00",
          "2021-10-03T00:00:00",
          "2021-10-04T00:00:00",
          "2021-10-05T00:00:00"
         ],
         "y": [
          9717.4795,
          9656.1561,
          8973.2559,
          5586.9606,
          5658.9278,
          8831.7,
          10061.7797
         ]
        },
        {
         "marker": {
          "color": "#3f3f3f",
          "size": 5
         },
         "mode": "lines+markers",
         "name": "Original",
         "showlegend": true,
         "type": "scatter",
         "x": [
          "2021-07-08T00:00:00",
          "2021-07-09T00:00:00",
          "2021-07-10T00:00:00",
          "2021-07-11T00:00:00",
          "2021-07-12T00:00:00",
          "2021-07-13T00:00:00",
          "2021-07-14T00:00:00",
          "2021-07-15T00:00:00",
          "2021-07-16T00:00:00",
          "2021-07-17T00:00:00",
          "2021-07-18T00:00:00",
          "2021-07-19T00:00:00",
          "2021-07-20T00:00:00",
          "2021-07-21T00:00:00",
          "2021-07-22T00:00:00",
          "2021-07-23T00:00:00",
          "2021-07-24T00:00:00",
          "2021-07-25T00:00:00",
          "2021-07-26T00:00:00",
          "2021-07-27T00:00:00",
          "2021-07-28T00:00:00",
          "2021-07-29T00:00:00",
          "2021-07-30T00:00:00",
          "2021-07-31T00:00:00",
          "2021-08-01T00:00:00",
          "2021-08-02T00:00:00",
          "2021-08-03T00:00:00",
          "2021-08-04T00:00:00",
          "2021-08-05T00:00:00",
          "2021-08-06T00:00:00",
          "2021-08-07T00:00:00",
          "2021-08-08T00:00:00",
          "2021-08-09T00:00:00",
          "2021-08-10T00:00:00",
          "2021-08-11T00:00:00",
          "2021-08-12T00:00:00",
          "2021-08-13T00:00:00",
          "2021-08-14T00:00:00",
          "2021-08-15T00:00:00",
          "2021-08-16T00:00:00",
          "2021-08-17T00:00:00",
          "2021-08-18T00:00:00",
          "2021-08-19T00:00:00",
          "2021-08-20T00:00:00",
          "2021-08-21T00:00:00",
          "2021-08-22T00:00:00",
          "2021-08-23T00:00:00",
          "2021-08-24T00:00:00",
          "2021-08-25T00:00:00",
          "2021-08-26T00:00:00",
          "2021-08-27T00:00:00",
          "2021-08-28T00:00:00",
          "2021-08-29T00:00:00",
          "2021-08-30T00:00:00",
          "2021-08-31T00:00:00",
          "2021-09-01T00:00:00",
          "2021-09-02T00:00:00",
          "2021-09-03T00:00:00",
          "2021-09-04T00:00:00",
          "2021-09-05T00:00:00",
          "2021-09-06T00:00:00",
          "2021-09-07T00:00:00",
          "2021-09-08T00:00:00",
          "2021-09-09T00:00:00",
          "2021-09-10T00:00:00",
          "2021-09-11T00:00:00",
          "2021-09-12T00:00:00",
          "2021-09-13T00:00:00",
          "2021-09-14T00:00:00",
          "2021-09-15T00:00:00",
          "2021-09-16T00:00:00",
          "2021-09-17T00:00:00",
          "2021-09-18T00:00:00",
          "2021-09-19T00:00:00",
          "2021-09-20T00:00:00",
          "2021-09-21T00:00:00",
          "2021-09-22T00:00:00",
          "2021-09-23T00:00:00",
          "2021-09-24T00:00:00",
          "2021-09-25T00:00:00",
          "2021-09-26T00:00:00",
          "2021-09-27T00:00:00",
          "2021-09-28T00:00:00",
          "2021-09-29T00:00:00",
          "2021-09-30T00:00:00",
          "2021-10-01T00:00:00",
          "2021-10-02T00:00:00",
          "2021-10-03T00:00:00",
          "2021-10-04T00:00:00",
          "2021-10-05T00:00:00"
         ],
         "y": [
          3773,
          3172,
          2079,
          2725,
          4542,
          3795,
          3941,
          4064,
          3474,
          2093,
          2426,
          4339,
          4064,
          4224,
          4603,
          4369,
          2532,
          3276,
          4917,
          4430,
          4977,
          5193,
          4001,
          1996,
          2538,
          4764,
          5651,
          5777,
          4789,
          3782,
          1920,
          2526,
          4481,
          6034,
          5006,
          4450,
          3112,
          1914,
          2359,
          3948,
          5727,
          6365,
          6323,
          5151,
          1947,
          3128,
          7999,
          7104,
          6457,
          6643,
          5355,
          2341,
          2367,
          5592,
          6770,
          6877,
          7272,
          6279,
          2741,
          2483,
          5456,
          6082,
          6139,
          5865,
          6362,
          3132,
          2681,
          5788,
          7001,
          6721,
          7556,
          7278,
          4026,
          3514,
          6476,
          7863,
          8418,
          8290,
          7189,
          3567,
          4088,
          7418,
          8765,
          7798,
          9212,
          7115,
          3903,
          5038,
          7843,
          8872
         ]
        }
       ],
       "layout": {
        "showlegend": true,
        "template": {
         "data": {
          "bar": [
           {
            "error_x": {
             "color": "rgb(51,51,51)"
            },
            "error_y": {
             "color": "rgb(51,51,51)"
            },
            "marker": {
             "line": {
              "color": "rgb(237,237,237)",
              "width": 0.5
             },
             "pattern": {
              "fillmode": "overlay",
              "size": 10,
              "solidity": 0.2
             }
            },
            "type": "bar"
           }
          ],
          "barpolar": [
           {
            "marker": {
             "line": {
              "color": "rgb(237,237,237)",
              "width": 0.5
             },
             "pattern": {
              "fillmode": "overlay",
              "size": 10,
              "solidity": 0.2
             }
            },
            "type": "barpolar"
           }
          ],
          "carpet": [
           {
            "aaxis": {
             "endlinecolor": "rgb(51,51,51)",
             "gridcolor": "white",
             "linecolor": "white",
             "minorgridcolor": "white",
             "startlinecolor": "rgb(51,51,51)"
            },
            "baxis": {
             "endlinecolor": "rgb(51,51,51)",
             "gridcolor": "white",
             "linecolor": "white",
             "minorgridcolor": "white",
             "startlinecolor": "rgb(51,51,51)"
            },
            "type": "carpet"
           }
          ],
          "choropleth": [
           {
            "colorbar": {
             "outlinewidth": 0,
             "tickcolor": "rgb(237,237,237)",
             "ticklen": 6,
             "ticks": "inside"
            },
            "type": "choropleth"
           }
          ],
          "contour": [
           {
            "colorbar": {
             "outlinewidth": 0,
             "tickcolor": "rgb(237,237,237)",
             "ticklen": 6,
             "ticks": "inside"
            },
            "colorscale": [
             [
              0,
              "rgb(20,44,66)"
             ],
             [
              1,
              "rgb(90,179,244)"
             ]
            ],
            "type": "contour"
           }
          ],
          "contourcarpet": [
           {
            "colorbar": {
             "outlinewidth": 0,
             "tickcolor": "rgb(237,237,237)",
             "ticklen": 6,
             "ticks": "inside"
            },
            "type": "contourcarpet"
           }
          ],
          "heatmap": [
           {
            "colorbar": {
             "outlinewidth": 0,
             "tickcolor": "rgb(237,237,237)",
             "ticklen": 6,
             "ticks": "inside"
            },
            "colorscale": [
             [
              0,
              "rgb(20,44,66)"
             ],
             [
              1,
              "rgb(90,179,244)"
             ]
            ],
            "type": "heatmap"
           }
          ],
          "heatmapgl": [
           {
            "colorbar": {
             "outlinewidth": 0,
             "tickcolor": "rgb(237,237,237)",
             "ticklen": 6,
             "ticks": "inside"
            },
            "colorscale": [
             [
              0,
              "rgb(20,44,66)"
             ],
             [
              1,
              "rgb(90,179,244)"
             ]
            ],
            "type": "heatmapgl"
           }
          ],
          "histogram": [
           {
            "marker": {
             "pattern": {
              "fillmode": "overlay",
              "size": 10,
              "solidity": 0.2
             }
            },
            "type": "histogram"
           }
          ],
          "histogram2d": [
           {
            "colorbar": {
             "outlinewidth": 0,
             "tickcolor": "rgb(237,237,237)",
             "ticklen": 6,
             "ticks": "inside"
            },
            "colorscale": [
             [
              0,
              "rgb(20,44,66)"
             ],
             [
              1,
              "rgb(90,179,244)"
             ]
            ],
            "type": "histogram2d"
           }
          ],
          "histogram2dcontour": [
           {
            "colorbar": {
             "outlinewidth": 0,
             "tickcolor": "rgb(237,237,237)",
             "ticklen": 6,
             "ticks": "inside"
            },
            "colorscale": [
             [
              0,
              "rgb(20,44,66)"
             ],
             [
              1,
              "rgb(90,179,244)"
             ]
            ],
            "type": "histogram2dcontour"
           }
          ],
          "mesh3d": [
           {
            "colorbar": {
             "outlinewidth": 0,
             "tickcolor": "rgb(237,237,237)",
             "ticklen": 6,
             "ticks": "inside"
            },
            "type": "mesh3d"
           }
          ],
          "parcoords": [
           {
            "line": {
             "colorbar": {
              "outlinewidth": 0,
              "tickcolor": "rgb(237,237,237)",
              "ticklen": 6,
              "ticks": "inside"
             }
            },
            "type": "parcoords"
           }
          ],
          "pie": [
           {
            "automargin": true,
            "type": "pie"
           }
          ],
          "scatter": [
           {
            "marker": {
             "colorbar": {
              "outlinewidth": 0,
              "tickcolor": "rgb(237,237,237)",
              "ticklen": 6,
              "ticks": "inside"
             }
            },
            "type": "scatter"
           }
          ],
          "scatter3d": [
           {
            "line": {
             "colorbar": {
              "outlinewidth": 0,
              "tickcolor": "rgb(237,237,237)",
              "ticklen": 6,
              "ticks": "inside"
             }
            },
            "marker": {
             "colorbar": {
              "outlinewidth": 0,
              "tickcolor": "rgb(237,237,237)",
              "ticklen": 6,
              "ticks": "inside"
             }
            },
            "type": "scatter3d"
           }
          ],
          "scattercarpet": [
           {
            "marker": {
             "colorbar": {
              "outlinewidth": 0,
              "tickcolor": "rgb(237,237,237)",
              "ticklen": 6,
              "ticks": "inside"
             }
            },
            "type": "scattercarpet"
           }
          ],
          "scattergeo": [
           {
            "marker": {
             "colorbar": {
              "outlinewidth": 0,
              "tickcolor": "rgb(237,237,237)",
              "ticklen": 6,
              "ticks": "inside"
             }
            },
            "type": "scattergeo"
           }
          ],
          "scattergl": [
           {
            "marker": {
             "colorbar": {
              "outlinewidth": 0,
              "tickcolor": "rgb(237,237,237)",
              "ticklen": 6,
              "ticks": "inside"
             }
            },
            "type": "scattergl"
           }
          ],
          "scattermapbox": [
           {
            "marker": {
             "colorbar": {
              "outlinewidth": 0,
              "tickcolor": "rgb(237,237,237)",
              "ticklen": 6,
              "ticks": "inside"
             }
            },
            "type": "scattermapbox"
           }
          ],
          "scatterpolar": [
           {
            "marker": {
             "colorbar": {
              "outlinewidth": 0,
              "tickcolor": "rgb(237,237,237)",
              "ticklen": 6,
              "ticks": "inside"
             }
            },
            "type": "scatterpolar"
           }
          ],
          "scatterpolargl": [
           {
            "marker": {
             "colorbar": {
              "outlinewidth": 0,
              "tickcolor": "rgb(237,237,237)",
              "ticklen": 6,
              "ticks": "inside"
             }
            },
            "type": "scatterpolargl"
           }
          ],
          "scatterternary": [
           {
            "marker": {
             "colorbar": {
              "outlinewidth": 0,
              "tickcolor": "rgb(237,237,237)",
              "ticklen": 6,
              "ticks": "inside"
             }
            },
            "type": "scatterternary"
           }
          ],
          "surface": [
           {
            "colorbar": {
             "outlinewidth": 0,
             "tickcolor": "rgb(237,237,237)",
             "ticklen": 6,
             "ticks": "inside"
            },
            "colorscale": [
             [
              0,
              "rgb(20,44,66)"
             ],
             [
              1,
              "rgb(90,179,244)"
             ]
            ],
            "type": "surface"
           }
          ],
          "table": [
           {
            "cells": {
             "fill": {
              "color": "rgb(237,237,237)"
             },
             "line": {
              "color": "white"
             }
            },
            "header": {
             "fill": {
              "color": "rgb(217,217,217)"
             },
             "line": {
              "color": "white"
             }
            },
            "type": "table"
           }
          ]
         },
         "layout": {
          "annotationdefaults": {
           "arrowhead": 0,
           "arrowwidth": 1
          },
          "autotypenumbers": "strict",
          "coloraxis": {
           "colorbar": {
            "outlinewidth": 0,
            "tickcolor": "rgb(237,237,237)",
            "ticklen": 6,
            "ticks": "inside"
           }
          },
          "colorscale": {
           "sequential": [
            [
             0,
             "rgb(20,44,66)"
            ],
            [
             1,
             "rgb(90,179,244)"
            ]
           ],
           "sequentialminus": [
            [
             0,
             "rgb(20,44,66)"
            ],
            [
             1,
             "rgb(90,179,244)"
            ]
           ]
          },
          "colorway": [
           "#F8766D",
           "#A3A500",
           "#00BF7D",
           "#00B0F6",
           "#E76BF3"
          ],
          "font": {
           "color": "rgb(51,51,51)"
          },
          "geo": {
           "bgcolor": "white",
           "lakecolor": "white",
           "landcolor": "rgb(237,237,237)",
           "showlakes": true,
           "showland": true,
           "subunitcolor": "white"
          },
          "hoverlabel": {
           "align": "left"
          },
          "hovermode": "closest",
          "paper_bgcolor": "white",
          "plot_bgcolor": "rgb(237,237,237)",
          "polar": {
           "angularaxis": {
            "gridcolor": "white",
            "linecolor": "white",
            "showgrid": true,
            "tickcolor": "rgb(51,51,51)",
            "ticks": "outside"
           },
           "bgcolor": "rgb(237,237,237)",
           "radialaxis": {
            "gridcolor": "white",
            "linecolor": "white",
            "showgrid": true,
            "tickcolor": "rgb(51,51,51)",
            "ticks": "outside"
           }
          },
          "scene": {
           "xaxis": {
            "backgroundcolor": "rgb(237,237,237)",
            "gridcolor": "white",
            "gridwidth": 2,
            "linecolor": "white",
            "showbackground": true,
            "showgrid": true,
            "tickcolor": "rgb(51,51,51)",
            "ticks": "outside",
            "zerolinecolor": "white"
           },
           "yaxis": {
            "backgroundcolor": "rgb(237,237,237)",
            "gridcolor": "white",
            "gridwidth": 2,
            "linecolor": "white",
            "showbackground": true,
            "showgrid": true,
            "tickcolor": "rgb(51,51,51)",
            "ticks": "outside",
            "zerolinecolor": "white"
           },
           "zaxis": {
            "backgroundcolor": "rgb(237,237,237)",
            "gridcolor": "white",
            "gridwidth": 2,
            "linecolor": "white",
            "showbackground": true,
            "showgrid": true,
            "tickcolor": "rgb(51,51,51)",
            "ticks": "outside",
            "zerolinecolor": "white"
           }
          },
          "shapedefaults": {
           "fillcolor": "black",
           "line": {
            "width": 0
           },
           "opacity": 0.3
          },
          "ternary": {
           "aaxis": {
            "gridcolor": "white",
            "linecolor": "white",
            "showgrid": true,
            "tickcolor": "rgb(51,51,51)",
            "ticks": "outside"
           },
           "baxis": {
            "gridcolor": "white",
            "linecolor": "white",
            "showgrid": true,
            "tickcolor": "rgb(51,51,51)",
            "ticks": "outside"
           },
           "bgcolor": "rgb(237,237,237)",
           "caxis": {
            "gridcolor": "white",
            "linecolor": "white",
            "showgrid": true,
            "tickcolor": "rgb(51,51,51)",
            "ticks": "outside"
           }
          },
          "xaxis": {
           "automargin": true,
           "gridcolor": "white",
           "linecolor": "white",
           "showgrid": true,
           "tickcolor": "rgb(51,51,51)",
           "ticks": "outside",
           "title": {
            "standoff": 15
           },
           "zerolinecolor": "white"
          },
          "yaxis": {
           "automargin": true,
           "gridcolor": "white",
           "linecolor": "white",
           "showgrid": true,
           "tickcolor": "rgb(51,51,51)",
           "ticks": "outside",
           "title": {
            "standoff": 15
           },
           "zerolinecolor": "white"
          }
         }
        },
        "title": {
         "text": "Actual vs. 'Out-of-Sample' Forecast | Total"
        },
        "xaxis": {
         "title": {
          "text": "Time"
         }
        },
        "yaxis": {
         "title": {
          "text": "Values"
         }
        }
       }
      }
     },
     "metadata": {},
     "output_type": "display_data"
    }
   ],
   "source": [
    "plot_model(best, plot = 'forecast')"
   ]
  },
  {
   "cell_type": "code",
   "execution_count": 44,
   "metadata": {},
   "outputs": [
    {
     "data": {
      "application/vnd.plotly.v1+json": {
       "config": {
        "plotlyServerURL": "https://plot.ly"
       },
       "data": [
        {
         "line": {
          "color": "#1f77b4"
         },
         "marker": {
          "size": 5
         },
         "mode": "lines+markers",
         "name": "Forecast | Auto ARIMA",
         "showlegend": true,
         "type": "scatter",
         "x": [
          "2021-09-29T00:00:00",
          "2021-09-30T00:00:00",
          "2021-10-01T00:00:00",
          "2021-10-02T00:00:00",
          "2021-10-03T00:00:00",
          "2021-10-04T00:00:00",
          "2021-10-05T00:00:00",
          "2021-10-06T00:00:00",
          "2021-10-07T00:00:00",
          "2021-10-08T00:00:00",
          "2021-10-09T00:00:00",
          "2021-10-10T00:00:00",
          "2021-10-11T00:00:00",
          "2021-10-12T00:00:00",
          "2021-10-13T00:00:00",
          "2021-10-14T00:00:00",
          "2021-10-15T00:00:00",
          "2021-10-16T00:00:00",
          "2021-10-17T00:00:00",
          "2021-10-18T00:00:00",
          "2021-10-19T00:00:00",
          "2021-10-20T00:00:00",
          "2021-10-21T00:00:00",
          "2021-10-22T00:00:00",
          "2021-10-23T00:00:00",
          "2021-10-24T00:00:00",
          "2021-10-25T00:00:00",
          "2021-10-26T00:00:00",
          "2021-10-27T00:00:00",
          "2021-10-28T00:00:00"
         ],
         "y": [
          8492.9934,
          8240.3273,
          7557.4271,
          4171.1318,
          4243.099,
          7415.8713,
          8645.9509,
          8618.6778,
          8576.3812,
          7893.481,
          4507.1856,
          4579.1528,
          7751.9251,
          8982.0047,
          8954.7316,
          8912.435,
          8229.5348,
          4843.2394,
          4915.2067,
          8087.9789,
          9318.0585,
          9290.7855,
          9248.4888,
          8565.5886,
          5179.2933,
          5251.2605,
          8424.0327,
          9654.1123,
          9626.8393,
          9584.5426
         ]
        },
        {
         "line": {
          "width": 0
         },
         "marker": {
          "color": "#68BBE3"
         },
         "mode": "lines",
         "name": "Lower Interval",
         "showlegend": false,
         "type": "scatter",
         "x": [
          "2021-09-29T00:00:00",
          "2021-09-30T00:00:00",
          "2021-10-01T00:00:00",
          "2021-10-02T00:00:00",
          "2021-10-03T00:00:00",
          "2021-10-04T00:00:00",
          "2021-10-05T00:00:00",
          "2021-10-06T00:00:00",
          "2021-10-07T00:00:00",
          "2021-10-08T00:00:00",
          "2021-10-09T00:00:00",
          "2021-10-10T00:00:00",
          "2021-10-11T00:00:00",
          "2021-10-12T00:00:00",
          "2021-10-13T00:00:00",
          "2021-10-14T00:00:00",
          "2021-10-15T00:00:00",
          "2021-10-16T00:00:00",
          "2021-10-17T00:00:00",
          "2021-10-18T00:00:00",
          "2021-10-19T00:00:00",
          "2021-10-20T00:00:00",
          "2021-10-21T00:00:00",
          "2021-10-22T00:00:00",
          "2021-10-23T00:00:00",
          "2021-10-24T00:00:00",
          "2021-10-25T00:00:00",
          "2021-10-26T00:00:00",
          "2021-10-27T00:00:00",
          "2021-10-28T00:00:00"
         ],
         "y": [
          7268.5072,
          6824.4986,
          6141.5984,
          2755.303,
          2827.2702,
          6000.0425,
          7230.1221,
          7095.1192,
          7018.2004,
          6335.3002,
          2949.0048,
          3020.972,
          6193.7443,
          7423.8239,
          7298.0521,
          7223.8605,
          6540.9603,
          3154.665,
          3226.6322,
          6399.4044,
          7629.4841,
          7510.9137,
          7438.8922,
          6755.992,
          3369.6966,
          3441.6639,
          6614.4361,
          7844.5157,
          7731.7668,
          7661.5252
         ]
        },
        {
         "fill": "tonexty",
         "fillcolor": "rgba(104,187,227,0.5)",
         "line": {
          "width": 0
         },
         "marker": {
          "color": "#68BBE3"
         },
         "mode": "lines",
         "name": "Prediction Interval | Auto ARIMA",
         "showlegend": true,
         "type": "scatter",
         "x": [
          "2021-09-29T00:00:00",
          "2021-09-30T00:00:00",
          "2021-10-01T00:00:00",
          "2021-10-02T00:00:00",
          "2021-10-03T00:00:00",
          "2021-10-04T00:00:00",
          "2021-10-05T00:00:00",
          "2021-10-06T00:00:00",
          "2021-10-07T00:00:00",
          "2021-10-08T00:00:00",
          "2021-10-09T00:00:00",
          "2021-10-10T00:00:00",
          "2021-10-11T00:00:00",
          "2021-10-12T00:00:00",
          "2021-10-13T00:00:00",
          "2021-10-14T00:00:00",
          "2021-10-15T00:00:00",
          "2021-10-16T00:00:00",
          "2021-10-17T00:00:00",
          "2021-10-18T00:00:00",
          "2021-10-19T00:00:00",
          "2021-10-20T00:00:00",
          "2021-10-21T00:00:00",
          "2021-10-22T00:00:00",
          "2021-10-23T00:00:00",
          "2021-10-24T00:00:00",
          "2021-10-25T00:00:00",
          "2021-10-26T00:00:00",
          "2021-10-27T00:00:00",
          "2021-10-28T00:00:00"
         ],
         "y": [
          9717.4795,
          9656.1561,
          8973.2559,
          5586.9606,
          5658.9278,
          8831.7,
          10061.7797,
          10142.2365,
          10134.562,
          9451.6618,
          6065.3664,
          6137.3336,
          9310.1059,
          10540.1855,
          10611.4112,
          10601.0094,
          9918.1092,
          6531.8139,
          6603.7811,
          9776.5533,
          11006.633,
          11070.6572,
          11058.0854,
          10375.1852,
          6988.8899,
          7060.8571,
          10233.6293,
          11463.709,
          11521.9118,
          11507.5601
         ]
        },
        {
         "marker": {
          "color": "#3f3f3f",
          "size": 5
         },
         "mode": "lines+markers",
         "name": "Original",
         "showlegend": true,
         "type": "scatter",
         "x": [
          "2021-07-08T00:00:00",
          "2021-07-09T00:00:00",
          "2021-07-10T00:00:00",
          "2021-07-11T00:00:00",
          "2021-07-12T00:00:00",
          "2021-07-13T00:00:00",
          "2021-07-14T00:00:00",
          "2021-07-15T00:00:00",
          "2021-07-16T00:00:00",
          "2021-07-17T00:00:00",
          "2021-07-18T00:00:00",
          "2021-07-19T00:00:00",
          "2021-07-20T00:00:00",
          "2021-07-21T00:00:00",
          "2021-07-22T00:00:00",
          "2021-07-23T00:00:00",
          "2021-07-24T00:00:00",
          "2021-07-25T00:00:00",
          "2021-07-26T00:00:00",
          "2021-07-27T00:00:00",
          "2021-07-28T00:00:00",
          "2021-07-29T00:00:00",
          "2021-07-30T00:00:00",
          "2021-07-31T00:00:00",
          "2021-08-01T00:00:00",
          "2021-08-02T00:00:00",
          "2021-08-03T00:00:00",
          "2021-08-04T00:00:00",
          "2021-08-05T00:00:00",
          "2021-08-06T00:00:00",
          "2021-08-07T00:00:00",
          "2021-08-08T00:00:00",
          "2021-08-09T00:00:00",
          "2021-08-10T00:00:00",
          "2021-08-11T00:00:00",
          "2021-08-12T00:00:00",
          "2021-08-13T00:00:00",
          "2021-08-14T00:00:00",
          "2021-08-15T00:00:00",
          "2021-08-16T00:00:00",
          "2021-08-17T00:00:00",
          "2021-08-18T00:00:00",
          "2021-08-19T00:00:00",
          "2021-08-20T00:00:00",
          "2021-08-21T00:00:00",
          "2021-08-22T00:00:00",
          "2021-08-23T00:00:00",
          "2021-08-24T00:00:00",
          "2021-08-25T00:00:00",
          "2021-08-26T00:00:00",
          "2021-08-27T00:00:00",
          "2021-08-28T00:00:00",
          "2021-08-29T00:00:00",
          "2021-08-30T00:00:00",
          "2021-08-31T00:00:00",
          "2021-09-01T00:00:00",
          "2021-09-02T00:00:00",
          "2021-09-03T00:00:00",
          "2021-09-04T00:00:00",
          "2021-09-05T00:00:00",
          "2021-09-06T00:00:00",
          "2021-09-07T00:00:00",
          "2021-09-08T00:00:00",
          "2021-09-09T00:00:00",
          "2021-09-10T00:00:00",
          "2021-09-11T00:00:00",
          "2021-09-12T00:00:00",
          "2021-09-13T00:00:00",
          "2021-09-14T00:00:00",
          "2021-09-15T00:00:00",
          "2021-09-16T00:00:00",
          "2021-09-17T00:00:00",
          "2021-09-18T00:00:00",
          "2021-09-19T00:00:00",
          "2021-09-20T00:00:00",
          "2021-09-21T00:00:00",
          "2021-09-22T00:00:00",
          "2021-09-23T00:00:00",
          "2021-09-24T00:00:00",
          "2021-09-25T00:00:00",
          "2021-09-26T00:00:00",
          "2021-09-27T00:00:00",
          "2021-09-28T00:00:00",
          "2021-09-29T00:00:00",
          "2021-09-30T00:00:00",
          "2021-10-01T00:00:00",
          "2021-10-02T00:00:00",
          "2021-10-03T00:00:00",
          "2021-10-04T00:00:00",
          "2021-10-05T00:00:00"
         ],
         "y": [
          3773,
          3172,
          2079,
          2725,
          4542,
          3795,
          3941,
          4064,
          3474,
          2093,
          2426,
          4339,
          4064,
          4224,
          4603,
          4369,
          2532,
          3276,
          4917,
          4430,
          4977,
          5193,
          4001,
          1996,
          2538,
          4764,
          5651,
          5777,
          4789,
          3782,
          1920,
          2526,
          4481,
          6034,
          5006,
          4450,
          3112,
          1914,
          2359,
          3948,
          5727,
          6365,
          6323,
          5151,
          1947,
          3128,
          7999,
          7104,
          6457,
          6643,
          5355,
          2341,
          2367,
          5592,
          6770,
          6877,
          7272,
          6279,
          2741,
          2483,
          5456,
          6082,
          6139,
          5865,
          6362,
          3132,
          2681,
          5788,
          7001,
          6721,
          7556,
          7278,
          4026,
          3514,
          6476,
          7863,
          8418,
          8290,
          7189,
          3567,
          4088,
          7418,
          8765,
          7798,
          9212,
          7115,
          3903,
          5038,
          7843,
          8872
         ]
        }
       ],
       "layout": {
        "showlegend": true,
        "template": {
         "data": {
          "bar": [
           {
            "error_x": {
             "color": "rgb(51,51,51)"
            },
            "error_y": {
             "color": "rgb(51,51,51)"
            },
            "marker": {
             "line": {
              "color": "rgb(237,237,237)",
              "width": 0.5
             },
             "pattern": {
              "fillmode": "overlay",
              "size": 10,
              "solidity": 0.2
             }
            },
            "type": "bar"
           }
          ],
          "barpolar": [
           {
            "marker": {
             "line": {
              "color": "rgb(237,237,237)",
              "width": 0.5
             },
             "pattern": {
              "fillmode": "overlay",
              "size": 10,
              "solidity": 0.2
             }
            },
            "type": "barpolar"
           }
          ],
          "carpet": [
           {
            "aaxis": {
             "endlinecolor": "rgb(51,51,51)",
             "gridcolor": "white",
             "linecolor": "white",
             "minorgridcolor": "white",
             "startlinecolor": "rgb(51,51,51)"
            },
            "baxis": {
             "endlinecolor": "rgb(51,51,51)",
             "gridcolor": "white",
             "linecolor": "white",
             "minorgridcolor": "white",
             "startlinecolor": "rgb(51,51,51)"
            },
            "type": "carpet"
           }
          ],
          "choropleth": [
           {
            "colorbar": {
             "outlinewidth": 0,
             "tickcolor": "rgb(237,237,237)",
             "ticklen": 6,
             "ticks": "inside"
            },
            "type": "choropleth"
           }
          ],
          "contour": [
           {
            "colorbar": {
             "outlinewidth": 0,
             "tickcolor": "rgb(237,237,237)",
             "ticklen": 6,
             "ticks": "inside"
            },
            "colorscale": [
             [
              0,
              "rgb(20,44,66)"
             ],
             [
              1,
              "rgb(90,179,244)"
             ]
            ],
            "type": "contour"
           }
          ],
          "contourcarpet": [
           {
            "colorbar": {
             "outlinewidth": 0,
             "tickcolor": "rgb(237,237,237)",
             "ticklen": 6,
             "ticks": "inside"
            },
            "type": "contourcarpet"
           }
          ],
          "heatmap": [
           {
            "colorbar": {
             "outlinewidth": 0,
             "tickcolor": "rgb(237,237,237)",
             "ticklen": 6,
             "ticks": "inside"
            },
            "colorscale": [
             [
              0,
              "rgb(20,44,66)"
             ],
             [
              1,
              "rgb(90,179,244)"
             ]
            ],
            "type": "heatmap"
           }
          ],
          "heatmapgl": [
           {
            "colorbar": {
             "outlinewidth": 0,
             "tickcolor": "rgb(237,237,237)",
             "ticklen": 6,
             "ticks": "inside"
            },
            "colorscale": [
             [
              0,
              "rgb(20,44,66)"
             ],
             [
              1,
              "rgb(90,179,244)"
             ]
            ],
            "type": "heatmapgl"
           }
          ],
          "histogram": [
           {
            "marker": {
             "pattern": {
              "fillmode": "overlay",
              "size": 10,
              "solidity": 0.2
             }
            },
            "type": "histogram"
           }
          ],
          "histogram2d": [
           {
            "colorbar": {
             "outlinewidth": 0,
             "tickcolor": "rgb(237,237,237)",
             "ticklen": 6,
             "ticks": "inside"
            },
            "colorscale": [
             [
              0,
              "rgb(20,44,66)"
             ],
             [
              1,
              "rgb(90,179,244)"
             ]
            ],
            "type": "histogram2d"
           }
          ],
          "histogram2dcontour": [
           {
            "colorbar": {
             "outlinewidth": 0,
             "tickcolor": "rgb(237,237,237)",
             "ticklen": 6,
             "ticks": "inside"
            },
            "colorscale": [
             [
              0,
              "rgb(20,44,66)"
             ],
             [
              1,
              "rgb(90,179,244)"
             ]
            ],
            "type": "histogram2dcontour"
           }
          ],
          "mesh3d": [
           {
            "colorbar": {
             "outlinewidth": 0,
             "tickcolor": "rgb(237,237,237)",
             "ticklen": 6,
             "ticks": "inside"
            },
            "type": "mesh3d"
           }
          ],
          "parcoords": [
           {
            "line": {
             "colorbar": {
              "outlinewidth": 0,
              "tickcolor": "rgb(237,237,237)",
              "ticklen": 6,
              "ticks": "inside"
             }
            },
            "type": "parcoords"
           }
          ],
          "pie": [
           {
            "automargin": true,
            "type": "pie"
           }
          ],
          "scatter": [
           {
            "marker": {
             "colorbar": {
              "outlinewidth": 0,
              "tickcolor": "rgb(237,237,237)",
              "ticklen": 6,
              "ticks": "inside"
             }
            },
            "type": "scatter"
           }
          ],
          "scatter3d": [
           {
            "line": {
             "colorbar": {
              "outlinewidth": 0,
              "tickcolor": "rgb(237,237,237)",
              "ticklen": 6,
              "ticks": "inside"
             }
            },
            "marker": {
             "colorbar": {
              "outlinewidth": 0,
              "tickcolor": "rgb(237,237,237)",
              "ticklen": 6,
              "ticks": "inside"
             }
            },
            "type": "scatter3d"
           }
          ],
          "scattercarpet": [
           {
            "marker": {
             "colorbar": {
              "outlinewidth": 0,
              "tickcolor": "rgb(237,237,237)",
              "ticklen": 6,
              "ticks": "inside"
             }
            },
            "type": "scattercarpet"
           }
          ],
          "scattergeo": [
           {
            "marker": {
             "colorbar": {
              "outlinewidth": 0,
              "tickcolor": "rgb(237,237,237)",
              "ticklen": 6,
              "ticks": "inside"
             }
            },
            "type": "scattergeo"
           }
          ],
          "scattergl": [
           {
            "marker": {
             "colorbar": {
              "outlinewidth": 0,
              "tickcolor": "rgb(237,237,237)",
              "ticklen": 6,
              "ticks": "inside"
             }
            },
            "type": "scattergl"
           }
          ],
          "scattermapbox": [
           {
            "marker": {
             "colorbar": {
              "outlinewidth": 0,
              "tickcolor": "rgb(237,237,237)",
              "ticklen": 6,
              "ticks": "inside"
             }
            },
            "type": "scattermapbox"
           }
          ],
          "scatterpolar": [
           {
            "marker": {
             "colorbar": {
              "outlinewidth": 0,
              "tickcolor": "rgb(237,237,237)",
              "ticklen": 6,
              "ticks": "inside"
             }
            },
            "type": "scatterpolar"
           }
          ],
          "scatterpolargl": [
           {
            "marker": {
             "colorbar": {
              "outlinewidth": 0,
              "tickcolor": "rgb(237,237,237)",
              "ticklen": 6,
              "ticks": "inside"
             }
            },
            "type": "scatterpolargl"
           }
          ],
          "scatterternary": [
           {
            "marker": {
             "colorbar": {
              "outlinewidth": 0,
              "tickcolor": "rgb(237,237,237)",
              "ticklen": 6,
              "ticks": "inside"
             }
            },
            "type": "scatterternary"
           }
          ],
          "surface": [
           {
            "colorbar": {
             "outlinewidth": 0,
             "tickcolor": "rgb(237,237,237)",
             "ticklen": 6,
             "ticks": "inside"
            },
            "colorscale": [
             [
              0,
              "rgb(20,44,66)"
             ],
             [
              1,
              "rgb(90,179,244)"
             ]
            ],
            "type": "surface"
           }
          ],
          "table": [
           {
            "cells": {
             "fill": {
              "color": "rgb(237,237,237)"
             },
             "line": {
              "color": "white"
             }
            },
            "header": {
             "fill": {
              "color": "rgb(217,217,217)"
             },
             "line": {
              "color": "white"
             }
            },
            "type": "table"
           }
          ]
         },
         "layout": {
          "annotationdefaults": {
           "arrowhead": 0,
           "arrowwidth": 1
          },
          "autotypenumbers": "strict",
          "coloraxis": {
           "colorbar": {
            "outlinewidth": 0,
            "tickcolor": "rgb(237,237,237)",
            "ticklen": 6,
            "ticks": "inside"
           }
          },
          "colorscale": {
           "sequential": [
            [
             0,
             "rgb(20,44,66)"
            ],
            [
             1,
             "rgb(90,179,244)"
            ]
           ],
           "sequentialminus": [
            [
             0,
             "rgb(20,44,66)"
            ],
            [
             1,
             "rgb(90,179,244)"
            ]
           ]
          },
          "colorway": [
           "#F8766D",
           "#A3A500",
           "#00BF7D",
           "#00B0F6",
           "#E76BF3"
          ],
          "font": {
           "color": "rgb(51,51,51)"
          },
          "geo": {
           "bgcolor": "white",
           "lakecolor": "white",
           "landcolor": "rgb(237,237,237)",
           "showlakes": true,
           "showland": true,
           "subunitcolor": "white"
          },
          "hoverlabel": {
           "align": "left"
          },
          "hovermode": "closest",
          "paper_bgcolor": "white",
          "plot_bgcolor": "rgb(237,237,237)",
          "polar": {
           "angularaxis": {
            "gridcolor": "white",
            "linecolor": "white",
            "showgrid": true,
            "tickcolor": "rgb(51,51,51)",
            "ticks": "outside"
           },
           "bgcolor": "rgb(237,237,237)",
           "radialaxis": {
            "gridcolor": "white",
            "linecolor": "white",
            "showgrid": true,
            "tickcolor": "rgb(51,51,51)",
            "ticks": "outside"
           }
          },
          "scene": {
           "xaxis": {
            "backgroundcolor": "rgb(237,237,237)",
            "gridcolor": "white",
            "gridwidth": 2,
            "linecolor": "white",
            "showbackground": true,
            "showgrid": true,
            "tickcolor": "rgb(51,51,51)",
            "ticks": "outside",
            "zerolinecolor": "white"
           },
           "yaxis": {
            "backgroundcolor": "rgb(237,237,237)",
            "gridcolor": "white",
            "gridwidth": 2,
            "linecolor": "white",
            "showbackground": true,
            "showgrid": true,
            "tickcolor": "rgb(51,51,51)",
            "ticks": "outside",
            "zerolinecolor": "white"
           },
           "zaxis": {
            "backgroundcolor": "rgb(237,237,237)",
            "gridcolor": "white",
            "gridwidth": 2,
            "linecolor": "white",
            "showbackground": true,
            "showgrid": true,
            "tickcolor": "rgb(51,51,51)",
            "ticks": "outside",
            "zerolinecolor": "white"
           }
          },
          "shapedefaults": {
           "fillcolor": "black",
           "line": {
            "width": 0
           },
           "opacity": 0.3
          },
          "ternary": {
           "aaxis": {
            "gridcolor": "white",
            "linecolor": "white",
            "showgrid": true,
            "tickcolor": "rgb(51,51,51)",
            "ticks": "outside"
           },
           "baxis": {
            "gridcolor": "white",
            "linecolor": "white",
            "showgrid": true,
            "tickcolor": "rgb(51,51,51)",
            "ticks": "outside"
           },
           "bgcolor": "rgb(237,237,237)",
           "caxis": {
            "gridcolor": "white",
            "linecolor": "white",
            "showgrid": true,
            "tickcolor": "rgb(51,51,51)",
            "ticks": "outside"
           }
          },
          "xaxis": {
           "automargin": true,
           "gridcolor": "white",
           "linecolor": "white",
           "showgrid": true,
           "tickcolor": "rgb(51,51,51)",
           "ticks": "outside",
           "title": {
            "standoff": 15
           },
           "zerolinecolor": "white"
          },
          "yaxis": {
           "automargin": true,
           "gridcolor": "white",
           "linecolor": "white",
           "showgrid": true,
           "tickcolor": "rgb(51,51,51)",
           "ticks": "outside",
           "title": {
            "standoff": 15
           },
           "zerolinecolor": "white"
          }
         }
        },
        "title": {
         "text": "Actual vs. 'Out-of-Sample' Forecast | Total"
        },
        "xaxis": {
         "title": {
          "text": "Time"
         }
        },
        "yaxis": {
         "title": {
          "text": "Values"
         }
        }
       }
      }
     },
     "metadata": {},
     "output_type": "display_data"
    }
   ],
   "source": [
    "# forecast in unknown future\n",
    "plot_model(best, plot = 'forecast', data_kwargs = {'fh' : 30})"
   ]
  },
  {
   "cell_type": "code",
   "execution_count": 45,
   "metadata": {},
   "outputs": [
    {
     "data": {
      "application/vnd.plotly.v1+json": {
       "config": {
        "plotlyServerURL": "https://plot.ly"
       },
       "data": [
        {
         "line": {
          "color": "#1f77b4"
         },
         "marker": {
          "size": 5
         },
         "mode": "lines+markers",
         "name": "Forecast | Auto ARIMA",
         "showlegend": true,
         "type": "scatter",
         "x": [
          "2021-07-08T00:00:00",
          "2021-07-09T00:00:00",
          "2021-07-10T00:00:00",
          "2021-07-11T00:00:00",
          "2021-07-12T00:00:00",
          "2021-07-13T00:00:00",
          "2021-07-14T00:00:00",
          "2021-07-15T00:00:00",
          "2021-07-16T00:00:00",
          "2021-07-17T00:00:00",
          "2021-07-18T00:00:00",
          "2021-07-19T00:00:00",
          "2021-07-20T00:00:00",
          "2021-07-21T00:00:00",
          "2021-07-22T00:00:00",
          "2021-07-23T00:00:00",
          "2021-07-24T00:00:00",
          "2021-07-25T00:00:00",
          "2021-07-26T00:00:00",
          "2021-07-27T00:00:00",
          "2021-07-28T00:00:00",
          "2021-07-29T00:00:00",
          "2021-07-30T00:00:00",
          "2021-07-31T00:00:00",
          "2021-08-01T00:00:00",
          "2021-08-02T00:00:00",
          "2021-08-03T00:00:00",
          "2021-08-04T00:00:00",
          "2021-08-05T00:00:00",
          "2021-08-06T00:00:00",
          "2021-08-07T00:00:00",
          "2021-08-08T00:00:00",
          "2021-08-09T00:00:00",
          "2021-08-10T00:00:00",
          "2021-08-11T00:00:00",
          "2021-08-12T00:00:00",
          "2021-08-13T00:00:00",
          "2021-08-14T00:00:00",
          "2021-08-15T00:00:00",
          "2021-08-16T00:00:00",
          "2021-08-17T00:00:00",
          "2021-08-18T00:00:00",
          "2021-08-19T00:00:00",
          "2021-08-20T00:00:00",
          "2021-08-21T00:00:00",
          "2021-08-22T00:00:00",
          "2021-08-23T00:00:00",
          "2021-08-24T00:00:00",
          "2021-08-25T00:00:00",
          "2021-08-26T00:00:00",
          "2021-08-27T00:00:00",
          "2021-08-28T00:00:00",
          "2021-08-29T00:00:00",
          "2021-08-30T00:00:00",
          "2021-08-31T00:00:00",
          "2021-09-01T00:00:00",
          "2021-09-02T00:00:00",
          "2021-09-03T00:00:00",
          "2021-09-04T00:00:00",
          "2021-09-05T00:00:00",
          "2021-09-06T00:00:00",
          "2021-09-07T00:00:00",
          "2021-09-08T00:00:00",
          "2021-09-09T00:00:00",
          "2021-09-10T00:00:00",
          "2021-09-11T00:00:00",
          "2021-09-12T00:00:00",
          "2021-09-13T00:00:00",
          "2021-09-14T00:00:00",
          "2021-09-15T00:00:00",
          "2021-09-16T00:00:00",
          "2021-09-17T00:00:00",
          "2021-09-18T00:00:00",
          "2021-09-19T00:00:00",
          "2021-09-20T00:00:00",
          "2021-09-21T00:00:00",
          "2021-09-22T00:00:00",
          "2021-09-23T00:00:00",
          "2021-09-24T00:00:00",
          "2021-09-25T00:00:00",
          "2021-09-26T00:00:00",
          "2021-09-27T00:00:00",
          "2021-09-28T00:00:00"
         ],
         "y": [
          336.0538,
          936.9991,
          739.1646,
          577.9507,
          723.6995,
          1025.4414,
          611.6899,
          4002.0847,
          2864.6622,
          2282.6023,
          2346.8081,
          4050.8739,
          3395.5885,
          3950.2194,
          4256.8631,
          3715.9159,
          2737.0873,
          2653.9333,
          4877.2512,
          4041.2422,
          4487.9157,
          4961.7552,
          4400.9723,
          2548.1395,
          3032.9315,
          4759.887,
          4555.6749,
          5574.9485,
          5374.8527,
          4140.536,
          2542.5617,
          2947.804,
          5005.7002,
          5096.9209,
          6211.1972,
          4679.7196,
          4360.6901,
          1978.6972,
          3246.2647,
          4716.1932,
          5583.9006,
          5781.3423,
          5625.5906,
          4598.8013,
          2996.6977,
          2585.071,
          5291.9134,
          7797.7731,
          5938.277,
          6400.3787,
          5110.8897,
          2818.7002,
          3222.578,
          6205.6317,
          6609.7376,
          6823.3854,
          6716.3788,
          5805.5552,
          3133.4479,
          3087.4414,
          6177.1703,
          6793.3172,
          6720.9093,
          6953.1872,
          5553.2403,
          3610.0844,
          2991.307,
          6191.2831,
          6794.6049,
          7132.4879,
          6732.8392,
          7080.1615,
          3587.5539,
          3589.2381,
          6395.6741,
          7398.6503,
          7484.2294,
          8118.2983,
          7348.5696,
          3970.4116,
          3519.0026,
          7122.5316,
          8094.4129
         ]
        },
        {
         "marker": {
          "color": "#3f3f3f",
          "size": 5
         },
         "mode": "lines+markers",
         "name": "Original",
         "showlegend": true,
         "type": "scatter",
         "x": [
          "2021-07-08T00:00:00",
          "2021-07-09T00:00:00",
          "2021-07-10T00:00:00",
          "2021-07-11T00:00:00",
          "2021-07-12T00:00:00",
          "2021-07-13T00:00:00",
          "2021-07-14T00:00:00",
          "2021-07-15T00:00:00",
          "2021-07-16T00:00:00",
          "2021-07-17T00:00:00",
          "2021-07-18T00:00:00",
          "2021-07-19T00:00:00",
          "2021-07-20T00:00:00",
          "2021-07-21T00:00:00",
          "2021-07-22T00:00:00",
          "2021-07-23T00:00:00",
          "2021-07-24T00:00:00",
          "2021-07-25T00:00:00",
          "2021-07-26T00:00:00",
          "2021-07-27T00:00:00",
          "2021-07-28T00:00:00",
          "2021-07-29T00:00:00",
          "2021-07-30T00:00:00",
          "2021-07-31T00:00:00",
          "2021-08-01T00:00:00",
          "2021-08-02T00:00:00",
          "2021-08-03T00:00:00",
          "2021-08-04T00:00:00",
          "2021-08-05T00:00:00",
          "2021-08-06T00:00:00",
          "2021-08-07T00:00:00",
          "2021-08-08T00:00:00",
          "2021-08-09T00:00:00",
          "2021-08-10T00:00:00",
          "2021-08-11T00:00:00",
          "2021-08-12T00:00:00",
          "2021-08-13T00:00:00",
          "2021-08-14T00:00:00",
          "2021-08-15T00:00:00",
          "2021-08-16T00:00:00",
          "2021-08-17T00:00:00",
          "2021-08-18T00:00:00",
          "2021-08-19T00:00:00",
          "2021-08-20T00:00:00",
          "2021-08-21T00:00:00",
          "2021-08-22T00:00:00",
          "2021-08-23T00:00:00",
          "2021-08-24T00:00:00",
          "2021-08-25T00:00:00",
          "2021-08-26T00:00:00",
          "2021-08-27T00:00:00",
          "2021-08-28T00:00:00",
          "2021-08-29T00:00:00",
          "2021-08-30T00:00:00",
          "2021-08-31T00:00:00",
          "2021-09-01T00:00:00",
          "2021-09-02T00:00:00",
          "2021-09-03T00:00:00",
          "2021-09-04T00:00:00",
          "2021-09-05T00:00:00",
          "2021-09-06T00:00:00",
          "2021-09-07T00:00:00",
          "2021-09-08T00:00:00",
          "2021-09-09T00:00:00",
          "2021-09-10T00:00:00",
          "2021-09-11T00:00:00",
          "2021-09-12T00:00:00",
          "2021-09-13T00:00:00",
          "2021-09-14T00:00:00",
          "2021-09-15T00:00:00",
          "2021-09-16T00:00:00",
          "2021-09-17T00:00:00",
          "2021-09-18T00:00:00",
          "2021-09-19T00:00:00",
          "2021-09-20T00:00:00",
          "2021-09-21T00:00:00",
          "2021-09-22T00:00:00",
          "2021-09-23T00:00:00",
          "2021-09-24T00:00:00",
          "2021-09-25T00:00:00",
          "2021-09-26T00:00:00",
          "2021-09-27T00:00:00",
          "2021-09-28T00:00:00",
          "2021-09-29T00:00:00",
          "2021-09-30T00:00:00",
          "2021-10-01T00:00:00",
          "2021-10-02T00:00:00",
          "2021-10-03T00:00:00",
          "2021-10-04T00:00:00",
          "2021-10-05T00:00:00"
         ],
         "y": [
          3773,
          3172,
          2079,
          2725,
          4542,
          3795,
          3941,
          4064,
          3474,
          2093,
          2426,
          4339,
          4064,
          4224,
          4603,
          4369,
          2532,
          3276,
          4917,
          4430,
          4977,
          5193,
          4001,
          1996,
          2538,
          4764,
          5651,
          5777,
          4789,
          3782,
          1920,
          2526,
          4481,
          6034,
          5006,
          4450,
          3112,
          1914,
          2359,
          3948,
          5727,
          6365,
          6323,
          5151,
          1947,
          3128,
          7999,
          7104,
          6457,
          6643,
          5355,
          2341,
          2367,
          5592,
          6770,
          6877,
          7272,
          6279,
          2741,
          2483,
          5456,
          6082,
          6139,
          5865,
          6362,
          3132,
          2681,
          5788,
          7001,
          6721,
          7556,
          7278,
          4026,
          3514,
          6476,
          7863,
          8418,
          8290,
          7189,
          3567,
          4088,
          7418,
          8765,
          7798,
          9212,
          7115,
          3903,
          5038,
          7843,
          8872
         ]
        }
       ],
       "layout": {
        "showlegend": true,
        "template": {
         "data": {
          "bar": [
           {
            "error_x": {
             "color": "rgb(51,51,51)"
            },
            "error_y": {
             "color": "rgb(51,51,51)"
            },
            "marker": {
             "line": {
              "color": "rgb(237,237,237)",
              "width": 0.5
             },
             "pattern": {
              "fillmode": "overlay",
              "size": 10,
              "solidity": 0.2
             }
            },
            "type": "bar"
           }
          ],
          "barpolar": [
           {
            "marker": {
             "line": {
              "color": "rgb(237,237,237)",
              "width": 0.5
             },
             "pattern": {
              "fillmode": "overlay",
              "size": 10,
              "solidity": 0.2
             }
            },
            "type": "barpolar"
           }
          ],
          "carpet": [
           {
            "aaxis": {
             "endlinecolor": "rgb(51,51,51)",
             "gridcolor": "white",
             "linecolor": "white",
             "minorgridcolor": "white",
             "startlinecolor": "rgb(51,51,51)"
            },
            "baxis": {
             "endlinecolor": "rgb(51,51,51)",
             "gridcolor": "white",
             "linecolor": "white",
             "minorgridcolor": "white",
             "startlinecolor": "rgb(51,51,51)"
            },
            "type": "carpet"
           }
          ],
          "choropleth": [
           {
            "colorbar": {
             "outlinewidth": 0,
             "tickcolor": "rgb(237,237,237)",
             "ticklen": 6,
             "ticks": "inside"
            },
            "type": "choropleth"
           }
          ],
          "contour": [
           {
            "colorbar": {
             "outlinewidth": 0,
             "tickcolor": "rgb(237,237,237)",
             "ticklen": 6,
             "ticks": "inside"
            },
            "colorscale": [
             [
              0,
              "rgb(20,44,66)"
             ],
             [
              1,
              "rgb(90,179,244)"
             ]
            ],
            "type": "contour"
           }
          ],
          "contourcarpet": [
           {
            "colorbar": {
             "outlinewidth": 0,
             "tickcolor": "rgb(237,237,237)",
             "ticklen": 6,
             "ticks": "inside"
            },
            "type": "contourcarpet"
           }
          ],
          "heatmap": [
           {
            "colorbar": {
             "outlinewidth": 0,
             "tickcolor": "rgb(237,237,237)",
             "ticklen": 6,
             "ticks": "inside"
            },
            "colorscale": [
             [
              0,
              "rgb(20,44,66)"
             ],
             [
              1,
              "rgb(90,179,244)"
             ]
            ],
            "type": "heatmap"
           }
          ],
          "heatmapgl": [
           {
            "colorbar": {
             "outlinewidth": 0,
             "tickcolor": "rgb(237,237,237)",
             "ticklen": 6,
             "ticks": "inside"
            },
            "colorscale": [
             [
              0,
              "rgb(20,44,66)"
             ],
             [
              1,
              "rgb(90,179,244)"
             ]
            ],
            "type": "heatmapgl"
           }
          ],
          "histogram": [
           {
            "marker": {
             "pattern": {
              "fillmode": "overlay",
              "size": 10,
              "solidity": 0.2
             }
            },
            "type": "histogram"
           }
          ],
          "histogram2d": [
           {
            "colorbar": {
             "outlinewidth": 0,
             "tickcolor": "rgb(237,237,237)",
             "ticklen": 6,
             "ticks": "inside"
            },
            "colorscale": [
             [
              0,
              "rgb(20,44,66)"
             ],
             [
              1,
              "rgb(90,179,244)"
             ]
            ],
            "type": "histogram2d"
           }
          ],
          "histogram2dcontour": [
           {
            "colorbar": {
             "outlinewidth": 0,
             "tickcolor": "rgb(237,237,237)",
             "ticklen": 6,
             "ticks": "inside"
            },
            "colorscale": [
             [
              0,
              "rgb(20,44,66)"
             ],
             [
              1,
              "rgb(90,179,244)"
             ]
            ],
            "type": "histogram2dcontour"
           }
          ],
          "mesh3d": [
           {
            "colorbar": {
             "outlinewidth": 0,
             "tickcolor": "rgb(237,237,237)",
             "ticklen": 6,
             "ticks": "inside"
            },
            "type": "mesh3d"
           }
          ],
          "parcoords": [
           {
            "line": {
             "colorbar": {
              "outlinewidth": 0,
              "tickcolor": "rgb(237,237,237)",
              "ticklen": 6,
              "ticks": "inside"
             }
            },
            "type": "parcoords"
           }
          ],
          "pie": [
           {
            "automargin": true,
            "type": "pie"
           }
          ],
          "scatter": [
           {
            "marker": {
             "colorbar": {
              "outlinewidth": 0,
              "tickcolor": "rgb(237,237,237)",
              "ticklen": 6,
              "ticks": "inside"
             }
            },
            "type": "scatter"
           }
          ],
          "scatter3d": [
           {
            "line": {
             "colorbar": {
              "outlinewidth": 0,
              "tickcolor": "rgb(237,237,237)",
              "ticklen": 6,
              "ticks": "inside"
             }
            },
            "marker": {
             "colorbar": {
              "outlinewidth": 0,
              "tickcolor": "rgb(237,237,237)",
              "ticklen": 6,
              "ticks": "inside"
             }
            },
            "type": "scatter3d"
           }
          ],
          "scattercarpet": [
           {
            "marker": {
             "colorbar": {
              "outlinewidth": 0,
              "tickcolor": "rgb(237,237,237)",
              "ticklen": 6,
              "ticks": "inside"
             }
            },
            "type": "scattercarpet"
           }
          ],
          "scattergeo": [
           {
            "marker": {
             "colorbar": {
              "outlinewidth": 0,
              "tickcolor": "rgb(237,237,237)",
              "ticklen": 6,
              "ticks": "inside"
             }
            },
            "type": "scattergeo"
           }
          ],
          "scattergl": [
           {
            "marker": {
             "colorbar": {
              "outlinewidth": 0,
              "tickcolor": "rgb(237,237,237)",
              "ticklen": 6,
              "ticks": "inside"
             }
            },
            "type": "scattergl"
           }
          ],
          "scattermapbox": [
           {
            "marker": {
             "colorbar": {
              "outlinewidth": 0,
              "tickcolor": "rgb(237,237,237)",
              "ticklen": 6,
              "ticks": "inside"
             }
            },
            "type": "scattermapbox"
           }
          ],
          "scatterpolar": [
           {
            "marker": {
             "colorbar": {
              "outlinewidth": 0,
              "tickcolor": "rgb(237,237,237)",
              "ticklen": 6,
              "ticks": "inside"
             }
            },
            "type": "scatterpolar"
           }
          ],
          "scatterpolargl": [
           {
            "marker": {
             "colorbar": {
              "outlinewidth": 0,
              "tickcolor": "rgb(237,237,237)",
              "ticklen": 6,
              "ticks": "inside"
             }
            },
            "type": "scatterpolargl"
           }
          ],
          "scatterternary": [
           {
            "marker": {
             "colorbar": {
              "outlinewidth": 0,
              "tickcolor": "rgb(237,237,237)",
              "ticklen": 6,
              "ticks": "inside"
             }
            },
            "type": "scatterternary"
           }
          ],
          "surface": [
           {
            "colorbar": {
             "outlinewidth": 0,
             "tickcolor": "rgb(237,237,237)",
             "ticklen": 6,
             "ticks": "inside"
            },
            "colorscale": [
             [
              0,
              "rgb(20,44,66)"
             ],
             [
              1,
              "rgb(90,179,244)"
             ]
            ],
            "type": "surface"
           }
          ],
          "table": [
           {
            "cells": {
             "fill": {
              "color": "rgb(237,237,237)"
             },
             "line": {
              "color": "white"
             }
            },
            "header": {
             "fill": {
              "color": "rgb(217,217,217)"
             },
             "line": {
              "color": "white"
             }
            },
            "type": "table"
           }
          ]
         },
         "layout": {
          "annotationdefaults": {
           "arrowhead": 0,
           "arrowwidth": 1
          },
          "autotypenumbers": "strict",
          "coloraxis": {
           "colorbar": {
            "outlinewidth": 0,
            "tickcolor": "rgb(237,237,237)",
            "ticklen": 6,
            "ticks": "inside"
           }
          },
          "colorscale": {
           "sequential": [
            [
             0,
             "rgb(20,44,66)"
            ],
            [
             1,
             "rgb(90,179,244)"
            ]
           ],
           "sequentialminus": [
            [
             0,
             "rgb(20,44,66)"
            ],
            [
             1,
             "rgb(90,179,244)"
            ]
           ]
          },
          "colorway": [
           "#F8766D",
           "#A3A500",
           "#00BF7D",
           "#00B0F6",
           "#E76BF3"
          ],
          "font": {
           "color": "rgb(51,51,51)"
          },
          "geo": {
           "bgcolor": "white",
           "lakecolor": "white",
           "landcolor": "rgb(237,237,237)",
           "showlakes": true,
           "showland": true,
           "subunitcolor": "white"
          },
          "hoverlabel": {
           "align": "left"
          },
          "hovermode": "closest",
          "paper_bgcolor": "white",
          "plot_bgcolor": "rgb(237,237,237)",
          "polar": {
           "angularaxis": {
            "gridcolor": "white",
            "linecolor": "white",
            "showgrid": true,
            "tickcolor": "rgb(51,51,51)",
            "ticks": "outside"
           },
           "bgcolor": "rgb(237,237,237)",
           "radialaxis": {
            "gridcolor": "white",
            "linecolor": "white",
            "showgrid": true,
            "tickcolor": "rgb(51,51,51)",
            "ticks": "outside"
           }
          },
          "scene": {
           "xaxis": {
            "backgroundcolor": "rgb(237,237,237)",
            "gridcolor": "white",
            "gridwidth": 2,
            "linecolor": "white",
            "showbackground": true,
            "showgrid": true,
            "tickcolor": "rgb(51,51,51)",
            "ticks": "outside",
            "zerolinecolor": "white"
           },
           "yaxis": {
            "backgroundcolor": "rgb(237,237,237)",
            "gridcolor": "white",
            "gridwidth": 2,
            "linecolor": "white",
            "showbackground": true,
            "showgrid": true,
            "tickcolor": "rgb(51,51,51)",
            "ticks": "outside",
            "zerolinecolor": "white"
           },
           "zaxis": {
            "backgroundcolor": "rgb(237,237,237)",
            "gridcolor": "white",
            "gridwidth": 2,
            "linecolor": "white",
            "showbackground": true,
            "showgrid": true,
            "tickcolor": "rgb(51,51,51)",
            "ticks": "outside",
            "zerolinecolor": "white"
           }
          },
          "shapedefaults": {
           "fillcolor": "black",
           "line": {
            "width": 0
           },
           "opacity": 0.3
          },
          "ternary": {
           "aaxis": {
            "gridcolor": "white",
            "linecolor": "white",
            "showgrid": true,
            "tickcolor": "rgb(51,51,51)",
            "ticks": "outside"
           },
           "baxis": {
            "gridcolor": "white",
            "linecolor": "white",
            "showgrid": true,
            "tickcolor": "rgb(51,51,51)",
            "ticks": "outside"
           },
           "bgcolor": "rgb(237,237,237)",
           "caxis": {
            "gridcolor": "white",
            "linecolor": "white",
            "showgrid": true,
            "tickcolor": "rgb(51,51,51)",
            "ticks": "outside"
           }
          },
          "xaxis": {
           "automargin": true,
           "gridcolor": "white",
           "linecolor": "white",
           "showgrid": true,
           "tickcolor": "rgb(51,51,51)",
           "ticks": "outside",
           "title": {
            "standoff": 15
           },
           "zerolinecolor": "white"
          },
          "yaxis": {
           "automargin": true,
           "gridcolor": "white",
           "linecolor": "white",
           "showgrid": true,
           "tickcolor": "rgb(51,51,51)",
           "ticks": "outside",
           "title": {
            "standoff": 15
           },
           "zerolinecolor": "white"
          }
         }
        },
        "title": {
         "text": "Actual vs. 'In-Sample' Forecast | Total"
        },
        "xaxis": {
         "title": {
          "text": "Time"
         }
        },
        "yaxis": {
         "title": {
          "text": "Values"
         }
        }
       }
      }
     },
     "metadata": {},
     "output_type": "display_data"
    }
   ],
   "source": [
    "# in-sample plot\n",
    "plot_model(best, plot = 'insample')"
   ]
  },
  {
   "cell_type": "code",
   "execution_count": 46,
   "metadata": {},
   "outputs": [
    {
     "data": {
      "application/vnd.plotly.v1+json": {
       "config": {
        "plotlyServerURL": "https://plot.ly"
       },
       "data": [
        {
         "marker": {
          "color": "#3f3f3f",
          "size": 5
         },
         "mode": "lines+markers",
         "name": "Residuals | Auto ARIMA",
         "showlegend": true,
         "type": "scatter",
         "x": [
          "2021-07-08T00:00:00",
          "2021-07-09T00:00:00",
          "2021-07-10T00:00:00",
          "2021-07-11T00:00:00",
          "2021-07-12T00:00:00",
          "2021-07-13T00:00:00",
          "2021-07-14T00:00:00",
          "2021-07-15T00:00:00",
          "2021-07-16T00:00:00",
          "2021-07-17T00:00:00",
          "2021-07-18T00:00:00",
          "2021-07-19T00:00:00",
          "2021-07-20T00:00:00",
          "2021-07-21T00:00:00",
          "2021-07-22T00:00:00",
          "2021-07-23T00:00:00",
          "2021-07-24T00:00:00",
          "2021-07-25T00:00:00",
          "2021-07-26T00:00:00",
          "2021-07-27T00:00:00",
          "2021-07-28T00:00:00",
          "2021-07-29T00:00:00",
          "2021-07-30T00:00:00",
          "2021-07-31T00:00:00",
          "2021-08-01T00:00:00",
          "2021-08-02T00:00:00",
          "2021-08-03T00:00:00",
          "2021-08-04T00:00:00",
          "2021-08-05T00:00:00",
          "2021-08-06T00:00:00",
          "2021-08-07T00:00:00",
          "2021-08-08T00:00:00",
          "2021-08-09T00:00:00",
          "2021-08-10T00:00:00",
          "2021-08-11T00:00:00",
          "2021-08-12T00:00:00",
          "2021-08-13T00:00:00",
          "2021-08-14T00:00:00",
          "2021-08-15T00:00:00",
          "2021-08-16T00:00:00",
          "2021-08-17T00:00:00",
          "2021-08-18T00:00:00",
          "2021-08-19T00:00:00",
          "2021-08-20T00:00:00",
          "2021-08-21T00:00:00",
          "2021-08-22T00:00:00",
          "2021-08-23T00:00:00",
          "2021-08-24T00:00:00",
          "2021-08-25T00:00:00",
          "2021-08-26T00:00:00",
          "2021-08-27T00:00:00",
          "2021-08-28T00:00:00",
          "2021-08-29T00:00:00",
          "2021-08-30T00:00:00",
          "2021-08-31T00:00:00",
          "2021-09-01T00:00:00",
          "2021-09-02T00:00:00",
          "2021-09-03T00:00:00",
          "2021-09-04T00:00:00",
          "2021-09-05T00:00:00",
          "2021-09-06T00:00:00",
          "2021-09-07T00:00:00",
          "2021-09-08T00:00:00",
          "2021-09-09T00:00:00",
          "2021-09-10T00:00:00",
          "2021-09-11T00:00:00",
          "2021-09-12T00:00:00",
          "2021-09-13T00:00:00",
          "2021-09-14T00:00:00",
          "2021-09-15T00:00:00",
          "2021-09-16T00:00:00",
          "2021-09-17T00:00:00",
          "2021-09-18T00:00:00",
          "2021-09-19T00:00:00",
          "2021-09-20T00:00:00",
          "2021-09-21T00:00:00",
          "2021-09-22T00:00:00",
          "2021-09-23T00:00:00",
          "2021-09-24T00:00:00",
          "2021-09-25T00:00:00",
          "2021-09-26T00:00:00",
          "2021-09-27T00:00:00",
          "2021-09-28T00:00:00"
         ],
         "y": [
          3436.946180830368,
          2235.000858701047,
          1339.835429449015,
          2147.049294319596,
          3818.300530510882,
          2769.558582562745,
          3329.3101384790853,
          61.9152511379184,
          609.3378259698293,
          -189.6023367255707,
          79.19193639069636,
          288.1261486675512,
          668.4114594869807,
          273.78062669261317,
          346.1369002046058,
          653.0840951343553,
          -205.08732150363994,
          622.066715468352,
          39.748838975822764,
          388.7578255340122,
          489.08429880524363,
          231.24476117324866,
          -399.97234223749,
          -552.1395464640636,
          -494.9315171349799,
          4.112986677544541,
          1095.3250982275295,
          202.05151615220893,
          -585.8527342216412,
          -358.53597221605287,
          -622.5616934287282,
          -421.80402000491176,
          -524.7001829404762,
          937.0791451054483,
          -1205.1971600551096,
          -229.71960038360157,
          -1248.6900561297662,
          -64.69715556184337,
          -887.264695615967,
          -768.1931869579357,
          143.09935674056487,
          583.6576751788234,
          697.4094072470743,
          552.1986663904045,
          -1049.6976804653814,
          542.9290300429311,
          2707.0866110113975,
          -693.7731364804094,
          518.7230425590242,
          242.62134697373403,
          244.11031335835924,
          -477.70019247090295,
          -855.5780048031666,
          -613.6316698671253,
          160.26242355713657,
          53.61455897162159,
          555.6211969614196,
          473.4447709168762,
          -392.44789424495684,
          -604.4413984148705,
          -721.1703020302584,
          -711.3172010179296,
          -581.9092813056159,
          -1088.187229745885,
          808.7597057668136,
          -478.0843506391211,
          -310.30701053676194,
          -403.28307307107207,
          206.3951439229986,
          -411.4879132729793,
          823.1607742986516,
          197.83848494040285,
          438.4461010512159,
          -75.23807958834732,
          80.32590149013413,
          464.34973942929173,
          933.7705709973234,
          171.70170539621904,
          -159.56955731358357,
          -403.4115798732064,
          568.997448135478,
          295.4683725882842,
          670.587091238509
         ]
        }
       ],
       "layout": {
        "showlegend": true,
        "template": {
         "data": {
          "bar": [
           {
            "error_x": {
             "color": "rgb(51,51,51)"
            },
            "error_y": {
             "color": "rgb(51,51,51)"
            },
            "marker": {
             "line": {
              "color": "rgb(237,237,237)",
              "width": 0.5
             },
             "pattern": {
              "fillmode": "overlay",
              "size": 10,
              "solidity": 0.2
             }
            },
            "type": "bar"
           }
          ],
          "barpolar": [
           {
            "marker": {
             "line": {
              "color": "rgb(237,237,237)",
              "width": 0.5
             },
             "pattern": {
              "fillmode": "overlay",
              "size": 10,
              "solidity": 0.2
             }
            },
            "type": "barpolar"
           }
          ],
          "carpet": [
           {
            "aaxis": {
             "endlinecolor": "rgb(51,51,51)",
             "gridcolor": "white",
             "linecolor": "white",
             "minorgridcolor": "white",
             "startlinecolor": "rgb(51,51,51)"
            },
            "baxis": {
             "endlinecolor": "rgb(51,51,51)",
             "gridcolor": "white",
             "linecolor": "white",
             "minorgridcolor": "white",
             "startlinecolor": "rgb(51,51,51)"
            },
            "type": "carpet"
           }
          ],
          "choropleth": [
           {
            "colorbar": {
             "outlinewidth": 0,
             "tickcolor": "rgb(237,237,237)",
             "ticklen": 6,
             "ticks": "inside"
            },
            "type": "choropleth"
           }
          ],
          "contour": [
           {
            "colorbar": {
             "outlinewidth": 0,
             "tickcolor": "rgb(237,237,237)",
             "ticklen": 6,
             "ticks": "inside"
            },
            "colorscale": [
             [
              0,
              "rgb(20,44,66)"
             ],
             [
              1,
              "rgb(90,179,244)"
             ]
            ],
            "type": "contour"
           }
          ],
          "contourcarpet": [
           {
            "colorbar": {
             "outlinewidth": 0,
             "tickcolor": "rgb(237,237,237)",
             "ticklen": 6,
             "ticks": "inside"
            },
            "type": "contourcarpet"
           }
          ],
          "heatmap": [
           {
            "colorbar": {
             "outlinewidth": 0,
             "tickcolor": "rgb(237,237,237)",
             "ticklen": 6,
             "ticks": "inside"
            },
            "colorscale": [
             [
              0,
              "rgb(20,44,66)"
             ],
             [
              1,
              "rgb(90,179,244)"
             ]
            ],
            "type": "heatmap"
           }
          ],
          "heatmapgl": [
           {
            "colorbar": {
             "outlinewidth": 0,
             "tickcolor": "rgb(237,237,237)",
             "ticklen": 6,
             "ticks": "inside"
            },
            "colorscale": [
             [
              0,
              "rgb(20,44,66)"
             ],
             [
              1,
              "rgb(90,179,244)"
             ]
            ],
            "type": "heatmapgl"
           }
          ],
          "histogram": [
           {
            "marker": {
             "pattern": {
              "fillmode": "overlay",
              "size": 10,
              "solidity": 0.2
             }
            },
            "type": "histogram"
           }
          ],
          "histogram2d": [
           {
            "colorbar": {
             "outlinewidth": 0,
             "tickcolor": "rgb(237,237,237)",
             "ticklen": 6,
             "ticks": "inside"
            },
            "colorscale": [
             [
              0,
              "rgb(20,44,66)"
             ],
             [
              1,
              "rgb(90,179,244)"
             ]
            ],
            "type": "histogram2d"
           }
          ],
          "histogram2dcontour": [
           {
            "colorbar": {
             "outlinewidth": 0,
             "tickcolor": "rgb(237,237,237)",
             "ticklen": 6,
             "ticks": "inside"
            },
            "colorscale": [
             [
              0,
              "rgb(20,44,66)"
             ],
             [
              1,
              "rgb(90,179,244)"
             ]
            ],
            "type": "histogram2dcontour"
           }
          ],
          "mesh3d": [
           {
            "colorbar": {
             "outlinewidth": 0,
             "tickcolor": "rgb(237,237,237)",
             "ticklen": 6,
             "ticks": "inside"
            },
            "type": "mesh3d"
           }
          ],
          "parcoords": [
           {
            "line": {
             "colorbar": {
              "outlinewidth": 0,
              "tickcolor": "rgb(237,237,237)",
              "ticklen": 6,
              "ticks": "inside"
             }
            },
            "type": "parcoords"
           }
          ],
          "pie": [
           {
            "automargin": true,
            "type": "pie"
           }
          ],
          "scatter": [
           {
            "marker": {
             "colorbar": {
              "outlinewidth": 0,
              "tickcolor": "rgb(237,237,237)",
              "ticklen": 6,
              "ticks": "inside"
             }
            },
            "type": "scatter"
           }
          ],
          "scatter3d": [
           {
            "line": {
             "colorbar": {
              "outlinewidth": 0,
              "tickcolor": "rgb(237,237,237)",
              "ticklen": 6,
              "ticks": "inside"
             }
            },
            "marker": {
             "colorbar": {
              "outlinewidth": 0,
              "tickcolor": "rgb(237,237,237)",
              "ticklen": 6,
              "ticks": "inside"
             }
            },
            "type": "scatter3d"
           }
          ],
          "scattercarpet": [
           {
            "marker": {
             "colorbar": {
              "outlinewidth": 0,
              "tickcolor": "rgb(237,237,237)",
              "ticklen": 6,
              "ticks": "inside"
             }
            },
            "type": "scattercarpet"
           }
          ],
          "scattergeo": [
           {
            "marker": {
             "colorbar": {
              "outlinewidth": 0,
              "tickcolor": "rgb(237,237,237)",
              "ticklen": 6,
              "ticks": "inside"
             }
            },
            "type": "scattergeo"
           }
          ],
          "scattergl": [
           {
            "marker": {
             "colorbar": {
              "outlinewidth": 0,
              "tickcolor": "rgb(237,237,237)",
              "ticklen": 6,
              "ticks": "inside"
             }
            },
            "type": "scattergl"
           }
          ],
          "scattermapbox": [
           {
            "marker": {
             "colorbar": {
              "outlinewidth": 0,
              "tickcolor": "rgb(237,237,237)",
              "ticklen": 6,
              "ticks": "inside"
             }
            },
            "type": "scattermapbox"
           }
          ],
          "scatterpolar": [
           {
            "marker": {
             "colorbar": {
              "outlinewidth": 0,
              "tickcolor": "rgb(237,237,237)",
              "ticklen": 6,
              "ticks": "inside"
             }
            },
            "type": "scatterpolar"
           }
          ],
          "scatterpolargl": [
           {
            "marker": {
             "colorbar": {
              "outlinewidth": 0,
              "tickcolor": "rgb(237,237,237)",
              "ticklen": 6,
              "ticks": "inside"
             }
            },
            "type": "scatterpolargl"
           }
          ],
          "scatterternary": [
           {
            "marker": {
             "colorbar": {
              "outlinewidth": 0,
              "tickcolor": "rgb(237,237,237)",
              "ticklen": 6,
              "ticks": "inside"
             }
            },
            "type": "scatterternary"
           }
          ],
          "surface": [
           {
            "colorbar": {
             "outlinewidth": 0,
             "tickcolor": "rgb(237,237,237)",
             "ticklen": 6,
             "ticks": "inside"
            },
            "colorscale": [
             [
              0,
              "rgb(20,44,66)"
             ],
             [
              1,
              "rgb(90,179,244)"
             ]
            ],
            "type": "surface"
           }
          ],
          "table": [
           {
            "cells": {
             "fill": {
              "color": "rgb(237,237,237)"
             },
             "line": {
              "color": "white"
             }
            },
            "header": {
             "fill": {
              "color": "rgb(217,217,217)"
             },
             "line": {
              "color": "white"
             }
            },
            "type": "table"
           }
          ]
         },
         "layout": {
          "annotationdefaults": {
           "arrowhead": 0,
           "arrowwidth": 1
          },
          "autotypenumbers": "strict",
          "coloraxis": {
           "colorbar": {
            "outlinewidth": 0,
            "tickcolor": "rgb(237,237,237)",
            "ticklen": 6,
            "ticks": "inside"
           }
          },
          "colorscale": {
           "sequential": [
            [
             0,
             "rgb(20,44,66)"
            ],
            [
             1,
             "rgb(90,179,244)"
            ]
           ],
           "sequentialminus": [
            [
             0,
             "rgb(20,44,66)"
            ],
            [
             1,
             "rgb(90,179,244)"
            ]
           ]
          },
          "colorway": [
           "#F8766D",
           "#A3A500",
           "#00BF7D",
           "#00B0F6",
           "#E76BF3"
          ],
          "font": {
           "color": "rgb(51,51,51)"
          },
          "geo": {
           "bgcolor": "white",
           "lakecolor": "white",
           "landcolor": "rgb(237,237,237)",
           "showlakes": true,
           "showland": true,
           "subunitcolor": "white"
          },
          "hoverlabel": {
           "align": "left"
          },
          "hovermode": "closest",
          "paper_bgcolor": "white",
          "plot_bgcolor": "rgb(237,237,237)",
          "polar": {
           "angularaxis": {
            "gridcolor": "white",
            "linecolor": "white",
            "showgrid": true,
            "tickcolor": "rgb(51,51,51)",
            "ticks": "outside"
           },
           "bgcolor": "rgb(237,237,237)",
           "radialaxis": {
            "gridcolor": "white",
            "linecolor": "white",
            "showgrid": true,
            "tickcolor": "rgb(51,51,51)",
            "ticks": "outside"
           }
          },
          "scene": {
           "xaxis": {
            "backgroundcolor": "rgb(237,237,237)",
            "gridcolor": "white",
            "gridwidth": 2,
            "linecolor": "white",
            "showbackground": true,
            "showgrid": true,
            "tickcolor": "rgb(51,51,51)",
            "ticks": "outside",
            "zerolinecolor": "white"
           },
           "yaxis": {
            "backgroundcolor": "rgb(237,237,237)",
            "gridcolor": "white",
            "gridwidth": 2,
            "linecolor": "white",
            "showbackground": true,
            "showgrid": true,
            "tickcolor": "rgb(51,51,51)",
            "ticks": "outside",
            "zerolinecolor": "white"
           },
           "zaxis": {
            "backgroundcolor": "rgb(237,237,237)",
            "gridcolor": "white",
            "gridwidth": 2,
            "linecolor": "white",
            "showbackground": true,
            "showgrid": true,
            "tickcolor": "rgb(51,51,51)",
            "ticks": "outside",
            "zerolinecolor": "white"
           }
          },
          "shapedefaults": {
           "fillcolor": "black",
           "line": {
            "width": 0
           },
           "opacity": 0.3
          },
          "ternary": {
           "aaxis": {
            "gridcolor": "white",
            "linecolor": "white",
            "showgrid": true,
            "tickcolor": "rgb(51,51,51)",
            "ticks": "outside"
           },
           "baxis": {
            "gridcolor": "white",
            "linecolor": "white",
            "showgrid": true,
            "tickcolor": "rgb(51,51,51)",
            "ticks": "outside"
           },
           "bgcolor": "rgb(237,237,237)",
           "caxis": {
            "gridcolor": "white",
            "linecolor": "white",
            "showgrid": true,
            "tickcolor": "rgb(51,51,51)",
            "ticks": "outside"
           }
          },
          "xaxis": {
           "automargin": true,
           "gridcolor": "white",
           "linecolor": "white",
           "showgrid": true,
           "tickcolor": "rgb(51,51,51)",
           "ticks": "outside",
           "title": {
            "standoff": 15
           },
           "zerolinecolor": "white"
          },
          "yaxis": {
           "automargin": true,
           "gridcolor": "white",
           "linecolor": "white",
           "showgrid": true,
           "tickcolor": "rgb(51,51,51)",
           "ticks": "outside",
           "title": {
            "standoff": 15
           },
           "zerolinecolor": "white"
          }
         }
        },
        "title": {
         "text": "Residuals"
        },
        "xaxis": {
         "title": {
          "text": "Time"
         }
        },
        "yaxis": {
         "title": {
          "text": "Values"
         }
        }
       }
      }
     },
     "metadata": {},
     "output_type": "display_data"
    }
   ],
   "source": [
    "# residuals plot\n",
    "plot_model(best, plot = 'residuals')"
   ]
  },
  {
   "cell_type": "code",
   "execution_count": 47,
   "metadata": {},
   "outputs": [
    {
     "data": {
      "application/vnd.plotly.v1+json": {
       "config": {
        "plotlyServerURL": "https://plot.ly"
       },
       "data": [
        {
         "marker": {
          "color": "#1f77b4"
         },
         "mode": "markers",
         "showlegend": false,
         "type": "scatter",
         "x": [
          -2.260188991329375,
          -1.9807523966472789,
          -1.8027430907391904,
          -1.6683911939470795,
          -1.5587835495029956,
          -1.465233792685523,
          -1.382994127100638,
          -1.309171716785777,
          -1.2418667918433202,
          -1.1797611176118612,
          -1.1219004674623523,
          -1.0675705238781414,
          -1.0162217327405565,
          -0.967421566101701,
          -0.9208229763683788,
          -0.8761428492468408,
          -0.8331468660796096,
          -0.7916386077433746,
          -0.7514515438490051,
          -0.712443032389489,
          -0.6744897501960817,
          -0.6374841609623769,
          -0.6013317483706249,
          -0.5659488219328631,
          -0.5312607573635746,
          -0.49720057068155404,
          -0.463707751457179,
          -0.43072729929545756,
          -0.3982089211336604,
          -0.36610635680056963,
          -0.33437680758881416,
          -0.30298044805620655,
          -0.2718800053992609,
          -0.24104039388602685,
          -0.2104283942479247,
          -0.1800123697927051,
          -0.14976201244462692,
          -0.11964811303984203,
          -0.08964235107576254,
          -0.05971709978532289,
          -0.029845242919239564,
          0,
          0.029845242919239425,
          0.05971709978532289,
          0.08964235107576254,
          0.11964811303984217,
          0.14976201244462692,
          0.18001236979270496,
          0.21042839424792484,
          0.24104039388602685,
          0.27188000539926077,
          0.30298044805620655,
          0.33437680758881416,
          0.3661063568005698,
          0.3982089211336604,
          0.43072729929545744,
          0.4637077514571792,
          0.49720057068155404,
          0.5312607573635744,
          0.5659488219328631,
          0.6013317483706249,
          0.6374841609623771,
          0.6744897501960817,
          0.7124430323894889,
          0.7514515438490051,
          0.7916386077433746,
          0.8331468660796099,
          0.8761428492468408,
          0.9208229763683788,
          0.967421566101701,
          1.0162217327405565,
          1.0675705238781412,
          1.1219004674623523,
          1.1797611176118612,
          1.2418667918433206,
          1.309171716785777,
          1.382994127100638,
          1.465233792685523,
          1.558783549502995,
          1.668391193947079,
          1.8027430907391908,
          1.9807523966472789,
          2.2601889913293767
         ],
         "xaxis": "x4",
         "y": [
          -1248.6900561297662,
          -1205.1971600551096,
          -1088.187229745885,
          -1049.6976804653814,
          -887.264695615967,
          -855.5780048031666,
          -768.1931869579357,
          -721.1703020302584,
          -711.3172010179296,
          -693.7731364804094,
          -622.5616934287282,
          -613.6316698671253,
          -604.4413984148705,
          -585.8527342216412,
          -581.9092813056159,
          -552.1395464640636,
          -524.7001829404762,
          -494.9315171349799,
          -478.0843506391211,
          -477.70019247090295,
          -421.80402000491176,
          -411.4879132729793,
          -403.4115798732064,
          -403.28307307107207,
          -399.97234223749,
          -392.44789424495684,
          -358.53597221605287,
          -310.30701053676194,
          -229.71960038360157,
          -205.08732150363994,
          -189.6023367255707,
          -159.56955731358357,
          -75.23807958834732,
          -64.69715556184337,
          4.112986677544541,
          39.748838975822764,
          53.61455897162159,
          61.9152511379184,
          79.19193639069636,
          80.32590149013413,
          143.09935674056487,
          160.26242355713657,
          171.70170539621904,
          197.83848494040285,
          202.05151615220893,
          206.3951439229986,
          231.24476117324866,
          242.62134697373403,
          244.11031335835924,
          273.78062669261317,
          288.1261486675512,
          295.4683725882842,
          346.1369002046058,
          388.7578255340122,
          438.4461010512159,
          464.34973942929173,
          473.4447709168762,
          489.08429880524363,
          518.7230425590242,
          542.9290300429311,
          552.1986663904045,
          555.6211969614196,
          568.997448135478,
          583.6576751788234,
          609.3378259698293,
          622.066715468352,
          653.0840951343553,
          668.4114594869807,
          670.587091238509,
          697.4094072470743,
          808.7597057668136,
          823.1607742986516,
          933.7705709973234,
          937.0791451054483,
          1095.3250982275295,
          1339.835429449015,
          2147.049294319596,
          2235.000858701047,
          2707.0866110113975,
          2769.558582562745,
          3329.3101384790853,
          3436.946180830368,
          3818.300530510882
         ],
         "yaxis": "y4"
        },
        {
         "line": {
          "color": "#3f3f3f"
         },
         "mode": "lines",
         "showlegend": false,
         "type": "scatter",
         "x": [
          -2.260188991329375,
          -1.9807523966472789,
          -1.8027430907391904,
          -1.6683911939470795,
          -1.5587835495029956,
          -1.465233792685523,
          -1.382994127100638,
          -1.309171716785777,
          -1.2418667918433202,
          -1.1797611176118612,
          -1.1219004674623523,
          -1.0675705238781414,
          -1.0162217327405565,
          -0.967421566101701,
          -0.9208229763683788,
          -0.8761428492468408,
          -0.8331468660796096,
          -0.7916386077433746,
          -0.7514515438490051,
          -0.712443032389489,
          -0.6744897501960817,
          -0.6374841609623769,
          -0.6013317483706249,
          -0.5659488219328631,
          -0.5312607573635746,
          -0.49720057068155404,
          -0.463707751457179,
          -0.43072729929545756,
          -0.3982089211336604,
          -0.36610635680056963,
          -0.33437680758881416,
          -0.30298044805620655,
          -0.2718800053992609,
          -0.24104039388602685,
          -0.2104283942479247,
          -0.1800123697927051,
          -0.14976201244462692,
          -0.11964811303984203,
          -0.08964235107576254,
          -0.05971709978532289,
          -0.029845242919239564,
          0,
          0.029845242919239425,
          0.05971709978532289,
          0.08964235107576254,
          0.11964811303984217,
          0.14976201244462692,
          0.18001236979270496,
          0.21042839424792484,
          0.24104039388602685,
          0.27188000539926077,
          0.30298044805620655,
          0.33437680758881416,
          0.3661063568005698,
          0.3982089211336604,
          0.43072729929545744,
          0.4637077514571792,
          0.49720057068155404,
          0.5312607573635744,
          0.5659488219328631,
          0.6013317483706249,
          0.6374841609623771,
          0.6744897501960817,
          0.7124430323894889,
          0.7514515438490051,
          0.7916386077433746,
          0.8331468660796099,
          0.8761428492468408,
          0.9208229763683788,
          0.967421566101701,
          1.0162217327405565,
          1.0675705238781412,
          1.1219004674623523,
          1.1797611176118612,
          1.2418667918433206,
          1.309171716785777,
          1.382994127100638,
          1.465233792685523,
          1.558783549502995,
          1.668391193947079,
          1.8027430907391908,
          1.9807523966472789,
          2.2601889913293767
         ],
         "xaxis": "x4",
         "y": [
          -2010.3529979800066,
          -1731.4028019394848,
          -1553.7033462307938,
          -1419.5853077855716,
          -1310.1684508416874,
          -1216.7815305155748,
          -1134.6850146196898,
          -1060.991102578778,
          -993.80333131156,
          -931.8057607292119,
          -874.04582516816,
          -819.8104504817209,
          -768.5510391273538,
          -719.8358160328065,
          -673.318337689964,
          -628.7159826052703,
          -585.7948399857829,
          -544.3588326032635,
          -504.2417199381141,
          -465.30110827177043,
          -427.4138890967847,
          -390.47271328879606,
          -354.383229048981,
          -319.06189156442645,
          -284.4342064436655,
          -250.43330630052054,
          -216.99878603227097,
          -184.0757409798374,
          -151.61396562263025,
          -119.56728031175709,
          -87.89296083700839,
          -56.551251077972495,
          -25.504943109713167,
          5.2809877280754165,
          35.83970288117027,
          66.20278397371422,
          96.40048632598567,
          126.46196825918047,
          156.41550098007394,
          186.28866316746326,
          216.10852387099143,
          245.90181695298838,
          275.6951100349852,
          305.5149707385135,
          335.3881329259028,
          365.34166564679646,
          395.4031475799911,
          425.6008499322624,
          455.96393102480664,
          486.5226461779014,
          517.3085770156898,
          548.3548849839492,
          579.6965947429851,
          611.370914217734,
          643.4175995286071,
          675.8793748858141,
          708.8024199382479,
          742.2369402064974,
          776.237840349642,
          810.8655254704032,
          846.1868629549577,
          882.276347194773,
          919.2175230027615,
          957.1047421777471,
          996.0453538440909,
          1036.1624665092404,
          1077.59847389176,
          1120.519616511247,
          1165.1219715959407,
          1211.6394499387834,
          1260.3546730333305,
          1311.6140843876974,
          1365.8494590741368,
          1423.6093946351887,
          1485.6069652175372,
          1552.7947364847548,
          1626.4886485256666,
          1708.5851644215516,
          1801.9720847476635,
          1911.3889416915479,
          2045.506980136771,
          2223.206435845462,
          2502.156631885985
         ],
         "yaxis": "y4"
        },
        {
         "alignmentgroup": "True",
         "bingroup": "x",
         "hovertemplate": "variable=0<br>value=%{x}<br>count=%{y}<extra></extra>",
         "legendgroup": "0",
         "marker": {
          "color": "#1f77b4",
          "pattern": {
           "shape": ""
          }
         },
         "name": "0",
         "offsetgroup": "0",
         "orientation": "v",
         "showlegend": false,
         "type": "histogram",
         "x": [
          3436.946180830368,
          2235.000858701047,
          1339.835429449015,
          2147.049294319596,
          3818.300530510882,
          2769.558582562745,
          3329.3101384790853,
          61.9152511379184,
          609.3378259698293,
          -189.6023367255707,
          79.19193639069636,
          288.1261486675512,
          668.4114594869807,
          273.78062669261317,
          346.1369002046058,
          653.0840951343553,
          -205.08732150363994,
          622.066715468352,
          39.748838975822764,
          388.7578255340122,
          489.08429880524363,
          231.24476117324866,
          -399.97234223749,
          -552.1395464640636,
          -494.9315171349799,
          4.112986677544541,
          1095.3250982275295,
          202.05151615220893,
          -585.8527342216412,
          -358.53597221605287,
          -622.5616934287282,
          -421.80402000491176,
          -524.7001829404762,
          937.0791451054483,
          -1205.1971600551096,
          -229.71960038360157,
          -1248.6900561297662,
          -64.69715556184337,
          -887.264695615967,
          -768.1931869579357,
          143.09935674056487,
          583.6576751788234,
          697.4094072470743,
          552.1986663904045,
          -1049.6976804653814,
          542.9290300429311,
          2707.0866110113975,
          -693.7731364804094,
          518.7230425590242,
          242.62134697373403,
          244.11031335835924,
          -477.70019247090295,
          -855.5780048031666,
          -613.6316698671253,
          160.26242355713657,
          53.61455897162159,
          555.6211969614196,
          473.4447709168762,
          -392.44789424495684,
          -604.4413984148705,
          -721.1703020302584,
          -711.3172010179296,
          -581.9092813056159,
          -1088.187229745885,
          808.7597057668136,
          -478.0843506391211,
          -310.30701053676194,
          -403.28307307107207,
          206.3951439229986,
          -411.4879132729793,
          823.1607742986516,
          197.83848494040285,
          438.4461010512159,
          -75.23807958834732,
          80.32590149013413,
          464.34973942929173,
          933.7705709973234,
          171.70170539621904,
          -159.56955731358357,
          -403.4115798732064,
          568.997448135478,
          295.4683725882842,
          670.587091238509
         ],
         "xaxis": "x2",
         "yaxis": "y2"
        },
        {
         "line": {
          "color": "#3f3f3f"
         },
         "mode": "lines",
         "name": "ACF",
         "showlegend": false,
         "type": "scatter",
         "x": [
          0,
          0
         ],
         "xaxis": "x3",
         "y": [
          0,
          1
         ],
         "yaxis": "y3"
        },
        {
         "line": {
          "color": "#3f3f3f"
         },
         "mode": "lines",
         "name": "ACF",
         "showlegend": false,
         "type": "scatter",
         "x": [
          1,
          1
         ],
         "xaxis": "x3",
         "y": [
          0,
          0.4980516795325715
         ],
         "yaxis": "y3"
        },
        {
         "line": {
          "color": "#3f3f3f"
         },
         "mode": "lines",
         "name": "ACF",
         "showlegend": false,
         "type": "scatter",
         "x": [
          2,
          2
         ],
         "xaxis": "x3",
         "y": [
          0,
          0.4200396866016135
         ],
         "yaxis": "y3"
        },
        {
         "line": {
          "color": "#3f3f3f"
         },
         "mode": "lines",
         "name": "ACF",
         "showlegend": false,
         "type": "scatter",
         "x": [
          3,
          3
         ],
         "xaxis": "x3",
         "y": [
          0,
          0.30204345190440934
         ],
         "yaxis": "y3"
        },
        {
         "line": {
          "color": "#3f3f3f"
         },
         "mode": "lines",
         "name": "ACF",
         "showlegend": false,
         "type": "scatter",
         "x": [
          4,
          4
         ],
         "xaxis": "x3",
         "y": [
          0,
          0.3190544855233835
         ],
         "yaxis": "y3"
        },
        {
         "line": {
          "color": "#3f3f3f"
         },
         "mode": "lines",
         "name": "ACF",
         "showlegend": false,
         "type": "scatter",
         "x": [
          5,
          5
         ],
         "xaxis": "x3",
         "y": [
          0,
          0.2131465146653368
         ],
         "yaxis": "y3"
        },
        {
         "line": {
          "color": "#3f3f3f"
         },
         "mode": "lines",
         "name": "ACF",
         "showlegend": false,
         "type": "scatter",
         "x": [
          6,
          6
         ],
         "xaxis": "x3",
         "y": [
          0,
          0.2003299272401274
         ],
         "yaxis": "y3"
        },
        {
         "line": {
          "color": "#3f3f3f"
         },
         "mode": "lines",
         "name": "ACF",
         "showlegend": false,
         "type": "scatter",
         "x": [
          7,
          7
         ],
         "xaxis": "x3",
         "y": [
          0,
          0.05531294141150289
         ],
         "yaxis": "y3"
        },
        {
         "line": {
          "color": "#3f3f3f"
         },
         "mode": "lines",
         "name": "ACF",
         "showlegend": false,
         "type": "scatter",
         "x": [
          8,
          8
         ],
         "xaxis": "x3",
         "y": [
          0,
          0.1119407319621522
         ],
         "yaxis": "y3"
        },
        {
         "line": {
          "color": "#3f3f3f"
         },
         "mode": "lines",
         "name": "ACF",
         "showlegend": false,
         "type": "scatter",
         "x": [
          9,
          9
         ],
         "xaxis": "x3",
         "y": [
          0,
          0.05243366347763925
         ],
         "yaxis": "y3"
        },
        {
         "line": {
          "color": "#3f3f3f"
         },
         "mode": "lines",
         "name": "ACF",
         "showlegend": false,
         "type": "scatter",
         "x": [
          10,
          10
         ],
         "xaxis": "x3",
         "y": [
          0,
          0.005497346226930245
         ],
         "yaxis": "y3"
        },
        {
         "line": {
          "color": "#3f3f3f"
         },
         "mode": "lines",
         "name": "ACF",
         "showlegend": false,
         "type": "scatter",
         "x": [
          11,
          11
         ],
         "xaxis": "x3",
         "y": [
          0,
          0.05319765432732974
         ],
         "yaxis": "y3"
        },
        {
         "line": {
          "color": "#3f3f3f"
         },
         "mode": "lines",
         "name": "ACF",
         "showlegend": false,
         "type": "scatter",
         "x": [
          12,
          12
         ],
         "xaxis": "x3",
         "y": [
          0,
          0.005484377442875157
         ],
         "yaxis": "y3"
        },
        {
         "line": {
          "color": "#3f3f3f"
         },
         "mode": "lines",
         "name": "ACF",
         "showlegend": false,
         "type": "scatter",
         "x": [
          13,
          13
         ],
         "xaxis": "x3",
         "y": [
          0,
          0.06549448104526687
         ],
         "yaxis": "y3"
        },
        {
         "line": {
          "color": "#3f3f3f"
         },
         "mode": "lines",
         "name": "ACF",
         "showlegend": false,
         "type": "scatter",
         "x": [
          14,
          14
         ],
         "xaxis": "x3",
         "y": [
          0,
          0.05639173820735749
         ],
         "yaxis": "y3"
        },
        {
         "line": {
          "color": "#3f3f3f"
         },
         "mode": "lines",
         "name": "ACF",
         "showlegend": false,
         "type": "scatter",
         "x": [
          15,
          15
         ],
         "xaxis": "x3",
         "y": [
          0,
          0.05105789600625643
         ],
         "yaxis": "y3"
        },
        {
         "line": {
          "color": "#3f3f3f"
         },
         "mode": "lines",
         "name": "ACF",
         "showlegend": false,
         "type": "scatter",
         "x": [
          16,
          16
         ],
         "xaxis": "x3",
         "y": [
          0,
          0.032897781494086585
         ],
         "yaxis": "y3"
        },
        {
         "line": {
          "color": "#3f3f3f"
         },
         "mode": "lines",
         "name": "ACF",
         "showlegend": false,
         "type": "scatter",
         "x": [
          17,
          17
         ],
         "xaxis": "x3",
         "y": [
          0,
          -0.08069537717020311
         ],
         "yaxis": "y3"
        },
        {
         "line": {
          "color": "#3f3f3f"
         },
         "mode": "lines",
         "name": "ACF",
         "showlegend": false,
         "type": "scatter",
         "x": [
          18,
          18
         ],
         "xaxis": "x3",
         "y": [
          0,
          -0.07464915590770174
         ],
         "yaxis": "y3"
        },
        {
         "line": {
          "color": "#3f3f3f"
         },
         "mode": "lines",
         "name": "ACF",
         "showlegend": false,
         "type": "scatter",
         "x": [
          19,
          19
         ],
         "xaxis": "x3",
         "y": [
          0,
          -0.06893948927536205
         ],
         "yaxis": "y3"
        },
        {
         "line": {
          "color": "#3f3f3f"
         },
         "mode": "lines",
         "name": "ACF",
         "showlegend": false,
         "type": "scatter",
         "x": [
          20,
          20
         ],
         "xaxis": "x3",
         "y": [
          0,
          -0.001751168495916406
         ],
         "yaxis": "y3"
        },
        {
         "line": {
          "color": "#3f3f3f"
         },
         "mode": "lines",
         "name": "ACF",
         "showlegend": false,
         "type": "scatter",
         "x": [
          21,
          21
         ],
         "xaxis": "x3",
         "y": [
          0,
          -0.01435496136651131
         ],
         "yaxis": "y3"
        },
        {
         "line": {
          "color": "#3f3f3f"
         },
         "mode": "lines",
         "name": "ACF",
         "showlegend": false,
         "type": "scatter",
         "x": [
          22,
          22
         ],
         "xaxis": "x3",
         "y": [
          0,
          -0.011197181536566651
         ],
         "yaxis": "y3"
        },
        {
         "line": {
          "color": "#3f3f3f"
         },
         "mode": "lines",
         "name": "ACF",
         "showlegend": false,
         "type": "scatter",
         "x": [
          23,
          23
         ],
         "xaxis": "x3",
         "y": [
          0,
          -0.06322633302377578
         ],
         "yaxis": "y3"
        },
        {
         "line": {
          "color": "#3f3f3f"
         },
         "mode": "lines",
         "name": "ACF",
         "showlegend": false,
         "type": "scatter",
         "x": [
          24,
          24
         ],
         "xaxis": "x3",
         "y": [
          0,
          -0.061542502423024524
         ],
         "yaxis": "y3"
        },
        {
         "line": {
          "color": "#3f3f3f"
         },
         "mode": "lines",
         "name": "ACF",
         "showlegend": false,
         "type": "scatter",
         "x": [
          25,
          25
         ],
         "xaxis": "x3",
         "y": [
          0,
          -0.024982574733036545
         ],
         "yaxis": "y3"
        },
        {
         "line": {
          "color": "#3f3f3f"
         },
         "mode": "lines",
         "name": "ACF",
         "showlegend": false,
         "type": "scatter",
         "x": [
          26,
          26
         ],
         "xaxis": "x3",
         "y": [
          0,
          -0.039138713738894174
         ],
         "yaxis": "y3"
        },
        {
         "line": {
          "color": "#3f3f3f"
         },
         "mode": "lines",
         "name": "ACF",
         "showlegend": false,
         "type": "scatter",
         "x": [
          27,
          27
         ],
         "xaxis": "x3",
         "y": [
          0,
          -0.011645896593269721
         ],
         "yaxis": "y3"
        },
        {
         "line": {
          "color": "#3f3f3f"
         },
         "mode": "lines",
         "name": "ACF",
         "showlegend": false,
         "type": "scatter",
         "x": [
          28,
          28
         ],
         "xaxis": "x3",
         "y": [
          0,
          -0.08856930577020918
         ],
         "yaxis": "y3"
        },
        {
         "line": {
          "color": "#3f3f3f"
         },
         "mode": "lines",
         "name": "ACF",
         "showlegend": false,
         "type": "scatter",
         "x": [
          29,
          29
         ],
         "xaxis": "x3",
         "y": [
          0,
          0.001815041859073699
         ],
         "yaxis": "y3"
        },
        {
         "line": {
          "color": "#3f3f3f"
         },
         "mode": "lines",
         "name": "ACF",
         "showlegend": false,
         "type": "scatter",
         "x": [
          30,
          30
         ],
         "xaxis": "x3",
         "y": [
          0,
          -0.11132457717511439
         ],
         "yaxis": "y3"
        },
        {
         "line": {
          "color": "#3f3f3f"
         },
         "mode": "lines",
         "name": "ACF",
         "showlegend": false,
         "type": "scatter",
         "x": [
          31,
          31
         ],
         "xaxis": "x3",
         "y": [
          0,
          -0.045752935790523676
         ],
         "yaxis": "y3"
        },
        {
         "line": {
          "color": "#3f3f3f"
         },
         "mode": "lines",
         "name": "ACF",
         "showlegend": false,
         "type": "scatter",
         "x": [
          32,
          32
         ],
         "xaxis": "x3",
         "y": [
          0,
          -0.16332847404383505
         ],
         "yaxis": "y3"
        },
        {
         "line": {
          "color": "#3f3f3f"
         },
         "mode": "lines",
         "name": "ACF",
         "showlegend": false,
         "type": "scatter",
         "x": [
          33,
          33
         ],
         "xaxis": "x3",
         "y": [
          0,
          -0.11935588360223606
         ],
         "yaxis": "y3"
        },
        {
         "line": {
          "color": "#3f3f3f"
         },
         "mode": "lines",
         "name": "ACF",
         "showlegend": false,
         "type": "scatter",
         "x": [
          34,
          34
         ],
         "xaxis": "x3",
         "y": [
          0,
          -0.1388281905668191
         ],
         "yaxis": "y3"
        },
        {
         "line": {
          "color": "#3f3f3f"
         },
         "mode": "lines",
         "name": "ACF",
         "showlegend": false,
         "type": "scatter",
         "x": [
          35,
          35
         ],
         "xaxis": "x3",
         "y": [
          0,
          -0.05943379356287342
         ],
         "yaxis": "y3"
        },
        {
         "line": {
          "color": "#3f3f3f"
         },
         "mode": "lines",
         "name": "ACF",
         "showlegend": false,
         "type": "scatter",
         "x": [
          36,
          36
         ],
         "xaxis": "x3",
         "y": [
          0,
          -0.08154781678506477
         ],
         "yaxis": "y3"
        },
        {
         "line": {
          "color": "#3f3f3f"
         },
         "mode": "lines",
         "name": "ACF",
         "showlegend": false,
         "type": "scatter",
         "x": [
          37,
          37
         ],
         "xaxis": "x3",
         "y": [
          0,
          0.011777281801074537
         ],
         "yaxis": "y3"
        },
        {
         "line": {
          "color": "#3f3f3f"
         },
         "mode": "lines",
         "name": "ACF",
         "showlegend": false,
         "type": "scatter",
         "x": [
          38,
          38
         ],
         "xaxis": "x3",
         "y": [
          0,
          -0.045117219755099996
         ],
         "yaxis": "y3"
        },
        {
         "line": {
          "color": "#3f3f3f"
         },
         "mode": "lines",
         "name": "ACF",
         "showlegend": false,
         "type": "scatter",
         "x": [
          39,
          39
         ],
         "xaxis": "x3",
         "y": [
          0,
          -0.020331624574994076
         ],
         "yaxis": "y3"
        },
        {
         "line": {
          "color": "#3f3f3f"
         },
         "mode": "lines",
         "name": "ACF",
         "showlegend": false,
         "type": "scatter",
         "x": [
          40,
          40
         ],
         "xaxis": "x3",
         "y": [
          0,
          0.06601878220823812
         ],
         "yaxis": "y3"
        },
        {
         "marker": {
          "color": "#1f77b4",
          "size": 6
         },
         "mode": "markers",
         "showlegend": false,
         "type": "scatter",
         "x": [
          0,
          1,
          2,
          3,
          4,
          5,
          6,
          7,
          8,
          9,
          10,
          11,
          12,
          13,
          14,
          15,
          16,
          17,
          18,
          19,
          20,
          21,
          22,
          23,
          24,
          25,
          26,
          27,
          28,
          29,
          30,
          31,
          32,
          33,
          34,
          35,
          36,
          37,
          38,
          39,
          40
         ],
         "xaxis": "x3",
         "y": [
          1,
          0.4980516795325715,
          0.4200396866016135,
          0.30204345190440934,
          0.3190544855233835,
          0.2131465146653368,
          0.2003299272401274,
          0.05531294141150289,
          0.1119407319621522,
          0.05243366347763925,
          0.005497346226930245,
          0.05319765432732974,
          0.005484377442875157,
          0.06549448104526687,
          0.05639173820735749,
          0.05105789600625643,
          0.032897781494086585,
          -0.08069537717020311,
          -0.07464915590770174,
          -0.06893948927536205,
          -0.001751168495916406,
          -0.01435496136651131,
          -0.011197181536566651,
          -0.06322633302377578,
          -0.061542502423024524,
          -0.024982574733036545,
          -0.039138713738894174,
          -0.011645896593269721,
          -0.08856930577020918,
          0.001815041859073699,
          -0.11132457717511439,
          -0.045752935790523676,
          -0.16332847404383505,
          -0.11935588360223606,
          -0.1388281905668191,
          -0.05943379356287342,
          -0.08154781678506477,
          0.011777281801074537,
          -0.045117219755099996,
          -0.020331624574994076,
          0.06601878220823812
         ],
         "yaxis": "y3"
        },
        {
         "line": {
          "color": "rgba(255,255,255,0)"
         },
         "mode": "lines",
         "name": "UC",
         "showlegend": false,
         "type": "scatter",
         "x": [
          0,
          1,
          2,
          3,
          4,
          5,
          6,
          7,
          8,
          9,
          10,
          11,
          12,
          13,
          14,
          15,
          16,
          17,
          18,
          19,
          20,
          21,
          22,
          23,
          24,
          25,
          26,
          27,
          28,
          29,
          30,
          31,
          32,
          33,
          34,
          35,
          36,
          37,
          38,
          39,
          40
         ],
         "xaxis": "x3",
         "y": [
          0,
          0.21513399636948388,
          0.263142469298865,
          0.29253300538433985,
          0.3066273176419276,
          0.3216256591993239,
          0.3280982139359667,
          0.3337113646512363,
          0.334135422154685,
          0.3358666261258858,
          0.3362452664908806,
          0.3362494262233878,
          0.33663873138918615,
          0.3366428666795799,
          0.33723208763034057,
          0.33766824117703004,
          0.3380253693418061,
          0.338173521115379,
          0.33906355117247655,
          0.3398233532149623,
          0.34047003102839585,
          0.34047044789279235,
          0.34049845865064476,
          0.34051550021701144,
          0.3410584143081401,
          0.3415719998084601,
          0.34165655815163276,
          0.3418640063166659,
          0.3418823674256511,
          0.34294268248267085,
          0.34294312708277314,
          0.3446116144106413,
          0.3448926420701255,
          0.3484540477574153,
          0.35034110843046284,
          0.3528780631138822,
          0.353341057277696,
          0.3542110474269007,
          0.3542291706322268,
          0.3544950321501779,
          0.3545489980029468
         ],
         "yaxis": "y3"
        },
        {
         "fill": "tonexty",
         "fillcolor": "rgba(32, 146, 230,0.3)",
         "line": {
          "color": "rgba(255,255,255,0)"
         },
         "mode": "lines",
         "name": "LC",
         "showlegend": false,
         "type": "scatter",
         "x": [
          0,
          1,
          2,
          3,
          4,
          5,
          6,
          7,
          8,
          9,
          10,
          11,
          12,
          13,
          14,
          15,
          16,
          17,
          18,
          19,
          20,
          21,
          22,
          23,
          24,
          25,
          26,
          27,
          28,
          29,
          30,
          31,
          32,
          33,
          34,
          35,
          36,
          37,
          38,
          39,
          40
         ],
         "xaxis": "x3",
         "y": [
          0,
          -0.21513399636948388,
          -0.2631424692988649,
          -0.29253300538433985,
          -0.30662731764192763,
          -0.3216256591993239,
          -0.3280982139359668,
          -0.3337113646512363,
          -0.334135422154685,
          -0.3358666261258858,
          -0.3362452664908806,
          -0.3362494262233878,
          -0.33663873138918615,
          -0.33664286667958,
          -0.33723208763034057,
          -0.33766824117703004,
          -0.3380253693418061,
          -0.3381735211153789,
          -0.33906355117247655,
          -0.3398233532149623,
          -0.34047003102839585,
          -0.34047044789279235,
          -0.34049845865064476,
          -0.34051550021701144,
          -0.3410584143081401,
          -0.3415719998084601,
          -0.34165655815163276,
          -0.3418640063166659,
          -0.3418823674256511,
          -0.34294268248267085,
          -0.34294312708277314,
          -0.3446116144106413,
          -0.34489264207012543,
          -0.3484540477574153,
          -0.35034110843046284,
          -0.3528780631138822,
          -0.353341057277696,
          -0.3542110474269007,
          -0.3542291706322269,
          -0.3544950321501779,
          -0.3545489980029467
         ],
         "yaxis": "y3"
        },
        {
         "marker": {
          "color": "#1f77b4",
          "size": 2
         },
         "mode": "lines+markers",
         "name": "Time Plot",
         "type": "scatter",
         "x": [
          "2021-07-08T00:00:00",
          "2021-07-09T00:00:00",
          "2021-07-10T00:00:00",
          "2021-07-11T00:00:00",
          "2021-07-12T00:00:00",
          "2021-07-13T00:00:00",
          "2021-07-14T00:00:00",
          "2021-07-15T00:00:00",
          "2021-07-16T00:00:00",
          "2021-07-17T00:00:00",
          "2021-07-18T00:00:00",
          "2021-07-19T00:00:00",
          "2021-07-20T00:00:00",
          "2021-07-21T00:00:00",
          "2021-07-22T00:00:00",
          "2021-07-23T00:00:00",
          "2021-07-24T00:00:00",
          "2021-07-25T00:00:00",
          "2021-07-26T00:00:00",
          "2021-07-27T00:00:00",
          "2021-07-28T00:00:00",
          "2021-07-29T00:00:00",
          "2021-07-30T00:00:00",
          "2021-07-31T00:00:00",
          "2021-08-01T00:00:00",
          "2021-08-02T00:00:00",
          "2021-08-03T00:00:00",
          "2021-08-04T00:00:00",
          "2021-08-05T00:00:00",
          "2021-08-06T00:00:00",
          "2021-08-07T00:00:00",
          "2021-08-08T00:00:00",
          "2021-08-09T00:00:00",
          "2021-08-10T00:00:00",
          "2021-08-11T00:00:00",
          "2021-08-12T00:00:00",
          "2021-08-13T00:00:00",
          "2021-08-14T00:00:00",
          "2021-08-15T00:00:00",
          "2021-08-16T00:00:00",
          "2021-08-17T00:00:00",
          "2021-08-18T00:00:00",
          "2021-08-19T00:00:00",
          "2021-08-20T00:00:00",
          "2021-08-21T00:00:00",
          "2021-08-22T00:00:00",
          "2021-08-23T00:00:00",
          "2021-08-24T00:00:00",
          "2021-08-25T00:00:00",
          "2021-08-26T00:00:00",
          "2021-08-27T00:00:00",
          "2021-08-28T00:00:00",
          "2021-08-29T00:00:00",
          "2021-08-30T00:00:00",
          "2021-08-31T00:00:00",
          "2021-09-01T00:00:00",
          "2021-09-02T00:00:00",
          "2021-09-03T00:00:00",
          "2021-09-04T00:00:00",
          "2021-09-05T00:00:00",
          "2021-09-06T00:00:00",
          "2021-09-07T00:00:00",
          "2021-09-08T00:00:00",
          "2021-09-09T00:00:00",
          "2021-09-10T00:00:00",
          "2021-09-11T00:00:00",
          "2021-09-12T00:00:00",
          "2021-09-13T00:00:00",
          "2021-09-14T00:00:00",
          "2021-09-15T00:00:00",
          "2021-09-16T00:00:00",
          "2021-09-17T00:00:00",
          "2021-09-18T00:00:00",
          "2021-09-19T00:00:00",
          "2021-09-20T00:00:00",
          "2021-09-21T00:00:00",
          "2021-09-22T00:00:00",
          "2021-09-23T00:00:00",
          "2021-09-24T00:00:00",
          "2021-09-25T00:00:00",
          "2021-09-26T00:00:00",
          "2021-09-27T00:00:00",
          "2021-09-28T00:00:00"
         ],
         "xaxis": "x",
         "y": [
          3436.946180830368,
          2235.000858701047,
          1339.835429449015,
          2147.049294319596,
          3818.300530510882,
          2769.558582562745,
          3329.3101384790853,
          61.9152511379184,
          609.3378259698293,
          -189.6023367255707,
          79.19193639069636,
          288.1261486675512,
          668.4114594869807,
          273.78062669261317,
          346.1369002046058,
          653.0840951343553,
          -205.08732150363994,
          622.066715468352,
          39.748838975822764,
          388.7578255340122,
          489.08429880524363,
          231.24476117324866,
          -399.97234223749,
          -552.1395464640636,
          -494.9315171349799,
          4.112986677544541,
          1095.3250982275295,
          202.05151615220893,
          -585.8527342216412,
          -358.53597221605287,
          -622.5616934287282,
          -421.80402000491176,
          -524.7001829404762,
          937.0791451054483,
          -1205.1971600551096,
          -229.71960038360157,
          -1248.6900561297662,
          -64.69715556184337,
          -887.264695615967,
          -768.1931869579357,
          143.09935674056487,
          583.6576751788234,
          697.4094072470743,
          552.1986663904045,
          -1049.6976804653814,
          542.9290300429311,
          2707.0866110113975,
          -693.7731364804094,
          518.7230425590242,
          242.62134697373403,
          244.11031335835924,
          -477.70019247090295,
          -855.5780048031666,
          -613.6316698671253,
          160.26242355713657,
          53.61455897162159,
          555.6211969614196,
          473.4447709168762,
          -392.44789424495684,
          -604.4413984148705,
          -721.1703020302584,
          -711.3172010179296,
          -581.9092813056159,
          -1088.187229745885,
          808.7597057668136,
          -478.0843506391211,
          -310.30701053676194,
          -403.28307307107207,
          206.3951439229986,
          -411.4879132729793,
          823.1607742986516,
          197.83848494040285,
          438.4461010512159,
          -75.23807958834732,
          80.32590149013413,
          464.34973942929173,
          933.7705709973234,
          171.70170539621904,
          -159.56955731358357,
          -403.4115798732064,
          568.997448135478,
          295.4683725882842,
          670.587091238509
         ],
         "yaxis": "y"
        }
       ],
       "layout": {
        "annotations": [
         {
          "font": {
           "size": 16
          },
          "showarrow": false,
          "text": "Time Plot",
          "x": 0.225,
          "xanchor": "center",
          "xref": "paper",
          "y": 1,
          "yanchor": "bottom",
          "yref": "paper"
         },
         {
          "font": {
           "size": 16
          },
          "showarrow": false,
          "text": "Histogram Plot",
          "x": 0.775,
          "xanchor": "center",
          "xref": "paper",
          "y": 1,
          "yanchor": "bottom",
          "yref": "paper"
         },
         {
          "font": {
           "size": 16
          },
          "showarrow": false,
          "text": "ACF Plot",
          "x": 0.225,
          "xanchor": "center",
          "xref": "paper",
          "y": 0.375,
          "yanchor": "bottom",
          "yref": "paper"
         },
         {
          "font": {
           "size": 16
          },
          "showarrow": false,
          "text": "Quantile-Quantile Plot",
          "x": 0.775,
          "xanchor": "center",
          "xref": "paper",
          "y": 0.375,
          "yanchor": "bottom",
          "yref": "paper"
         },
         {
          "font": {
           "size": 16
          },
          "showarrow": false,
          "text": "Diagnostics | 'Auto ARIMA' Residuals",
          "x": 0.5,
          "xanchor": "center",
          "xref": "paper",
          "y": 0,
          "yanchor": "top",
          "yref": "paper",
          "yshift": -30
         }
        ],
        "showlegend": false,
        "template": {
         "data": {
          "bar": [
           {
            "error_x": {
             "color": "rgb(51,51,51)"
            },
            "error_y": {
             "color": "rgb(51,51,51)"
            },
            "marker": {
             "line": {
              "color": "rgb(237,237,237)",
              "width": 0.5
             },
             "pattern": {
              "fillmode": "overlay",
              "size": 10,
              "solidity": 0.2
             }
            },
            "type": "bar"
           }
          ],
          "barpolar": [
           {
            "marker": {
             "line": {
              "color": "rgb(237,237,237)",
              "width": 0.5
             },
             "pattern": {
              "fillmode": "overlay",
              "size": 10,
              "solidity": 0.2
             }
            },
            "type": "barpolar"
           }
          ],
          "carpet": [
           {
            "aaxis": {
             "endlinecolor": "rgb(51,51,51)",
             "gridcolor": "white",
             "linecolor": "white",
             "minorgridcolor": "white",
             "startlinecolor": "rgb(51,51,51)"
            },
            "baxis": {
             "endlinecolor": "rgb(51,51,51)",
             "gridcolor": "white",
             "linecolor": "white",
             "minorgridcolor": "white",
             "startlinecolor": "rgb(51,51,51)"
            },
            "type": "carpet"
           }
          ],
          "choropleth": [
           {
            "colorbar": {
             "outlinewidth": 0,
             "tickcolor": "rgb(237,237,237)",
             "ticklen": 6,
             "ticks": "inside"
            },
            "type": "choropleth"
           }
          ],
          "contour": [
           {
            "colorbar": {
             "outlinewidth": 0,
             "tickcolor": "rgb(237,237,237)",
             "ticklen": 6,
             "ticks": "inside"
            },
            "colorscale": [
             [
              0,
              "rgb(20,44,66)"
             ],
             [
              1,
              "rgb(90,179,244)"
             ]
            ],
            "type": "contour"
           }
          ],
          "contourcarpet": [
           {
            "colorbar": {
             "outlinewidth": 0,
             "tickcolor": "rgb(237,237,237)",
             "ticklen": 6,
             "ticks": "inside"
            },
            "type": "contourcarpet"
           }
          ],
          "heatmap": [
           {
            "colorbar": {
             "outlinewidth": 0,
             "tickcolor": "rgb(237,237,237)",
             "ticklen": 6,
             "ticks": "inside"
            },
            "colorscale": [
             [
              0,
              "rgb(20,44,66)"
             ],
             [
              1,
              "rgb(90,179,244)"
             ]
            ],
            "type": "heatmap"
           }
          ],
          "heatmapgl": [
           {
            "colorbar": {
             "outlinewidth": 0,
             "tickcolor": "rgb(237,237,237)",
             "ticklen": 6,
             "ticks": "inside"
            },
            "colorscale": [
             [
              0,
              "rgb(20,44,66)"
             ],
             [
              1,
              "rgb(90,179,244)"
             ]
            ],
            "type": "heatmapgl"
           }
          ],
          "histogram": [
           {
            "marker": {
             "pattern": {
              "fillmode": "overlay",
              "size": 10,
              "solidity": 0.2
             }
            },
            "type": "histogram"
           }
          ],
          "histogram2d": [
           {
            "colorbar": {
             "outlinewidth": 0,
             "tickcolor": "rgb(237,237,237)",
             "ticklen": 6,
             "ticks": "inside"
            },
            "colorscale": [
             [
              0,
              "rgb(20,44,66)"
             ],
             [
              1,
              "rgb(90,179,244)"
             ]
            ],
            "type": "histogram2d"
           }
          ],
          "histogram2dcontour": [
           {
            "colorbar": {
             "outlinewidth": 0,
             "tickcolor": "rgb(237,237,237)",
             "ticklen": 6,
             "ticks": "inside"
            },
            "colorscale": [
             [
              0,
              "rgb(20,44,66)"
             ],
             [
              1,
              "rgb(90,179,244)"
             ]
            ],
            "type": "histogram2dcontour"
           }
          ],
          "mesh3d": [
           {
            "colorbar": {
             "outlinewidth": 0,
             "tickcolor": "rgb(237,237,237)",
             "ticklen": 6,
             "ticks": "inside"
            },
            "type": "mesh3d"
           }
          ],
          "parcoords": [
           {
            "line": {
             "colorbar": {
              "outlinewidth": 0,
              "tickcolor": "rgb(237,237,237)",
              "ticklen": 6,
              "ticks": "inside"
             }
            },
            "type": "parcoords"
           }
          ],
          "pie": [
           {
            "automargin": true,
            "type": "pie"
           }
          ],
          "scatter": [
           {
            "marker": {
             "colorbar": {
              "outlinewidth": 0,
              "tickcolor": "rgb(237,237,237)",
              "ticklen": 6,
              "ticks": "inside"
             }
            },
            "type": "scatter"
           }
          ],
          "scatter3d": [
           {
            "line": {
             "colorbar": {
              "outlinewidth": 0,
              "tickcolor": "rgb(237,237,237)",
              "ticklen": 6,
              "ticks": "inside"
             }
            },
            "marker": {
             "colorbar": {
              "outlinewidth": 0,
              "tickcolor": "rgb(237,237,237)",
              "ticklen": 6,
              "ticks": "inside"
             }
            },
            "type": "scatter3d"
           }
          ],
          "scattercarpet": [
           {
            "marker": {
             "colorbar": {
              "outlinewidth": 0,
              "tickcolor": "rgb(237,237,237)",
              "ticklen": 6,
              "ticks": "inside"
             }
            },
            "type": "scattercarpet"
           }
          ],
          "scattergeo": [
           {
            "marker": {
             "colorbar": {
              "outlinewidth": 0,
              "tickcolor": "rgb(237,237,237)",
              "ticklen": 6,
              "ticks": "inside"
             }
            },
            "type": "scattergeo"
           }
          ],
          "scattergl": [
           {
            "marker": {
             "colorbar": {
              "outlinewidth": 0,
              "tickcolor": "rgb(237,237,237)",
              "ticklen": 6,
              "ticks": "inside"
             }
            },
            "type": "scattergl"
           }
          ],
          "scattermapbox": [
           {
            "marker": {
             "colorbar": {
              "outlinewidth": 0,
              "tickcolor": "rgb(237,237,237)",
              "ticklen": 6,
              "ticks": "inside"
             }
            },
            "type": "scattermapbox"
           }
          ],
          "scatterpolar": [
           {
            "marker": {
             "colorbar": {
              "outlinewidth": 0,
              "tickcolor": "rgb(237,237,237)",
              "ticklen": 6,
              "ticks": "inside"
             }
            },
            "type": "scatterpolar"
           }
          ],
          "scatterpolargl": [
           {
            "marker": {
             "colorbar": {
              "outlinewidth": 0,
              "tickcolor": "rgb(237,237,237)",
              "ticklen": 6,
              "ticks": "inside"
             }
            },
            "type": "scatterpolargl"
           }
          ],
          "scatterternary": [
           {
            "marker": {
             "colorbar": {
              "outlinewidth": 0,
              "tickcolor": "rgb(237,237,237)",
              "ticklen": 6,
              "ticks": "inside"
             }
            },
            "type": "scatterternary"
           }
          ],
          "surface": [
           {
            "colorbar": {
             "outlinewidth": 0,
             "tickcolor": "rgb(237,237,237)",
             "ticklen": 6,
             "ticks": "inside"
            },
            "colorscale": [
             [
              0,
              "rgb(20,44,66)"
             ],
             [
              1,
              "rgb(90,179,244)"
             ]
            ],
            "type": "surface"
           }
          ],
          "table": [
           {
            "cells": {
             "fill": {
              "color": "rgb(237,237,237)"
             },
             "line": {
              "color": "white"
             }
            },
            "header": {
             "fill": {
              "color": "rgb(217,217,217)"
             },
             "line": {
              "color": "white"
             }
            },
            "type": "table"
           }
          ]
         },
         "layout": {
          "annotationdefaults": {
           "arrowhead": 0,
           "arrowwidth": 1
          },
          "autotypenumbers": "strict",
          "coloraxis": {
           "colorbar": {
            "outlinewidth": 0,
            "tickcolor": "rgb(237,237,237)",
            "ticklen": 6,
            "ticks": "inside"
           }
          },
          "colorscale": {
           "sequential": [
            [
             0,
             "rgb(20,44,66)"
            ],
            [
             1,
             "rgb(90,179,244)"
            ]
           ],
           "sequentialminus": [
            [
             0,
             "rgb(20,44,66)"
            ],
            [
             1,
             "rgb(90,179,244)"
            ]
           ]
          },
          "colorway": [
           "#F8766D",
           "#A3A500",
           "#00BF7D",
           "#00B0F6",
           "#E76BF3"
          ],
          "font": {
           "color": "rgb(51,51,51)"
          },
          "geo": {
           "bgcolor": "white",
           "lakecolor": "white",
           "landcolor": "rgb(237,237,237)",
           "showlakes": true,
           "showland": true,
           "subunitcolor": "white"
          },
          "hoverlabel": {
           "align": "left"
          },
          "hovermode": "closest",
          "paper_bgcolor": "white",
          "plot_bgcolor": "rgb(237,237,237)",
          "polar": {
           "angularaxis": {
            "gridcolor": "white",
            "linecolor": "white",
            "showgrid": true,
            "tickcolor": "rgb(51,51,51)",
            "ticks": "outside"
           },
           "bgcolor": "rgb(237,237,237)",
           "radialaxis": {
            "gridcolor": "white",
            "linecolor": "white",
            "showgrid": true,
            "tickcolor": "rgb(51,51,51)",
            "ticks": "outside"
           }
          },
          "scene": {
           "xaxis": {
            "backgroundcolor": "rgb(237,237,237)",
            "gridcolor": "white",
            "gridwidth": 2,
            "linecolor": "white",
            "showbackground": true,
            "showgrid": true,
            "tickcolor": "rgb(51,51,51)",
            "ticks": "outside",
            "zerolinecolor": "white"
           },
           "yaxis": {
            "backgroundcolor": "rgb(237,237,237)",
            "gridcolor": "white",
            "gridwidth": 2,
            "linecolor": "white",
            "showbackground": true,
            "showgrid": true,
            "tickcolor": "rgb(51,51,51)",
            "ticks": "outside",
            "zerolinecolor": "white"
           },
           "zaxis": {
            "backgroundcolor": "rgb(237,237,237)",
            "gridcolor": "white",
            "gridwidth": 2,
            "linecolor": "white",
            "showbackground": true,
            "showgrid": true,
            "tickcolor": "rgb(51,51,51)",
            "ticks": "outside",
            "zerolinecolor": "white"
           }
          },
          "shapedefaults": {
           "fillcolor": "black",
           "line": {
            "width": 0
           },
           "opacity": 0.3
          },
          "ternary": {
           "aaxis": {
            "gridcolor": "white",
            "linecolor": "white",
            "showgrid": true,
            "tickcolor": "rgb(51,51,51)",
            "ticks": "outside"
           },
           "baxis": {
            "gridcolor": "white",
            "linecolor": "white",
            "showgrid": true,
            "tickcolor": "rgb(51,51,51)",
            "ticks": "outside"
           },
           "bgcolor": "rgb(237,237,237)",
           "caxis": {
            "gridcolor": "white",
            "linecolor": "white",
            "showgrid": true,
            "tickcolor": "rgb(51,51,51)",
            "ticks": "outside"
           }
          },
          "xaxis": {
           "automargin": true,
           "gridcolor": "white",
           "linecolor": "white",
           "showgrid": true,
           "tickcolor": "rgb(51,51,51)",
           "ticks": "outside",
           "title": {
            "standoff": 15
           },
           "zerolinecolor": "white"
          },
          "yaxis": {
           "automargin": true,
           "gridcolor": "white",
           "linecolor": "white",
           "showgrid": true,
           "tickcolor": "rgb(51,51,51)",
           "ticks": "outside",
           "title": {
            "standoff": 15
           },
           "zerolinecolor": "white"
          }
         }
        },
        "xaxis": {
         "anchor": "y",
         "domain": [
          0,
          0.45
         ],
         "title": {
          "text": "Time"
         }
        },
        "xaxis2": {
         "anchor": "y2",
         "domain": [
          0.55,
          1
         ],
         "title": {
          "text": "Range of Values"
         }
        },
        "xaxis3": {
         "anchor": "y3",
         "domain": [
          0,
          0.45
         ],
         "range": [
          -1,
          42
         ],
         "title": {
          "text": "Lags"
         }
        },
        "xaxis4": {
         "anchor": "y4",
         "domain": [
          0.55,
          1
         ],
         "title": {
          "text": "Theoretical Quantities"
         }
        },
        "yaxis": {
         "anchor": "x",
         "domain": [
          0.625,
          1
         ],
         "title": {
          "text": "Value"
         }
        },
        "yaxis2": {
         "anchor": "x2",
         "domain": [
          0.625,
          1
         ],
         "title": {
          "text": "PDF"
         }
        },
        "yaxis3": {
         "anchor": "x3",
         "domain": [
          0,
          0.375
         ],
         "title": {
          "text": "ACF"
         },
         "zerolinecolor": "#000000"
        },
        "yaxis4": {
         "anchor": "x4",
         "domain": [
          0,
          0.375
         ],
         "title": {
          "text": "Sample Quantities"
         }
        }
       }
      }
     },
     "metadata": {},
     "output_type": "display_data"
    }
   ],
   "source": [
    "# diagnostics plot\n",
    "plot_model(best, plot = 'diagnostics')"
   ]
  },
  {
   "cell_type": "code",
   "execution_count": 48,
   "metadata": {},
   "outputs": [
    {
     "data": {
      "text/plain": [
       "2021-10-06     8392.9201\n",
       "2021-10-07     9061.0284\n",
       "2021-10-08     7701.1467\n",
       "2021-10-09     4390.7557\n",
       "2021-10-10     4972.7565\n",
       "                 ...    \n",
       "2021-12-30    13175.0931\n",
       "2021-12-31    11815.2114\n",
       "2022-01-01     8504.8204\n",
       "2022-01-02     9086.8211\n",
       "2022-01-03    12086.9375\n",
       "Freq: D, Name: Total, Length: 90, dtype: float64"
      ]
     },
     "execution_count": 48,
     "metadata": {},
     "output_type": "execute_result"
    }
   ],
   "source": [
    "# finalize model\n",
    "final_best = finalize_model(best)\n",
    "# generate predictions\n",
    "predict_model(final_best, fh = 90)"
   ]
  },
  {
   "cell_type": "code",
   "execution_count": 49,
   "metadata": {},
   "outputs": [
    {
     "name": "stdout",
     "output_type": "stream",
     "text": [
      "Transformation Pipeline and Model Successfully Saved\n"
     ]
    },
    {
     "data": {
      "text/plain": [
       "(AutoARIMA(D=None, alpha=0.05, d=None, error_action='warn',\n",
       "           information_criterion='aic', max_D=1, max_P=2, max_Q=2, max_d=2,\n",
       "           max_order=5, max_p=5, max_q=5, maxiter=50, method='lbfgs', n_fits=10,\n",
       "           n_jobs=1, offset_test_args=None, out_of_sample_size=0, random=False,\n",
       "           random_state=123, scoring='mse', scoring_args=None, seasonal=True,\n",
       "           seasonal_test='ocsb', seasonal_test_args=None, sp=7, start_P=1,\n",
       "           start_Q=1, start_p=2, start_params=None, ...),\n",
       " 'my_best_model.pkl')"
      ]
     },
     "execution_count": 49,
     "metadata": {},
     "output_type": "execute_result"
    }
   ],
   "source": [
    "# save the model\n",
    "save_model(final_best, 'my_best_model')"
   ]
  },
  {
   "cell_type": "code",
   "execution_count": 53,
   "metadata": {},
   "outputs": [
    {
     "data": {
      "text/html": [
       "<style  type=\"text/css\" >\n",
       "    #T_90245_ th {\n",
       "          text-align: left;\n",
       "    }#T_90245_row0_col0,#T_90245_row1_col0,#T_90245_row2_col0,#T_90245_row2_col1,#T_90245_row2_col2,#T_90245_row2_col3,#T_90245_row2_col4,#T_90245_row2_col5,#T_90245_row2_col6,#T_90245_row3_col0,#T_90245_row3_col1,#T_90245_row3_col2,#T_90245_row3_col3,#T_90245_row3_col4,#T_90245_row3_col5,#T_90245_row3_col6,#T_90245_row4_col0,#T_90245_row4_col1,#T_90245_row4_col2,#T_90245_row4_col3,#T_90245_row4_col4,#T_90245_row4_col5,#T_90245_row4_col6{\n",
       "            text-align:  left;\n",
       "            text-align:  left;\n",
       "        }#T_90245_row0_col1,#T_90245_row0_col2,#T_90245_row0_col3,#T_90245_row0_col4,#T_90245_row0_col5,#T_90245_row0_col6,#T_90245_row1_col1,#T_90245_row1_col2,#T_90245_row1_col3,#T_90245_row1_col4,#T_90245_row1_col5,#T_90245_row1_col6{\n",
       "            text-align:  left;\n",
       "            text-align:  left;\n",
       "            background-color:  yellow;\n",
       "        }#T_90245_row0_col7,#T_90245_row1_col7,#T_90245_row2_col7,#T_90245_row3_col7{\n",
       "            text-align:  left;\n",
       "            text-align:  left;\n",
       "            background-color:  lightgrey;\n",
       "        }#T_90245_row4_col7{\n",
       "            text-align:  left;\n",
       "            text-align:  left;\n",
       "            background-color:  yellow;\n",
       "            background-color:  lightgrey;\n",
       "        }</style><table id=\"T_90245_\" ><thead>    <tr>        <th class=\"blank level0\" ></th>        <th class=\"col_heading level0 col0\" >Model</th>        <th class=\"col_heading level0 col1\" >MAE</th>        <th class=\"col_heading level0 col2\" >RMSE</th>        <th class=\"col_heading level0 col3\" >MAPE</th>        <th class=\"col_heading level0 col4\" >SMAPE</th>        <th class=\"col_heading level0 col5\" >MASE</th>        <th class=\"col_heading level0 col6\" >R2</th>        <th class=\"col_heading level0 col7\" >TT (Sec)</th>    </tr></thead><tbody>\n",
       "                <tr>\n",
       "                        <th id=\"T_90245_level0_row0\" class=\"row_heading level0 row0\" >0</th>\n",
       "                        <td id=\"T_90245_row0_col0\" class=\"data row0 col0\" >Auto ARIMA</td>\n",
       "                        <td id=\"T_90245_row0_col1\" class=\"data row0 col1\" >531.9161</td>\n",
       "                        <td id=\"T_90245_row0_col2\" class=\"data row0 col2\" >626.2090</td>\n",
       "                        <td id=\"T_90245_row0_col3\" class=\"data row0 col3\" >0.0911</td>\n",
       "                        <td id=\"T_90245_row0_col4\" class=\"data row0 col4\" >0.0916</td>\n",
       "                        <td id=\"T_90245_row0_col5\" class=\"data row0 col5\" >0.8490</td>\n",
       "                        <td id=\"T_90245_row0_col6\" class=\"data row0 col6\" >0.8632</td>\n",
       "                        <td id=\"T_90245_row0_col7\" class=\"data row0 col7\" >1.1400</td>\n",
       "            </tr>\n",
       "            <tr>\n",
       "                        <th id=\"T_90245_level0_row1\" class=\"row_heading level0 row1\" >1</th>\n",
       "                        <td id=\"T_90245_row1_col0\" class=\"data row1 col0\" >ARIMA</td>\n",
       "                        <td id=\"T_90245_row1_col1\" class=\"data row1 col1\" >531.9161</td>\n",
       "                        <td id=\"T_90245_row1_col2\" class=\"data row1 col2\" >626.2090</td>\n",
       "                        <td id=\"T_90245_row1_col3\" class=\"data row1 col3\" >0.0911</td>\n",
       "                        <td id=\"T_90245_row1_col4\" class=\"data row1 col4\" >0.0916</td>\n",
       "                        <td id=\"T_90245_row1_col5\" class=\"data row1 col5\" >0.8490</td>\n",
       "                        <td id=\"T_90245_row1_col6\" class=\"data row1 col6\" >0.8632</td>\n",
       "                        <td id=\"T_90245_row1_col7\" class=\"data row1 col7\" >0.0767</td>\n",
       "            </tr>\n",
       "            <tr>\n",
       "                        <th id=\"T_90245_level0_row2\" class=\"row_heading level0 row2\" >2</th>\n",
       "                        <td id=\"T_90245_row2_col0\" class=\"data row2 col0\" >LGBMRegressor</td>\n",
       "                        <td id=\"T_90245_row2_col1\" class=\"data row2 col1\" >571.1749</td>\n",
       "                        <td id=\"T_90245_row2_col2\" class=\"data row2 col2\" >672.9608</td>\n",
       "                        <td id=\"T_90245_row2_col3\" class=\"data row2 col3\" >0.1022</td>\n",
       "                        <td id=\"T_90245_row2_col4\" class=\"data row2 col4\" >0.0990</td>\n",
       "                        <td id=\"T_90245_row2_col5\" class=\"data row2 col5\" >0.9132</td>\n",
       "                        <td id=\"T_90245_row2_col6\" class=\"data row2 col6\" >0.8368</td>\n",
       "                        <td id=\"T_90245_row2_col7\" class=\"data row2 col7\" >0.0267</td>\n",
       "            </tr>\n",
       "            <tr>\n",
       "                        <th id=\"T_90245_level0_row3\" class=\"row_heading level0 row3\" >3</th>\n",
       "                        <td id=\"T_90245_row3_col0\" class=\"data row3 col0\" >ExtraTreesRegressor</td>\n",
       "                        <td id=\"T_90245_row3_col1\" class=\"data row3 col1\" >583.1120</td>\n",
       "                        <td id=\"T_90245_row3_col2\" class=\"data row3 col2\" >715.5584</td>\n",
       "                        <td id=\"T_90245_row3_col3\" class=\"data row3 col3\" >0.1014</td>\n",
       "                        <td id=\"T_90245_row3_col4\" class=\"data row3 col4\" >0.0996</td>\n",
       "                        <td id=\"T_90245_row3_col5\" class=\"data row3 col5\" >0.9318</td>\n",
       "                        <td id=\"T_90245_row3_col6\" class=\"data row3 col6\" >0.8204</td>\n",
       "                        <td id=\"T_90245_row3_col7\" class=\"data row3 col7\" >0.3433</td>\n",
       "            </tr>\n",
       "            <tr>\n",
       "                        <th id=\"T_90245_level0_row4\" class=\"row_heading level0 row4\" >4</th>\n",
       "                        <td id=\"T_90245_row4_col0\" class=\"data row4 col0\" >Theta Forecaster</td>\n",
       "                        <td id=\"T_90245_row4_col1\" class=\"data row4 col1\" >542.3628</td>\n",
       "                        <td id=\"T_90245_row4_col2\" class=\"data row4 col2\" >687.9873</td>\n",
       "                        <td id=\"T_90245_row4_col3\" class=\"data row4 col3\" >0.0944</td>\n",
       "                        <td id=\"T_90245_row4_col4\" class=\"data row4 col4\" >0.1013</td>\n",
       "                        <td id=\"T_90245_row4_col5\" class=\"data row4 col5\" >0.8699</td>\n",
       "                        <td id=\"T_90245_row4_col6\" class=\"data row4 col6\" >0.8162</td>\n",
       "                        <td id=\"T_90245_row4_col7\" class=\"data row4 col7\" >0.0133</td>\n",
       "            </tr>\n",
       "    </tbody></table>"
      ],
      "text/plain": [
       "<pandas.io.formats.style.Styler at 0x162e7784cc8>"
      ]
     },
     "metadata": {},
     "output_type": "display_data"
    },
    {
     "data": {
      "text/plain": [
       "AutoARIMA(D=None, alpha=0.05, d=None, error_action='warn',\n",
       "          information_criterion='aic', max_D=1, max_P=2, max_Q=2, max_d=2,\n",
       "          max_order=5, max_p=5, max_q=5, maxiter=50, method='lbfgs', n_fits=10,\n",
       "          n_jobs=1, offset_test_args=None, out_of_sample_size=0, random=False,\n",
       "          random_state=123, scoring='mse', scoring_args=None, seasonal=True,\n",
       "          seasonal_test='ocsb', seasonal_test_args=None, sp=7, start_P=1,\n",
       "          start_Q=1, start_p=2, start_params=None, ...)"
      ]
     },
     "execution_count": 53,
     "metadata": {},
     "output_type": "execute_result"
    }
   ],
   "source": [
    "#from pycaret.regression import *\n",
    "# compare all baseline models and select top 5\n",
    "top5 = compare_models(n_select = 5) \n",
    "# tune top 5 base models\n",
    "tuned_top5 = [tune_model(i) for i in top5]\n",
    "# compare top 3\n",
    "compare_models(include=tuned_top5)"
   ]
  }
 ],
 "metadata": {
  "interpreter": {
   "hash": "6d529639a3043f15ea50218449268f84f9ab6e6d9f9b2bbc7e080e4513256e12"
  },
  "kernelspec": {
   "display_name": "Python 3.7.10 64-bit ('montVenv': conda)",
   "language": "python",
   "name": "python3"
  },
  "language_info": {
   "codemirror_mode": {
    "name": "ipython",
    "version": 3
   },
   "file_extension": ".py",
   "mimetype": "text/x-python",
   "name": "python",
   "nbconvert_exporter": "python",
   "pygments_lexer": "ipython3",
   "version": "3.7.10"
  },
  "orig_nbformat": 4
 },
 "nbformat": 4,
 "nbformat_minor": 2
}
